{
 "cells": [
  {
   "cell_type": "markdown",
   "id": "41336d8d",
   "metadata": {},
   "source": [
    "**Bitcoin Price Prediction with Machine Learning**"
   ]
  },
  {
   "cell_type": "markdown",
   "id": "00385f7f",
   "metadata": {},
   "source": [
    "**Importing everything neccesary**"
   ]
  },
  {
   "cell_type": "code",
   "execution_count": 76,
   "id": "86d45262",
   "metadata": {},
   "outputs": [],
   "source": [
    "import pandas as pd\n",
    "import os\n",
    "import numpy as np\n",
    "import requests\n",
    "import time\n",
    "import joblib\n",
    "from sklearn.preprocessing import MinMaxScaler\n",
    "from sklearn.model_selection import GridSearchCV, train_test_split\n",
    "from sklearn.feature_selection import SelectKBest, f_regression\n",
    "from sklearn.metrics import mean_squared_error, mean_absolute_error, r2_score\n",
    "from sklearn.ensemble import RandomForestRegressor, GradientBoostingRegressor\n",
    "from sklearn.svm import SVR\n",
    "from sklearn.inspection import permutation_importance\n",
    "from statsmodels.stats.outliers_influence import variance_inflation_factor\n",
    "from keras.models import Sequential\n",
    "from keras.layers import GRU, Dense\n",
    "from keras.optimizers import Adam\n",
    "from sklearn.decomposition import PCA\n",
    "import matplotlib.pyplot as plt\n",
    "from dotenv import load_dotenv\n",
    "load_dotenv()\n",
    "import prophet"
   ]
  },
  {
   "cell_type": "markdown",
   "id": "6317baff",
   "metadata": {},
   "source": [
    "**Calculating feature importance using a Random Forest Regressor which i have optimised with Grid Search**"
   ]
  },
  {
   "cell_type": "code",
   "execution_count": 8,
   "id": "4c55e029",
   "metadata": {},
   "outputs": [],
   "source": [
    "data = pd.read_csv('./data/data_complete_final.csv').drop('date', axis=1)"
   ]
  },
  {
   "cell_type": "code",
   "execution_count": 105,
   "id": "9437df98",
   "metadata": {},
   "outputs": [],
   "source": [
    "data = pd.read_csv('./data/data_complete_final.csv').drop('date', axis=1)"
   ]
  },
  {
   "cell_type": "code",
   "execution_count": 108,
   "id": "524d0e0b",
   "metadata": {},
   "outputs": [
    {
     "name": "stdout",
     "output_type": "stream",
     "text": [
      "Index(['open', 'close', 'close+1', 'high', 'low', 'volume_24h', 'market_cap',\n",
      "       'circulating_supply', 'url_shares', 'unique_url_shares', 'tweets',\n",
      "       'tweet_spam', 'tweet_sentiment1', 'tweet_sentiment2',\n",
      "       'tweet_sentiment3', 'tweet_sentiment4', 'tweet_sentiment5',\n",
      "       'tweet_sentiment_impact1', 'tweet_sentiment_impact2',\n",
      "       'tweet_sentiment_impact3', 'tweet_sentiment_impact4',\n",
      "       'tweet_sentiment_impact5', 'social_score', 'average_sentiment', 'news',\n",
      "       'price_score', 'social_impact_score', 'correlation_rank',\n",
      "       'galaxy_score', 'volatility', 'social_contributors', 'sma_50',\n",
      "       'sma_100', 'sma_200', 'social_volume', 'market_cap_global',\n",
      "       'market_dominance', 'social_volume_global', 'social_dominance',\n",
      "       'Day of Month', 'month', 'Daily % Change', 'S&P 500 Daily Performance',\n",
      "       'NASDAQ 100 Daily Performance', '1-Year Treasury Bond Rate',\n",
      "       '5-Year Treasury Bond Rate', '10-Year Treasury Bond Rate',\n",
      "       '30-Year Treasury Bond Rate', 'Bitcoin Futures Volume',\n",
      "       'Bitcoin Futures Returns', 'ETH_USD', 'DOGE_USD', 'Nikkei 225 Open',\n",
      "       'Nikkei 225 Close', 'S&P 500 Open', 'S&P 500 Close',\n",
      "       'US Dollar Index Open', 'US Dollar Index Close',\n",
      "       'Dow Jones Industrial Average Open',\n",
      "       'Dow Jones Industrial Average Close', 'Crude Oil Open',\n",
      "       'Crude Oil Close', 'NASDAQ Composite Open', 'NASDAQ Composite Close',\n",
      "       'AVBLS', 'HRATE', 'CPTRA', 'DIFF'],\n",
      "      dtype='object')\n"
     ]
    }
   ],
   "source": [
    "print(data.columns)"
   ]
  },
  {
   "cell_type": "code",
   "execution_count": 10,
   "id": "d516dfe3",
   "metadata": {},
   "outputs": [],
   "source": [
    "# Split the data into features (X) and target (y)\n",
    "X = data.drop('close+1', axis=1)\n",
    "y = data['close+1']"
   ]
  },
  {
   "cell_type": "code",
   "execution_count": 11,
   "id": "1462957e",
   "metadata": {},
   "outputs": [],
   "source": [
    "# Scale the features using min-max scaling\n",
    "scaler = MinMaxScaler()\n",
    "X_scaled = scaler.fit_transform(X)"
   ]
  },
  {
   "cell_type": "code",
   "execution_count": 12,
   "id": "22a62f03",
   "metadata": {},
   "outputs": [],
   "source": [
    "# Define the random forest model\n",
    "rf = RandomForestRegressor(random_state=0)"
   ]
  },
  {
   "cell_type": "code",
   "execution_count": 13,
   "id": "048f84ad",
   "metadata": {},
   "outputs": [],
   "source": [
    "# Define the hyperparameter grid to search over\n",
    "param_grid = {'n_estimators': [100, 500, 1000],\n",
    "              'max_depth': [5, 10, None],\n",
    "              'min_samples_split': [2, 5, 10],\n",
    "              'min_samples_leaf': [1, 2, 4]}"
   ]
  },
  {
   "cell_type": "code",
   "execution_count": 14,
   "id": "a7bcf6da",
   "metadata": {},
   "outputs": [
    {
     "data": {
      "text/html": [
       "<style>#sk-container-id-1 {color: black;background-color: white;}#sk-container-id-1 pre{padding: 0;}#sk-container-id-1 div.sk-toggleable {background-color: white;}#sk-container-id-1 label.sk-toggleable__label {cursor: pointer;display: block;width: 100%;margin-bottom: 0;padding: 0.3em;box-sizing: border-box;text-align: center;}#sk-container-id-1 label.sk-toggleable__label-arrow:before {content: \"▸\";float: left;margin-right: 0.25em;color: #696969;}#sk-container-id-1 label.sk-toggleable__label-arrow:hover:before {color: black;}#sk-container-id-1 div.sk-estimator:hover label.sk-toggleable__label-arrow:before {color: black;}#sk-container-id-1 div.sk-toggleable__content {max-height: 0;max-width: 0;overflow: hidden;text-align: left;background-color: #f0f8ff;}#sk-container-id-1 div.sk-toggleable__content pre {margin: 0.2em;color: black;border-radius: 0.25em;background-color: #f0f8ff;}#sk-container-id-1 input.sk-toggleable__control:checked~div.sk-toggleable__content {max-height: 200px;max-width: 100%;overflow: auto;}#sk-container-id-1 input.sk-toggleable__control:checked~label.sk-toggleable__label-arrow:before {content: \"▾\";}#sk-container-id-1 div.sk-estimator input.sk-toggleable__control:checked~label.sk-toggleable__label {background-color: #d4ebff;}#sk-container-id-1 div.sk-label input.sk-toggleable__control:checked~label.sk-toggleable__label {background-color: #d4ebff;}#sk-container-id-1 input.sk-hidden--visually {border: 0;clip: rect(1px 1px 1px 1px);clip: rect(1px, 1px, 1px, 1px);height: 1px;margin: -1px;overflow: hidden;padding: 0;position: absolute;width: 1px;}#sk-container-id-1 div.sk-estimator {font-family: monospace;background-color: #f0f8ff;border: 1px dotted black;border-radius: 0.25em;box-sizing: border-box;margin-bottom: 0.5em;}#sk-container-id-1 div.sk-estimator:hover {background-color: #d4ebff;}#sk-container-id-1 div.sk-parallel-item::after {content: \"\";width: 100%;border-bottom: 1px solid gray;flex-grow: 1;}#sk-container-id-1 div.sk-label:hover label.sk-toggleable__label {background-color: #d4ebff;}#sk-container-id-1 div.sk-serial::before {content: \"\";position: absolute;border-left: 1px solid gray;box-sizing: border-box;top: 0;bottom: 0;left: 50%;z-index: 0;}#sk-container-id-1 div.sk-serial {display: flex;flex-direction: column;align-items: center;background-color: white;padding-right: 0.2em;padding-left: 0.2em;position: relative;}#sk-container-id-1 div.sk-item {position: relative;z-index: 1;}#sk-container-id-1 div.sk-parallel {display: flex;align-items: stretch;justify-content: center;background-color: white;position: relative;}#sk-container-id-1 div.sk-item::before, #sk-container-id-1 div.sk-parallel-item::before {content: \"\";position: absolute;border-left: 1px solid gray;box-sizing: border-box;top: 0;bottom: 0;left: 50%;z-index: -1;}#sk-container-id-1 div.sk-parallel-item {display: flex;flex-direction: column;z-index: 1;position: relative;background-color: white;}#sk-container-id-1 div.sk-parallel-item:first-child::after {align-self: flex-end;width: 50%;}#sk-container-id-1 div.sk-parallel-item:last-child::after {align-self: flex-start;width: 50%;}#sk-container-id-1 div.sk-parallel-item:only-child::after {width: 0;}#sk-container-id-1 div.sk-dashed-wrapped {border: 1px dashed gray;margin: 0 0.4em 0.5em 0.4em;box-sizing: border-box;padding-bottom: 0.4em;background-color: white;}#sk-container-id-1 div.sk-label label {font-family: monospace;font-weight: bold;display: inline-block;line-height: 1.2em;}#sk-container-id-1 div.sk-label-container {text-align: center;}#sk-container-id-1 div.sk-container {/* jupyter's `normalize.less` sets `[hidden] { display: none; }` but bootstrap.min.css set `[hidden] { display: none !important; }` so we also need the `!important` here to be able to override the default hidden behavior on the sphinx rendered scikit-learn.org. See: https://github.com/scikit-learn/scikit-learn/issues/21755 */display: inline-block !important;position: relative;}#sk-container-id-1 div.sk-text-repr-fallback {display: none;}</style><div id=\"sk-container-id-1\" class=\"sk-top-container\"><div class=\"sk-text-repr-fallback\"><pre>GridSearchCV(cv=5, estimator=RandomForestRegressor(random_state=0),\n",
       "             param_grid={&#x27;max_depth&#x27;: [5, 10, None],\n",
       "                         &#x27;min_samples_leaf&#x27;: [1, 2, 4],\n",
       "                         &#x27;min_samples_split&#x27;: [2, 5, 10],\n",
       "                         &#x27;n_estimators&#x27;: [100, 500, 1000]})</pre><b>In a Jupyter environment, please rerun this cell to show the HTML representation or trust the notebook. <br />On GitHub, the HTML representation is unable to render, please try loading this page with nbviewer.org.</b></div><div class=\"sk-container\" hidden><div class=\"sk-item sk-dashed-wrapped\"><div class=\"sk-label-container\"><div class=\"sk-label sk-toggleable\"><input class=\"sk-toggleable__control sk-hidden--visually\" id=\"sk-estimator-id-1\" type=\"checkbox\" ><label for=\"sk-estimator-id-1\" class=\"sk-toggleable__label sk-toggleable__label-arrow\">GridSearchCV</label><div class=\"sk-toggleable__content\"><pre>GridSearchCV(cv=5, estimator=RandomForestRegressor(random_state=0),\n",
       "             param_grid={&#x27;max_depth&#x27;: [5, 10, None],\n",
       "                         &#x27;min_samples_leaf&#x27;: [1, 2, 4],\n",
       "                         &#x27;min_samples_split&#x27;: [2, 5, 10],\n",
       "                         &#x27;n_estimators&#x27;: [100, 500, 1000]})</pre></div></div></div><div class=\"sk-parallel\"><div class=\"sk-parallel-item\"><div class=\"sk-item\"><div class=\"sk-label-container\"><div class=\"sk-label sk-toggleable\"><input class=\"sk-toggleable__control sk-hidden--visually\" id=\"sk-estimator-id-2\" type=\"checkbox\" ><label for=\"sk-estimator-id-2\" class=\"sk-toggleable__label sk-toggleable__label-arrow\">estimator: RandomForestRegressor</label><div class=\"sk-toggleable__content\"><pre>RandomForestRegressor(random_state=0)</pre></div></div></div><div class=\"sk-serial\"><div class=\"sk-item\"><div class=\"sk-estimator sk-toggleable\"><input class=\"sk-toggleable__control sk-hidden--visually\" id=\"sk-estimator-id-3\" type=\"checkbox\" ><label for=\"sk-estimator-id-3\" class=\"sk-toggleable__label sk-toggleable__label-arrow\">RandomForestRegressor</label><div class=\"sk-toggleable__content\"><pre>RandomForestRegressor(random_state=0)</pre></div></div></div></div></div></div></div></div></div></div>"
      ],
      "text/plain": [
       "GridSearchCV(cv=5, estimator=RandomForestRegressor(random_state=0),\n",
       "             param_grid={'max_depth': [5, 10, None],\n",
       "                         'min_samples_leaf': [1, 2, 4],\n",
       "                         'min_samples_split': [2, 5, 10],\n",
       "                         'n_estimators': [100, 500, 1000]})"
      ]
     },
     "execution_count": 14,
     "metadata": {},
     "output_type": "execute_result"
    }
   ],
   "source": [
    "# Use grid search to find the best hyperparameters\n",
    "grid_search = GridSearchCV(rf, param_grid, cv=5)\n",
    "grid_search.fit(X_scaled, y)"
   ]
  },
  {
   "cell_type": "code",
   "execution_count": 15,
   "id": "c89adad6",
   "metadata": {},
   "outputs": [],
   "source": [
    "# Get the best model from the grid search\n",
    "best_rf = grid_search.best_estimator_"
   ]
  },
  {
   "cell_type": "code",
   "execution_count": 16,
   "id": "1cda0923",
   "metadata": {},
   "outputs": [],
   "source": [
    "# Calculate permutation importance\n",
    "perm_importance = permutation_importance(best_rf, X_scaled, y, n_repeats=10, random_state=0)"
   ]
  },
  {
   "cell_type": "code",
   "execution_count": 17,
   "id": "6be90a40",
   "metadata": {},
   "outputs": [],
   "source": [
    "# Calculate mean decrease impurity\n",
    "mdi_importance = best_rf.feature_importances_"
   ]
  },
  {
   "cell_type": "code",
   "execution_count": 18,
   "id": "73f18865",
   "metadata": {},
   "outputs": [],
   "source": [
    "# Get feature coefficients (assuming your data is already scaled)\n",
    "coef_importance = pd.Series(abs(best_rf.feature_importances_), index=X.columns)"
   ]
  },
  {
   "cell_type": "code",
   "execution_count": 19,
   "id": "3fb82bf3",
   "metadata": {},
   "outputs": [],
   "source": [
    "# Combine the importance scores into one dataframe\n",
    "imp_df = pd.DataFrame({'Permutation Importance': perm_importance.importances_mean,\n",
    "                       'Mean Decrease Impurity': mdi_importance,\n",
    "                       'Coefficient Importance': coef_importance})"
   ]
  },
  {
   "cell_type": "code",
   "execution_count": 20,
   "id": "5916d5d5",
   "metadata": {},
   "outputs": [],
   "source": [
    "# Calculate the total importance score as the mean of the three scores\n",
    "imp_df['Total Importance'] = imp_df.mean(axis=1)"
   ]
  },
  {
   "cell_type": "code",
   "execution_count": 21,
   "id": "acb0be0b",
   "metadata": {},
   "outputs": [],
   "source": [
    "# Sort the features by total importance score\n",
    "imp_df = imp_df.sort_values('Total Importance', ascending=False)"
   ]
  },
  {
   "cell_type": "code",
   "execution_count": 23,
   "id": "c138d23a",
   "metadata": {},
   "outputs": [
    {
     "data": {
      "text/html": [
       "<div>\n",
       "<style scoped>\n",
       "    .dataframe tbody tr th:only-of-type {\n",
       "        vertical-align: middle;\n",
       "    }\n",
       "\n",
       "    .dataframe tbody tr th {\n",
       "        vertical-align: top;\n",
       "    }\n",
       "\n",
       "    .dataframe thead th {\n",
       "        text-align: right;\n",
       "    }\n",
       "</style>\n",
       "<table border=\"1\" class=\"dataframe\">\n",
       "  <thead>\n",
       "    <tr style=\"text-align: right;\">\n",
       "      <th></th>\n",
       "      <th>Permutation Importance</th>\n",
       "      <th>Mean Decrease Impurity</th>\n",
       "      <th>Coefficient Importance</th>\n",
       "      <th>Total Importance</th>\n",
       "    </tr>\n",
       "  </thead>\n",
       "  <tbody>\n",
       "    <tr>\n",
       "      <th>close</th>\n",
       "      <td>0.446631</td>\n",
       "      <td>0.473938</td>\n",
       "      <td>0.473938</td>\n",
       "      <td>0.464835</td>\n",
       "    </tr>\n",
       "    <tr>\n",
       "      <th>low</th>\n",
       "      <td>0.080495</td>\n",
       "      <td>0.275102</td>\n",
       "      <td>0.275102</td>\n",
       "      <td>0.210233</td>\n",
       "    </tr>\n",
       "    <tr>\n",
       "      <th>market_cap</th>\n",
       "      <td>0.051445</td>\n",
       "      <td>0.072188</td>\n",
       "      <td>0.072188</td>\n",
       "      <td>0.065274</td>\n",
       "    </tr>\n",
       "    <tr>\n",
       "      <th>high</th>\n",
       "      <td>0.011537</td>\n",
       "      <td>0.089889</td>\n",
       "      <td>0.089889</td>\n",
       "      <td>0.063772</td>\n",
       "    </tr>\n",
       "    <tr>\n",
       "      <th>open</th>\n",
       "      <td>0.002133</td>\n",
       "      <td>0.038745</td>\n",
       "      <td>0.038745</td>\n",
       "      <td>0.026541</td>\n",
       "    </tr>\n",
       "    <tr>\n",
       "      <th>...</th>\n",
       "      <td>...</td>\n",
       "      <td>...</td>\n",
       "      <td>...</td>\n",
       "      <td>...</td>\n",
       "    </tr>\n",
       "    <tr>\n",
       "      <th>social_volume</th>\n",
       "      <td>0.000028</td>\n",
       "      <td>0.000035</td>\n",
       "      <td>0.000035</td>\n",
       "      <td>0.000033</td>\n",
       "    </tr>\n",
       "    <tr>\n",
       "      <th>social_contributors</th>\n",
       "      <td>0.000022</td>\n",
       "      <td>0.000030</td>\n",
       "      <td>0.000030</td>\n",
       "      <td>0.000028</td>\n",
       "    </tr>\n",
       "    <tr>\n",
       "      <th>tweets</th>\n",
       "      <td>0.000019</td>\n",
       "      <td>0.000031</td>\n",
       "      <td>0.000031</td>\n",
       "      <td>0.000027</td>\n",
       "    </tr>\n",
       "    <tr>\n",
       "      <th>month</th>\n",
       "      <td>0.000006</td>\n",
       "      <td>0.000010</td>\n",
       "      <td>0.000010</td>\n",
       "      <td>0.000009</td>\n",
       "    </tr>\n",
       "    <tr>\n",
       "      <th>average_sentiment</th>\n",
       "      <td>0.000004</td>\n",
       "      <td>0.000007</td>\n",
       "      <td>0.000007</td>\n",
       "      <td>0.000006</td>\n",
       "    </tr>\n",
       "  </tbody>\n",
       "</table>\n",
       "<p>67 rows × 4 columns</p>\n",
       "</div>"
      ],
      "text/plain": [
       "                     Permutation Importance  Mean Decrease Impurity  \\\n",
       "close                              0.446631                0.473938   \n",
       "low                                0.080495                0.275102   \n",
       "market_cap                         0.051445                0.072188   \n",
       "high                               0.011537                0.089889   \n",
       "open                               0.002133                0.038745   \n",
       "...                                     ...                     ...   \n",
       "social_volume                      0.000028                0.000035   \n",
       "social_contributors                0.000022                0.000030   \n",
       "tweets                             0.000019                0.000031   \n",
       "month                              0.000006                0.000010   \n",
       "average_sentiment                  0.000004                0.000007   \n",
       "\n",
       "                     Coefficient Importance  Total Importance  \n",
       "close                              0.473938          0.464835  \n",
       "low                                0.275102          0.210233  \n",
       "market_cap                         0.072188          0.065274  \n",
       "high                               0.089889          0.063772  \n",
       "open                               0.038745          0.026541  \n",
       "...                                     ...               ...  \n",
       "social_volume                      0.000035          0.000033  \n",
       "social_contributors                0.000030          0.000028  \n",
       "tweets                             0.000031          0.000027  \n",
       "month                              0.000010          0.000009  \n",
       "average_sentiment                  0.000007          0.000006  \n",
       "\n",
       "[67 rows x 4 columns]"
      ]
     },
     "execution_count": 23,
     "metadata": {},
     "output_type": "execute_result"
    }
   ],
   "source": [
    "imp_df"
   ]
  },
  {
   "cell_type": "code",
   "execution_count": 26,
   "id": "1e30fe8a",
   "metadata": {},
   "outputs": [],
   "source": [
    "bottom_27_index = imp_df.tail(27).index"
   ]
  },
  {
   "cell_type": "code",
   "execution_count": 27,
   "id": "124a2ebe",
   "metadata": {},
   "outputs": [
    {
     "data": {
      "text/plain": [
       "Index(['tweet_spam', 'tweet_sentiment2', 'Dow Jones Industrial Average Open',\n",
       "       'volume_24h', 'DOGE_USD', 'url_shares', 'social_impact_score',\n",
       "       'tweet_sentiment5', 'DIFF', '5-Year Treasury Bond Rate', 'ETH_USD',\n",
       "       'S&P 500 Daily Performance', '1-Year Treasury Bond Rate',\n",
       "       'social_score', '10-Year Treasury Bond Rate', 'tweet_sentiment4',\n",
       "       'NASDAQ Composite Open', 'Bitcoin Futures Volume',\n",
       "       'Dow Jones Industrial Average Close', 'price_score',\n",
       "       '30-Year Treasury Bond Rate', 'S&P 500 Open', 'social_volume',\n",
       "       'social_contributors', 'tweets', 'month', 'average_sentiment'],\n",
       "      dtype='object')"
      ]
     },
     "execution_count": 27,
     "metadata": {},
     "output_type": "execute_result"
    }
   ],
   "source": [
    "#These are least important 27 features, which I will drop from the model\n",
    "bottom_27_index"
   ]
  },
  {
   "cell_type": "markdown",
   "id": "53809b46",
   "metadata": {},
   "source": [
    "**Predicting with the GRU Model**"
   ]
  },
  {
   "cell_type": "code",
   "execution_count": 65,
   "id": "ab62fc5e",
   "metadata": {},
   "outputs": [],
   "source": [
    "data = pd.read_csv('./data/data_complete_final.csv').drop('date', axis=1)"
   ]
  },
  {
   "cell_type": "code",
   "execution_count": 66,
   "id": "15c9b088",
   "metadata": {},
   "outputs": [],
   "source": [
    "# Drop columns with lowest importance\n",
    "drop_columns = ['tweet_spam', 'tweet_sentiment2', 'Dow Jones Industrial Average Open',\n",
    "       'volume_24h', 'DOGE_USD', 'url_shares', 'social_impact_score',\n",
    "       'tweet_sentiment5', 'DIFF', '5-Year Treasury Bond Rate', 'ETH_USD',\n",
    "       'S&P 500 Daily Performance', '1-Year Treasury Bond Rate',\n",
    "       'social_score', '10-Year Treasury Bond Rate', 'tweet_sentiment4',\n",
    "       'NASDAQ Composite Open', 'Bitcoin Futures Volume',\n",
    "       'Dow Jones Industrial Average Close', 'price_score',\n",
    "       '30-Year Treasury Bond Rate', 'S&P 500 Open', 'social_volume',\n",
    "       'social_contributors', 'tweets', 'month', 'average_sentiment', 'close+1']\n",
    "X = data.drop(drop_columns, axis=1)"
   ]
  },
  {
   "cell_type": "code",
   "execution_count": 67,
   "id": "394cc7a2",
   "metadata": {},
   "outputs": [],
   "source": [
    "y = data['close+1']"
   ]
  },
  {
   "cell_type": "code",
   "execution_count": 68,
   "id": "9f14287a",
   "metadata": {},
   "outputs": [],
   "source": [
    "# Normalize features\n",
    "X = (X - X.mean()) / X.std()"
   ]
  },
  {
   "cell_type": "code",
   "execution_count": 69,
   "id": "6e81644d",
   "metadata": {},
   "outputs": [],
   "source": [
    "# Perform PCA to reduce dimensionality of features\n",
    "pca = PCA(n_components=40)  # Specify number of principal components"
   ]
  },
  {
   "cell_type": "code",
   "execution_count": 70,
   "id": "ed7514b0",
   "metadata": {},
   "outputs": [],
   "source": [
    "# Fit PCA to data\n",
    "X_pca = pca.fit_transform(X)"
   ]
  },
  {
   "cell_type": "markdown",
   "id": "1c741eab",
   "metadata": {},
   "source": [
    "**Next I use explained variance ratios to reduce the number of features further**"
   ]
  },
  {
   "cell_type": "code",
   "execution_count": 71,
   "id": "ff3739c4",
   "metadata": {},
   "outputs": [],
   "source": [
    "# Calculate explained variance ratios\n",
    "explained_variance_ratios = pca.explained_variance_ratio_"
   ]
  },
  {
   "cell_type": "code",
   "execution_count": 72,
   "id": "95138201",
   "metadata": {},
   "outputs": [],
   "source": [
    "# Calculate cumulative sum of explained variance ratios\n",
    "cumulative_variances = np.cumsum(explained_variance_ratios)"
   ]
  },
  {
   "cell_type": "code",
   "execution_count": 73,
   "id": "dcabf991",
   "metadata": {},
   "outputs": [],
   "source": [
    "# Select number of principal components that retain at least 98% of total variance\n",
    "n_components = np.argmax(cumulative_variances >= 0.98) + 1"
   ]
  },
  {
   "cell_type": "code",
   "execution_count": 74,
   "id": "bf003bce",
   "metadata": {},
   "outputs": [
    {
     "data": {
      "text/plain": [
       "19"
      ]
     },
     "execution_count": 74,
     "metadata": {},
     "output_type": "execute_result"
    }
   ],
   "source": [
    "n_components"
   ]
  },
  {
   "cell_type": "code",
   "execution_count": 81,
   "id": "057799f5",
   "metadata": {},
   "outputs": [],
   "source": [
    "# Perform PCA to reduce dimensionality of features\n",
    "pca = PCA(n_components=19)  # Specify number of principal components"
   ]
  },
  {
   "cell_type": "code",
   "execution_count": 82,
   "id": "fe2bdb75",
   "metadata": {},
   "outputs": [],
   "source": [
    "# Fit PCA to data\n",
    "X_pca = pca.fit_transform(X)"
   ]
  },
  {
   "cell_type": "code",
   "execution_count": 83,
   "id": "16cfe5da",
   "metadata": {},
   "outputs": [],
   "source": [
    "# Split data into training and testing sets\n",
    "X_train, X_test, y_train, y_test = train_test_split(X_pca, y, test_size=0.2, random_state=42)"
   ]
  },
  {
   "cell_type": "code",
   "execution_count": 84,
   "id": "cd390b0c",
   "metadata": {},
   "outputs": [
    {
     "name": "stdout",
     "output_type": "stream",
     "text": [
      "X_train shape: (1027, 19)\n",
      "X_test shape: (257, 19)\n"
     ]
    }
   ],
   "source": [
    "# Verify shapes of X_train and X_test\n",
    "print(\"X_train shape:\", X_train.shape)\n",
    "print(\"X_test shape:\", X_test.shape)"
   ]
  },
  {
   "cell_type": "code",
   "execution_count": 85,
   "id": "842d2c2b",
   "metadata": {},
   "outputs": [
    {
     "name": "stdout",
     "output_type": "stream",
     "text": [
      "y_train shape: (1027,)\n",
      "y_test shape: (257,)\n"
     ]
    }
   ],
   "source": [
    "# Verify shapes of y_train and y_test\n",
    "print(\"y_train shape:\", y_train.shape)\n",
    "print(\"y_test shape:\", y_test.shape)"
   ]
  },
  {
   "cell_type": "code",
   "execution_count": 86,
   "id": "c8be1ff6",
   "metadata": {},
   "outputs": [],
   "source": [
    "# Reshape data for use in GRU model\n",
    "X_train = np.reshape(X_train, (X_train.shape[0], 1, 19))\n",
    "X_test = np.reshape(X_test, (X_test.shape[0], 1, 19))"
   ]
  },
  {
   "cell_type": "markdown",
   "id": "8903000b",
   "metadata": {},
   "source": [
    "**Setting up the GRU model**"
   ]
  },
  {
   "cell_type": "code",
   "execution_count": 87,
   "id": "9524b073",
   "metadata": {},
   "outputs": [],
   "source": [
    "# Define GRU model architecture\n",
    "model = Sequential()\n",
    "model.add(GRU(units=64, input_shape=(1, n_components), activation='tanh'))\n",
    "model.add(Dense(units=1, activation=None))\n",
    "model.compile(optimizer=Adam(learning_rate=0.001), loss='mse')"
   ]
  },
  {
   "cell_type": "code",
   "execution_count": 88,
   "id": "0b004864",
   "metadata": {},
   "outputs": [
    {
     "name": "stdout",
     "output_type": "stream",
     "text": [
      "Epoch 1/50\n",
      "33/33 [==============================] - 2s 17ms/step - loss: 998572992.0000 - val_loss: 976535232.0000\n",
      "Epoch 2/50\n",
      "33/33 [==============================] - 0s 2ms/step - loss: 998521920.0000 - val_loss: 976478592.0000\n",
      "Epoch 3/50\n",
      "33/33 [==============================] - 0s 2ms/step - loss: 998451456.0000 - val_loss: 976400128.0000\n",
      "Epoch 4/50\n",
      "33/33 [==============================] - 0s 2ms/step - loss: 998356800.0000 - val_loss: 976294720.0000\n",
      "Epoch 5/50\n",
      "33/33 [==============================] - 0s 2ms/step - loss: 998240000.0000 - val_loss: 976169792.0000\n",
      "Epoch 6/50\n",
      "33/33 [==============================] - 0s 2ms/step - loss: 998102400.0000 - val_loss: 976028928.0000\n",
      "Epoch 7/50\n",
      "33/33 [==============================] - 0s 2ms/step - loss: 997948864.0000 - val_loss: 975870976.0000\n",
      "Epoch 8/50\n",
      "33/33 [==============================] - 0s 2ms/step - loss: 997785472.0000 - val_loss: 975710656.0000\n",
      "Epoch 9/50\n",
      "33/33 [==============================] - 0s 2ms/step - loss: 997621184.0000 - val_loss: 975549184.0000\n",
      "Epoch 10/50\n",
      "33/33 [==============================] - 0s 2ms/step - loss: 997460032.0000 - val_loss: 975392000.0000\n",
      "Epoch 11/50\n",
      "33/33 [==============================] - 0s 2ms/step - loss: 997299456.0000 - val_loss: 975236800.0000\n",
      "Epoch 12/50\n",
      "33/33 [==============================] - 0s 2ms/step - loss: 997138688.0000 - val_loss: 975078464.0000\n",
      "Epoch 13/50\n",
      "33/33 [==============================] - 0s 2ms/step - loss: 996979712.0000 - val_loss: 974923456.0000\n",
      "Epoch 14/50\n",
      "33/33 [==============================] - 0s 2ms/step - loss: 996823744.0000 - val_loss: 974768384.0000\n",
      "Epoch 15/50\n",
      "33/33 [==============================] - 0s 2ms/step - loss: 996667712.0000 - val_loss: 974613568.0000\n",
      "Epoch 16/50\n",
      "33/33 [==============================] - 0s 2ms/step - loss: 996513728.0000 - val_loss: 974463296.0000\n",
      "Epoch 17/50\n",
      "33/33 [==============================] - 0s 2ms/step - loss: 996361728.0000 - val_loss: 974315200.0000\n",
      "Epoch 18/50\n",
      "33/33 [==============================] - 0s 2ms/step - loss: 996213888.0000 - val_loss: 974169856.0000\n",
      "Epoch 19/50\n",
      "33/33 [==============================] - 0s 2ms/step - loss: 996067072.0000 - val_loss: 974025792.0000\n",
      "Epoch 20/50\n",
      "33/33 [==============================] - 0s 2ms/step - loss: 995919488.0000 - val_loss: 973879296.0000\n",
      "Epoch 21/50\n",
      "33/33 [==============================] - 0s 2ms/step - loss: 995773632.0000 - val_loss: 973736000.0000\n",
      "Epoch 22/50\n",
      "33/33 [==============================] - 0s 2ms/step - loss: 995630656.0000 - val_loss: 973595072.0000\n",
      "Epoch 23/50\n",
      "33/33 [==============================] - 0s 2ms/step - loss: 995489024.0000 - val_loss: 973457856.0000\n",
      "Epoch 24/50\n",
      "33/33 [==============================] - 0s 2ms/step - loss: 995348224.0000 - val_loss: 973316992.0000\n",
      "Epoch 25/50\n",
      "33/33 [==============================] - 0s 2ms/step - loss: 995207872.0000 - val_loss: 973179008.0000\n",
      "Epoch 26/50\n",
      "33/33 [==============================] - 0s 2ms/step - loss: 995068672.0000 - val_loss: 973040640.0000\n",
      "Epoch 27/50\n",
      "33/33 [==============================] - 0s 2ms/step - loss: 994931328.0000 - val_loss: 972905536.0000\n",
      "Epoch 28/50\n",
      "33/33 [==============================] - 0s 2ms/step - loss: 994792384.0000 - val_loss: 972767360.0000\n",
      "Epoch 29/50\n",
      "33/33 [==============================] - 0s 3ms/step - loss: 994655040.0000 - val_loss: 972631552.0000\n",
      "Epoch 30/50\n",
      "33/33 [==============================] - 0s 2ms/step - loss: 994518720.0000 - val_loss: 972494528.0000\n",
      "Epoch 31/50\n",
      "33/33 [==============================] - 0s 2ms/step - loss: 994382016.0000 - val_loss: 972358272.0000\n",
      "Epoch 32/50\n",
      "33/33 [==============================] - 0s 2ms/step - loss: 994244480.0000 - val_loss: 972221056.0000\n",
      "Epoch 33/50\n",
      "33/33 [==============================] - 0s 2ms/step - loss: 994106688.0000 - val_loss: 972084736.0000\n",
      "Epoch 34/50\n",
      "33/33 [==============================] - 0s 2ms/step - loss: 993968320.0000 - val_loss: 971944320.0000\n",
      "Epoch 35/50\n",
      "33/33 [==============================] - 0s 2ms/step - loss: 993828800.0000 - val_loss: 971807232.0000\n",
      "Epoch 36/50\n",
      "33/33 [==============================] - 0s 2ms/step - loss: 993690560.0000 - val_loss: 971668672.0000\n",
      "Epoch 37/50\n",
      "33/33 [==============================] - 0s 2ms/step - loss: 993551488.0000 - val_loss: 971530048.0000\n",
      "Epoch 38/50\n",
      "33/33 [==============================] - 0s 3ms/step - loss: 993413760.0000 - val_loss: 971392640.0000\n",
      "Epoch 39/50\n",
      "33/33 [==============================] - 0s 2ms/step - loss: 993274432.0000 - val_loss: 971252480.0000\n",
      "Epoch 40/50\n",
      "33/33 [==============================] - 0s 2ms/step - loss: 993134336.0000 - val_loss: 971114304.0000\n",
      "Epoch 41/50\n",
      "33/33 [==============================] - 0s 2ms/step - loss: 992993920.0000 - val_loss: 970974976.0000\n",
      "Epoch 42/50\n",
      "33/33 [==============================] - 0s 2ms/step - loss: 992854784.0000 - val_loss: 970834880.0000\n",
      "Epoch 43/50\n",
      "33/33 [==============================] - 0s 2ms/step - loss: 992713600.0000 - val_loss: 970694912.0000\n",
      "Epoch 44/50\n",
      "33/33 [==============================] - 0s 2ms/step - loss: 992573056.0000 - val_loss: 970554304.0000\n",
      "Epoch 45/50\n",
      "33/33 [==============================] - 0s 2ms/step - loss: 992432256.0000 - val_loss: 970414208.0000\n",
      "Epoch 46/50\n",
      "33/33 [==============================] - 0s 2ms/step - loss: 992291840.0000 - val_loss: 970275328.0000\n",
      "Epoch 47/50\n",
      "33/33 [==============================] - 0s 2ms/step - loss: 992151104.0000 - val_loss: 970134656.0000\n",
      "Epoch 48/50\n",
      "33/33 [==============================] - 0s 2ms/step - loss: 992011968.0000 - val_loss: 969996032.0000\n",
      "Epoch 49/50\n",
      "33/33 [==============================] - 0s 2ms/step - loss: 991871872.0000 - val_loss: 969855424.0000\n",
      "Epoch 50/50\n",
      "33/33 [==============================] - 0s 2ms/step - loss: 991732608.0000 - val_loss: 969717312.0000\n"
     ]
    },
    {
     "data": {
      "text/plain": [
       "<keras.callbacks.History at 0x7fe13d6956a0>"
      ]
     },
     "execution_count": 88,
     "metadata": {},
     "output_type": "execute_result"
    }
   ],
   "source": [
    "# Train model\n",
    "model.fit(X_train, y_train, epochs=50, batch_size=32, validation_data=(X_test, y_test))"
   ]
  },
  {
   "cell_type": "markdown",
   "id": "b11fe02a",
   "metadata": {},
   "source": [
    "**Calculating test statistics**"
   ]
  },
  {
   "cell_type": "code",
   "execution_count": 93,
   "id": "68248856",
   "metadata": {
    "scrolled": true
   },
   "outputs": [
    {
     "name": "stdout",
     "output_type": "stream",
     "text": [
      "9/9 [==============================] - 0s 1ms/step\n",
      "MAPE: 99.25856272606612\n",
      "MAE: 26274.481801980895\n",
      "RMSE: 31147.82908648019\n"
     ]
    }
   ],
   "source": [
    "# Predict on test data\n",
    "y_pred = model.predict(X_test)\n",
    "\n",
    "# Calculate MAPE\n",
    "mape = np.mean(np.abs((y_test.values.reshape(-1) - y_pred) / y_test.values.reshape(-1))) * 100\n",
    "print('MAPE:', mape)\n",
    "\n",
    "# Calculate MAE\n",
    "mae = np.mean(np.abs(y_test.values.reshape(-1) - y_pred))\n",
    "print('MAE:', mae)\n",
    "\n",
    "# Calculate RMSE\n",
    "rmse = np.sqrt(np.mean((y_test.values.reshape(-1) - y_pred)**2))\n",
    "print('RMSE:', rmse)"
   ]
  },
  {
   "cell_type": "markdown",
   "id": "85c7f51a",
   "metadata": {},
   "source": [
    "**Very bad results! Next attempt**"
   ]
  },
  {
   "cell_type": "markdown",
   "id": "8bc9911f",
   "metadata": {},
   "source": []
  },
  {
   "cell_type": "markdown",
   "id": "f6ca3a27",
   "metadata": {},
   "source": [
    "**More feature engineering**"
   ]
  },
  {
   "cell_type": "markdown",
   "id": "fd934f6b",
   "metadata": {},
   "source": [
    "*First I will find the variables which are least correlated with my target variable*"
   ]
  },
  {
   "cell_type": "code",
   "execution_count": 108,
   "id": "26ccd63a",
   "metadata": {},
   "outputs": [
    {
     "name": "stdout",
     "output_type": "stream",
     "text": [
      "['DIFF', 'HRATE', 'price_score', 'galaxy_score', 'tweet_sentiment_impact3', 'AVBLS', 'correlation_rank', 'social_impact_score', 'tweet_sentiment3', 'Bitcoin Futures Volume', '30-Year Treasury Bond Rate', '10-Year Treasury Bond Rate', '5-Year Treasury Bond Rate', 'Bitcoin Futures Returns', 'Daily % Change', 'S&P 500 Daily Performance', 'Day of Month', 'NASDAQ 100 Daily Performance', 'volatility', 'news', 'average_sentiment', 'month']\n"
     ]
    }
   ],
   "source": [
    "# Load your dataset into a pandas DataFrame\n",
    "df = pd.read_csv('./data/data_complete_final.csv').drop('date', axis=1)\n",
    "\n",
    "# Compute the correlation matrix between all variables and the target variable\n",
    "correlations = df.corr()['close+1']\n",
    "\n",
    "\n",
    "correlations_df = pd.DataFrame(correlations)\n",
    "correlations_df.columns = ['correlation with close+1']\n",
    "correlations_df = correlations_df.drop('close+1')  # Remove the correlation between the target and itself\n",
    "correlations_df = correlations_df.sort_values(by='correlation with close+1', ascending=False)\n",
    "\n",
    "# Filter the DataFrame to only show rows with correlation between 0.3 and -0.3\n",
    "filtered_correlations = correlations_df.loc[correlations_df['correlation with close+1'].between(-0.3, 0.3)]\n",
    "\n",
    "# Get the index of the filtered DataFrame as a list\n",
    "filtered_index = filtered_correlations.index.tolist()\n",
    "\n",
    "# Print the filtered index\n",
    "print(filtered_index)\n"
   ]
  },
  {
   "cell_type": "markdown",
   "id": "2a066706",
   "metadata": {},
   "source": [
    "*I will drop these columns from the dataframe*"
   ]
  },
  {
   "cell_type": "markdown",
   "id": "1c414f76",
   "metadata": {},
   "source": [
    "*I am also going to drop 'circulating_supply', 'market_cap_global', 'market_cap', and 'unique_url_shares' because i believe they add no information*"
   ]
  },
  {
   "cell_type": "markdown",
   "id": "e979db56",
   "metadata": {},
   "source": [
    "*I will also drop 'open', 'close', 'high', 'low' as I know that i will keep them so i will not add them to the correlation matrix*"
   ]
  },
  {
   "cell_type": "code",
   "execution_count": 163,
   "id": "5def3c6e",
   "metadata": {},
   "outputs": [],
   "source": [
    "Drop = ['open', 'close', 'high', 'low','circulating_supply', 'market_cap_global', 'market_cap','unique_url_shares']"
   ]
  },
  {
   "cell_type": "code",
   "execution_count": 164,
   "id": "1e2d2051",
   "metadata": {},
   "outputs": [],
   "source": [
    "df = pd.read_csv('./data/data_complete_final.csv').drop('date', axis=1)"
   ]
  },
  {
   "cell_type": "code",
   "execution_count": 165,
   "id": "89c1cc9c",
   "metadata": {},
   "outputs": [],
   "source": [
    "df = df.drop(filtered_index, axis=1)"
   ]
  },
  {
   "cell_type": "code",
   "execution_count": 166,
   "id": "0dc5d38d",
   "metadata": {},
   "outputs": [],
   "source": [
    "df = df.drop(Drop, axis=1)"
   ]
  },
  {
   "cell_type": "markdown",
   "id": "47ecb613",
   "metadata": {},
   "source": [
    "*Next i will variables that are correlated with each other (choosing the variable that is least correlated with target variable)*"
   ]
  },
  {
   "cell_type": "code",
   "execution_count": 167,
   "id": "567973fe",
   "metadata": {},
   "outputs": [
    {
     "name": "stderr",
     "output_type": "stream",
     "text": [
      "/var/folders/6b/73zmt1sx3c30hcgymp7n2zw40000gn/T/ipykernel_27007/165915255.py:14: FutureWarning: The frame.append method is deprecated and will be removed from pandas in a future version. Use pandas.concat instead.\n",
      "  corr_close_plus_one = corr_close_plus_one.append({'Variable 1': var1,\n",
      "/var/folders/6b/73zmt1sx3c30hcgymp7n2zw40000gn/T/ipykernel_27007/165915255.py:14: FutureWarning: The frame.append method is deprecated and will be removed from pandas in a future version. Use pandas.concat instead.\n",
      "  corr_close_plus_one = corr_close_plus_one.append({'Variable 1': var1,\n",
      "/var/folders/6b/73zmt1sx3c30hcgymp7n2zw40000gn/T/ipykernel_27007/165915255.py:14: FutureWarning: The frame.append method is deprecated and will be removed from pandas in a future version. Use pandas.concat instead.\n",
      "  corr_close_plus_one = corr_close_plus_one.append({'Variable 1': var1,\n",
      "/var/folders/6b/73zmt1sx3c30hcgymp7n2zw40000gn/T/ipykernel_27007/165915255.py:14: FutureWarning: The frame.append method is deprecated and will be removed from pandas in a future version. Use pandas.concat instead.\n",
      "  corr_close_plus_one = corr_close_plus_one.append({'Variable 1': var1,\n",
      "/var/folders/6b/73zmt1sx3c30hcgymp7n2zw40000gn/T/ipykernel_27007/165915255.py:14: FutureWarning: The frame.append method is deprecated and will be removed from pandas in a future version. Use pandas.concat instead.\n",
      "  corr_close_plus_one = corr_close_plus_one.append({'Variable 1': var1,\n",
      "/var/folders/6b/73zmt1sx3c30hcgymp7n2zw40000gn/T/ipykernel_27007/165915255.py:14: FutureWarning: The frame.append method is deprecated and will be removed from pandas in a future version. Use pandas.concat instead.\n",
      "  corr_close_plus_one = corr_close_plus_one.append({'Variable 1': var1,\n",
      "/var/folders/6b/73zmt1sx3c30hcgymp7n2zw40000gn/T/ipykernel_27007/165915255.py:14: FutureWarning: The frame.append method is deprecated and will be removed from pandas in a future version. Use pandas.concat instead.\n",
      "  corr_close_plus_one = corr_close_plus_one.append({'Variable 1': var1,\n",
      "/var/folders/6b/73zmt1sx3c30hcgymp7n2zw40000gn/T/ipykernel_27007/165915255.py:14: FutureWarning: The frame.append method is deprecated and will be removed from pandas in a future version. Use pandas.concat instead.\n",
      "  corr_close_plus_one = corr_close_plus_one.append({'Variable 1': var1,\n",
      "/var/folders/6b/73zmt1sx3c30hcgymp7n2zw40000gn/T/ipykernel_27007/165915255.py:14: FutureWarning: The frame.append method is deprecated and will be removed from pandas in a future version. Use pandas.concat instead.\n",
      "  corr_close_plus_one = corr_close_plus_one.append({'Variable 1': var1,\n",
      "/var/folders/6b/73zmt1sx3c30hcgymp7n2zw40000gn/T/ipykernel_27007/165915255.py:14: FutureWarning: The frame.append method is deprecated and will be removed from pandas in a future version. Use pandas.concat instead.\n",
      "  corr_close_plus_one = corr_close_plus_one.append({'Variable 1': var1,\n",
      "/var/folders/6b/73zmt1sx3c30hcgymp7n2zw40000gn/T/ipykernel_27007/165915255.py:14: FutureWarning: The frame.append method is deprecated and will be removed from pandas in a future version. Use pandas.concat instead.\n",
      "  corr_close_plus_one = corr_close_plus_one.append({'Variable 1': var1,\n",
      "/var/folders/6b/73zmt1sx3c30hcgymp7n2zw40000gn/T/ipykernel_27007/165915255.py:14: FutureWarning: The frame.append method is deprecated and will be removed from pandas in a future version. Use pandas.concat instead.\n",
      "  corr_close_plus_one = corr_close_plus_one.append({'Variable 1': var1,\n",
      "/var/folders/6b/73zmt1sx3c30hcgymp7n2zw40000gn/T/ipykernel_27007/165915255.py:14: FutureWarning: The frame.append method is deprecated and will be removed from pandas in a future version. Use pandas.concat instead.\n",
      "  corr_close_plus_one = corr_close_plus_one.append({'Variable 1': var1,\n"
     ]
    }
   ],
   "source": [
    "# Compute pairwise correlations\n",
    "corr_matrix = df.corr()\n",
    "\n",
    "# Filter for correlations greater than 0.95\n",
    "high_corr_pairs = []\n",
    "for i in range(len(corr_matrix.columns)):\n",
    "    for j in range(i):\n",
    "        if abs(corr_matrix.iloc[i, j]) > 0.95:\n",
    "            high_corr_pairs.append((corr_matrix.columns[i], corr_matrix.columns[j]))\n",
    "\n",
    "# Create new dataframe to show correlations with close+1\n",
    "corr_close_plus_one = pd.DataFrame(columns=['Variable 1', 'Variable 2', 'Correlation between Variables', 'Correlation with Close+1 (Var1)', 'Correlation with Close+1 (Var2)'])\n",
    "for var1, var2 in high_corr_pairs:\n",
    "    corr_close_plus_one = corr_close_plus_one.append({'Variable 1': var1,\n",
    "                                                      'Variable 2': var2,\n",
    "                                                      'Correlation between Variables': df[var1].corr(df[var2]),\n",
    "                                                      'Correlation with Close+1 (Var1)': df[var1].corr(df['close+1'].shift(-1)),\n",
    "                                                      'Correlation with Close+1 (Var2)': df[var2].corr(df['close+1'].shift(-1))},\n",
    "                                                     ignore_index=True)\n",
    "\n",
    "# Sort by correlation between variables\n",
    "corr_close_plus_one = corr_close_plus_one.sort_values(by='Correlation between Variables', ascending=False)"
   ]
  },
  {
   "cell_type": "code",
   "execution_count": 168,
   "id": "eaccf96c",
   "metadata": {},
   "outputs": [
    {
     "data": {
      "text/html": [
       "<div>\n",
       "<style scoped>\n",
       "    .dataframe tbody tr th:only-of-type {\n",
       "        vertical-align: middle;\n",
       "    }\n",
       "\n",
       "    .dataframe tbody tr th {\n",
       "        vertical-align: top;\n",
       "    }\n",
       "\n",
       "    .dataframe thead th {\n",
       "        text-align: right;\n",
       "    }\n",
       "</style>\n",
       "<table border=\"1\" class=\"dataframe\">\n",
       "  <thead>\n",
       "    <tr style=\"text-align: right;\">\n",
       "      <th></th>\n",
       "      <th>Variable 1</th>\n",
       "      <th>Variable 2</th>\n",
       "      <th>Correlation between Variables</th>\n",
       "      <th>Correlation with Close+1 (Var1)</th>\n",
       "      <th>Correlation with Close+1 (Var2)</th>\n",
       "    </tr>\n",
       "  </thead>\n",
       "  <tbody>\n",
       "    <tr>\n",
       "      <th>12</th>\n",
       "      <td>NASDAQ Composite Close</td>\n",
       "      <td>NASDAQ Composite Open</td>\n",
       "      <td>0.997806</td>\n",
       "      <td>0.888859</td>\n",
       "      <td>0.888191</td>\n",
       "    </tr>\n",
       "    <tr>\n",
       "      <th>4</th>\n",
       "      <td>S&amp;P 500 Close</td>\n",
       "      <td>S&amp;P 500 Open</td>\n",
       "      <td>0.997531</td>\n",
       "      <td>0.833698</td>\n",
       "      <td>0.832505</td>\n",
       "    </tr>\n",
       "    <tr>\n",
       "      <th>3</th>\n",
       "      <td>Nikkei 225 Close</td>\n",
       "      <td>Nikkei 225 Open</td>\n",
       "      <td>0.997383</td>\n",
       "      <td>0.797922</td>\n",
       "      <td>0.799603</td>\n",
       "    </tr>\n",
       "    <tr>\n",
       "      <th>5</th>\n",
       "      <td>US Dollar Index Close</td>\n",
       "      <td>US Dollar Index Open</td>\n",
       "      <td>0.996971</td>\n",
       "      <td>-0.367572</td>\n",
       "      <td>-0.370284</td>\n",
       "    </tr>\n",
       "    <tr>\n",
       "      <th>2</th>\n",
       "      <td>social_volume</td>\n",
       "      <td>tweets</td>\n",
       "      <td>0.996671</td>\n",
       "      <td>0.653861</td>\n",
       "      <td>0.634968</td>\n",
       "    </tr>\n",
       "    <tr>\n",
       "      <th>10</th>\n",
       "      <td>Dow Jones Industrial Average Close</td>\n",
       "      <td>Dow Jones Industrial Average Open</td>\n",
       "      <td>0.996585</td>\n",
       "      <td>0.787578</td>\n",
       "      <td>0.786709</td>\n",
       "    </tr>\n",
       "    <tr>\n",
       "      <th>11</th>\n",
       "      <td>Crude Oil Close</td>\n",
       "      <td>Crude Oil Open</td>\n",
       "      <td>0.993961</td>\n",
       "      <td>0.445203</td>\n",
       "      <td>0.442331</td>\n",
       "    </tr>\n",
       "    <tr>\n",
       "      <th>9</th>\n",
       "      <td>Dow Jones Industrial Average Close</td>\n",
       "      <td>S&amp;P 500 Close</td>\n",
       "      <td>0.972858</td>\n",
       "      <td>0.787578</td>\n",
       "      <td>0.833698</td>\n",
       "    </tr>\n",
       "    <tr>\n",
       "      <th>6</th>\n",
       "      <td>Dow Jones Industrial Average Open</td>\n",
       "      <td>S&amp;P 500 Open</td>\n",
       "      <td>0.972723</td>\n",
       "      <td>0.786709</td>\n",
       "      <td>0.832505</td>\n",
       "    </tr>\n",
       "    <tr>\n",
       "      <th>1</th>\n",
       "      <td>sma_100</td>\n",
       "      <td>sma_50</td>\n",
       "      <td>0.971528</td>\n",
       "      <td>0.883695</td>\n",
       "      <td>0.948094</td>\n",
       "    </tr>\n",
       "    <tr>\n",
       "      <th>7</th>\n",
       "      <td>Dow Jones Industrial Average Open</td>\n",
       "      <td>S&amp;P 500 Close</td>\n",
       "      <td>0.971321</td>\n",
       "      <td>0.786709</td>\n",
       "      <td>0.833698</td>\n",
       "    </tr>\n",
       "    <tr>\n",
       "      <th>8</th>\n",
       "      <td>Dow Jones Industrial Average Close</td>\n",
       "      <td>S&amp;P 500 Open</td>\n",
       "      <td>0.968830</td>\n",
       "      <td>0.787578</td>\n",
       "      <td>0.832505</td>\n",
       "    </tr>\n",
       "    <tr>\n",
       "      <th>0</th>\n",
       "      <td>sma_50</td>\n",
       "      <td>close+1</td>\n",
       "      <td>0.951192</td>\n",
       "      <td>0.948094</td>\n",
       "      <td>0.997574</td>\n",
       "    </tr>\n",
       "  </tbody>\n",
       "</table>\n",
       "</div>"
      ],
      "text/plain": [
       "                            Variable 1                         Variable 2  \\\n",
       "12              NASDAQ Composite Close              NASDAQ Composite Open   \n",
       "4                        S&P 500 Close                       S&P 500 Open   \n",
       "3                     Nikkei 225 Close                    Nikkei 225 Open   \n",
       "5                US Dollar Index Close               US Dollar Index Open   \n",
       "2                        social_volume                             tweets   \n",
       "10  Dow Jones Industrial Average Close  Dow Jones Industrial Average Open   \n",
       "11                     Crude Oil Close                     Crude Oil Open   \n",
       "9   Dow Jones Industrial Average Close                      S&P 500 Close   \n",
       "6    Dow Jones Industrial Average Open                       S&P 500 Open   \n",
       "1                              sma_100                             sma_50   \n",
       "7    Dow Jones Industrial Average Open                      S&P 500 Close   \n",
       "8   Dow Jones Industrial Average Close                       S&P 500 Open   \n",
       "0                               sma_50                            close+1   \n",
       "\n",
       "    Correlation between Variables  Correlation with Close+1 (Var1)  \\\n",
       "12                       0.997806                         0.888859   \n",
       "4                        0.997531                         0.833698   \n",
       "3                        0.997383                         0.797922   \n",
       "5                        0.996971                        -0.367572   \n",
       "2                        0.996671                         0.653861   \n",
       "10                       0.996585                         0.787578   \n",
       "11                       0.993961                         0.445203   \n",
       "9                        0.972858                         0.787578   \n",
       "6                        0.972723                         0.786709   \n",
       "1                        0.971528                         0.883695   \n",
       "7                        0.971321                         0.786709   \n",
       "8                        0.968830                         0.787578   \n",
       "0                        0.951192                         0.948094   \n",
       "\n",
       "    Correlation with Close+1 (Var2)  \n",
       "12                         0.888191  \n",
       "4                          0.832505  \n",
       "3                          0.799603  \n",
       "5                         -0.370284  \n",
       "2                          0.634968  \n",
       "10                         0.786709  \n",
       "11                         0.442331  \n",
       "9                          0.833698  \n",
       "6                          0.832505  \n",
       "1                          0.948094  \n",
       "7                          0.833698  \n",
       "8                          0.832505  \n",
       "0                          0.997574  "
      ]
     },
     "execution_count": 168,
     "metadata": {},
     "output_type": "execute_result"
    }
   ],
   "source": [
    "corr_close_plus_one"
   ]
  },
  {
   "cell_type": "code",
   "execution_count": 169,
   "id": "7bbe3056",
   "metadata": {},
   "outputs": [],
   "source": [
    "# Define the columns to drop\n",
    "more_cols_to_drop = ['NASDAQ Composite Open', 'S&P 500 Open', 'Nikkei 225 Close', 'Dow Jones Industrial Average Open', 'sma_100', 'US Dollar Index Close', 'Crude Oil Open']"
   ]
  },
  {
   "cell_type": "code",
   "execution_count": 170,
   "id": "89c165b8",
   "metadata": {},
   "outputs": [],
   "source": [
    "# Drop the columns from the DataFrame\n",
    "df = df.drop(more_cols_to_drop, axis=1)"
   ]
  },
  {
   "cell_type": "markdown",
   "id": "b91e51c5",
   "metadata": {},
   "source": [
    "*Next i will calculate the VIF factors of the remaining variables and drop the highest ones to reduce multicolinarity*"
   ]
  },
  {
   "cell_type": "code",
   "execution_count": 171,
   "id": "56cb34ff",
   "metadata": {},
   "outputs": [
    {
     "name": "stdout",
     "output_type": "stream",
     "text": [
      "    VIF Factor                             feature\n",
      "25  681.298313                       S&P 500 Close\n",
      "26  575.071958                US Dollar Index Open\n",
      "17  541.212672                       social_volume\n",
      "3   530.564426                              tweets\n",
      "18  269.996446                    market_dominance\n",
      "29  197.589862              NASDAQ Composite Close\n",
      "27  193.863504  Dow Jones Industrial Average Close\n",
      "13  118.192728                        social_score\n",
      "16   48.533861                             sma_200\n",
      "11   48.148249             tweet_sentiment_impact4\n",
      "7    47.025687                    tweet_sentiment4\n",
      "22   45.129944                             ETH_USD\n",
      "0    39.516838                             close+1\n",
      "21   35.144767           1-Year Treasury Bond Rate\n",
      "15   32.961585                              sma_50\n",
      "19   32.551732                social_volume_global\n",
      "24   23.515569                     Nikkei 225 Open\n",
      "14   20.112525                 social_contributors\n",
      "28   16.656003                     Crude Oil Close\n",
      "10   13.889069             tweet_sentiment_impact2\n",
      "5    13.763718                    tweet_sentiment1\n",
      "6    13.546776                    tweet_sentiment2\n",
      "30   13.327138                               CPTRA\n",
      "4    11.503599                          tweet_spam\n",
      "8    10.836170                    tweet_sentiment5\n",
      "20    9.860443                    social_dominance\n",
      "23    9.756022                            DOGE_USD\n",
      "12    9.585217             tweet_sentiment_impact5\n",
      "1     9.319780                          volume_24h\n",
      "9     8.110434             tweet_sentiment_impact1\n",
      "2     6.891530                          url_shares\n"
     ]
    }
   ],
   "source": [
    "# Calculate VIF for each variable\n",
    "vif_df = pd.DataFrame()\n",
    "vif_df[\"VIF Factor\"] = [variance_inflation_factor(df.values, i) for i in range(df.shape[1])]\n",
    "vif_df[\"feature\"] = df.columns\n",
    "\n",
    "# Display VIF values in a DataFrame, sorted by VIF value\n",
    "vif_df = vif_df.sort_values(by='VIF Factor', ascending=False)\n",
    "print(vif_df)"
   ]
  },
  {
   "cell_type": "code",
   "execution_count": 172,
   "id": "9cb9f8de",
   "metadata": {},
   "outputs": [],
   "source": [
    "cols_to_drop2 = ['social_volume', 'tweets', 'tweet_sentiment_impact4', 'US Dollar Index Open', 'S&P 500 Close', 'market_dominance', '1-Year Treasury Bond Rate', 'tweet_spam', 'url_shares', 'tweet_sentiment_impact4', 'tweet_sentiment4']"
   ]
  },
  {
   "cell_type": "code",
   "execution_count": 173,
   "id": "eb80749c",
   "metadata": {},
   "outputs": [],
   "source": [
    "# Drop the columns from the DataFrame\n",
    "df = df.drop(cols_to_drop2, axis=1)"
   ]
  },
  {
   "cell_type": "code",
   "execution_count": 174,
   "id": "a3d57a8f",
   "metadata": {},
   "outputs": [
    {
     "data": {
      "text/plain": [
       "['close+1',\n",
       " 'volume_24h',\n",
       " 'tweet_sentiment1',\n",
       " 'tweet_sentiment2',\n",
       " 'tweet_sentiment5',\n",
       " 'tweet_sentiment_impact1',\n",
       " 'tweet_sentiment_impact2',\n",
       " 'tweet_sentiment_impact5',\n",
       " 'social_score',\n",
       " 'social_contributors',\n",
       " 'sma_50',\n",
       " 'sma_200',\n",
       " 'social_volume_global',\n",
       " 'social_dominance',\n",
       " 'ETH_USD',\n",
       " 'DOGE_USD',\n",
       " 'Nikkei 225 Open',\n",
       " 'Dow Jones Industrial Average Close',\n",
       " 'Crude Oil Close',\n",
       " 'NASDAQ Composite Close',\n",
       " 'CPTRA']"
      ]
     },
     "execution_count": 174,
     "metadata": {},
     "output_type": "execute_result"
    }
   ],
   "source": [
    "column_names = df.columns.tolist()\n",
    "column_names"
   ]
  },
  {
   "cell_type": "code",
   "execution_count": 177,
   "id": "60e53628",
   "metadata": {},
   "outputs": [],
   "source": [
    "columns_to_keep = [\n",
    " 'date',\n",
    " 'open',        \n",
    " 'close',\n",
    " 'close+1',\n",
    " 'high', \n",
    " 'low',\n",
    " 'volume_24h',\n",
    " 'volume_24h',\n",
    " 'tweet_sentiment1',\n",
    " 'tweet_sentiment2',\n",
    " 'tweet_sentiment5',\n",
    " 'tweet_sentiment_impact1',\n",
    " 'tweet_sentiment_impact2',\n",
    " 'tweet_sentiment_impact5',\n",
    " 'social_score',\n",
    " 'social_contributors',\n",
    " 'sma_50',\n",
    " 'sma_200',\n",
    " 'social_volume_global',\n",
    " 'social_dominance',\n",
    " 'ETH_USD',\n",
    " 'DOGE_USD',\n",
    " 'Nikkei 225 Open',\n",
    " 'Dow Jones Industrial Average Close',\n",
    " 'Crude Oil Close',\n",
    " 'NASDAQ Composite Close',\n",
    " 'CPTRA']"
   ]
  },
  {
   "cell_type": "code",
   "execution_count": 180,
   "id": "49d87bb1",
   "metadata": {},
   "outputs": [],
   "source": [
    "df = pd.read_csv('./data/data_complete_final.csv')"
   ]
  },
  {
   "cell_type": "code",
   "execution_count": 181,
   "id": "73848861",
   "metadata": {},
   "outputs": [],
   "source": [
    "df = df[columns_to_keep]"
   ]
  },
  {
   "cell_type": "code",
   "execution_count": 183,
   "id": "5bb56dbd",
   "metadata": {},
   "outputs": [],
   "source": [
    "#Exporting to CSV\n",
    "df.to_csv('feature_engineered_data.csv', index=False)"
   ]
  },
  {
   "cell_type": "markdown",
   "id": "90786fcf",
   "metadata": {},
   "source": [
    "**Support Vector Model with engineered features**"
   ]
  },
  {
   "cell_type": "code",
   "execution_count": 185,
   "id": "fcb8dc44",
   "metadata": {},
   "outputs": [],
   "source": [
    "df = pd.read_csv('./data/feature_engineered_data.csv').drop('date', axis=1)"
   ]
  },
  {
   "cell_type": "code",
   "execution_count": 124,
   "id": "93a6ffc1",
   "metadata": {},
   "outputs": [],
   "source": [
    "# Split the data into training and testing sets\n",
    "X_train, X_test, y_train, y_test = train_test_split(df.drop('close+1', axis=1), df['close+1'], test_size=0.2, random_state=42)"
   ]
  },
  {
   "cell_type": "code",
   "execution_count": 125,
   "id": "7a09e48a",
   "metadata": {},
   "outputs": [],
   "source": [
    "# Perform feature selection\n",
    "selector = SelectKBest(score_func=f_regression, k=12)\n",
    "X_train_selected = selector.fit_transform(X_train, y_train)\n",
    "X_test_selected = selector.transform(X_test)"
   ]
  },
  {
   "cell_type": "code",
   "execution_count": 126,
   "id": "c7804569",
   "metadata": {
    "scrolled": true
   },
   "outputs": [],
   "source": [
    "# Fit the SVM model\n",
    "svm_model = SVR(kernel='rbf')\n",
    "svm_model.fit(X_train_selected, y_train)\n",
    "\n",
    "# Evaluate the model on the test set\n",
    "y_pred = svm_model.predict(X_test_selected)"
   ]
  },
  {
   "cell_type": "code",
   "execution_count": 129,
   "id": "5536a257",
   "metadata": {
    "scrolled": true
   },
   "outputs": [
    {
     "name": "stdout",
     "output_type": "stream",
     "text": [
      "MSE: 311579434.5887632\n",
      "MAE: 14321.804194910712\n",
      "RMSE: 17651.612804182034\n",
      "MAPE: 72.43836319740433\n",
      "r2: -0.06547025659391337\n"
     ]
    }
   ],
   "source": [
    "# Evaluate the model performance\n",
    "mse = mean_squared_error(y_test, y_pred)\n",
    "mae = mean_absolute_error(y_test, y_pred)\n",
    "rmse = np.sqrt(mse)\n",
    "mape = np.mean(np.abs((y_test - y_pred) / y_test)) * 100\n",
    "r2 = r2_score(y_test, y_pred)\n",
    "\n",
    "print('MSE:', mse)\n",
    "print('MAE:', mae)\n",
    "print('RMSE:', rmse)\n",
    "print('MAPE:', mape)\n",
    "print('r2:', r2)"
   ]
  },
  {
   "cell_type": "markdown",
   "id": "f5ef6ffa",
   "metadata": {},
   "source": [
    "**Next I will try Gradient Boosting Regressor**"
   ]
  },
  {
   "cell_type": "markdown",
   "id": "09da48cf",
   "metadata": {},
   "source": [
    "*With all the engineered features*"
   ]
  },
  {
   "cell_type": "code",
   "execution_count": 103,
   "id": "4a1be461",
   "metadata": {},
   "outputs": [],
   "source": [
    "df = pd.read_csv('./data/feature_engineered_data.csv').drop('date', axis=1)"
   ]
  },
  {
   "cell_type": "code",
   "execution_count": 102,
   "id": "bfa16254",
   "metadata": {},
   "outputs": [
    {
     "data": {
      "text/plain": [
       "\" # Separate the target variable from the features\\nX = df.drop('close+1', axis=1)\\ny = df['close+1']\\n\\n# Split the data into train and test sets\\nX_train, X_test, y_train, y_test = train_test_split(X, y, test_size=0.2, random_state=42)\\n\\n# Fit the model and make predictions\\ngb_model = GradientBoostingRegressor()\\ngb_model.fit(X_train, y_train)\\ny_pred = gb_model.predict(X_test) \""
      ]
     },
     "execution_count": 102,
     "metadata": {},
     "output_type": "execute_result"
    }
   ],
   "source": [
    "\"\"\" # Separate the target variable from the features\n",
    "X = df.drop('close+1', axis=1)\n",
    "y = df['close+1']\n",
    "\n",
    "# Split the data into train and test sets\n",
    "X_train, X_test, y_train, y_test = train_test_split(X, y, test_size=0.2, random_state=42)\n",
    "\n",
    "# Fit the model and make predictions\n",
    "gb_model = GradientBoostingRegressor()\n",
    "gb_model.fit(X_train, y_train)\n",
    "y_pred = gb_model.predict(X_test) \"\"\""
   ]
  },
  {
   "cell_type": "code",
   "execution_count": 101,
   "id": "e35490b2",
   "metadata": {},
   "outputs": [
    {
     "data": {
      "text/plain": [
       "\" # Evaluate the model performance\\nmse = mean_squared_error(y_test, y_pred)\\nmae = mean_absolute_error(y_test, y_pred)\\nrmse = np.sqrt(mse)\\nmape = np.mean(np.abs((y_test - y_pred) / y_test)) * 100\\nr2 = r2_score(y_test, y_pred)\\n\\nprint('MSE:', mse)\\nprint('MAE:', mae)\\nprint('RMSE:', rmse)\\nprint('MAPE:', mape)\\nprint('r2:', r2) \""
      ]
     },
     "execution_count": 101,
     "metadata": {},
     "output_type": "execute_result"
    }
   ],
   "source": [
    "\"\"\" # Evaluate the model performance\n",
    "mse = mean_squared_error(y_test, y_pred)\n",
    "mae = mean_absolute_error(y_test, y_pred)\n",
    "rmse = np.sqrt(mse)\n",
    "mape = np.mean(np.abs((y_test - y_pred) / y_test)) * 100\n",
    "r2 = r2_score(y_test, y_pred)\n",
    "\n",
    "print('MSE:', mse)\n",
    "print('MAE:', mae)\n",
    "print('RMSE:', rmse)\n",
    "print('MAPE:', mape)\n",
    "print('r2:', r2) \"\"\""
   ]
  },
  {
   "cell_type": "markdown",
   "id": "dab1df0b",
   "metadata": {},
   "source": [
    "*Using KBest features (8)*"
   ]
  },
  {
   "cell_type": "code",
   "execution_count": 104,
   "id": "cd56dde9",
   "metadata": {},
   "outputs": [
    {
     "name": "stdout",
     "output_type": "stream",
     "text": [
      "Selected features and their scores:\n",
      "open : 110616.70187712196\n",
      "close : 217393.2674346989\n",
      "high : 154057.63619428882\n",
      "low : 143392.29133288292\n",
      "sma_50 : 9949.685771201453\n",
      "MSE: 1866443.906080309\n",
      "MAE: 815.7003849710175\n",
      "RMSE: 1366.178577668494\n",
      "MAPE: 2.883729910115222\n",
      "r2: 0.993617549020351\n"
     ]
    }
   ],
   "source": [
    "# Split the data into training and testing sets\n",
    "X_train, X_test, y_train, y_test = train_test_split(df.drop('close+1', axis=1), df['close+1'], test_size=0.2, random_state=42)\n",
    "\n",
    "# Perform feature selection\n",
    "selector = SelectKBest(score_func=f_regression, k=5)\n",
    "X_train_selected = selector.fit_transform(X_train, y_train)\n",
    "X_test_selected = selector.transform(X_test)\n",
    "\n",
    "# Get the indices of the selected features\n",
    "selected_indices = selector.get_support(indices=True)\n",
    "\n",
    "# Get the names of the selected features\n",
    "selected_features = X_train.columns[selected_indices].tolist()\n",
    "\n",
    "# Get the scores of the selected features\n",
    "feature_scores = selector.scores_[selected_indices]\n",
    "\n",
    "# Print the selected features and their scores\n",
    "print('Selected features and their scores:')\n",
    "for i in range(len(selected_features)):\n",
    "    print(selected_features[i], ':', feature_scores[i])\n",
    "    \n",
    "# Train the model\n",
    "model = GradientBoostingRegressor()\n",
    "model.fit(X_train_selected, y_train)\n",
    "\n",
    "# Make predictions on the test set\n",
    "y_pred = model.predict(X_test_selected)\n",
    "\n",
    "# Evaluate the model performance\n",
    "mse = mean_squared_error(y_test, y_pred)\n",
    "mae = mean_absolute_error(y_test, y_pred)\n",
    "rmse = np.sqrt(mse)\n",
    "mape = np.mean(np.abs((y_test - y_pred) / y_test)) * 100\n",
    "r2 = r2_score(y_test, y_pred)\n",
    "\n",
    "print('MSE:', mse)\n",
    "print('MAE:', mae)\n",
    "print('RMSE:', rmse)\n",
    "print('MAPE:', mape)\n",
    "print('r2:', r2)"
   ]
  },
  {
   "cell_type": "code",
   "execution_count": 281,
   "id": "e096766e",
   "metadata": {},
   "outputs": [
    {
     "name": "stdout",
     "output_type": "stream",
     "text": [
      "Selected features and their scores:\n",
      "open : 110616.70187712196\n",
      "close : 217393.2674346989\n",
      "high : 154057.63619428882\n",
      "low : 143392.29133288292\n",
      "sma_50 : 9949.685771201453\n",
      "ETH_USD : 4618.878756592957\n",
      "NASDAQ Composite Close : 3959.6710769611177\n",
      "CPTRA : 8327.650247626672\n",
      "MSE: 1856455.6328829797\n",
      "MAE: 816.3631006970262\n",
      "RMSE: 1362.518122038375\n",
      "MAPE: 2.941377748664963\n",
      "r2: 0.9936517047020973\n"
     ]
    }
   ],
   "source": [
    "# Split the data into training and testing sets\n",
    "X_train, X_test, y_train, y_test = train_test_split(df.drop('close+1', axis=1), df['close+1'], test_size=0.2, random_state=42)\n",
    "\n",
    "# Perform feature selection\n",
    "selector = SelectKBest(score_func=f_regression, k=8)\n",
    "X_train_selected = selector.fit_transform(X_train, y_train)\n",
    "X_test_selected = selector.transform(X_test)\n",
    "\n",
    "# Get the indices of the selected features\n",
    "selected_indices = selector.get_support(indices=True)\n",
    "\n",
    "# Get the names of the selected features\n",
    "selected_features = X_train.columns[selected_indices].tolist()\n",
    "\n",
    "# Get the scores of the selected features\n",
    "feature_scores = selector.scores_[selected_indices]\n",
    "\n",
    "# Print the selected features and their scores\n",
    "print('Selected features and their scores:')\n",
    "for i in range(len(selected_features)):\n",
    "    print(selected_features[i], ':', feature_scores[i])\n",
    "    \n",
    "# Train the model\n",
    "model = GradientBoostingRegressor()\n",
    "model.fit(X_train_selected, y_train)\n",
    "\n",
    "# Make predictions on the test set\n",
    "y_pred = model.predict(X_test_selected)\n",
    "\n",
    "# Evaluate the model performance\n",
    "mse = mean_squared_error(y_test, y_pred)\n",
    "mae = mean_absolute_error(y_test, y_pred)\n",
    "rmse = np.sqrt(mse)\n",
    "mape = np.mean(np.abs((y_test - y_pred) / y_test)) * 100\n",
    "r2 = r2_score(y_test, y_pred)\n",
    "\n",
    "print('MSE:', mse)\n",
    "print('MAE:', mae)\n",
    "print('RMSE:', rmse)\n",
    "print('MAPE:', mape)\n",
    "print('r2:', r2)"
   ]
  },
  {
   "cell_type": "markdown",
   "id": "5bd8232e",
   "metadata": {},
   "source": [
    "*Model which selects the optimal number of KBest features to minimise MAPE*"
   ]
  },
  {
   "cell_type": "code",
   "execution_count": 33,
   "id": "2bac9246",
   "metadata": {},
   "outputs": [
    {
     "data": {
      "text/plain": [
       "\" # Split the data into training and testing sets\\nX_train, X_test, y_train, y_test = train_test_split(df.drop('close+1', axis=1), df['close+1'], test_size=0.2, random_state=42)\\n\\n# Try different k values and select the one with the lowest MAPE\\nbest_k = None\\nbest_mape = float('inf')\\nfor k in range(1, len(X_train.columns)+1):\\n    # Perform feature selection\\n    selector = SelectKBest(score_func=f_regression, k=k)\\n    X_train_selected = selector.fit_transform(X_train, y_train)\\n    X_test_selected = selector.transform(X_test)\\n\\n    # Get the indices of the selected features\\n    selected_indices = selector.get_support(indices=True)\\n\\n    # Get the names of the selected features\\n    selected_features = X_train.columns[selected_indices].tolist()\\n\\n    # Train the model\\n    model = GradientBoostingRegressor()\\n    model.fit(X_train_selected, y_train)\\n\\n    # Make predictions on the test set\\n    y_pred = model.predict(X_test_selected)\\n\\n    # Evaluate the model performance\\n    mape = np.mean(np.abs((y_test - y_pred) / y_test)) * 100\\n    \\n    # Update the best k value and MAPE\\n    if mape < best_mape:\\n        best_k = k\\n        best_mape = mape\\n\\n# Perform feature selection using the best k value\\nselector = SelectKBest(score_func=f_regression, k=best_k)\\nX_train_selected = selector.fit_transform(X_train, y_train)\\nX_test_selected = selector.transform(X_test)\\n\\n# Get the indices of the selected features\\nselected_indices = selector.get_support(indices=True)\\n\\n# Get the names of the selected features\\nselected_features = X_train.columns[selected_indices].tolist()\\n\\n# Get the scores of the selected features\\nfeature_scores = selector.scores_[selected_indices]\\n\\n# Print the selected features and their scores\\nprint('Selected features and their scores:')\\nfor i in range(len(selected_features)):\\n    print(selected_features[i], ':', feature_scores[i]) \""
      ]
     },
     "execution_count": 33,
     "metadata": {},
     "output_type": "execute_result"
    }
   ],
   "source": [
    "\"\"\" # Split the data into training and testing sets\n",
    "X_train, X_test, y_train, y_test = train_test_split(df.drop('close+1', axis=1), df['close+1'], test_size=0.2, random_state=42)\n",
    "\n",
    "# Try different k values and select the one with the lowest MAPE\n",
    "best_k = None\n",
    "best_mape = float('inf')\n",
    "for k in range(1, len(X_train.columns)+1):\n",
    "    # Perform feature selection\n",
    "    selector = SelectKBest(score_func=f_regression, k=k)\n",
    "    X_train_selected = selector.fit_transform(X_train, y_train)\n",
    "    X_test_selected = selector.transform(X_test)\n",
    "\n",
    "    # Get the indices of the selected features\n",
    "    selected_indices = selector.get_support(indices=True)\n",
    "\n",
    "    # Get the names of the selected features\n",
    "    selected_features = X_train.columns[selected_indices].tolist()\n",
    "\n",
    "    # Train the model\n",
    "    model = GradientBoostingRegressor()\n",
    "    model.fit(X_train_selected, y_train)\n",
    "\n",
    "    # Make predictions on the test set\n",
    "    y_pred = model.predict(X_test_selected)\n",
    "\n",
    "    # Evaluate the model performance\n",
    "    mape = np.mean(np.abs((y_test - y_pred) / y_test)) * 100\n",
    "    \n",
    "    # Update the best k value and MAPE\n",
    "    if mape < best_mape:\n",
    "        best_k = k\n",
    "        best_mape = mape\n",
    "\n",
    "# Perform feature selection using the best k value\n",
    "selector = SelectKBest(score_func=f_regression, k=best_k)\n",
    "X_train_selected = selector.fit_transform(X_train, y_train)\n",
    "X_test_selected = selector.transform(X_test)\n",
    "\n",
    "# Get the indices of the selected features\n",
    "selected_indices = selector.get_support(indices=True)\n",
    "\n",
    "# Get the names of the selected features\n",
    "selected_features = X_train.columns[selected_indices].tolist()\n",
    "\n",
    "# Get the scores of the selected features\n",
    "feature_scores = selector.scores_[selected_indices]\n",
    "\n",
    "# Print the selected features and their scores\n",
    "print('Selected features and their scores:')\n",
    "for i in range(len(selected_features)):\n",
    "    print(selected_features[i], ':', feature_scores[i]) \"\"\""
   ]
  },
  {
   "attachments": {},
   "cell_type": "markdown",
   "id": "d8ca4927",
   "metadata": {},
   "source": []
  },
  {
   "cell_type": "code",
   "execution_count": 32,
   "id": "410a724f",
   "metadata": {},
   "outputs": [
    {
     "data": {
      "text/plain": [
       "\" # Train the model using the best k value\\nmodel = GradientBoostingRegressor()\\nmodel.fit(X_train_selected, y_train)\\n\\n# Make predictions on the test set\\ny_pred = model.predict(X_test_selected)\\n\\n# Evaluate the model performance\\nmse = mean_squared_error(y_test, y_pred)\\nmae = mean_absolute_error(y_test, y_pred)\\nrmse = np.sqrt(mse)\\nmape = np.mean(np.abs((y_test - y_pred) / y_test)) * 100\\nr2 = r2_score(y_test, y_pred)\\n\\nprint('Best k:', best_k)\\nprint('MSE:', mse)\\nprint('MAE:', mae)\\nprint('RMSE:', rmse)\\nprint('MAPE:', mape)\\nprint('r2:', r2)\\n \""
      ]
     },
     "execution_count": 32,
     "metadata": {},
     "output_type": "execute_result"
    }
   ],
   "source": [
    "\"\"\" # Train the model using the best k value\n",
    "model = GradientBoostingRegressor()\n",
    "model.fit(X_train_selected, y_train)\n",
    "\n",
    "# Make predictions on the test set\n",
    "y_pred = model.predict(X_test_selected)\n",
    "\n",
    "# Evaluate the model performance\n",
    "mse = mean_squared_error(y_test, y_pred)\n",
    "mae = mean_absolute_error(y_test, y_pred)\n",
    "rmse = np.sqrt(mse)\n",
    "mape = np.mean(np.abs((y_test - y_pred) / y_test)) * 100\n",
    "r2 = r2_score(y_test, y_pred)\n",
    "\n",
    "print('Best k:', best_k)\n",
    "print('MSE:', mse)\n",
    "print('MAE:', mae)\n",
    "print('RMSE:', rmse)\n",
    "print('MAPE:', mape)\n",
    "print('r2:', r2)\n",
    " \"\"\""
   ]
  },
  {
   "cell_type": "code",
   "execution_count": 26,
   "id": "52433e65",
   "metadata": {},
   "outputs": [
    {
     "name": "stdout",
     "output_type": "stream",
     "text": [
      "Selected features and their scores:\n",
      "close : 211928.50673202638\n",
      "high : 149807.98857830378\n"
     ]
    }
   ],
   "source": [
    "# Determine the index to split the data (80/20 split)\n",
    "split_index = int(len(df) * 0.8)\n",
    "\n",
    "# Split the data into training and testing sets\n",
    "X_train = df.iloc[:split_index].drop('close+1', axis=1)\n",
    "y_train = df.iloc[:split_index]['close+1']\n",
    "X_test = df.iloc[split_index:].drop('close+1', axis=1)\n",
    "y_test = df.iloc[split_index:]['close+1']\n",
    "\n",
    "# Try different k values and select the one with the lowest MAPE\n",
    "best_k = None\n",
    "best_mape = float('inf')\n",
    "for k in range(1, len(X_train.columns)+1):\n",
    "    # Perform feature selection\n",
    "    selector = SelectKBest(score_func=f_regression, k=k)\n",
    "    X_train_selected = selector.fit_transform(X_train, y_train)\n",
    "    X_test_selected = selector.transform(X_test)\n",
    "\n",
    "    # Get the indices of the selected features\n",
    "    selected_indices = selector.get_support(indices=True)\n",
    "\n",
    "    # Get the names of the selected features\n",
    "    selected_features = X_train.columns[selected_indices].tolist()\n",
    "\n",
    "    # Train the model\n",
    "    model = GradientBoostingRegressor()\n",
    "    model.fit(X_train_selected, y_train)\n",
    "\n",
    "    # Make predictions on the test set\n",
    "    y_pred = model.predict(X_test_selected)\n",
    "\n",
    "    # Evaluate the model performance\n",
    "    mape = np.mean(np.abs((y_test - y_pred) / y_test)) * 100\n",
    "    \n",
    "    # Update the best k value and MAPE\n",
    "    if mape < best_mape:\n",
    "        best_k = k\n",
    "        best_mape = mape\n",
    "\n",
    "# Perform feature selection using the best k value\n",
    "selector = SelectKBest(score_func=f_regression, k=best_k)\n",
    "X_train_selected = selector.fit_transform(X_train, y_train)\n",
    "X_test_selected = selector.transform(X_test)\n",
    "\n",
    "# Get the indices of the selected features\n",
    "selected_indices = selector.get_support(indices=True)\n",
    "\n",
    "# Get the names of the selected features\n",
    "selected_features = X_train.columns[selected_indices].tolist()\n",
    "\n",
    "# Get the scores of the selected features\n",
    "feature_scores = selector.scores_[selected_indices]\n",
    "\n",
    "# Print the selected features and their scores\n",
    "print('Selected features and their scores:')\n",
    "for i in range(len(selected_features)):\n",
    "    print(selected_features[i], ':', feature_scores[i])"
   ]
  },
  {
   "attachments": {},
   "cell_type": "markdown",
   "id": "bd70b6b6",
   "metadata": {},
   "source": [
    "*The model selected just 2 features: close and high from the previous day*"
   ]
  },
  {
   "cell_type": "code",
   "execution_count": 27,
   "id": "74d57565",
   "metadata": {},
   "outputs": [
    {
     "name": "stdout",
     "output_type": "stream",
     "text": [
      "Best k: 2\n",
      "MSE: 562928.2818613593\n",
      "MAE: 571.4157797508408\n",
      "RMSE: 750.2854669133337\n",
      "MAPE: 2.8675662006189038\n",
      "r2: 0.9071213998882957\n"
     ]
    }
   ],
   "source": [
    "# Train the model using the best k value\n",
    "model = GradientBoostingRegressor()\n",
    "model.fit(X_train_selected, y_train)\n",
    "\n",
    "# Make predictions on the test set\n",
    "y_pred = model.predict(X_test_selected)\n",
    "\n",
    "# Evaluate the model performance\n",
    "mse = mean_squared_error(y_test, y_pred)\n",
    "mae = mean_absolute_error(y_test, y_pred)\n",
    "rmse = np.sqrt(mse)\n",
    "mape = np.mean(np.abs((y_test - y_pred) / y_test)) * 100\n",
    "r2 = r2_score(y_test, y_pred)\n",
    "\n",
    "print('Best k:', best_k)\n",
    "print('MSE:', mse)\n",
    "print('MAE:', mae)\n",
    "print('RMSE:', rmse)\n",
    "print('MAPE:', mape)\n",
    "print('r2:', r2)\n"
   ]
  },
  {
   "cell_type": "code",
   "execution_count": 28,
   "id": "56085b71",
   "metadata": {},
   "outputs": [],
   "source": [
    "import pandas as pd\n",
    "import matplotlib.pyplot as plt\n",
    "\n",
    "# Create a dataframe with the values of y_test and y_pred\n",
    "df = pd.DataFrame({'Close+1': y_test, 'Predicted Close+1': y_pred})\n",
    "\n",
    "\n"
   ]
  },
  {
   "cell_type": "code",
   "execution_count": 29,
   "id": "7fc45973",
   "metadata": {},
   "outputs": [
    {
     "data": {
      "text/html": [
       "<div>\n",
       "<style scoped>\n",
       "    .dataframe tbody tr th:only-of-type {\n",
       "        vertical-align: middle;\n",
       "    }\n",
       "\n",
       "    .dataframe tbody tr th {\n",
       "        vertical-align: top;\n",
       "    }\n",
       "\n",
       "    .dataframe thead th {\n",
       "        text-align: right;\n",
       "    }\n",
       "</style>\n",
       "<table border=\"1\" class=\"dataframe\">\n",
       "  <thead>\n",
       "    <tr style=\"text-align: right;\">\n",
       "      <th></th>\n",
       "      <th>Close+1</th>\n",
       "      <th>Predicted Close+1</th>\n",
       "    </tr>\n",
       "  </thead>\n",
       "  <tbody>\n",
       "    <tr>\n",
       "      <th>1025</th>\n",
       "      <td>20710.597102</td>\n",
       "      <td>20248.220625</td>\n",
       "    </tr>\n",
       "    <tr>\n",
       "      <th>1026</th>\n",
       "      <td>19987.029049</td>\n",
       "      <td>20477.481431</td>\n",
       "    </tr>\n",
       "    <tr>\n",
       "      <th>1027</th>\n",
       "      <td>21085.877161</td>\n",
       "      <td>19916.026247</td>\n",
       "    </tr>\n",
       "    <tr>\n",
       "      <th>1028</th>\n",
       "      <td>21231.655771</td>\n",
       "      <td>21401.356575</td>\n",
       "    </tr>\n",
       "    <tr>\n",
       "      <th>1029</th>\n",
       "      <td>21502.338688</td>\n",
       "      <td>21630.617381</td>\n",
       "    </tr>\n",
       "    <tr>\n",
       "      <th>...</th>\n",
       "      <td>...</td>\n",
       "      <td>...</td>\n",
       "    </tr>\n",
       "    <tr>\n",
       "      <th>1277</th>\n",
       "      <td>23147.353390</td>\n",
       "      <td>23477.901712</td>\n",
       "    </tr>\n",
       "    <tr>\n",
       "      <th>1278</th>\n",
       "      <td>23646.549899</td>\n",
       "      <td>23477.901712</td>\n",
       "    </tr>\n",
       "    <tr>\n",
       "      <th>1279</th>\n",
       "      <td>23475.466738</td>\n",
       "      <td>23823.981806</td>\n",
       "    </tr>\n",
       "    <tr>\n",
       "      <th>1280</th>\n",
       "      <td>22362.679332</td>\n",
       "      <td>23477.901712</td>\n",
       "    </tr>\n",
       "    <tr>\n",
       "      <th>1281</th>\n",
       "      <td>22353.350074</td>\n",
       "      <td>22532.412441</td>\n",
       "    </tr>\n",
       "  </tbody>\n",
       "</table>\n",
       "<p>257 rows × 2 columns</p>\n",
       "</div>"
      ],
      "text/plain": [
       "           Close+1  Predicted Close+1\n",
       "1025  20710.597102       20248.220625\n",
       "1026  19987.029049       20477.481431\n",
       "1027  21085.877161       19916.026247\n",
       "1028  21231.655771       21401.356575\n",
       "1029  21502.338688       21630.617381\n",
       "...            ...                ...\n",
       "1277  23147.353390       23477.901712\n",
       "1278  23646.549899       23477.901712\n",
       "1279  23475.466738       23823.981806\n",
       "1280  22362.679332       23477.901712\n",
       "1281  22353.350074       22532.412441\n",
       "\n",
       "[257 rows x 2 columns]"
      ]
     },
     "execution_count": 29,
     "metadata": {},
     "output_type": "execute_result"
    }
   ],
   "source": [
    "df"
   ]
  },
  {
   "cell_type": "code",
   "execution_count": 31,
   "id": "4dcc7c84",
   "metadata": {},
   "outputs": [
    {
     "data": {
      "image/png": "[encoded data removed]",
      "text/plain": [
       "<Figure size 432x288 with 1 Axes>"
      ]
     },
     "metadata": {
      "needs_background": "light"
     },
     "output_type": "display_data"
    }
   ],
   "source": [
    "# Plot the results on a labelled graph\n",
    "plt.plot(df['Close+1'], label='Actual Close+1')\n",
    "plt.plot(df['Predicted Close+1'], label='Predicted Close+1')\n",
    "plt.xlabel('Index')\n",
    "plt.ylabel('Close+1 Value')\n",
    "plt.title('Actual vs Predicted Close+1 Values using GBR')\n",
    "plt.legend()\n",
    "plt.show()"
   ]
  },
  {
   "cell_type": "code",
   "execution_count": null,
   "id": "91e0c22f",
   "metadata": {},
   "outputs": [],
   "source": []
  },
  {
   "cell_type": "markdown",
   "id": "2f5a2346",
   "metadata": {},
   "source": [
    "**Now I will test the model on new data**"
   ]
  },
  {
   "cell_type": "code",
   "execution_count": 38,
   "id": "145a5b4f",
   "metadata": {},
   "outputs": [],
   "source": [
    "#Making a new request to Lunar to get new data\n",
    "# Get the Unix timestamp for the current time - 2 weeks\n",
    "two_weeks_ago = int(time.time()) - 14*24*60*60\n",
    "\n",
    "# Build the API request URL\n",
    "url = f\"https://lunarcrush.com/api3/coins/1/time-series?interval=all&start={two_weeks_ago}&bucket=day&data_points=14\"\n",
    "password = os.getenv(\"lunar_api\")\n",
    "headers = {\n",
    "   'Authorization': password }\n",
    "\n",
    "\n",
    "# Send the request and store the response as a DataFrame\n",
    "response = requests.get(url, headers=headers)\n",
    "data = response.json()\n",
    "df_new = pd.DataFrame(data[\"timeSeries\"])\n",
    "\n",
    "# Extract the relevant columns (open and close) and rename them\n",
    "df_new = df_new[['time', 'close', 'high']]\n",
    "df_new.columns = ['date', 'close', 'high']\n",
    "\n",
    "# Convert the date column to a datetime object and set it as the index\n",
    "df_new['date'] = pd.to_datetime(df_new['date'], unit='s')\n",
    "df_new = df_new.set_index('date')\n",
    "\n",
    "#Creating a close+1 column which will be my Time target variable \n",
    "df_new['close+1'] = df_new['close'].shift(-1)\n",
    "\n",
    "df_new = df_new.drop(df_new.index[-1])"
   ]
  },
  {
   "cell_type": "code",
   "execution_count": 39,
   "metadata": {},
   "outputs": [
    {
     "data": {
      "text/html": [
       "<div>\n",
       "<style scoped>\n",
       "    .dataframe tbody tr th:only-of-type {\n",
       "        vertical-align: middle;\n",
       "    }\n",
       "\n",
       "    .dataframe tbody tr th {\n",
       "        vertical-align: top;\n",
       "    }\n",
       "\n",
       "    .dataframe thead th {\n",
       "        text-align: right;\n",
       "    }\n",
       "</style>\n",
       "<table border=\"1\" class=\"dataframe\">\n",
       "  <thead>\n",
       "    <tr style=\"text-align: right;\">\n",
       "      <th></th>\n",
       "      <th>close</th>\n",
       "      <th>high</th>\n",
       "      <th>close+1</th>\n",
       "    </tr>\n",
       "    <tr>\n",
       "      <th>date</th>\n",
       "      <th></th>\n",
       "      <th></th>\n",
       "      <th></th>\n",
       "    </tr>\n",
       "  </thead>\n",
       "  <tbody>\n",
       "    <tr>\n",
       "      <th>2023-03-03</th>\n",
       "      <td>22362.679332</td>\n",
       "      <td>23479.348094</td>\n",
       "      <td>22353.350074</td>\n",
       "    </tr>\n",
       "    <tr>\n",
       "      <th>2023-03-04</th>\n",
       "      <td>22353.350074</td>\n",
       "      <td>22405.176954</td>\n",
       "      <td>22435.514197</td>\n",
       "    </tr>\n",
       "    <tr>\n",
       "      <th>2023-03-05</th>\n",
       "      <td>22435.514197</td>\n",
       "      <td>22613.685231</td>\n",
       "      <td>22429.757533</td>\n",
       "    </tr>\n",
       "    <tr>\n",
       "      <th>2023-03-06</th>\n",
       "      <td>22429.757533</td>\n",
       "      <td>22584.293809</td>\n",
       "      <td>22219.769071</td>\n",
       "    </tr>\n",
       "    <tr>\n",
       "      <th>2023-03-07</th>\n",
       "      <td>22219.769071</td>\n",
       "      <td>22527.418642</td>\n",
       "      <td>21718.079830</td>\n",
       "    </tr>\n",
       "    <tr>\n",
       "      <th>2023-03-08</th>\n",
       "      <td>21718.079830</td>\n",
       "      <td>22268.896252</td>\n",
       "      <td>20363.021112</td>\n",
       "    </tr>\n",
       "    <tr>\n",
       "      <th>2023-03-09</th>\n",
       "      <td>20363.021112</td>\n",
       "      <td>21802.716681</td>\n",
       "      <td>20187.243648</td>\n",
       "    </tr>\n",
       "    <tr>\n",
       "      <th>2023-03-10</th>\n",
       "      <td>20187.243648</td>\n",
       "      <td>20370.595398</td>\n",
       "      <td>20632.409629</td>\n",
       "    </tr>\n",
       "    <tr>\n",
       "      <th>2023-03-11</th>\n",
       "      <td>20632.409629</td>\n",
       "      <td>20792.525692</td>\n",
       "      <td>22163.949952</td>\n",
       "    </tr>\n",
       "    <tr>\n",
       "      <th>2023-03-12</th>\n",
       "      <td>22163.949952</td>\n",
       "      <td>22185.031111</td>\n",
       "      <td>24197.532998</td>\n",
       "    </tr>\n",
       "    <tr>\n",
       "      <th>2023-03-13</th>\n",
       "      <td>24197.532998</td>\n",
       "      <td>24550.837486</td>\n",
       "      <td>24746.074659</td>\n",
       "    </tr>\n",
       "    <tr>\n",
       "      <th>2023-03-14</th>\n",
       "      <td>24746.074659</td>\n",
       "      <td>26514.717166</td>\n",
       "      <td>24375.961358</td>\n",
       "    </tr>\n",
       "    <tr>\n",
       "      <th>2023-03-15</th>\n",
       "      <td>24375.961358</td>\n",
       "      <td>25240.615818</td>\n",
       "      <td>24782.868885</td>\n",
       "    </tr>\n",
       "  </tbody>\n",
       "</table>\n",
       "</div>"
      ],
      "text/plain": [
       "                   close          high       close+1\n",
       "date                                                \n",
       "2023-03-03  22362.679332  23479.348094  22353.350074\n",
       "2023-03-04  22353.350074  22405.176954  22435.514197\n",
       "2023-03-05  22435.514197  22613.685231  22429.757533\n",
       "2023-03-06  22429.757533  22584.293809  22219.769071\n",
       "2023-03-07  22219.769071  22527.418642  21718.079830\n",
       "2023-03-08  21718.079830  22268.896252  20363.021112\n",
       "2023-03-09  20363.021112  21802.716681  20187.243648\n",
       "2023-03-10  20187.243648  20370.595398  20632.409629\n",
       "2023-03-11  20632.409629  20792.525692  22163.949952\n",
       "2023-03-12  22163.949952  22185.031111  24197.532998\n",
       "2023-03-13  24197.532998  24550.837486  24746.074659\n",
       "2023-03-14  24746.074659  26514.717166  24375.961358\n",
       "2023-03-15  24375.961358  25240.615818  24782.868885"
      ]
     },
     "execution_count": 39,
     "metadata": {},
     "output_type": "execute_result"
    }
   ],
   "source": [
    "df_new"
   ]
  },
  {
   "cell_type": "code",
   "execution_count": 40,
   "id": "6377632d",
   "metadata": {},
   "outputs": [
    {
     "name": "stderr",
     "output_type": "stream",
     "text": [
      "/Users/tom/miniconda3/envs/ironhack/lib/python3.9/site-packages/sklearn/base.py:413: UserWarning: X has feature names, but GradientBoostingRegressor was fitted without feature names\n",
      "  warnings.warn(\n"
     ]
    },
    {
     "ename": "KeyError",
     "evalue": "('close', 'high')",
     "output_type": "error",
     "traceback": [
      "\u001b[0;31m---------------------------------------------------------------------------\u001b[0m",
      "\u001b[0;31mKeyError\u001b[0m                                  Traceback (most recent call last)",
      "File \u001b[0;32m~/miniconda3/envs/ironhack/lib/python3.9/site-packages/pandas/core/indexes/base.py:3802\u001b[0m, in \u001b[0;36mIndex.get_loc\u001b[0;34m(self, key, method, tolerance)\u001b[0m\n\u001b[1;32m   3801\u001b[0m \u001b[39mtry\u001b[39;00m:\n\u001b[0;32m-> 3802\u001b[0m     \u001b[39mreturn\u001b[39;00m \u001b[39mself\u001b[39;49m\u001b[39m.\u001b[39;49m_engine\u001b[39m.\u001b[39;49mget_loc(casted_key)\n\u001b[1;32m   3803\u001b[0m \u001b[39mexcept\u001b[39;00m \u001b[39mKeyError\u001b[39;00m \u001b[39mas\u001b[39;00m err:\n",
      "File \u001b[0;32m~/miniconda3/envs/ironhack/lib/python3.9/site-packages/pandas/_libs/index.pyx:138\u001b[0m, in \u001b[0;36mpandas._libs.index.IndexEngine.get_loc\u001b[0;34m()\u001b[0m\n",
      "File \u001b[0;32m~/miniconda3/envs/ironhack/lib/python3.9/site-packages/pandas/_libs/index.pyx:165\u001b[0m, in \u001b[0;36mpandas._libs.index.IndexEngine.get_loc\u001b[0;34m()\u001b[0m\n",
      "File \u001b[0;32mpandas/_libs/hashtable_class_helper.pxi:5745\u001b[0m, in \u001b[0;36mpandas._libs.hashtable.PyObjectHashTable.get_item\u001b[0;34m()\u001b[0m\n",
      "File \u001b[0;32mpandas/_libs/hashtable_class_helper.pxi:5753\u001b[0m, in \u001b[0;36mpandas._libs.hashtable.PyObjectHashTable.get_item\u001b[0;34m()\u001b[0m\n",
      "\u001b[0;31mKeyError\u001b[0m: ('close', 'high')",
      "\nThe above exception was the direct cause of the following exception:\n",
      "\u001b[0;31mKeyError\u001b[0m                                  Traceback (most recent call last)",
      "\u001b[1;32m/Users/tom/Desktop/Final-Project-Bitcoin-/FinalProjectBitcoin/Bitcoin Prediction.ipynb Cell 103\u001b[0m in \u001b[0;36m<cell line: 4>\u001b[0;34m()\u001b[0m\n\u001b[1;32m      <a href='vscode-notebook-cell:/Users/tom/Desktop/Final-Project-Bitcoin-/FinalProjectBitcoin/Bitcoin%20Prediction.ipynb#Y323sZmlsZQ%3D%3D?line=0'>1</a>\u001b[0m \u001b[39m# predict the close+1 with the new data\u001b[39;00m\n\u001b[1;32m      <a href='vscode-notebook-cell:/Users/tom/Desktop/Final-Project-Bitcoin-/FinalProjectBitcoin/Bitcoin%20Prediction.ipynb#Y323sZmlsZQ%3D%3D?line=1'>2</a>\u001b[0m df_new[\u001b[39m'\u001b[39m\u001b[39mpredicted_close+1\u001b[39m\u001b[39m'\u001b[39m] \u001b[39m=\u001b[39m model\u001b[39m.\u001b[39mpredict(df_new[[\u001b[39m'\u001b[39m\u001b[39mclose\u001b[39m\u001b[39m'\u001b[39m, \u001b[39m'\u001b[39m\u001b[39mhigh\u001b[39m\u001b[39m'\u001b[39m]])\n\u001b[0;32m----> <a href='vscode-notebook-cell:/Users/tom/Desktop/Final-Project-Bitcoin-/FinalProjectBitcoin/Bitcoin%20Prediction.ipynb#Y323sZmlsZQ%3D%3D?line=3'>4</a>\u001b[0m df_new[\u001b[39m'\u001b[39m\u001b[39m% d\u001b[39;00m\u001b[39mifference\u001b[39m\u001b[39m'\u001b[39m] \u001b[39m=\u001b[39m ((df_new[\u001b[39m'\u001b[39m\u001b[39mclose+1\u001b[39m\u001b[39m'\u001b[39m] \u001b[39m-\u001b[39m df_new[\u001b[39m'\u001b[39m\u001b[39mpredicted_close+1\u001b[39m\u001b[39m'\u001b[39m]) \u001b[39m/\u001b[39m df_new[\u001b[39m'\u001b[39;49m\u001b[39mclose\u001b[39;49m\u001b[39m'\u001b[39;49m, \u001b[39m'\u001b[39;49m\u001b[39mhigh\u001b[39;49m\u001b[39m'\u001b[39;49m] \u001b[39m*\u001b[39m \u001b[39m100\u001b[39m)\n",
      "File \u001b[0;32m~/miniconda3/envs/ironhack/lib/python3.9/site-packages/pandas/core/frame.py:3807\u001b[0m, in \u001b[0;36mDataFrame.__getitem__\u001b[0;34m(self, key)\u001b[0m\n\u001b[1;32m   3805\u001b[0m \u001b[39mif\u001b[39;00m \u001b[39mself\u001b[39m\u001b[39m.\u001b[39mcolumns\u001b[39m.\u001b[39mnlevels \u001b[39m>\u001b[39m \u001b[39m1\u001b[39m:\n\u001b[1;32m   3806\u001b[0m     \u001b[39mreturn\u001b[39;00m \u001b[39mself\u001b[39m\u001b[39m.\u001b[39m_getitem_multilevel(key)\n\u001b[0;32m-> 3807\u001b[0m indexer \u001b[39m=\u001b[39m \u001b[39mself\u001b[39;49m\u001b[39m.\u001b[39;49mcolumns\u001b[39m.\u001b[39;49mget_loc(key)\n\u001b[1;32m   3808\u001b[0m \u001b[39mif\u001b[39;00m is_integer(indexer):\n\u001b[1;32m   3809\u001b[0m     indexer \u001b[39m=\u001b[39m [indexer]\n",
      "File \u001b[0;32m~/miniconda3/envs/ironhack/lib/python3.9/site-packages/pandas/core/indexes/base.py:3804\u001b[0m, in \u001b[0;36mIndex.get_loc\u001b[0;34m(self, key, method, tolerance)\u001b[0m\n\u001b[1;32m   3802\u001b[0m     \u001b[39mreturn\u001b[39;00m \u001b[39mself\u001b[39m\u001b[39m.\u001b[39m_engine\u001b[39m.\u001b[39mget_loc(casted_key)\n\u001b[1;32m   3803\u001b[0m \u001b[39mexcept\u001b[39;00m \u001b[39mKeyError\u001b[39;00m \u001b[39mas\u001b[39;00m err:\n\u001b[0;32m-> 3804\u001b[0m     \u001b[39mraise\u001b[39;00m \u001b[39mKeyError\u001b[39;00m(key) \u001b[39mfrom\u001b[39;00m \u001b[39merr\u001b[39;00m\n\u001b[1;32m   3805\u001b[0m \u001b[39mexcept\u001b[39;00m \u001b[39mTypeError\u001b[39;00m:\n\u001b[1;32m   3806\u001b[0m     \u001b[39m# If we have a listlike key, _check_indexing_error will raise\u001b[39;00m\n\u001b[1;32m   3807\u001b[0m     \u001b[39m#  InvalidIndexError. Otherwise we fall through and re-raise\u001b[39;00m\n\u001b[1;32m   3808\u001b[0m     \u001b[39m#  the TypeError.\u001b[39;00m\n\u001b[1;32m   3809\u001b[0m     \u001b[39mself\u001b[39m\u001b[39m.\u001b[39m_check_indexing_error(key)\n",
      "\u001b[0;31mKeyError\u001b[0m: ('close', 'high')"
     ]
    }
   ],
   "source": [
    "# predict the close+1 with the new data\n",
    "df_new['predicted_close+1'] = model.predict(df_new[['close', 'high']])"
   ]
  },
  {
   "cell_type": "code",
   "execution_count": 41,
   "id": "5525c152",
   "metadata": {},
   "outputs": [
    {
     "data": {
      "text/html": [
       "<div>\n",
       "<style scoped>\n",
       "    .dataframe tbody tr th:only-of-type {\n",
       "        vertical-align: middle;\n",
       "    }\n",
       "\n",
       "    .dataframe tbody tr th {\n",
       "        vertical-align: top;\n",
       "    }\n",
       "\n",
       "    .dataframe thead th {\n",
       "        text-align: right;\n",
       "    }\n",
       "</style>\n",
       "<table border=\"1\" class=\"dataframe\">\n",
       "  <thead>\n",
       "    <tr style=\"text-align: right;\">\n",
       "      <th></th>\n",
       "      <th>close</th>\n",
       "      <th>high</th>\n",
       "      <th>close+1</th>\n",
       "      <th>predicted_close+1</th>\n",
       "    </tr>\n",
       "    <tr>\n",
       "      <th>date</th>\n",
       "      <th></th>\n",
       "      <th></th>\n",
       "      <th></th>\n",
       "      <th></th>\n",
       "    </tr>\n",
       "  </thead>\n",
       "  <tbody>\n",
       "    <tr>\n",
       "      <th>2023-03-03</th>\n",
       "      <td>22362.679332</td>\n",
       "      <td>23479.348094</td>\n",
       "      <td>22353.350074</td>\n",
       "      <td>22532.412441</td>\n",
       "    </tr>\n",
       "    <tr>\n",
       "      <th>2023-03-04</th>\n",
       "      <td>22353.350074</td>\n",
       "      <td>22405.176954</td>\n",
       "      <td>22435.514197</td>\n",
       "      <td>21630.617381</td>\n",
       "    </tr>\n",
       "    <tr>\n",
       "      <th>2023-03-05</th>\n",
       "      <td>22435.514197</td>\n",
       "      <td>22613.685231</td>\n",
       "      <td>22429.757533</td>\n",
       "      <td>21630.617381</td>\n",
       "    </tr>\n",
       "    <tr>\n",
       "      <th>2023-03-06</th>\n",
       "      <td>22429.757533</td>\n",
       "      <td>22584.293809</td>\n",
       "      <td>22219.769071</td>\n",
       "      <td>21630.617381</td>\n",
       "    </tr>\n",
       "    <tr>\n",
       "      <th>2023-03-07</th>\n",
       "      <td>22219.769071</td>\n",
       "      <td>22527.418642</td>\n",
       "      <td>21718.079830</td>\n",
       "      <td>21630.617381</td>\n",
       "    </tr>\n",
       "    <tr>\n",
       "      <th>2023-03-08</th>\n",
       "      <td>21718.079830</td>\n",
       "      <td>22268.896252</td>\n",
       "      <td>20363.021112</td>\n",
       "      <td>21630.617381</td>\n",
       "    </tr>\n",
       "    <tr>\n",
       "      <th>2023-03-09</th>\n",
       "      <td>20363.021112</td>\n",
       "      <td>21802.716681</td>\n",
       "      <td>20187.243648</td>\n",
       "      <td>20145.287052</td>\n",
       "    </tr>\n",
       "    <tr>\n",
       "      <th>2023-03-10</th>\n",
       "      <td>20187.243648</td>\n",
       "      <td>20370.595398</td>\n",
       "      <td>20632.409629</td>\n",
       "      <td>19916.026247</td>\n",
       "    </tr>\n",
       "    <tr>\n",
       "      <th>2023-03-11</th>\n",
       "      <td>20632.409629</td>\n",
       "      <td>20792.525692</td>\n",
       "      <td>22163.949952</td>\n",
       "      <td>20248.220625</td>\n",
       "    </tr>\n",
       "    <tr>\n",
       "      <th>2023-03-12</th>\n",
       "      <td>22163.949952</td>\n",
       "      <td>22185.031111</td>\n",
       "      <td>24197.532998</td>\n",
       "      <td>21630.617381</td>\n",
       "    </tr>\n",
       "    <tr>\n",
       "      <th>2023-03-13</th>\n",
       "      <td>24197.532998</td>\n",
       "      <td>24550.837486</td>\n",
       "      <td>24746.074659</td>\n",
       "      <td>23787.633986</td>\n",
       "    </tr>\n",
       "    <tr>\n",
       "      <th>2023-03-14</th>\n",
       "      <td>24746.074659</td>\n",
       "      <td>26514.717166</td>\n",
       "      <td>24375.961358</td>\n",
       "      <td>25691.516981</td>\n",
       "    </tr>\n",
       "    <tr>\n",
       "      <th>2023-03-15</th>\n",
       "      <td>24375.961358</td>\n",
       "      <td>25240.615818</td>\n",
       "      <td>24782.868885</td>\n",
       "      <td>25691.516981</td>\n",
       "    </tr>\n",
       "  </tbody>\n",
       "</table>\n",
       "</div>"
      ],
      "text/plain": [
       "                   close          high       close+1  predicted_close+1\n",
       "date                                                                   \n",
       "2023-03-03  22362.679332  23479.348094  22353.350074       22532.412441\n",
       "2023-03-04  22353.350074  22405.176954  22435.514197       21630.617381\n",
       "2023-03-05  22435.514197  22613.685231  22429.757533       21630.617381\n",
       "2023-03-06  22429.757533  22584.293809  22219.769071       21630.617381\n",
       "2023-03-07  22219.769071  22527.418642  21718.079830       21630.617381\n",
       "2023-03-08  21718.079830  22268.896252  20363.021112       21630.617381\n",
       "2023-03-09  20363.021112  21802.716681  20187.243648       20145.287052\n",
       "2023-03-10  20187.243648  20370.595398  20632.409629       19916.026247\n",
       "2023-03-11  20632.409629  20792.525692  22163.949952       20248.220625\n",
       "2023-03-12  22163.949952  22185.031111  24197.532998       21630.617381\n",
       "2023-03-13  24197.532998  24550.837486  24746.074659       23787.633986\n",
       "2023-03-14  24746.074659  26514.717166  24375.961358       25691.516981\n",
       "2023-03-15  24375.961358  25240.615818  24782.868885       25691.516981"
      ]
     },
     "execution_count": 41,
     "metadata": {},
     "output_type": "execute_result"
    }
   ],
   "source": [
    "df_new"
   ]
  },
  {
   "cell_type": "code",
   "execution_count": 46,
   "id": "9915288b",
   "metadata": {},
   "outputs": [
    {
     "name": "stdout",
     "output_type": "stream",
     "text": [
      "MSE: 1348390.27\n",
      "RMSE: 1161.20\n",
      "MAE: 934.69\n",
      "MAPE: 4.08%\n"
     ]
    }
   ],
   "source": [
    "# Calculate mean squared error (MSE)\n",
    "mse = mean_squared_error(df_new['close+1'], df_new['predicted_close+1'])\n",
    "\n",
    "# Calculate root mean squared error (RMSE)\n",
    "rmse = np.sqrt(mse)\n",
    "\n",
    "# Calculate mean absolute error (MAE)\n",
    "mae = mean_absolute_error(df_new['close+1'], df_new['predicted_close+1'])\n",
    "\n",
    "# Calculate mean absolute percentage error (MAPE)\n",
    "mape = np.mean(np.abs((df_new['close+1'] - df_new['predicted_close+1']) / df_new['close+1'])) * 100\n",
    "\n",
    "print(f\"MSE: {mse:.2f}\")\n",
    "print(f\"RMSE: {rmse:.2f}\")\n",
    "print(f\"MAE: {mae:.2f}\")\n",
    "print(f\"MAPE: {mape:.2f}%\")"
   ]
  },
  {
   "cell_type": "code",
   "execution_count": 47,
   "id": "d475b714",
   "metadata": {},
   "outputs": [
    {
     "data": {
      "image/png": "[encoded data removed]",
      "text/plain": [
       "<Figure size 432x288 with 1 Axes>"
      ]
     },
     "metadata": {
      "needs_background": "light"
     },
     "output_type": "display_data"
    }
   ],
   "source": [
    "# Plot the predicted and actual prices\n",
    "plt.plot(df_new.index, df_new['predicted_close+1'], label='Predicted price')\n",
    "plt.plot(df_new.index, df_new['close+1'], label='Actual price')\n",
    "\n",
    "# Add axis labels and title\n",
    "plt.xlabel('Date')\n",
    "plt.ylabel('Price')\n",
    "plt.title('Bitcoin Price Prediction with Gradient Boosting Regressor')\n",
    "\n",
    "# Add a legend\n",
    "plt.legend()\n",
    "\n",
    "# Show the plot\n",
    "plt.show()\n"
   ]
  },
  {
   "cell_type": "markdown",
   "id": "79824b58",
   "metadata": {},
   "source": [
    "**Using Prophet**"
   ]
  },
  {
   "cell_type": "code",
   "execution_count": 63,
   "id": "5783348d",
   "metadata": {},
   "outputs": [],
   "source": [
    "data = pd.read_csv('./data/data_complete_final.csv').drop(['market_cap', 'market_cap_global'], axis=1)"
   ]
  },
  {
   "cell_type": "code",
   "execution_count": 64,
   "id": "0fc4e855",
   "metadata": {},
   "outputs": [],
   "source": [
    "# select all features except the target variable\n",
    "X = data.drop(['date', 'close+1'], axis=1)"
   ]
  },
  {
   "cell_type": "code",
   "execution_count": 66,
   "id": "ed09dd83",
   "metadata": {},
   "outputs": [],
   "source": [
    "# select the target variable\n",
    "y = data['close+1']"
   ]
  },
  {
   "cell_type": "code",
   "execution_count": 67,
   "id": "eb139cda",
   "metadata": {},
   "outputs": [
    {
     "data": {
      "text/html": [
       "<style>#sk-container-id-1 {color: black;background-color: white;}#sk-container-id-1 pre{padding: 0;}#sk-container-id-1 div.sk-toggleable {background-color: white;}#sk-container-id-1 label.sk-toggleable__label {cursor: pointer;display: block;width: 100%;margin-bottom: 0;padding: 0.3em;box-sizing: border-box;text-align: center;}#sk-container-id-1 label.sk-toggleable__label-arrow:before {content: \"▸\";float: left;margin-right: 0.25em;color: #696969;}#sk-container-id-1 label.sk-toggleable__label-arrow:hover:before {color: black;}#sk-container-id-1 div.sk-estimator:hover label.sk-toggleable__label-arrow:before {color: black;}#sk-container-id-1 div.sk-toggleable__content {max-height: 0;max-width: 0;overflow: hidden;text-align: left;background-color: #f0f8ff;}#sk-container-id-1 div.sk-toggleable__content pre {margin: 0.2em;color: black;border-radius: 0.25em;background-color: #f0f8ff;}#sk-container-id-1 input.sk-toggleable__control:checked~div.sk-toggleable__content {max-height: 200px;max-width: 100%;overflow: auto;}#sk-container-id-1 input.sk-toggleable__control:checked~label.sk-toggleable__label-arrow:before {content: \"▾\";}#sk-container-id-1 div.sk-estimator input.sk-toggleable__control:checked~label.sk-toggleable__label {background-color: #d4ebff;}#sk-container-id-1 div.sk-label input.sk-toggleable__control:checked~label.sk-toggleable__label {background-color: #d4ebff;}#sk-container-id-1 input.sk-hidden--visually {border: 0;clip: rect(1px 1px 1px 1px);clip: rect(1px, 1px, 1px, 1px);height: 1px;margin: -1px;overflow: hidden;padding: 0;position: absolute;width: 1px;}#sk-container-id-1 div.sk-estimator {font-family: monospace;background-color: #f0f8ff;border: 1px dotted black;border-radius: 0.25em;box-sizing: border-box;margin-bottom: 0.5em;}#sk-container-id-1 div.sk-estimator:hover {background-color: #d4ebff;}#sk-container-id-1 div.sk-parallel-item::after {content: \"\";width: 100%;border-bottom: 1px solid gray;flex-grow: 1;}#sk-container-id-1 div.sk-label:hover label.sk-toggleable__label {background-color: #d4ebff;}#sk-container-id-1 div.sk-serial::before {content: \"\";position: absolute;border-left: 1px solid gray;box-sizing: border-box;top: 0;bottom: 0;left: 50%;z-index: 0;}#sk-container-id-1 div.sk-serial {display: flex;flex-direction: column;align-items: center;background-color: white;padding-right: 0.2em;padding-left: 0.2em;position: relative;}#sk-container-id-1 div.sk-item {position: relative;z-index: 1;}#sk-container-id-1 div.sk-parallel {display: flex;align-items: stretch;justify-content: center;background-color: white;position: relative;}#sk-container-id-1 div.sk-item::before, #sk-container-id-1 div.sk-parallel-item::before {content: \"\";position: absolute;border-left: 1px solid gray;box-sizing: border-box;top: 0;bottom: 0;left: 50%;z-index: -1;}#sk-container-id-1 div.sk-parallel-item {display: flex;flex-direction: column;z-index: 1;position: relative;background-color: white;}#sk-container-id-1 div.sk-parallel-item:first-child::after {align-self: flex-end;width: 50%;}#sk-container-id-1 div.sk-parallel-item:last-child::after {align-self: flex-start;width: 50%;}#sk-container-id-1 div.sk-parallel-item:only-child::after {width: 0;}#sk-container-id-1 div.sk-dashed-wrapped {border: 1px dashed gray;margin: 0 0.4em 0.5em 0.4em;box-sizing: border-box;padding-bottom: 0.4em;background-color: white;}#sk-container-id-1 div.sk-label label {font-family: monospace;font-weight: bold;display: inline-block;line-height: 1.2em;}#sk-container-id-1 div.sk-label-container {text-align: center;}#sk-container-id-1 div.sk-container {/* jupyter's `normalize.less` sets `[hidden] { display: none; }` but bootstrap.min.css set `[hidden] { display: none !important; }` so we also need the `!important` here to be able to override the default hidden behavior on the sphinx rendered scikit-learn.org. See: https://github.com/scikit-learn/scikit-learn/issues/21755 */display: inline-block !important;position: relative;}#sk-container-id-1 div.sk-text-repr-fallback {display: none;}</style><div id=\"sk-container-id-1\" class=\"sk-top-container\"><div class=\"sk-text-repr-fallback\"><pre>SelectKBest(k=5, score_func=&lt;function f_regression at 0x7fd1ac0c6b80&gt;)</pre><b>In a Jupyter environment, please rerun this cell to show the HTML representation or trust the notebook. <br />On GitHub, the HTML representation is unable to render, please try loading this page with nbviewer.org.</b></div><div class=\"sk-container\" hidden><div class=\"sk-item\"><div class=\"sk-estimator sk-toggleable\"><input class=\"sk-toggleable__control sk-hidden--visually\" id=\"sk-estimator-id-1\" type=\"checkbox\" checked><label for=\"sk-estimator-id-1\" class=\"sk-toggleable__label sk-toggleable__label-arrow\">SelectKBest</label><div class=\"sk-toggleable__content\"><pre>SelectKBest(k=5, score_func=&lt;function f_regression at 0x7fd1ac0c6b80&gt;)</pre></div></div></div></div></div>"
      ],
      "text/plain": [
       "SelectKBest(k=5, score_func=<function f_regression at 0x7fd1ac0c6b80>)"
      ]
     },
     "execution_count": 67,
     "metadata": {},
     "output_type": "execute_result"
    }
   ],
   "source": [
    "# feature selection with k-best\n",
    "from sklearn.feature_selection import SelectKBest, f_regression\n",
    "selector = SelectKBest(score_func=f_regression, k=5)\n",
    "selector.fit(X, y)"
   ]
  },
  {
   "cell_type": "code",
   "execution_count": 68,
   "id": "01274b5a",
   "metadata": {},
   "outputs": [],
   "source": [
    "# get the selected features\n",
    "selected_features = X.columns[selector.get_support()].tolist()"
   ]
  },
  {
   "cell_type": "code",
   "execution_count": 69,
   "id": "9ed7df65",
   "metadata": {},
   "outputs": [
    {
     "data": {
      "text/plain": [
       "['open', 'close', 'high', 'low', 'sma_50']"
      ]
     },
     "execution_count": 69,
     "metadata": {},
     "output_type": "execute_result"
    }
   ],
   "source": [
    "selected_features"
   ]
  },
  {
   "cell_type": "code",
   "execution_count": 70,
   "id": "2d8028db",
   "metadata": {},
   "outputs": [],
   "source": [
    "# use the selected features\n",
    "data = data[['date', 'close+1'] + selected_features]"
   ]
  },
  {
   "cell_type": "code",
   "execution_count": 71,
   "id": "dcecb534",
   "metadata": {},
   "outputs": [],
   "source": [
    "# convert date column to datetime format\n",
    "data['date'] = pd.to_datetime(data['date'])"
   ]
  },
  {
   "cell_type": "code",
   "execution_count": 72,
   "id": "d263d140",
   "metadata": {},
   "outputs": [],
   "source": [
    "# rename the columns\n",
    "data = data.rename(columns={'date': 'ds', 'close+1': 'y'})"
   ]
  },
  {
   "cell_type": "code",
   "execution_count": 73,
   "id": "ada0d727",
   "metadata": {},
   "outputs": [],
   "source": [
    "# train-test split\n",
    "train_data = data.iloc[:-30, :]\n",
    "test_data = data.iloc[-30:, :]"
   ]
  },
  {
   "cell_type": "code",
   "execution_count": 79,
   "id": "926deda5",
   "metadata": {},
   "outputs": [
    {
     "name": "stderr",
     "output_type": "stream",
     "text": [
      "16:43:19 - cmdstanpy - INFO - Chain [1] start processing\n",
      "16:43:19 - cmdstanpy - INFO - Chain [1] done processing\n"
     ]
    },
    {
     "data": {
      "text/plain": [
       "<prophet.forecaster.Prophet at 0x7fd19d28ea00>"
      ]
     },
     "execution_count": 79,
     "metadata": {},
     "output_type": "execute_result"
    }
   ],
   "source": [
    "# create and fit the model\n",
    "from prophet import Prophet\n",
    "model = Prophet()\n",
    "model.fit(train_data)"
   ]
  },
  {
   "cell_type": "code",
   "execution_count": 80,
   "id": "9ce005e2",
   "metadata": {},
   "outputs": [],
   "source": [
    "# make predictions\n",
    "future = model.make_future_dataframe(periods=30)\n",
    "forecast = model.predict(future)"
   ]
  },
  {
   "cell_type": "code",
   "execution_count": 81,
   "id": "4ee0d2d2",
   "metadata": {},
   "outputs": [],
   "source": [
    "# extract the predicted values\n",
    "predicted_values = forecast.iloc[-30:, :]['yhat']"
   ]
  },
  {
   "cell_type": "code",
   "execution_count": 82,
   "id": "621a64a3",
   "metadata": {},
   "outputs": [],
   "source": [
    "# calculate the performance metrics\n",
    "mse = ((predicted_values - test_data['y']) ** 2).mean()\n",
    "rmse = np.sqrt(mse)\n",
    "mae = abs(predicted_values - test_data['y']).mean()\n",
    "mape = (abs(predicted_values - test_data['y']) / test_data['y']).mean() * 100"
   ]
  },
  {
   "cell_type": "code",
   "execution_count": 83,
   "id": "633fac4b",
   "metadata": {},
   "outputs": [
    {
     "name": "stdout",
     "output_type": "stream",
     "text": [
      "RMSE: 1133.75\n",
      "MSE: 1285395.62\n",
      "MAE: 1011.59\n",
      "MAPE: 4.34%\n"
     ]
    }
   ],
   "source": [
    "print(f'RMSE: {rmse:.2f}')\n",
    "print(f'MSE: {mse:.2f}')\n",
    "print(f'MAE: {mae:.2f}')\n",
    "print(f'MAPE: {mape:.2f}%')\n"
   ]
  },
  {
   "cell_type": "code",
   "execution_count": 84,
   "id": "dd1ef30a",
   "metadata": {},
   "outputs": [
    {
     "data": {
      "image/png": "[encoded data removed]",
      "text/plain": [
       "<Figure size 720x432 with 1 Axes>"
      ]
     },
     "metadata": {},
     "output_type": "display_data"
    }
   ],
   "source": [
    "# plot the predictions\n",
    "fig = model.plot(forecast)\n",
    "\n",
    "# add labels\n",
    "plt.xlabel('Date')\n",
    "plt.ylabel('Price')\n",
    "plt.title('Predicted vs Actual Prices')\n",
    "plt.legend(['Actual', 'Predicted', 'Confidence Interval (95%)'], loc='upper left')\n",
    "plt.show()"
   ]
  },
  {
   "cell_type": "code",
   "execution_count": null,
   "id": "5dd81dd9",
   "metadata": {},
   "outputs": [],
   "source": []
  },
  {
   "cell_type": "code",
   "execution_count": 85,
   "id": "df4b05ac",
   "metadata": {},
   "outputs": [
    {
     "data": {
      "image/png": "[encoded data removed]",
      "text/plain": [
       "<Figure size 720x360 with 1 Axes>"
      ]
     },
     "metadata": {
      "needs_background": "light"
     },
     "output_type": "display_data"
    }
   ],
   "source": [
    "# plot the recent 30-day period and the 30-day prediction period\n",
    "last_30_days = forecast.iloc[-30:, :]\n",
    "fig, ax = plt.subplots(figsize=(10, 5))\n",
    "ax.plot(last_30_days['ds'], last_30_days['yhat'], label='Predicted')\n",
    "ax.plot(test_data['ds'].iloc[-30:], test_data['y'].iloc[-30:], label='Actual')\n",
    "ax.set_xlabel('Date')\n",
    "ax.set_ylabel('Price')\n",
    "ax.set_title('Bitcoin Price Prediction with Prophet')\n",
    "ax.legend()\n",
    "plt.show()\n"
   ]
  },
  {
   "cell_type": "code",
   "execution_count": 259,
   "id": "b1e7187f",
   "metadata": {
    "scrolled": true
   },
   "outputs": [
    {
     "data": {
      "image/png": "[encoded data removed]",
      "text/plain": [
       "<Figure size 648x648 with 3 Axes>"
      ]
     },
     "metadata": {},
     "output_type": "display_data"
    }
   ],
   "source": [
    "# plot the components\n",
    "fig2 = model.plot_components(forecast)"
   ]
  },
  {
   "cell_type": "markdown",
   "id": "938b3547",
   "metadata": {},
   "source": [
    "**Testing Prophet with new data:**"
   ]
  },
  {
   "cell_type": "code",
   "execution_count": 93,
   "id": "de6543fb",
   "metadata": {},
   "outputs": [],
   "source": [
    "# Get the Unix timestamp for the current time - 2 weeks\n",
    "two_weeks_ago = int(time.time()) - 14*24*60*60\n",
    "\n",
    "# Build the API request URL\n",
    "url = f\"https://lunarcrush.com/api3/coins/1/time-series?interval=all&start={two_weeks_ago}&bucket=day&data_points=14\"\n",
    "password = os.getenv(\"lunar_api\")\n",
    "headers = {\n",
    "   'Authorization': password }\n",
    "\n",
    "# Send the request and store the response as a DataFrame\n",
    "response = requests.get(url, headers=headers)\n",
    "data = response.json()\n",
    "df_new = pd.DataFrame(data[\"timeSeries\"])\n",
    "\n",
    "# Extract the relevant columns (open, close, high, low, and sma_50) and rename them\n",
    "df_new = df_new[['time', 'close', 'open', 'high', 'low', 'sma_50']]\n",
    "df_new.columns = ['date', 'close', 'open', 'high', 'low', 'sma_50']\n",
    "\n",
    "# Convert the date column to a datetime object and set it as the index\n",
    "df_new['date'] = pd.to_datetime(df_new['date'], unit='s')\n",
    "df_new = df_new.set_index('date')\n",
    "\n",
    "#Creating a close+1 column which will be my Time target variable \n",
    "df_new['close+1'] = df_new['close'].shift(-1)\n",
    "\n",
    "df_new = df_new.drop(df_new.index[-1])\n",
    "\n",
    "df_new = df_new.reset_index()\n",
    "\n",
    "\n",
    "df_new['ds'] = pd.to_datetime(df_new['date'])\n",
    "\n",
    "df_new = df_new.drop('date', axis=1)\n"
   ]
  },
  {
   "cell_type": "code",
   "execution_count": 94,
   "id": "5af60f59",
   "metadata": {},
   "outputs": [
    {
     "data": {
      "text/html": [
       "<div>\n",
       "<style scoped>\n",
       "    .dataframe tbody tr th:only-of-type {\n",
       "        vertical-align: middle;\n",
       "    }\n",
       "\n",
       "    .dataframe tbody tr th {\n",
       "        vertical-align: top;\n",
       "    }\n",
       "\n",
       "    .dataframe thead th {\n",
       "        text-align: right;\n",
       "    }\n",
       "</style>\n",
       "<table border=\"1\" class=\"dataframe\">\n",
       "  <thead>\n",
       "    <tr style=\"text-align: right;\">\n",
       "      <th></th>\n",
       "      <th>close</th>\n",
       "      <th>open</th>\n",
       "      <th>high</th>\n",
       "      <th>low</th>\n",
       "      <th>sma_50</th>\n",
       "      <th>close+1</th>\n",
       "      <th>ds</th>\n",
       "    </tr>\n",
       "  </thead>\n",
       "  <tbody>\n",
       "    <tr>\n",
       "      <th>0</th>\n",
       "      <td>22362.679332</td>\n",
       "      <td>23476.633731</td>\n",
       "      <td>23479.348094</td>\n",
       "      <td>22213.237594</td>\n",
       "      <td>22872.902606</td>\n",
       "      <td>22353.350074</td>\n",
       "      <td>2023-03-03</td>\n",
       "    </tr>\n",
       "    <tr>\n",
       "      <th>1</th>\n",
       "      <td>22353.350074</td>\n",
       "      <td>22362.923027</td>\n",
       "      <td>22405.176954</td>\n",
       "      <td>22198.981009</td>\n",
       "      <td>22921.778114</td>\n",
       "      <td>22435.514197</td>\n",
       "      <td>2023-03-04</td>\n",
       "    </tr>\n",
       "    <tr>\n",
       "      <th>2</th>\n",
       "      <td>22435.514197</td>\n",
       "      <td>22354.143598</td>\n",
       "      <td>22613.685231</td>\n",
       "      <td>22307.143313</td>\n",
       "      <td>22950.962403</td>\n",
       "      <td>22429.757533</td>\n",
       "      <td>2023-03-05</td>\n",
       "    </tr>\n",
       "    <tr>\n",
       "      <th>3</th>\n",
       "      <td>22429.757533</td>\n",
       "      <td>22436.816776</td>\n",
       "      <td>22584.293809</td>\n",
       "      <td>22331.314828</td>\n",
       "      <td>22981.941569</td>\n",
       "      <td>22219.769071</td>\n",
       "      <td>2023-03-06</td>\n",
       "    </tr>\n",
       "    <tr>\n",
       "      <th>4</th>\n",
       "      <td>22219.769071</td>\n",
       "      <td>22428.322390</td>\n",
       "      <td>22527.418642</td>\n",
       "      <td>22011.262497</td>\n",
       "      <td>23002.944295</td>\n",
       "      <td>21718.079830</td>\n",
       "      <td>2023-03-07</td>\n",
       "    </tr>\n",
       "    <tr>\n",
       "      <th>5</th>\n",
       "      <td>21718.079830</td>\n",
       "      <td>22216.442321</td>\n",
       "      <td>22268.896252</td>\n",
       "      <td>21708.050506</td>\n",
       "      <td>23014.075507</td>\n",
       "      <td>20363.021112</td>\n",
       "      <td>2023-03-08</td>\n",
       "    </tr>\n",
       "    <tr>\n",
       "      <th>6</th>\n",
       "      <td>20363.021112</td>\n",
       "      <td>21720.079318</td>\n",
       "      <td>21802.716681</td>\n",
       "      <td>20210.306747</td>\n",
       "      <td>23007.560315</td>\n",
       "      <td>20187.243648</td>\n",
       "      <td>2023-03-09</td>\n",
       "    </tr>\n",
       "    <tr>\n",
       "      <th>7</th>\n",
       "      <td>20187.243648</td>\n",
       "      <td>20367.001777</td>\n",
       "      <td>20370.595398</td>\n",
       "      <td>19628.254309</td>\n",
       "      <td>22989.569322</td>\n",
       "      <td>20632.409629</td>\n",
       "      <td>2023-03-10</td>\n",
       "    </tr>\n",
       "    <tr>\n",
       "      <th>8</th>\n",
       "      <td>20632.409629</td>\n",
       "      <td>20187.877075</td>\n",
       "      <td>20792.525692</td>\n",
       "      <td>20068.660312</td>\n",
       "      <td>22948.686479</td>\n",
       "      <td>22163.949952</td>\n",
       "      <td>2023-03-11</td>\n",
       "    </tr>\n",
       "    <tr>\n",
       "      <th>9</th>\n",
       "      <td>22163.949952</td>\n",
       "      <td>20628.029034</td>\n",
       "      <td>22185.031111</td>\n",
       "      <td>20448.806261</td>\n",
       "      <td>22936.412962</td>\n",
       "      <td>24197.532998</td>\n",
       "      <td>2023-03-12</td>\n",
       "    </tr>\n",
       "    <tr>\n",
       "      <th>10</th>\n",
       "      <td>24197.532998</td>\n",
       "      <td>22156.406675</td>\n",
       "      <td>24550.837486</td>\n",
       "      <td>21918.199931</td>\n",
       "      <td>22965.955309</td>\n",
       "      <td>24746.074659</td>\n",
       "      <td>2023-03-13</td>\n",
       "    </tr>\n",
       "    <tr>\n",
       "      <th>11</th>\n",
       "      <td>24746.074659</td>\n",
       "      <td>24201.766006</td>\n",
       "      <td>26514.717166</td>\n",
       "      <td>24081.182652</td>\n",
       "      <td>23002.188173</td>\n",
       "      <td>24375.961358</td>\n",
       "      <td>2023-03-14</td>\n",
       "    </tr>\n",
       "    <tr>\n",
       "      <th>12</th>\n",
       "      <td>24375.961358</td>\n",
       "      <td>24770.925669</td>\n",
       "      <td>25240.615818</td>\n",
       "      <td>23964.909847</td>\n",
       "      <td>23036.978014</td>\n",
       "      <td>24935.929126</td>\n",
       "      <td>2023-03-15</td>\n",
       "    </tr>\n",
       "  </tbody>\n",
       "</table>\n",
       "</div>"
      ],
      "text/plain": [
       "           close          open          high           low        sma_50  \\\n",
       "0   22362.679332  23476.633731  23479.348094  22213.237594  22872.902606   \n",
       "1   22353.350074  22362.923027  22405.176954  22198.981009  22921.778114   \n",
       "2   22435.514197  22354.143598  22613.685231  22307.143313  22950.962403   \n",
       "3   22429.757533  22436.816776  22584.293809  22331.314828  22981.941569   \n",
       "4   22219.769071  22428.322390  22527.418642  22011.262497  23002.944295   \n",
       "5   21718.079830  22216.442321  22268.896252  21708.050506  23014.075507   \n",
       "6   20363.021112  21720.079318  21802.716681  20210.306747  23007.560315   \n",
       "7   20187.243648  20367.001777  20370.595398  19628.254309  22989.569322   \n",
       "8   20632.409629  20187.877075  20792.525692  20068.660312  22948.686479   \n",
       "9   22163.949952  20628.029034  22185.031111  20448.806261  22936.412962   \n",
       "10  24197.532998  22156.406675  24550.837486  21918.199931  22965.955309   \n",
       "11  24746.074659  24201.766006  26514.717166  24081.182652  23002.188173   \n",
       "12  24375.961358  24770.925669  25240.615818  23964.909847  23036.978014   \n",
       "\n",
       "         close+1         ds  \n",
       "0   22353.350074 2023-03-03  \n",
       "1   22435.514197 2023-03-04  \n",
       "2   22429.757533 2023-03-05  \n",
       "3   22219.769071 2023-03-06  \n",
       "4   21718.079830 2023-03-07  \n",
       "5   20363.021112 2023-03-08  \n",
       "6   20187.243648 2023-03-09  \n",
       "7   20632.409629 2023-03-10  \n",
       "8   22163.949952 2023-03-11  \n",
       "9   24197.532998 2023-03-12  \n",
       "10  24746.074659 2023-03-13  \n",
       "11  24375.961358 2023-03-14  \n",
       "12  24935.929126 2023-03-15  "
      ]
     },
     "execution_count": 94,
     "metadata": {},
     "output_type": "execute_result"
    }
   ],
   "source": [
    "df_new"
   ]
  },
  {
   "cell_type": "code",
   "execution_count": 95,
   "id": "89c58e83",
   "metadata": {},
   "outputs": [],
   "source": [
    "# make predictions on new data\n",
    "future = model.make_future_dataframe(periods=len(df_new))\n",
    "forecast = model.predict(future)"
   ]
  },
  {
   "cell_type": "code",
   "execution_count": 96,
   "id": "3662776a",
   "metadata": {},
   "outputs": [
    {
     "data": {
      "image/png": "[encoded data removed]",
      "text/plain": [
       "<Figure size 720x360 with 1 Axes>"
      ]
     },
     "metadata": {
      "needs_background": "light"
     },
     "output_type": "display_data"
    }
   ],
   "source": [
    "# make predictions on new data\n",
    "future = model.make_future_dataframe(periods=len(df_new))\n",
    "forecast = model.predict(future)\n",
    "\n",
    "# extract the predicted values for the new data\n",
    "predicted_values = forecast.iloc[-len(df_new):, :]['yhat']\n",
    "\n",
    "# plot the predicted vs actual values for the new data\n",
    "fig, ax = plt.subplots(figsize=(10, 5))\n",
    "ax.plot(df_new['ds'], predicted_values, label='Predicted')\n",
    "ax.plot(df_new['ds'], df_new['close+1'], label='Actual')\n",
    "ax.set_xlabel('Date')\n",
    "ax.set_ylabel('Price')\n",
    "ax.set_title('Predicted vs Actual Values for Prophet')\n",
    "ax.legend()\n",
    "plt.show()"
   ]
  },
  {
   "cell_type": "code",
   "execution_count": 97,
   "id": "b78af434",
   "metadata": {},
   "outputs": [
    {
     "name": "stdout",
     "output_type": "stream",
     "text": [
      "MAPE: 5.98%\n",
      "MSE: 2095243.52\n",
      "RMSE: 1447.5\n",
      "R2: 0.14\n"
     ]
    }
   ],
   "source": [
    "from sklearn.metrics import mean_absolute_percentage_error, mean_squared_error, r2_score\n",
    "import numpy as np\n",
    "\n",
    "# calculate MAPE\n",
    "mape = mean_absolute_percentage_error(df_new['close+1'], predicted_values)\n",
    "print(f\"MAPE: {round(mape*100, 2)}%\")\n",
    "\n",
    "# calculate MSE\n",
    "mse = mean_squared_error(df_new['close+1'], predicted_values)\n",
    "print(f\"MSE: {round(mse, 2)}\")\n",
    "\n",
    "# calculate RMSE\n",
    "rmse = np.sqrt(mse)\n",
    "print(f\"RMSE: {round(rmse, 2)}\")\n",
    "\n",
    "# calculate R2\n",
    "r2 = r2_score(df_new['close+1'], predicted_values)\n",
    "print(f\"R2: {round(r2, 2)}\")\n"
   ]
  },
  {
   "cell_type": "code",
   "execution_count": null,
   "id": "8062e811",
   "metadata": {},
   "outputs": [],
   "source": []
  }
 ],
 "metadata": {
  "kernelspec": {
   "display_name": "ironhack",
   "language": "python",
   "name": "ironhack"
  },
  "language_info": {
   "codemirror_mode": {
    "name": "ipython",
    "version": 3
   },
   "file_extension": ".py",
   "mimetype": "text/x-python",
   "name": "python",
   "nbconvert_exporter": "python",
   "pygments_lexer": "ipython3",
   "version": "3.9.12"
  }
 },
 "nbformat": 4,
 "nbformat_minor": 5
}
