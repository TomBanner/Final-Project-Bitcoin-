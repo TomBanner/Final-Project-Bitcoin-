{
 "cells": [
  {
   "cell_type": "markdown",
   "id": "16ad38aa",
   "metadata": {},
   "source": [
    "**Building a Blockchain**"
   ]
  },
  {
   "cell_type": "markdown",
   "id": "27afcbf3",
   "metadata": {},
   "source": [
    "*Importing all neccesary libraries*"
   ]
  },
  {
   "cell_type": "code",
   "execution_count": 1,
   "id": "46f45f76",
   "metadata": {},
   "outputs": [],
   "source": [
    "import base58\n",
    "import ecdsa\n",
    "import hashlib\n",
    "import time\n",
    "from tqdm import tqdm\n",
    "import json\n",
    "import pickle\n",
    "import pandas as pd\n",
    "from datetime import datetime\n",
    "import random"
   ]
  },
  {
   "cell_type": "markdown",
   "id": "3a97c9a1",
   "metadata": {},
   "source": [
    "*Creating the Wallet class*"
   ]
  },
  {
   "cell_type": "code",
   "execution_count": 2,
   "id": "b74591b2",
   "metadata": {},
   "outputs": [],
   "source": [
    "class Wallet:\n",
    "    def __init__(self):\n",
    "        self.private_key = None\n",
    "        self.public_key = None\n",
    "        self.address = None\n",
    "        self.generate_keys()\n",
    "\n",
    "    def generate_keys(self):\n",
    "        # Generate a new private key\n",
    "        self.private_key = ecdsa.SigningKey.generate(curve=ecdsa.SECP256k1)\n",
    "\n",
    "        # Derive the corresponding public key from the private key\n",
    "        public_key = self.private_key.get_verifying_key()\n",
    "\n",
    "        # Convert the public key to bytes\n",
    "        public_key_bytes = public_key.to_string()\n",
    "\n",
    "        # Hash the public key bytes with SHA-256\n",
    "        sha256_hash = hashlib.sha256(public_key_bytes)\n",
    "\n",
    "        # Take the RIPEMD-160 hash of the SHA-256 hash\n",
    "        ripemd160_hash = hashlib.new('ripemd160')\n",
    "        ripemd160_hash.update(sha256_hash.digest())\n",
    "        public_key_hash = ripemd160_hash.digest()\n",
    "\n",
    "        # Add a version byte (0x00) to the public key hash\n",
    "        version_public_key_hash = b'\\x00' + public_key_hash\n",
    "\n",
    "        # Calculate the checksum by hashing the versioned public key hash twice with SHA-256\n",
    "        sha256_hash = hashlib.sha256(version_public_key_hash)\n",
    "        sha256_hash = hashlib.sha256(sha256_hash.digest())\n",
    "        checksum = sha256_hash.digest()[:4]\n",
    "\n",
    "        # Concatenate the versioned public key hash and the checksum to form the address\n",
    "        self.address = base58.b58encode(version_public_key_hash + checksum).decode('utf-8')\n",
    "\n",
    "    def get_balance(self, blockchain):\n",
    "        balance = 0\n",
    "        for block in blockchain.chain:\n",
    "            for transaction in block.transactions:\n",
    "                if transaction.sender == self.address:\n",
    "                    balance -= transaction.amount\n",
    "                elif transaction.recipient == self.address:\n",
    "                    balance += transaction.amount\n",
    "        return balance\n"
   ]
  },
  {
   "cell_type": "markdown",
   "id": "2dbdcbd9",
   "metadata": {},
   "source": [
    "*Creating the Transaction class*"
   ]
  },
  {
   "cell_type": "code",
   "execution_count": 3,
   "id": "4a0ea6ee",
   "metadata": {},
   "outputs": [],
   "source": [
    "class Transaction:\n",
    "    def __init__(self, sender_address, recipient_address, amount):\n",
    "        self.sender_address = sender_address\n",
    "        self.recipient_address = recipient_address\n",
    "        self.amount = amount\n",
    "        self.timestamp = time.time()\n",
    "        self.hash = self.calculate_hash()\n",
    "\n",
    "    def calculate_hash(self):\n",
    "        hash_string = str(self.sender_address) + str(self.recipient_address) + str(self.amount) + str(self.timestamp)\n",
    "        return hashlib.sha256(hash_string.encode()).hexdigest()\n"
   ]
  },
  {
   "cell_type": "markdown",
   "id": "c0293dca",
   "metadata": {},
   "source": [
    "*Creating the Block class*"
   ]
  },
  {
   "cell_type": "code",
   "execution_count": 4,
   "id": "f4d9ca17",
   "metadata": {},
   "outputs": [],
   "source": [
    "class Block:\n",
    "    def __init__(self, index, timestamp, transactions, previous_hash):\n",
    "        self.index = index\n",
    "        self.timestamp = timestamp\n",
    "        self.transactions = transactions\n",
    "        self.previous_hash = previous_hash\n",
    "        self.nonce = 0\n",
    "        self.hash = self.calculate_hash()\n",
    "\n",
    "    def calculate_hash(self):\n",
    "        hash_string = str(self.index) + str(self.timestamp) + str(self.transactions) + str(self.previous_hash) + str(self.nonce)\n",
    "        return hashlib.sha256(hash_string.encode()).hexdigest()\n",
    "\n",
    "    def mine_block(self, difficulty):\n",
    "        with tqdm(total=100) as pbar:\n",
    "            while self.hash[:difficulty] != \"0\" * difficulty:\n",
    "                self.nonce += 1\n",
    "                self.hash = self.calculate_hash()\n",
    "                pbar.update(1)"
   ]
  },
  {
   "cell_type": "markdown",
   "id": "1ffd8d95",
   "metadata": {},
   "source": [
    "*Creating the Blockchain class*"
   ]
  },
  {
   "cell_type": "code",
   "execution_count": 5,
   "id": "ef0ea5d2",
   "metadata": {},
   "outputs": [],
   "source": [
    "class Blockchain:\n",
    "    def __init__(self, filename=\"my_blockchain.json\"):\n",
    "        self.filename = filename  # add filename attribute\n",
    "        self.chain = self.load_chain_from_file()\n",
    "        self.difficulty = 2\n",
    "        self.pending_transactions = []\n",
    "        self.mining_reward = 100\n",
    "        self.coin_name = \"IronhackCoin\"\n",
    "\n",
    "    def create_genesis_block(self):\n",
    "        return Block(0, time.time(), [], \"0\")\n",
    "\n",
    "    def get_latest_block(self):\n",
    "        return self.chain[-1]\n",
    "\n",
    "    def add_block(self, new_block):\n",
    "        new_block.previous_hash = self.get_latest_block().hash\n",
    "        new_block.mine_block(self.difficulty)\n",
    "        self.chain.append(new_block)\n",
    "        self.save_chain_to_file()\n",
    "\n",
    "    def save_chain_to_file(self):\n",
    "        with open(self.filename, \"w\") as f:\n",
    "            f.write(json.dumps(self.chain, default=lambda b: b.__dict__))\n",
    "\n",
    "    def load_chain_from_file(self):\n",
    "        try:\n",
    "            with open(self.filename, \"r\") as f:\n",
    "                chain_data = json.load(f)\n",
    "                chain = []\n",
    "                for block_data in chain_data:\n",
    "                    transactions = []\n",
    "                    for transaction_data in block_data[\"transactions\"]:\n",
    "                        transaction = Transaction(\n",
    "                            transaction_data[\"sender_address\"],\n",
    "                            transaction_data[\"recipient_address\"],\n",
    "                            transaction_data[\"amount\"],\n",
    "                        )\n",
    "                        transactions.append(transaction)\n",
    "                    block = Block(\n",
    "                        block_data[\"index\"],\n",
    "                        block_data[\"timestamp\"],\n",
    "                        transactions,\n",
    "                        block_data[\"previous_hash\"],\n",
    "                    )\n",
    "                    block.hash = block_data[\"hash\"]\n",
    "                    block.nonce = block_data[\"nonce\"]\n",
    "                    chain.append(block)\n",
    "                return chain\n",
    "        except (FileNotFoundError, json.JSONDecodeError):\n",
    "            return [self.create_genesis_block()]\n",
    "\n",
    "    def add_transaction(self, transaction):\n",
    "        self.pending_transactions.append(transaction)\n",
    "\n",
    "    def mine_block(self, miner_address):\n",
    "        transaction = Transaction(None, miner_address, self.mining_reward)\n",
    "        self.pending_transactions.append(transaction)\n",
    "        new_block = Block(len(self.chain), time.time(), self.pending_transactions, self.get_latest_block().hash)\n",
    "        while True:\n",
    "            new_block.mine_block(self.difficulty)\n",
    "            if new_block.hash[:self.difficulty] == \"0\" * self.difficulty:\n",
    "                self.chain.append(new_block)\n",
    "                self.pending_transactions = []\n",
    "                self.save_chain_to_file()\n",
    "                return new_block\n",
    "            else:\n",
    "                new_block.nonce += 1\n",
    "\n",
    "    def create_transaction(self, sender_wallet, recipient_address, amount):\n",
    "        if self.get_balance(sender_wallet.address) < amount:\n",
    "            raise Exception(\"Not enough balance.\")\n",
    "        transaction = Transaction(sender_wallet.address, recipient_address, amount)\n",
    "        self.add_transaction(transaction)\n",
    "        return transaction\n",
    "\n",
    "    def get_balance(self, address):\n",
    "        balance = 0\n",
    "        for block in self.chain:\n",
    "            for transaction_data in block.transactions:\n",
    "                if isinstance(transaction_data, dict):\n",
    "                    # If the transaction data is a dictionary, create a Transaction object from it\n",
    "                    transaction = Transaction(transaction_data[\"sender_address\"], transaction_data[\"recipient_address\"], transaction_data[\"amount\"])\n",
    "                else:\n",
    "                    transaction = transaction_data\n",
    "\n",
    "                if transaction.sender_address == address:\n",
    "                    balance -= transaction.amount\n",
    "                if transaction.recipient_address == address:\n",
    "                    balance += transaction.amount\n",
    "        return balance\n"
   ]
  },
  {
   "cell_type": "markdown",
   "id": "c8e45e06",
   "metadata": {},
   "source": [
    "*Creating Alternative Mining Functions*"
   ]
  },
  {
   "cell_type": "markdown",
   "id": "8c6596ca",
   "metadata": {},
   "source": [
    "*Maths Challenge Mine Function (Single Wallet)*"
   ]
  },
  {
   "cell_type": "code",
   "execution_count": 6,
   "id": "d96b6087",
   "metadata": {},
   "outputs": [],
   "source": [
    "import random\n",
    "\n",
    "def mine_challenge(my_wallet):\n",
    "    # Generate a random math question\n",
    "    num1 = random.randint(1, 10)\n",
    "    num2 = random.randint(1, 10)\n",
    "    operator = random.choice(['+', '-', '*'])\n",
    "    question = f\"What is {num1} {operator} {num2}? \"\n",
    "    answer = eval(str(num1) + operator + str(num2))\n",
    "    \n",
    "    # Prompt the user to answer the question\n",
    "    user_answer = input(question)\n",
    "    while int(user_answer) != answer:\n",
    "        print(\"That is not correct. Please try again.\")\n",
    "        user_answer = input(question)\n",
    "    \n",
    "    # If the user answers correctly, mine the block\n",
    "    block = my_blockchain.mine_block(my_wallet.address)\n",
    "    print(\"You have successfully passed the challenge and mined the block.\")\n",
    "    return block\n"
   ]
  },
  {
   "cell_type": "markdown",
   "id": "021c8c06",
   "metadata": {},
   "source": [
    "*Closest Number Mine Function (Multiple Wallets)*"
   ]
  },
  {
   "cell_type": "code",
   "execution_count": 7,
   "id": "640553c4",
   "metadata": {},
   "outputs": [],
   "source": [
    "def mine_block_with_closest_number(my_blockchain, my_wallet, your_wallet, third_wallet):\n",
    "    # Create a dictionary that maps each wallet object to its name\n",
    "    wallets = {\n",
    "        my_wallet: \"my_wallet\",\n",
    "        your_wallet: \"your_wallet\",\n",
    "        third_wallet: \"third_wallet\"\n",
    "    }\n",
    "\n",
    "    # Generate a random number between 1 and 100\n",
    "    random_number = random.randint(1, 100)\n",
    "\n",
    "    # Ask each wallet to input a number between 1 and 100\n",
    "    my_number = int(input(f\"{wallets[my_wallet]}, choose a number between 1 and 100: \"))\n",
    "    your_number = int(input(f\"{wallets[your_wallet]}, choose a number between 1 and 100: \"))\n",
    "    third_number = int(input(f\"{wallets[third_wallet]}, choose a number between 1 and 100: \"))\n",
    "\n",
    "    # Calculate the differences between the chosen numbers and the random number\n",
    "    my_difference = abs(my_number - random_number)\n",
    "    your_difference = abs(your_number - random_number)\n",
    "    third_difference = abs(third_number - random_number)\n",
    "\n",
    "    # Find the closest number to the random number\n",
    "    if my_difference <= your_difference and my_difference <= third_difference:\n",
    "        print(f\"{wallets[my_wallet]} won!\")\n",
    "        my_blockchain.mine_block(my_wallet.address)\n",
    "    elif your_difference <= my_difference and your_difference <= third_difference:\n",
    "        print(f\"{wallets[your_wallet]} won!\")\n",
    "        my_blockchain.mine_block(your_wallet.address)\n",
    "    else:\n",
    "        print(f\"{wallets[third_wallet]} won!\")\n",
    "        my_blockchain.mine_block(third_wallet.address)\n"
   ]
  },
  {
   "cell_type": "markdown",
   "id": "40412084",
   "metadata": {},
   "source": [
    "**Using the blockchain**"
   ]
  },
  {
   "cell_type": "markdown",
   "id": "e0f9b0fc",
   "metadata": {},
   "source": [
    "*Setting up my wallet, the blockchain and your wallet*"
   ]
  },
  {
   "cell_type": "code",
   "execution_count": 8,
   "id": "ef1ee3a7",
   "metadata": {},
   "outputs": [],
   "source": [
    "# Create a new instance of the Wallet class as my_wallet\n",
    "my_wallet = Wallet()"
   ]
  },
  {
   "cell_type": "code",
   "execution_count": 9,
   "id": "50f580b8",
   "metadata": {},
   "outputs": [],
   "source": [
    "# Create a new instance of the Blockchain class\n",
    "my_blockchain = Blockchain()"
   ]
  },
  {
   "cell_type": "code",
   "execution_count": 10,
   "id": "ad739ef9",
   "metadata": {},
   "outputs": [
    {
     "name": "stdout",
     "output_type": "stream",
     "text": [
      "Balance of 16uZCwPdUzhKceR1BsjeBSduddBToFMbeB: 0\n"
     ]
    }
   ],
   "source": [
    "# Check the balance of your wallet\n",
    "print(f\"Balance of {my_wallet.address}: {my_blockchain.get_balance(my_wallet.address)}\")"
   ]
  },
  {
   "cell_type": "code",
   "execution_count": 11,
   "id": "f4636f28",
   "metadata": {},
   "outputs": [],
   "source": [
    "# Create a new transaction that sends the mining reward to my wallet address\n",
    "genesis_transaction = Transaction(None, my_wallet.address, my_blockchain.mining_reward)"
   ]
  },
  {
   "cell_type": "code",
   "execution_count": 12,
   "id": "2898b96d",
   "metadata": {},
   "outputs": [],
   "source": [
    "# Add the genesis transaction to the blockchain's pending transactions\n",
    "my_blockchain.pending_transactions.append(genesis_transaction)"
   ]
  },
  {
   "cell_type": "code",
   "execution_count": 13,
   "id": "ecde0aee",
   "metadata": {},
   "outputs": [
    {
     "name": "stdout",
     "output_type": "stream",
     "text": [
      "Mining genesis block...\n"
     ]
    },
    {
     "name": "stderr",
     "output_type": "stream",
     "text": [
      "619it [00:00, 128160.44it/s]                                                    "
     ]
    },
    {
     "name": "stdout",
     "output_type": "stream",
     "text": [
      "Genesis block mined successfully!\n"
     ]
    },
    {
     "name": "stderr",
     "output_type": "stream",
     "text": [
      "\n"
     ]
    }
   ],
   "source": [
    "# Mine the genesis block with my wallet address\n",
    "print(\"Mining genesis block...\")\n",
    "my_blockchain.mine_block(my_wallet.address)\n",
    "print(\"Genesis block mined successfully!\")"
   ]
  },
  {
   "cell_type": "code",
   "execution_count": 14,
   "id": "a11ed9ff",
   "metadata": {},
   "outputs": [
    {
     "name": "stdout",
     "output_type": "stream",
     "text": [
      "Balance of 16uZCwPdUzhKceR1BsjeBSduddBToFMbeB: 200\n"
     ]
    }
   ],
   "source": [
    "#Check balance of my wallet\n",
    "print(f\"Balance of {my_wallet.address}: {my_blockchain.get_balance(my_wallet.address)}\")"
   ]
  },
  {
   "cell_type": "code",
   "execution_count": 15,
   "id": "5905af9d",
   "metadata": {},
   "outputs": [],
   "source": [
    "#Create your wallet\n",
    "your_wallet = Wallet()"
   ]
  },
  {
   "cell_type": "code",
   "execution_count": 16,
   "id": "f9883993",
   "metadata": {
    "scrolled": true
   },
   "outputs": [
    {
     "name": "stdout",
     "output_type": "stream",
     "text": [
      "Balance of 1CDfEyJJKbJm1cFFoLHFgdKEy46SHYqMs: 0\n"
     ]
    }
   ],
   "source": [
    "#Check balance of your wallet\n",
    "print(f\"Balance of {your_wallet.address}: {my_blockchain.get_balance(your_wallet.address)}\")"
   ]
  },
  {
   "cell_type": "markdown",
   "id": "9f7c1b1a",
   "metadata": {},
   "source": [
    "*Transaction 1*"
   ]
  },
  {
   "cell_type": "code",
   "execution_count": 17,
   "id": "337b202a",
   "metadata": {},
   "outputs": [],
   "source": [
    "# I send 120 from my wallet to your wallet as transaction1\n",
    "transaction1 = Transaction(my_wallet.address, your_wallet.address, 120)"
   ]
  },
  {
   "cell_type": "code",
   "execution_count": 18,
   "id": "98db2bf1",
   "metadata": {},
   "outputs": [],
   "source": [
    "#Add  to the blockchain \n",
    "my_blockchain.add_transaction(transaction1)"
   ]
  },
  {
   "cell_type": "code",
   "execution_count": 19,
   "id": "a77213c1",
   "metadata": {},
   "outputs": [
    {
     "name": "stdout",
     "output_type": "stream",
     "text": [
      "Balance of 16uZCwPdUzhKceR1BsjeBSduddBToFMbeB: 200\n",
      "Balance of 1CDfEyJJKbJm1cFFoLHFgdKEy46SHYqMs: 0\n"
     ]
    }
   ],
   "source": [
    "#Check balance of your wallet and my wallet\n",
    "print(f\"Balance of {my_wallet.address}: {my_blockchain.get_balance(my_wallet.address)}\")\n",
    "print(f\"Balance of {your_wallet.address}: {my_blockchain.get_balance(your_wallet.address)}\")"
   ]
  },
  {
   "cell_type": "code",
   "execution_count": 20,
   "id": "c5995be1",
   "metadata": {},
   "outputs": [
    {
     "name": "stderr",
     "output_type": "stream",
     "text": [
      " 53%|████████████████████▋                  | 53/100 [00:00<00:00, 94796.64it/s]\n"
     ]
    },
    {
     "data": {
      "text/plain": [
       "<__main__.Block at 0x7f822c81d730>"
      ]
     },
     "execution_count": 20,
     "metadata": {},
     "output_type": "execute_result"
    }
   ],
   "source": [
    "#I mine the next block (I recieve 100 for mining the block and you receive the 120 that i sent)\n",
    "my_blockchain.mine_block(my_wallet.address)"
   ]
  },
  {
   "cell_type": "code",
   "execution_count": 21,
   "id": "fa219f32",
   "metadata": {},
   "outputs": [
    {
     "name": "stdout",
     "output_type": "stream",
     "text": [
      "Balance of 16uZCwPdUzhKceR1BsjeBSduddBToFMbeB: 180\n",
      "Balance of 1CDfEyJJKbJm1cFFoLHFgdKEy46SHYqMs: 120\n"
     ]
    }
   ],
   "source": [
    "#Check balance of your wallet and my wallet\n",
    "print(f\"Balance of {my_wallet.address}: {my_blockchain.get_balance(my_wallet.address)}\")\n",
    "print(f\"Balance of {your_wallet.address}: {my_blockchain.get_balance(your_wallet.address)}\")"
   ]
  },
  {
   "cell_type": "markdown",
   "id": "3b4ffd2d",
   "metadata": {},
   "source": [
    "*Transaction 2*"
   ]
  },
  {
   "cell_type": "code",
   "execution_count": 22,
   "id": "6583f8df",
   "metadata": {},
   "outputs": [],
   "source": [
    "# #Send 230 from my wallet to your wallet as transaction2\n",
    "transaction2 = Transaction(my_wallet.address, your_wallet.address, 230)"
   ]
  },
  {
   "cell_type": "code",
   "execution_count": 23,
   "id": "0e2c4ed4",
   "metadata": {},
   "outputs": [],
   "source": [
    "#Add transaction2 to the blockchain \n",
    "my_blockchain.add_transaction(transaction2)"
   ]
  },
  {
   "cell_type": "code",
   "execution_count": 24,
   "id": "0f1c9e3e",
   "metadata": {},
   "outputs": [
    {
     "name": "stdout",
     "output_type": "stream",
     "text": [
      "Balance of 16uZCwPdUzhKceR1BsjeBSduddBToFMbeB: 180\n",
      "Balance of 1CDfEyJJKbJm1cFFoLHFgdKEy46SHYqMs: 120\n"
     ]
    }
   ],
   "source": [
    "#Check balance of your wallet and my wallet\n",
    "print(f\"Balance of {my_wallet.address}: {my_blockchain.get_balance(my_wallet.address)}\")\n",
    "print(f\"Balance of {your_wallet.address}: {my_blockchain.get_balance(your_wallet.address)}\")"
   ]
  },
  {
   "cell_type": "code",
   "execution_count": 25,
   "id": "ac4c1975",
   "metadata": {},
   "outputs": [
    {
     "name": "stderr",
     "output_type": "stream",
     "text": [
      "105it [00:00, 50481.65it/s]                                                     \n"
     ]
    },
    {
     "data": {
      "text/plain": [
       "<__main__.Block at 0x7f822c82bfd0>"
      ]
     },
     "execution_count": 25,
     "metadata": {},
     "output_type": "execute_result"
    }
   ],
   "source": [
    "#I mine the next block (I recieve 100 for mining the block and you receive the 230 that i sent)\n",
    "my_blockchain.mine_block(my_wallet.address)"
   ]
  },
  {
   "cell_type": "code",
   "execution_count": 26,
   "id": "309fc8d9",
   "metadata": {},
   "outputs": [
    {
     "name": "stdout",
     "output_type": "stream",
     "text": [
      "Balance of 16uZCwPdUzhKceR1BsjeBSduddBToFMbeB: 50\n",
      "Balance of 1CDfEyJJKbJm1cFFoLHFgdKEy46SHYqMs: 350\n"
     ]
    }
   ],
   "source": [
    "#Check balance of your wallet and my wallet\n",
    "print(f\"Balance of {my_wallet.address}: {my_blockchain.get_balance(my_wallet.address)}\")\n",
    "print(f\"Balance of {your_wallet.address}: {my_blockchain.get_balance(your_wallet.address)}\")"
   ]
  },
  {
   "cell_type": "markdown",
   "id": "f3a7bbf8",
   "metadata": {},
   "source": [
    "*Transaction 3*"
   ]
  },
  {
   "cell_type": "code",
   "execution_count": 27,
   "id": "8110e932",
   "metadata": {},
   "outputs": [],
   "source": [
    "# You send 50 from your wallet to my wallet\n",
    "transaction3 = Transaction(your_wallet.address, my_wallet.address, 50)"
   ]
  },
  {
   "cell_type": "code",
   "execution_count": 28,
   "id": "db764b8c",
   "metadata": {},
   "outputs": [],
   "source": [
    "#Add transaction3 to the blockchain \n",
    "my_blockchain.add_transaction(transaction3)"
   ]
  },
  {
   "cell_type": "code",
   "execution_count": 29,
   "id": "4775e369",
   "metadata": {},
   "outputs": [
    {
     "name": "stderr",
     "output_type": "stream",
     "text": [
      " 50%|███████████████████▌                   | 50/100 [00:00<00:00, 81952.01it/s]\n"
     ]
    },
    {
     "data": {
      "text/plain": [
       "<__main__.Block at 0x7f822c83c1f0>"
      ]
     },
     "execution_count": 29,
     "metadata": {},
     "output_type": "execute_result"
    }
   ],
   "source": [
    "#You mine the next block (I recieve 100 for mining the block and I receive the 50 that you sent)\n",
    "my_blockchain.mine_block(your_wallet.address)"
   ]
  },
  {
   "cell_type": "code",
   "execution_count": 30,
   "id": "dcdc0fb7",
   "metadata": {},
   "outputs": [
    {
     "name": "stdout",
     "output_type": "stream",
     "text": [
      "Balance of 16uZCwPdUzhKceR1BsjeBSduddBToFMbeB: 100\n",
      "Balance of 1CDfEyJJKbJm1cFFoLHFgdKEy46SHYqMs: 400\n"
     ]
    }
   ],
   "source": [
    "#Check balance of your wallet and my wallet\n",
    "print(f\"Balance of {my_wallet.address}: {my_blockchain.get_balance(my_wallet.address)}\")\n",
    "print(f\"Balance of {your_wallet.address}: {my_blockchain.get_balance(your_wallet.address)}\")"
   ]
  },
  {
   "cell_type": "markdown",
   "id": "c8047cb1",
   "metadata": {},
   "source": [
    "*Creating a 3rd wallet*"
   ]
  },
  {
   "cell_type": "code",
   "execution_count": 31,
   "id": "8c8693c5",
   "metadata": {},
   "outputs": [],
   "source": [
    "#Create third wallet\n",
    "third_wallet = Wallet()"
   ]
  },
  {
   "cell_type": "code",
   "execution_count": 32,
   "id": "1914754b",
   "metadata": {},
   "outputs": [
    {
     "name": "stdout",
     "output_type": "stream",
     "text": [
      "Balance of 13s5Gs4FdiiouFG8UbTLnftmbp5dUsuqm6: 0\n"
     ]
    }
   ],
   "source": [
    "#Check balance of third wallet\n",
    "print(f\"Balance of {third_wallet.address}: {my_blockchain.get_balance(third_wallet.address)}\")"
   ]
  },
  {
   "cell_type": "markdown",
   "id": "4fedcd73",
   "metadata": {},
   "source": [
    "*Transaction 4*"
   ]
  },
  {
   "cell_type": "code",
   "execution_count": 33,
   "id": "2a0120ed",
   "metadata": {},
   "outputs": [],
   "source": [
    "# You send 70 from your wallet to third wallet\n",
    "transaction4 = Transaction(your_wallet.address, third_wallet.address, 70)"
   ]
  },
  {
   "cell_type": "code",
   "execution_count": 34,
   "id": "ca475f86",
   "metadata": {},
   "outputs": [],
   "source": [
    "#Add transaction4 to the blockchain \n",
    "my_blockchain.add_transaction(transaction4)"
   ]
  },
  {
   "cell_type": "code",
   "execution_count": 35,
   "id": "2fa434ad",
   "metadata": {},
   "outputs": [
    {
     "name": "stderr",
     "output_type": "stream",
     "text": [
      "472it [00:00, 128895.86it/s]                                                    \n"
     ]
    },
    {
     "data": {
      "text/plain": [
       "<__main__.Block at 0x7f822c83f190>"
      ]
     },
     "execution_count": 35,
     "metadata": {},
     "output_type": "execute_result"
    }
   ],
   "source": [
    "#I mine the next block (I recieve 100 for mining the block and third user receive the 70 that you sent)\n",
    "my_blockchain.mine_block(my_wallet.address)"
   ]
  },
  {
   "cell_type": "code",
   "execution_count": 36,
   "id": "d8114e19",
   "metadata": {},
   "outputs": [
    {
     "name": "stdout",
     "output_type": "stream",
     "text": [
      "Balance of 16uZCwPdUzhKceR1BsjeBSduddBToFMbeB: 200\n",
      "Balance of 1CDfEyJJKbJm1cFFoLHFgdKEy46SHYqMs: 330\n",
      "Balance of 13s5Gs4FdiiouFG8UbTLnftmbp5dUsuqm6: 70\n"
     ]
    }
   ],
   "source": [
    "#Check balance of your wallet, my wallet and third wallet:\n",
    "print(f\"Balance of {my_wallet.address}: {my_blockchain.get_balance(my_wallet.address)}\")\n",
    "print(f\"Balance of {your_wallet.address}: {my_blockchain.get_balance(your_wallet.address)}\")\n",
    "print(f\"Balance of {third_wallet.address}: {my_blockchain.get_balance(third_wallet.address)}\")"
   ]
  },
  {
   "cell_type": "markdown",
   "id": "99f65bd2",
   "metadata": {},
   "source": [
    "**Now I will begin using the mine challenge function where the miner will have to solve a challenge to mine the block**"
   ]
  },
  {
   "cell_type": "markdown",
   "id": "e70c3e7a",
   "metadata": {},
   "source": [
    "*Transaction 5*"
   ]
  },
  {
   "cell_type": "code",
   "execution_count": 37,
   "id": "75fce2c5",
   "metadata": {},
   "outputs": [],
   "source": [
    "# Third wallet send me 40\n",
    "transaction5 = Transaction(third_wallet.address, my_wallet.address, 40)"
   ]
  },
  {
   "cell_type": "code",
   "execution_count": 38,
   "id": "b8a3d396",
   "metadata": {},
   "outputs": [],
   "source": [
    "#Add transaction5 to the blockchain \n",
    "my_blockchain.add_transaction(transaction5)"
   ]
  },
  {
   "cell_type": "code",
   "execution_count": 39,
   "id": "333f1657",
   "metadata": {},
   "outputs": [
    {
     "name": "stdout",
     "output_type": "stream",
     "text": [
      "What is 4 * 5? 20\n"
     ]
    },
    {
     "name": "stderr",
     "output_type": "stream",
     "text": [
      "287it [00:00, 120268.28it/s]                                                    "
     ]
    },
    {
     "name": "stdout",
     "output_type": "stream",
     "text": [
      "You have successfully passed the challenge and mined the block.\n"
     ]
    },
    {
     "name": "stderr",
     "output_type": "stream",
     "text": [
      "\n"
     ]
    },
    {
     "data": {
      "text/plain": [
       "<__main__.Block at 0x7f822c83cc70>"
      ]
     },
     "execution_count": 39,
     "metadata": {},
     "output_type": "execute_result"
    }
   ],
   "source": [
    "#Third user mines the next blocks (Third wallet receives 100 for mining the block I receive the 40 that third sent me)\n",
    "mine_challenge(third_wallet)"
   ]
  },
  {
   "cell_type": "markdown",
   "id": "77ea0efa",
   "metadata": {},
   "source": [
    "**Creatinga dataframe with all the transactions**"
   ]
  },
  {
   "cell_type": "code",
   "execution_count": 40,
   "id": "fd4cf58d",
   "metadata": {},
   "outputs": [],
   "source": [
    "# Load the data from the file\n",
    "with open('my_blockchain.json', 'r') as f:\n",
    "    data = json.load(f)\n",
    "\n",
    "# Extract the transactions from the data\n",
    "transactions = []\n",
    "for block in data:\n",
    "    for transaction in block['transactions']:\n",
    "        transactions.append(transaction)\n",
    "\n",
    "# Create a dataframe with the transactions\n",
    "df_transactions = pd.DataFrame(transactions)"
   ]
  },
  {
   "cell_type": "code",
   "execution_count": 41,
   "id": "04633373",
   "metadata": {},
   "outputs": [
    {
     "data": {
      "text/html": [
       "<div>\n",
       "<style scoped>\n",
       "    .dataframe tbody tr th:only-of-type {\n",
       "        vertical-align: middle;\n",
       "    }\n",
       "\n",
       "    .dataframe tbody tr th {\n",
       "        vertical-align: top;\n",
       "    }\n",
       "\n",
       "    .dataframe thead th {\n",
       "        text-align: right;\n",
       "    }\n",
       "</style>\n",
       "<table border=\"1\" class=\"dataframe\">\n",
       "  <thead>\n",
       "    <tr style=\"text-align: right;\">\n",
       "      <th></th>\n",
       "      <th>sender_address</th>\n",
       "      <th>recipient_address</th>\n",
       "      <th>amount</th>\n",
       "      <th>timestamp</th>\n",
       "      <th>hash</th>\n",
       "    </tr>\n",
       "  </thead>\n",
       "  <tbody>\n",
       "    <tr>\n",
       "      <th>0</th>\n",
       "      <td>None</td>\n",
       "      <td>129MgykjRGofERTurDyYraHoUwJJsvm1NK</td>\n",
       "      <td>100</td>\n",
       "      <td>1.678895e+09</td>\n",
       "      <td>dfa5d5b3dbb9a39b991bc0f64675cb145ebe5bf19dbdf6...</td>\n",
       "    </tr>\n",
       "    <tr>\n",
       "      <th>1</th>\n",
       "      <td>None</td>\n",
       "      <td>129MgykjRGofERTurDyYraHoUwJJsvm1NK</td>\n",
       "      <td>100</td>\n",
       "      <td>1.678895e+09</td>\n",
       "      <td>4ed1899d18ce0c587e93ab82c1e0eaed2a1be112ef772c...</td>\n",
       "    </tr>\n",
       "    <tr>\n",
       "      <th>2</th>\n",
       "      <td>129MgykjRGofERTurDyYraHoUwJJsvm1NK</td>\n",
       "      <td>1MmuBB4o3faRap8CggdC7qmx7BEyGF6imF</td>\n",
       "      <td>120</td>\n",
       "      <td>1.678895e+09</td>\n",
       "      <td>a83ed089cfa7a15cc3271f0fc24a495b4ad036577e3498...</td>\n",
       "    </tr>\n",
       "    <tr>\n",
       "      <th>3</th>\n",
       "      <td>None</td>\n",
       "      <td>129MgykjRGofERTurDyYraHoUwJJsvm1NK</td>\n",
       "      <td>100</td>\n",
       "      <td>1.678895e+09</td>\n",
       "      <td>aa32337917daab14efad55539edd0647c6a1ddcf3a82e6...</td>\n",
       "    </tr>\n",
       "    <tr>\n",
       "      <th>4</th>\n",
       "      <td>129MgykjRGofERTurDyYraHoUwJJsvm1NK</td>\n",
       "      <td>1MmuBB4o3faRap8CggdC7qmx7BEyGF6imF</td>\n",
       "      <td>230</td>\n",
       "      <td>1.678895e+09</td>\n",
       "      <td>8e7a4dd7f774aaef50d805ea50f0cf28c6ba88d009dab7...</td>\n",
       "    </tr>\n",
       "    <tr>\n",
       "      <th>...</th>\n",
       "      <td>...</td>\n",
       "      <td>...</td>\n",
       "      <td>...</td>\n",
       "      <td>...</td>\n",
       "      <td>...</td>\n",
       "    </tr>\n",
       "    <tr>\n",
       "      <th>130</th>\n",
       "      <td>None</td>\n",
       "      <td>1CDfEyJJKbJm1cFFoLHFgdKEy46SHYqMs</td>\n",
       "      <td>100</td>\n",
       "      <td>1.678895e+09</td>\n",
       "      <td>d5c492bde1bfa1ec1dc9f111a6443afa0b7c5ea5378a30...</td>\n",
       "    </tr>\n",
       "    <tr>\n",
       "      <th>131</th>\n",
       "      <td>1CDfEyJJKbJm1cFFoLHFgdKEy46SHYqMs</td>\n",
       "      <td>13s5Gs4FdiiouFG8UbTLnftmbp5dUsuqm6</td>\n",
       "      <td>70</td>\n",
       "      <td>1.678895e+09</td>\n",
       "      <td>9e55077d3ec7310eb3867788f13127520c0edda424263a...</td>\n",
       "    </tr>\n",
       "    <tr>\n",
       "      <th>132</th>\n",
       "      <td>None</td>\n",
       "      <td>16uZCwPdUzhKceR1BsjeBSduddBToFMbeB</td>\n",
       "      <td>100</td>\n",
       "      <td>1.678895e+09</td>\n",
       "      <td>5498e12e1f32599d7c979457368726dfe566e245efcaa9...</td>\n",
       "    </tr>\n",
       "    <tr>\n",
       "      <th>133</th>\n",
       "      <td>13s5Gs4FdiiouFG8UbTLnftmbp5dUsuqm6</td>\n",
       "      <td>16uZCwPdUzhKceR1BsjeBSduddBToFMbeB</td>\n",
       "      <td>40</td>\n",
       "      <td>1.678895e+09</td>\n",
       "      <td>70b43aa948abc0e42be5f0dc7cfdf0c0c102cab7e2dc4e...</td>\n",
       "    </tr>\n",
       "    <tr>\n",
       "      <th>134</th>\n",
       "      <td>None</td>\n",
       "      <td>13s5Gs4FdiiouFG8UbTLnftmbp5dUsuqm6</td>\n",
       "      <td>100</td>\n",
       "      <td>1.678895e+09</td>\n",
       "      <td>5bf5a792db635898fbe267159f0210c8136362813e56ce...</td>\n",
       "    </tr>\n",
       "  </tbody>\n",
       "</table>\n",
       "<p>135 rows × 5 columns</p>\n",
       "</div>"
      ],
      "text/plain": [
       "                         sender_address                   recipient_address  \\\n",
       "0                                  None  129MgykjRGofERTurDyYraHoUwJJsvm1NK   \n",
       "1                                  None  129MgykjRGofERTurDyYraHoUwJJsvm1NK   \n",
       "2    129MgykjRGofERTurDyYraHoUwJJsvm1NK  1MmuBB4o3faRap8CggdC7qmx7BEyGF6imF   \n",
       "3                                  None  129MgykjRGofERTurDyYraHoUwJJsvm1NK   \n",
       "4    129MgykjRGofERTurDyYraHoUwJJsvm1NK  1MmuBB4o3faRap8CggdC7qmx7BEyGF6imF   \n",
       "..                                  ...                                 ...   \n",
       "130                                None   1CDfEyJJKbJm1cFFoLHFgdKEy46SHYqMs   \n",
       "131   1CDfEyJJKbJm1cFFoLHFgdKEy46SHYqMs  13s5Gs4FdiiouFG8UbTLnftmbp5dUsuqm6   \n",
       "132                                None  16uZCwPdUzhKceR1BsjeBSduddBToFMbeB   \n",
       "133  13s5Gs4FdiiouFG8UbTLnftmbp5dUsuqm6  16uZCwPdUzhKceR1BsjeBSduddBToFMbeB   \n",
       "134                                None  13s5Gs4FdiiouFG8UbTLnftmbp5dUsuqm6   \n",
       "\n",
       "     amount     timestamp                                               hash  \n",
       "0       100  1.678895e+09  dfa5d5b3dbb9a39b991bc0f64675cb145ebe5bf19dbdf6...  \n",
       "1       100  1.678895e+09  4ed1899d18ce0c587e93ab82c1e0eaed2a1be112ef772c...  \n",
       "2       120  1.678895e+09  a83ed089cfa7a15cc3271f0fc24a495b4ad036577e3498...  \n",
       "3       100  1.678895e+09  aa32337917daab14efad55539edd0647c6a1ddcf3a82e6...  \n",
       "4       230  1.678895e+09  8e7a4dd7f774aaef50d805ea50f0cf28c6ba88d009dab7...  \n",
       "..      ...           ...                                                ...  \n",
       "130     100  1.678895e+09  d5c492bde1bfa1ec1dc9f111a6443afa0b7c5ea5378a30...  \n",
       "131      70  1.678895e+09  9e55077d3ec7310eb3867788f13127520c0edda424263a...  \n",
       "132     100  1.678895e+09  5498e12e1f32599d7c979457368726dfe566e245efcaa9...  \n",
       "133      40  1.678895e+09  70b43aa948abc0e42be5f0dc7cfdf0c0c102cab7e2dc4e...  \n",
       "134     100  1.678895e+09  5bf5a792db635898fbe267159f0210c8136362813e56ce...  \n",
       "\n",
       "[135 rows x 5 columns]"
      ]
     },
     "execution_count": 41,
     "metadata": {},
     "output_type": "execute_result"
    }
   ],
   "source": [
    "df_transactions"
   ]
  },
  {
   "cell_type": "markdown",
   "id": "dd5f3489",
   "metadata": {},
   "source": [
    "**Create a dataframe showing the balances**"
   ]
  },
  {
   "cell_type": "code",
   "execution_count": 42,
   "id": "bd831204",
   "metadata": {},
   "outputs": [],
   "source": [
    "# Create a dictionary to store the wallet information\n",
    "wallet_info = {}\n",
    "\n",
    "# Add information for each wallet\n",
    "wallet_info['my_wallet'] = {'balance': my_blockchain.get_balance(my_wallet.address), 'address': my_wallet.address}\n",
    "wallet_info['your_wallet'] = {'balance': my_blockchain.get_balance(your_wallet.address), 'address': your_wallet.address}\n",
    "wallet_info['third_wallet'] = {'balance': my_blockchain.get_balance(third_wallet.address), 'address': third_wallet.address}\n",
    "\n",
    "# Create a pandas dataframe from the wallet information dictionary\n",
    "df_wallets = pd.DataFrame.from_dict(wallet_info, orient='index')"
   ]
  },
  {
   "cell_type": "code",
   "execution_count": 43,
   "id": "7eae6ee3",
   "metadata": {},
   "outputs": [
    {
     "data": {
      "text/html": [
       "<div>\n",
       "<style scoped>\n",
       "    .dataframe tbody tr th:only-of-type {\n",
       "        vertical-align: middle;\n",
       "    }\n",
       "\n",
       "    .dataframe tbody tr th {\n",
       "        vertical-align: top;\n",
       "    }\n",
       "\n",
       "    .dataframe thead th {\n",
       "        text-align: right;\n",
       "    }\n",
       "</style>\n",
       "<table border=\"1\" class=\"dataframe\">\n",
       "  <thead>\n",
       "    <tr style=\"text-align: right;\">\n",
       "      <th></th>\n",
       "      <th>balance</th>\n",
       "      <th>address</th>\n",
       "    </tr>\n",
       "  </thead>\n",
       "  <tbody>\n",
       "    <tr>\n",
       "      <th>my_wallet</th>\n",
       "      <td>240</td>\n",
       "      <td>16uZCwPdUzhKceR1BsjeBSduddBToFMbeB</td>\n",
       "    </tr>\n",
       "    <tr>\n",
       "      <th>your_wallet</th>\n",
       "      <td>330</td>\n",
       "      <td>1CDfEyJJKbJm1cFFoLHFgdKEy46SHYqMs</td>\n",
       "    </tr>\n",
       "    <tr>\n",
       "      <th>third_wallet</th>\n",
       "      <td>130</td>\n",
       "      <td>13s5Gs4FdiiouFG8UbTLnftmbp5dUsuqm6</td>\n",
       "    </tr>\n",
       "  </tbody>\n",
       "</table>\n",
       "</div>"
      ],
      "text/plain": [
       "              balance                             address\n",
       "my_wallet         240  16uZCwPdUzhKceR1BsjeBSduddBToFMbeB\n",
       "your_wallet       330   1CDfEyJJKbJm1cFFoLHFgdKEy46SHYqMs\n",
       "third_wallet      130  13s5Gs4FdiiouFG8UbTLnftmbp5dUsuqm6"
      ]
     },
     "execution_count": 43,
     "metadata": {},
     "output_type": "execute_result"
    }
   ],
   "source": [
    "# Print the dataframe\n",
    "df_wallets"
   ]
  },
  {
   "cell_type": "markdown",
   "id": "b6830846",
   "metadata": {},
   "source": [
    "*Transaction 6*"
   ]
  },
  {
   "cell_type": "code",
   "execution_count": 44,
   "id": "6ad971f0",
   "metadata": {},
   "outputs": [],
   "source": [
    "# You send third wallet 70\n",
    "transaction6 = Transaction(your_wallet.address, third_wallet.address, 70)"
   ]
  },
  {
   "cell_type": "code",
   "execution_count": 45,
   "id": "1ccc0eca",
   "metadata": {},
   "outputs": [],
   "source": [
    "#Add transaction6 to the blockchain \n",
    "my_blockchain.add_transaction(transaction6)"
   ]
  },
  {
   "cell_type": "code",
   "execution_count": 46,
   "id": "bc8f9fb3",
   "metadata": {},
   "outputs": [
    {
     "name": "stdout",
     "output_type": "stream",
     "text": [
      "What is 8 * 10? 80\n"
     ]
    },
    {
     "name": "stderr",
     "output_type": "stream",
     "text": [
      "572it [00:00, 135567.72it/s]                                                    "
     ]
    },
    {
     "name": "stdout",
     "output_type": "stream",
     "text": [
      "You have successfully passed the challenge and mined the block.\n"
     ]
    },
    {
     "name": "stderr",
     "output_type": "stream",
     "text": [
      "\n"
     ]
    },
    {
     "data": {
      "text/plain": [
       "<__main__.Block at 0x7f822c8b52e0>"
      ]
     },
     "execution_count": 46,
     "metadata": {},
     "output_type": "execute_result"
    }
   ],
   "source": [
    "#You mine the block by solving the challenge\n",
    "mine_challenge(your_wallet)"
   ]
  },
  {
   "cell_type": "markdown",
   "id": "eb9991e0",
   "metadata": {},
   "source": [
    "*Transaction 7*"
   ]
  },
  {
   "cell_type": "code",
   "execution_count": 47,
   "id": "22d69404",
   "metadata": {},
   "outputs": [],
   "source": [
    "# I send you 20\n",
    "transaction7 = Transaction(my_wallet.address,your_wallet.address, 20)"
   ]
  },
  {
   "cell_type": "code",
   "execution_count": 48,
   "id": "a3e7387b",
   "metadata": {},
   "outputs": [],
   "source": [
    "#Add transaction7 to the blockchain \n",
    "my_blockchain.add_transaction(transaction7)"
   ]
  },
  {
   "cell_type": "code",
   "execution_count": 49,
   "id": "73528f8f",
   "metadata": {},
   "outputs": [
    {
     "name": "stdout",
     "output_type": "stream",
     "text": [
      "What is 3 - 6? -3\n"
     ]
    },
    {
     "name": "stderr",
     "output_type": "stream",
     "text": [
      "605it [00:00, 136222.56it/s]                                                    "
     ]
    },
    {
     "name": "stdout",
     "output_type": "stream",
     "text": [
      "You have successfully passed the challenge and mined the block.\n"
     ]
    },
    {
     "name": "stderr",
     "output_type": "stream",
     "text": [
      "\n"
     ]
    },
    {
     "data": {
      "text/plain": [
       "<__main__.Block at 0x7f822c876c40>"
      ]
     },
     "execution_count": 49,
     "metadata": {},
     "output_type": "execute_result"
    }
   ],
   "source": [
    "#Third wallet mines the block by solving the challenge\n",
    "mine_challenge(third_wallet)"
   ]
  },
  {
   "cell_type": "markdown",
   "id": "20033acd",
   "metadata": {},
   "source": [
    "*Transaction 8*"
   ]
  },
  {
   "cell_type": "code",
   "execution_count": 50,
   "id": "f7ed3fe7",
   "metadata": {},
   "outputs": [],
   "source": [
    "# You send me 45\n",
    "transaction8 = Transaction(your_wallet.address, my_wallet.address, 45)"
   ]
  },
  {
   "cell_type": "code",
   "execution_count": 51,
   "id": "870e5b5f",
   "metadata": {},
   "outputs": [],
   "source": [
    "#Add transaction8 to the blockchain \n",
    "my_blockchain.add_transaction(transaction8)"
   ]
  },
  {
   "cell_type": "code",
   "execution_count": 52,
   "id": "12cf6719",
   "metadata": {},
   "outputs": [
    {
     "name": "stdout",
     "output_type": "stream",
     "text": [
      "What is 7 + 3? 10\n"
     ]
    },
    {
     "name": "stderr",
     "output_type": "stream",
     "text": [
      "370it [00:00, 130246.96it/s]                                                    "
     ]
    },
    {
     "name": "stdout",
     "output_type": "stream",
     "text": [
      "You have successfully passed the challenge and mined the block.\n"
     ]
    },
    {
     "name": "stderr",
     "output_type": "stream",
     "text": [
      "\n"
     ]
    },
    {
     "data": {
      "text/plain": [
       "<__main__.Block at 0x7f822c876100>"
      ]
     },
     "execution_count": 52,
     "metadata": {},
     "output_type": "execute_result"
    }
   ],
   "source": [
    "#I mine the block by solving the challenge\n",
    "mine_challenge(my_wallet)"
   ]
  },
  {
   "cell_type": "markdown",
   "id": "602aea4b",
   "metadata": {},
   "source": [
    "*Transaction 9*"
   ]
  },
  {
   "cell_type": "code",
   "execution_count": 53,
   "id": "e63b2d73",
   "metadata": {},
   "outputs": [],
   "source": [
    "# I send third wallet 18\n",
    "transaction9 = Transaction(my_wallet.address, third_wallet.address, 18)"
   ]
  },
  {
   "cell_type": "code",
   "execution_count": 54,
   "id": "0b3ac1ad",
   "metadata": {},
   "outputs": [],
   "source": [
    "#Add transaction9 to the blockchain \n",
    "my_blockchain.add_transaction(transaction9)"
   ]
  },
  {
   "cell_type": "code",
   "execution_count": 55,
   "id": "751d3f02",
   "metadata": {},
   "outputs": [
    {
     "name": "stdout",
     "output_type": "stream",
     "text": [
      "What is 5 - 7? -2\n"
     ]
    },
    {
     "name": "stderr",
     "output_type": "stream",
     "text": [
      "347it [00:00, 68268.84it/s]                                                     "
     ]
    },
    {
     "name": "stdout",
     "output_type": "stream",
     "text": [
      "You have successfully passed the challenge and mined the block.\n"
     ]
    },
    {
     "name": "stderr",
     "output_type": "stream",
     "text": [
      "\n"
     ]
    },
    {
     "data": {
      "text/plain": [
       "<__main__.Block at 0x7f822c876b20>"
      ]
     },
     "execution_count": 55,
     "metadata": {},
     "output_type": "execute_result"
    }
   ],
   "source": [
    "#You mine the block by solving the challenge\n",
    "mine_challenge(your_wallet)"
   ]
  },
  {
   "cell_type": "markdown",
   "id": "6c7daaad",
   "metadata": {},
   "source": [
    "**Check Balances and Transactions**"
   ]
  },
  {
   "cell_type": "code",
   "execution_count": 56,
   "id": "81535f43",
   "metadata": {},
   "outputs": [
    {
     "data": {
      "text/html": [
       "<div>\n",
       "<style scoped>\n",
       "    .dataframe tbody tr th:only-of-type {\n",
       "        vertical-align: middle;\n",
       "    }\n",
       "\n",
       "    .dataframe tbody tr th {\n",
       "        vertical-align: top;\n",
       "    }\n",
       "\n",
       "    .dataframe thead th {\n",
       "        text-align: right;\n",
       "    }\n",
       "</style>\n",
       "<table border=\"1\" class=\"dataframe\">\n",
       "  <thead>\n",
       "    <tr style=\"text-align: right;\">\n",
       "      <th></th>\n",
       "      <th>balance</th>\n",
       "      <th>address</th>\n",
       "    </tr>\n",
       "  </thead>\n",
       "  <tbody>\n",
       "    <tr>\n",
       "      <th>my_wallet</th>\n",
       "      <td>347</td>\n",
       "      <td>16uZCwPdUzhKceR1BsjeBSduddBToFMbeB</td>\n",
       "    </tr>\n",
       "    <tr>\n",
       "      <th>your_wallet</th>\n",
       "      <td>435</td>\n",
       "      <td>1CDfEyJJKbJm1cFFoLHFgdKEy46SHYqMs</td>\n",
       "    </tr>\n",
       "    <tr>\n",
       "      <th>third_wallet</th>\n",
       "      <td>318</td>\n",
       "      <td>13s5Gs4FdiiouFG8UbTLnftmbp5dUsuqm6</td>\n",
       "    </tr>\n",
       "  </tbody>\n",
       "</table>\n",
       "</div>"
      ],
      "text/plain": [
       "              balance                             address\n",
       "my_wallet         347  16uZCwPdUzhKceR1BsjeBSduddBToFMbeB\n",
       "your_wallet       435   1CDfEyJJKbJm1cFFoLHFgdKEy46SHYqMs\n",
       "third_wallet      318  13s5Gs4FdiiouFG8UbTLnftmbp5dUsuqm6"
      ]
     },
     "execution_count": 56,
     "metadata": {},
     "output_type": "execute_result"
    }
   ],
   "source": [
    "#Check Balances\n",
    "\n",
    "# Create a dictionary to store the wallet information\n",
    "wallet_info = {}\n",
    "\n",
    "# Add information for each wallet\n",
    "wallet_info['my_wallet'] = {'balance': my_blockchain.get_balance(my_wallet.address), 'address': my_wallet.address}\n",
    "wallet_info['your_wallet'] = {'balance': my_blockchain.get_balance(your_wallet.address), 'address': your_wallet.address}\n",
    "wallet_info['third_wallet'] = {'balance': my_blockchain.get_balance(third_wallet.address), 'address': third_wallet.address}\n",
    "\n",
    "# Create a pandas dataframe from the wallet information dictionary\n",
    "df_wallets = pd.DataFrame.from_dict(wallet_info, orient='index')\n",
    "# Print the dataframe\n",
    "df_wallets"
   ]
  },
  {
   "cell_type": "code",
   "execution_count": 57,
   "id": "d08df825",
   "metadata": {},
   "outputs": [],
   "source": [
    "# Load the data from the file\n",
    "with open('my_blockchain.json', 'r') as f:\n",
    "    data = json.load(f)\n",
    "\n",
    "# Extract the transactions from the data\n",
    "transactions = []\n",
    "for block in data:\n",
    "    for transaction in block['transactions']:\n",
    "        transactions.append(transaction)\n",
    "\n",
    "# Create a dataframe with the transactions\n",
    "df_transactions = pd.DataFrame(transactions)"
   ]
  },
  {
   "cell_type": "code",
   "execution_count": 58,
   "id": "2b628cd8",
   "metadata": {},
   "outputs": [],
   "source": [
    "# Setting transaction dataframe to print all rows\n",
    "pd.set_option('display.max_rows', None)  # Set option to display all rows"
   ]
  },
  {
   "cell_type": "code",
   "execution_count": 59,
   "id": "a7d25aaa",
   "metadata": {},
   "outputs": [
    {
     "data": {
      "text/html": [
       "<div>\n",
       "<style scoped>\n",
       "    .dataframe tbody tr th:only-of-type {\n",
       "        vertical-align: middle;\n",
       "    }\n",
       "\n",
       "    .dataframe tbody tr th {\n",
       "        vertical-align: top;\n",
       "    }\n",
       "\n",
       "    .dataframe thead th {\n",
       "        text-align: right;\n",
       "    }\n",
       "</style>\n",
       "<table border=\"1\" class=\"dataframe\">\n",
       "  <thead>\n",
       "    <tr style=\"text-align: right;\">\n",
       "      <th></th>\n",
       "      <th>sender_address</th>\n",
       "      <th>recipient_address</th>\n",
       "      <th>amount</th>\n",
       "      <th>timestamp</th>\n",
       "      <th>hash</th>\n",
       "    </tr>\n",
       "  </thead>\n",
       "  <tbody>\n",
       "    <tr>\n",
       "      <th>0</th>\n",
       "      <td>None</td>\n",
       "      <td>129MgykjRGofERTurDyYraHoUwJJsvm1NK</td>\n",
       "      <td>100</td>\n",
       "      <td>1.678895e+09</td>\n",
       "      <td>dfa5d5b3dbb9a39b991bc0f64675cb145ebe5bf19dbdf6...</td>\n",
       "    </tr>\n",
       "    <tr>\n",
       "      <th>1</th>\n",
       "      <td>None</td>\n",
       "      <td>129MgykjRGofERTurDyYraHoUwJJsvm1NK</td>\n",
       "      <td>100</td>\n",
       "      <td>1.678895e+09</td>\n",
       "      <td>4ed1899d18ce0c587e93ab82c1e0eaed2a1be112ef772c...</td>\n",
       "    </tr>\n",
       "    <tr>\n",
       "      <th>2</th>\n",
       "      <td>129MgykjRGofERTurDyYraHoUwJJsvm1NK</td>\n",
       "      <td>1MmuBB4o3faRap8CggdC7qmx7BEyGF6imF</td>\n",
       "      <td>120</td>\n",
       "      <td>1.678895e+09</td>\n",
       "      <td>a83ed089cfa7a15cc3271f0fc24a495b4ad036577e3498...</td>\n",
       "    </tr>\n",
       "    <tr>\n",
       "      <th>3</th>\n",
       "      <td>None</td>\n",
       "      <td>129MgykjRGofERTurDyYraHoUwJJsvm1NK</td>\n",
       "      <td>100</td>\n",
       "      <td>1.678895e+09</td>\n",
       "      <td>aa32337917daab14efad55539edd0647c6a1ddcf3a82e6...</td>\n",
       "    </tr>\n",
       "    <tr>\n",
       "      <th>4</th>\n",
       "      <td>129MgykjRGofERTurDyYraHoUwJJsvm1NK</td>\n",
       "      <td>1MmuBB4o3faRap8CggdC7qmx7BEyGF6imF</td>\n",
       "      <td>230</td>\n",
       "      <td>1.678895e+09</td>\n",
       "      <td>8e7a4dd7f774aaef50d805ea50f0cf28c6ba88d009dab7...</td>\n",
       "    </tr>\n",
       "    <tr>\n",
       "      <th>5</th>\n",
       "      <td>None</td>\n",
       "      <td>129MgykjRGofERTurDyYraHoUwJJsvm1NK</td>\n",
       "      <td>100</td>\n",
       "      <td>1.678895e+09</td>\n",
       "      <td>e287803b7468af2950577f0e32f4c07295fb32ea43024b...</td>\n",
       "    </tr>\n",
       "    <tr>\n",
       "      <th>6</th>\n",
       "      <td>1MmuBB4o3faRap8CggdC7qmx7BEyGF6imF</td>\n",
       "      <td>129MgykjRGofERTurDyYraHoUwJJsvm1NK</td>\n",
       "      <td>50</td>\n",
       "      <td>1.678895e+09</td>\n",
       "      <td>dc6a6d1d9ac9247ca76dca34eb6496c78d475aa7eb2659...</td>\n",
       "    </tr>\n",
       "    <tr>\n",
       "      <th>7</th>\n",
       "      <td>None</td>\n",
       "      <td>1MmuBB4o3faRap8CggdC7qmx7BEyGF6imF</td>\n",
       "      <td>100</td>\n",
       "      <td>1.678895e+09</td>\n",
       "      <td>b494cd3b3aa3879d450a3bdcca9841ecb7e6f6f9d4efe1...</td>\n",
       "    </tr>\n",
       "    <tr>\n",
       "      <th>8</th>\n",
       "      <td>1MmuBB4o3faRap8CggdC7qmx7BEyGF6imF</td>\n",
       "      <td>1PkwbV7QJwmE6SD43BMJmYTgewZtmnQ3Ug</td>\n",
       "      <td>70</td>\n",
       "      <td>1.678895e+09</td>\n",
       "      <td>abc4ea65e47e9f2b88316e83d4dcd0cf4dbc45007376f3...</td>\n",
       "    </tr>\n",
       "    <tr>\n",
       "      <th>9</th>\n",
       "      <td>None</td>\n",
       "      <td>129MgykjRGofERTurDyYraHoUwJJsvm1NK</td>\n",
       "      <td>100</td>\n",
       "      <td>1.678895e+09</td>\n",
       "      <td>ef0af28e5a68ca3df2a8fbd54335511b74759700c35a35...</td>\n",
       "    </tr>\n",
       "    <tr>\n",
       "      <th>10</th>\n",
       "      <td>1PkwbV7QJwmE6SD43BMJmYTgewZtmnQ3Ug</td>\n",
       "      <td>129MgykjRGofERTurDyYraHoUwJJsvm1NK</td>\n",
       "      <td>40</td>\n",
       "      <td>1.678895e+09</td>\n",
       "      <td>9f0d2f113881a08c14fb1a536437aea58368aaebd0bdd9...</td>\n",
       "    </tr>\n",
       "    <tr>\n",
       "      <th>11</th>\n",
       "      <td>None</td>\n",
       "      <td>1PkwbV7QJwmE6SD43BMJmYTgewZtmnQ3Ug</td>\n",
       "      <td>100</td>\n",
       "      <td>1.678895e+09</td>\n",
       "      <td>83db831f1fc4f3d0235a84d816481785ee9d71fc4232e3...</td>\n",
       "    </tr>\n",
       "    <tr>\n",
       "      <th>12</th>\n",
       "      <td>1MmuBB4o3faRap8CggdC7qmx7BEyGF6imF</td>\n",
       "      <td>1PkwbV7QJwmE6SD43BMJmYTgewZtmnQ3Ug</td>\n",
       "      <td>70</td>\n",
       "      <td>1.678895e+09</td>\n",
       "      <td>fe449ae88ffda30d7d201e33b8874c423cc553eea946e7...</td>\n",
       "    </tr>\n",
       "    <tr>\n",
       "      <th>13</th>\n",
       "      <td>None</td>\n",
       "      <td>1PkwbV7QJwmE6SD43BMJmYTgewZtmnQ3Ug</td>\n",
       "      <td>100</td>\n",
       "      <td>1.678895e+09</td>\n",
       "      <td>784be64528448457b2986dbbddd18417f43ec7e67bfe20...</td>\n",
       "    </tr>\n",
       "    <tr>\n",
       "      <th>14</th>\n",
       "      <td>129MgykjRGofERTurDyYraHoUwJJsvm1NK</td>\n",
       "      <td>1MmuBB4o3faRap8CggdC7qmx7BEyGF6imF</td>\n",
       "      <td>20</td>\n",
       "      <td>1.678895e+09</td>\n",
       "      <td>a97bdccfe05d2d69dee3e1212fcf483dce6e5267ded953...</td>\n",
       "    </tr>\n",
       "    <tr>\n",
       "      <th>15</th>\n",
       "      <td>None</td>\n",
       "      <td>129MgykjRGofERTurDyYraHoUwJJsvm1NK</td>\n",
       "      <td>100</td>\n",
       "      <td>1.678895e+09</td>\n",
       "      <td>d4b73a971fd265f939a28eff39224407a0da7ecd87b03c...</td>\n",
       "    </tr>\n",
       "    <tr>\n",
       "      <th>16</th>\n",
       "      <td>1MmuBB4o3faRap8CggdC7qmx7BEyGF6imF</td>\n",
       "      <td>129MgykjRGofERTurDyYraHoUwJJsvm1NK</td>\n",
       "      <td>45</td>\n",
       "      <td>1.678895e+09</td>\n",
       "      <td>cbd97f8b675d375d6836842b7cdb847e762350e662eeb8...</td>\n",
       "    </tr>\n",
       "    <tr>\n",
       "      <th>17</th>\n",
       "      <td>None</td>\n",
       "      <td>129MgykjRGofERTurDyYraHoUwJJsvm1NK</td>\n",
       "      <td>100</td>\n",
       "      <td>1.678895e+09</td>\n",
       "      <td>bc14b9e61992feea59f49b767be36a6b2c6357abe67fc1...</td>\n",
       "    </tr>\n",
       "    <tr>\n",
       "      <th>18</th>\n",
       "      <td>129MgykjRGofERTurDyYraHoUwJJsvm1NK</td>\n",
       "      <td>1PkwbV7QJwmE6SD43BMJmYTgewZtmnQ3Ug</td>\n",
       "      <td>18</td>\n",
       "      <td>1.678895e+09</td>\n",
       "      <td>f5ad08cecb6a162fe03908ffb2f245f8b41795056d8f53...</td>\n",
       "    </tr>\n",
       "    <tr>\n",
       "      <th>19</th>\n",
       "      <td>None</td>\n",
       "      <td>1MmuBB4o3faRap8CggdC7qmx7BEyGF6imF</td>\n",
       "      <td>100</td>\n",
       "      <td>1.678895e+09</td>\n",
       "      <td>9a524d3b86265f0204bbe6d4423ced3ef4db4ada74ca66...</td>\n",
       "    </tr>\n",
       "    <tr>\n",
       "      <th>20</th>\n",
       "      <td>None</td>\n",
       "      <td>1HjxesNZJ5eTtVYnhN13ersnGycq5j29sr</td>\n",
       "      <td>100</td>\n",
       "      <td>1.678895e+09</td>\n",
       "      <td>eaef64a7fc1802267592d0c093db9bd080a3b37cbc489f...</td>\n",
       "    </tr>\n",
       "    <tr>\n",
       "      <th>21</th>\n",
       "      <td>None</td>\n",
       "      <td>1HjxesNZJ5eTtVYnhN13ersnGycq5j29sr</td>\n",
       "      <td>100</td>\n",
       "      <td>1.678895e+09</td>\n",
       "      <td>bd0ba32d7932262efc20b96395a5fa1267ac23951b326a...</td>\n",
       "    </tr>\n",
       "    <tr>\n",
       "      <th>22</th>\n",
       "      <td>1HjxesNZJ5eTtVYnhN13ersnGycq5j29sr</td>\n",
       "      <td>1BTjCkebHzMKpXyffT1NuhYfNJnJLkdgMy</td>\n",
       "      <td>120</td>\n",
       "      <td>1.678895e+09</td>\n",
       "      <td>23f5678eb84c7316e58c5b10f06a22682fbfaf53a21ab7...</td>\n",
       "    </tr>\n",
       "    <tr>\n",
       "      <th>23</th>\n",
       "      <td>None</td>\n",
       "      <td>1HjxesNZJ5eTtVYnhN13ersnGycq5j29sr</td>\n",
       "      <td>100</td>\n",
       "      <td>1.678895e+09</td>\n",
       "      <td>025b70a35b0cb1416255b0df9a9a4e947b46d82ce265ff...</td>\n",
       "    </tr>\n",
       "    <tr>\n",
       "      <th>24</th>\n",
       "      <td>1HjxesNZJ5eTtVYnhN13ersnGycq5j29sr</td>\n",
       "      <td>1BTjCkebHzMKpXyffT1NuhYfNJnJLkdgMy</td>\n",
       "      <td>230</td>\n",
       "      <td>1.678895e+09</td>\n",
       "      <td>c74bc46eec5eaee50195045b74f03e69d7a7406d76b25f...</td>\n",
       "    </tr>\n",
       "    <tr>\n",
       "      <th>25</th>\n",
       "      <td>None</td>\n",
       "      <td>1HjxesNZJ5eTtVYnhN13ersnGycq5j29sr</td>\n",
       "      <td>100</td>\n",
       "      <td>1.678895e+09</td>\n",
       "      <td>44fe809af5f90b47db72258e15faa5de0163d61cc234bc...</td>\n",
       "    </tr>\n",
       "    <tr>\n",
       "      <th>26</th>\n",
       "      <td>1BTjCkebHzMKpXyffT1NuhYfNJnJLkdgMy</td>\n",
       "      <td>1HjxesNZJ5eTtVYnhN13ersnGycq5j29sr</td>\n",
       "      <td>50</td>\n",
       "      <td>1.678895e+09</td>\n",
       "      <td>c49cb9b03a83a87ebb79c9f3c1f80ceec52b04226a84ce...</td>\n",
       "    </tr>\n",
       "    <tr>\n",
       "      <th>27</th>\n",
       "      <td>None</td>\n",
       "      <td>1BTjCkebHzMKpXyffT1NuhYfNJnJLkdgMy</td>\n",
       "      <td>100</td>\n",
       "      <td>1.678895e+09</td>\n",
       "      <td>bd8a5c147e53acaf19c12ea71f804f26e891d56b3f06ac...</td>\n",
       "    </tr>\n",
       "    <tr>\n",
       "      <th>28</th>\n",
       "      <td>1BTjCkebHzMKpXyffT1NuhYfNJnJLkdgMy</td>\n",
       "      <td>1AVewgwUTniPnUH5kVgQan16iNudPBePW1</td>\n",
       "      <td>70</td>\n",
       "      <td>1.678895e+09</td>\n",
       "      <td>9f4bead63e7908e94dab59d281ca8abadf2078fe9bb0ec...</td>\n",
       "    </tr>\n",
       "    <tr>\n",
       "      <th>29</th>\n",
       "      <td>None</td>\n",
       "      <td>1HjxesNZJ5eTtVYnhN13ersnGycq5j29sr</td>\n",
       "      <td>100</td>\n",
       "      <td>1.678895e+09</td>\n",
       "      <td>c7936e7bb67f37e59a39e6facbcc0250ae39ba6d340660...</td>\n",
       "    </tr>\n",
       "    <tr>\n",
       "      <th>30</th>\n",
       "      <td>1AVewgwUTniPnUH5kVgQan16iNudPBePW1</td>\n",
       "      <td>1HjxesNZJ5eTtVYnhN13ersnGycq5j29sr</td>\n",
       "      <td>40</td>\n",
       "      <td>1.678895e+09</td>\n",
       "      <td>50d686fdb5ef20d3a5c39a14cd69514faafd4f52fda371...</td>\n",
       "    </tr>\n",
       "    <tr>\n",
       "      <th>31</th>\n",
       "      <td>None</td>\n",
       "      <td>1AVewgwUTniPnUH5kVgQan16iNudPBePW1</td>\n",
       "      <td>100</td>\n",
       "      <td>1.678895e+09</td>\n",
       "      <td>cb604a69966e2c943f6e05e2506008fb8a8e105036bd5b...</td>\n",
       "    </tr>\n",
       "    <tr>\n",
       "      <th>32</th>\n",
       "      <td>None</td>\n",
       "      <td>1MfxwG4qCTakGrqzjuM1gHtS8uRjSnwesD</td>\n",
       "      <td>100</td>\n",
       "      <td>1.678895e+09</td>\n",
       "      <td>e2394eba1b75549410c186bc5383d1113e253262e23046...</td>\n",
       "    </tr>\n",
       "    <tr>\n",
       "      <th>33</th>\n",
       "      <td>None</td>\n",
       "      <td>1MfxwG4qCTakGrqzjuM1gHtS8uRjSnwesD</td>\n",
       "      <td>100</td>\n",
       "      <td>1.678895e+09</td>\n",
       "      <td>6377db0b9226f87e5e507769cfe9bb3226900b56f3176b...</td>\n",
       "    </tr>\n",
       "    <tr>\n",
       "      <th>34</th>\n",
       "      <td>1MfxwG4qCTakGrqzjuM1gHtS8uRjSnwesD</td>\n",
       "      <td>1LhfjnLHj1gsQNnT46aZbR8u5fCuyRYbtE</td>\n",
       "      <td>120</td>\n",
       "      <td>1.678895e+09</td>\n",
       "      <td>e64f369a4ee3b6c03b59ac429b317ccc9e9f30f1ce58ab...</td>\n",
       "    </tr>\n",
       "    <tr>\n",
       "      <th>35</th>\n",
       "      <td>None</td>\n",
       "      <td>1MfxwG4qCTakGrqzjuM1gHtS8uRjSnwesD</td>\n",
       "      <td>100</td>\n",
       "      <td>1.678895e+09</td>\n",
       "      <td>992a80f4fdaed7e7f576ca0701146fbdbe7510eaadb620...</td>\n",
       "    </tr>\n",
       "    <tr>\n",
       "      <th>36</th>\n",
       "      <td>1MfxwG4qCTakGrqzjuM1gHtS8uRjSnwesD</td>\n",
       "      <td>1LhfjnLHj1gsQNnT46aZbR8u5fCuyRYbtE</td>\n",
       "      <td>230</td>\n",
       "      <td>1.678895e+09</td>\n",
       "      <td>381f4b22fe36e53c0b4d40e3854a498a112b9e6c494852...</td>\n",
       "    </tr>\n",
       "    <tr>\n",
       "      <th>37</th>\n",
       "      <td>None</td>\n",
       "      <td>1MfxwG4qCTakGrqzjuM1gHtS8uRjSnwesD</td>\n",
       "      <td>100</td>\n",
       "      <td>1.678895e+09</td>\n",
       "      <td>25f1add52d20d9d6f91a22e55985e4adac7d17b77c72ec...</td>\n",
       "    </tr>\n",
       "    <tr>\n",
       "      <th>38</th>\n",
       "      <td>1LhfjnLHj1gsQNnT46aZbR8u5fCuyRYbtE</td>\n",
       "      <td>1MfxwG4qCTakGrqzjuM1gHtS8uRjSnwesD</td>\n",
       "      <td>50</td>\n",
       "      <td>1.678895e+09</td>\n",
       "      <td>721f0a46e495d3898532a72b868216156a7a37624f4025...</td>\n",
       "    </tr>\n",
       "    <tr>\n",
       "      <th>39</th>\n",
       "      <td>None</td>\n",
       "      <td>1LhfjnLHj1gsQNnT46aZbR8u5fCuyRYbtE</td>\n",
       "      <td>100</td>\n",
       "      <td>1.678895e+09</td>\n",
       "      <td>93b3c3cd8f837c40965f1c29c443a03892ec80de6b772a...</td>\n",
       "    </tr>\n",
       "    <tr>\n",
       "      <th>40</th>\n",
       "      <td>1LhfjnLHj1gsQNnT46aZbR8u5fCuyRYbtE</td>\n",
       "      <td>16We6qyj6Fe62wyuanwUEms32icZR356sD</td>\n",
       "      <td>70</td>\n",
       "      <td>1.678895e+09</td>\n",
       "      <td>671a438e7baecd600d10d1bfe5fef10cb5c9e7a12dd601...</td>\n",
       "    </tr>\n",
       "    <tr>\n",
       "      <th>41</th>\n",
       "      <td>None</td>\n",
       "      <td>1MfxwG4qCTakGrqzjuM1gHtS8uRjSnwesD</td>\n",
       "      <td>100</td>\n",
       "      <td>1.678895e+09</td>\n",
       "      <td>81f66601a5d6abac89fbf4e65e6b6691c61aa44642430f...</td>\n",
       "    </tr>\n",
       "    <tr>\n",
       "      <th>42</th>\n",
       "      <td>16We6qyj6Fe62wyuanwUEms32icZR356sD</td>\n",
       "      <td>1MfxwG4qCTakGrqzjuM1gHtS8uRjSnwesD</td>\n",
       "      <td>40</td>\n",
       "      <td>1.678895e+09</td>\n",
       "      <td>11d3dae0f40a5bd5ead79ed8430bc3d987230b8a75b468...</td>\n",
       "    </tr>\n",
       "    <tr>\n",
       "      <th>43</th>\n",
       "      <td>None</td>\n",
       "      <td>16We6qyj6Fe62wyuanwUEms32icZR356sD</td>\n",
       "      <td>100</td>\n",
       "      <td>1.678895e+09</td>\n",
       "      <td>79e900f516cf1bbd140238ceef5a22619efa80ae50d895...</td>\n",
       "    </tr>\n",
       "    <tr>\n",
       "      <th>44</th>\n",
       "      <td>1LhfjnLHj1gsQNnT46aZbR8u5fCuyRYbtE</td>\n",
       "      <td>16We6qyj6Fe62wyuanwUEms32icZR356sD</td>\n",
       "      <td>70</td>\n",
       "      <td>1.678895e+09</td>\n",
       "      <td>d87e8fcf081af82ffa900748e710ab0d76e471d9b8ccf1...</td>\n",
       "    </tr>\n",
       "    <tr>\n",
       "      <th>45</th>\n",
       "      <td>None</td>\n",
       "      <td>1MfxwG4qCTakGrqzjuM1gHtS8uRjSnwesD</td>\n",
       "      <td>100</td>\n",
       "      <td>1.678895e+09</td>\n",
       "      <td>420320bacbdf94f1de79c1647a0434fa766ce51d54fb64...</td>\n",
       "    </tr>\n",
       "    <tr>\n",
       "      <th>46</th>\n",
       "      <td>1MfxwG4qCTakGrqzjuM1gHtS8uRjSnwesD</td>\n",
       "      <td>1LhfjnLHj1gsQNnT46aZbR8u5fCuyRYbtE</td>\n",
       "      <td>20</td>\n",
       "      <td>1.678895e+09</td>\n",
       "      <td>22d58cee7d49cca0d612c77f927e23b2a95461784e88ec...</td>\n",
       "    </tr>\n",
       "    <tr>\n",
       "      <th>47</th>\n",
       "      <td>None</td>\n",
       "      <td>16We6qyj6Fe62wyuanwUEms32icZR356sD</td>\n",
       "      <td>100</td>\n",
       "      <td>1.678895e+09</td>\n",
       "      <td>8c356f526f7efeed25bc4fcd8567b99f46a253ecfbae58...</td>\n",
       "    </tr>\n",
       "    <tr>\n",
       "      <th>48</th>\n",
       "      <td>1LhfjnLHj1gsQNnT46aZbR8u5fCuyRYbtE</td>\n",
       "      <td>1MfxwG4qCTakGrqzjuM1gHtS8uRjSnwesD</td>\n",
       "      <td>45</td>\n",
       "      <td>1.678895e+09</td>\n",
       "      <td>84baaac8161177f44fea883ddf9c53344586fe81b7f82e...</td>\n",
       "    </tr>\n",
       "    <tr>\n",
       "      <th>49</th>\n",
       "      <td>None</td>\n",
       "      <td>1MfxwG4qCTakGrqzjuM1gHtS8uRjSnwesD</td>\n",
       "      <td>100</td>\n",
       "      <td>1.678895e+09</td>\n",
       "      <td>2e5b37d60fee74f5713af89cf5a4150ec6910f4514c3f8...</td>\n",
       "    </tr>\n",
       "    <tr>\n",
       "      <th>50</th>\n",
       "      <td>1MfxwG4qCTakGrqzjuM1gHtS8uRjSnwesD</td>\n",
       "      <td>16We6qyj6Fe62wyuanwUEms32icZR356sD</td>\n",
       "      <td>18</td>\n",
       "      <td>1.678895e+09</td>\n",
       "      <td>030cb5af1c245d4bf5b38cc4931fe9f2b9ffa12ecc7c42...</td>\n",
       "    </tr>\n",
       "    <tr>\n",
       "      <th>51</th>\n",
       "      <td>None</td>\n",
       "      <td>1LhfjnLHj1gsQNnT46aZbR8u5fCuyRYbtE</td>\n",
       "      <td>100</td>\n",
       "      <td>1.678895e+09</td>\n",
       "      <td>775cf1f1393b144ef186a385f3f9e9b9a6edc9a7e62a38...</td>\n",
       "    </tr>\n",
       "    <tr>\n",
       "      <th>52</th>\n",
       "      <td>None</td>\n",
       "      <td>1Rn8LHNwe8r6BQ4bKhZM5VapX862xkrTo</td>\n",
       "      <td>100</td>\n",
       "      <td>1.678895e+09</td>\n",
       "      <td>142a63ea5d184603b87a9aba9a61d1e89ac85bbd5e1ed9...</td>\n",
       "    </tr>\n",
       "    <tr>\n",
       "      <th>53</th>\n",
       "      <td>None</td>\n",
       "      <td>1Rn8LHNwe8r6BQ4bKhZM5VapX862xkrTo</td>\n",
       "      <td>100</td>\n",
       "      <td>1.678895e+09</td>\n",
       "      <td>44d5b361ad9d0bb5801e68a466f6ddcd75eb78e0df616e...</td>\n",
       "    </tr>\n",
       "    <tr>\n",
       "      <th>54</th>\n",
       "      <td>1Rn8LHNwe8r6BQ4bKhZM5VapX862xkrTo</td>\n",
       "      <td>1Fo2nxaKvyTwJ3rH8ydjFzjGZqbxVBKLKp</td>\n",
       "      <td>120</td>\n",
       "      <td>1.678895e+09</td>\n",
       "      <td>a1478e14f4ac82e12680fcbed97b88a86263451de26b97...</td>\n",
       "    </tr>\n",
       "    <tr>\n",
       "      <th>55</th>\n",
       "      <td>None</td>\n",
       "      <td>1Rn8LHNwe8r6BQ4bKhZM5VapX862xkrTo</td>\n",
       "      <td>100</td>\n",
       "      <td>1.678895e+09</td>\n",
       "      <td>41f0b870379776600e99067991b52bc54a15bfaf18f9ed...</td>\n",
       "    </tr>\n",
       "    <tr>\n",
       "      <th>56</th>\n",
       "      <td>1Rn8LHNwe8r6BQ4bKhZM5VapX862xkrTo</td>\n",
       "      <td>1Fo2nxaKvyTwJ3rH8ydjFzjGZqbxVBKLKp</td>\n",
       "      <td>230</td>\n",
       "      <td>1.678895e+09</td>\n",
       "      <td>2e301011f8502143666419f14933f3b4182e5635344ecb...</td>\n",
       "    </tr>\n",
       "    <tr>\n",
       "      <th>57</th>\n",
       "      <td>None</td>\n",
       "      <td>1Rn8LHNwe8r6BQ4bKhZM5VapX862xkrTo</td>\n",
       "      <td>100</td>\n",
       "      <td>1.678895e+09</td>\n",
       "      <td>669349f012f791d5de0c521492e765028d970c69762c8e...</td>\n",
       "    </tr>\n",
       "    <tr>\n",
       "      <th>58</th>\n",
       "      <td>1Fo2nxaKvyTwJ3rH8ydjFzjGZqbxVBKLKp</td>\n",
       "      <td>1Rn8LHNwe8r6BQ4bKhZM5VapX862xkrTo</td>\n",
       "      <td>50</td>\n",
       "      <td>1.678895e+09</td>\n",
       "      <td>f6366cece0db00f35d3433bed640bd3fbec687a0f21453...</td>\n",
       "    </tr>\n",
       "    <tr>\n",
       "      <th>59</th>\n",
       "      <td>None</td>\n",
       "      <td>1Fo2nxaKvyTwJ3rH8ydjFzjGZqbxVBKLKp</td>\n",
       "      <td>100</td>\n",
       "      <td>1.678895e+09</td>\n",
       "      <td>a829ffca8fc43ff77c6e166f62f3ad2be10566d9a7eebf...</td>\n",
       "    </tr>\n",
       "    <tr>\n",
       "      <th>60</th>\n",
       "      <td>1Fo2nxaKvyTwJ3rH8ydjFzjGZqbxVBKLKp</td>\n",
       "      <td>1HvtxvA9pSxdDQcZuCipD1uHH9W3Z2z8WS</td>\n",
       "      <td>70</td>\n",
       "      <td>1.678895e+09</td>\n",
       "      <td>d90d1ec6ff206f4e4a8edf5854fb171b4ef05256434ad5...</td>\n",
       "    </tr>\n",
       "    <tr>\n",
       "      <th>61</th>\n",
       "      <td>None</td>\n",
       "      <td>1Rn8LHNwe8r6BQ4bKhZM5VapX862xkrTo</td>\n",
       "      <td>100</td>\n",
       "      <td>1.678895e+09</td>\n",
       "      <td>115690b3a3ddc88d67d87d65e5136a5e0351b9005422e2...</td>\n",
       "    </tr>\n",
       "    <tr>\n",
       "      <th>62</th>\n",
       "      <td>1HvtxvA9pSxdDQcZuCipD1uHH9W3Z2z8WS</td>\n",
       "      <td>1Rn8LHNwe8r6BQ4bKhZM5VapX862xkrTo</td>\n",
       "      <td>40</td>\n",
       "      <td>1.678895e+09</td>\n",
       "      <td>089fe27fd85c5ec3e1421ea589811120fe54103aed441f...</td>\n",
       "    </tr>\n",
       "    <tr>\n",
       "      <th>63</th>\n",
       "      <td>None</td>\n",
       "      <td>1HvtxvA9pSxdDQcZuCipD1uHH9W3Z2z8WS</td>\n",
       "      <td>100</td>\n",
       "      <td>1.678895e+09</td>\n",
       "      <td>427b84cddaa83ee9a3ebcf60f19776362deff6c8991645...</td>\n",
       "    </tr>\n",
       "    <tr>\n",
       "      <th>64</th>\n",
       "      <td>None</td>\n",
       "      <td>16fcygswpTNfJBkvW29KHD5rQRhA2a3Rna</td>\n",
       "      <td>100</td>\n",
       "      <td>1.678895e+09</td>\n",
       "      <td>b756c87c214350c670309b63fb9aad35e7fd75395dc909...</td>\n",
       "    </tr>\n",
       "    <tr>\n",
       "      <th>65</th>\n",
       "      <td>None</td>\n",
       "      <td>16fcygswpTNfJBkvW29KHD5rQRhA2a3Rna</td>\n",
       "      <td>100</td>\n",
       "      <td>1.678895e+09</td>\n",
       "      <td>e5dc04c53c27273439d4e268dde537518f91ab541853f0...</td>\n",
       "    </tr>\n",
       "    <tr>\n",
       "      <th>66</th>\n",
       "      <td>None</td>\n",
       "      <td>16fcygswpTNfJBkvW29KHD5rQRhA2a3Rna</td>\n",
       "      <td>100</td>\n",
       "      <td>1.678895e+09</td>\n",
       "      <td>884fc05ce0ca2b666c293178862cf71d8b815f52a09c2d...</td>\n",
       "    </tr>\n",
       "    <tr>\n",
       "      <th>67</th>\n",
       "      <td>None</td>\n",
       "      <td>16fcygswpTNfJBkvW29KHD5rQRhA2a3Rna</td>\n",
       "      <td>100</td>\n",
       "      <td>1.678895e+09</td>\n",
       "      <td>1d538aac72770a96fba3da15589a4bf345c989a6fd576a...</td>\n",
       "    </tr>\n",
       "    <tr>\n",
       "      <th>68</th>\n",
       "      <td>None</td>\n",
       "      <td>1MeHo4ZFNJdfaZz119iDKCPFgGT6zKcEso</td>\n",
       "      <td>100</td>\n",
       "      <td>1.678895e+09</td>\n",
       "      <td>59563504e8c8a18f62803e855f60238c4540e89b828840...</td>\n",
       "    </tr>\n",
       "    <tr>\n",
       "      <th>69</th>\n",
       "      <td>None</td>\n",
       "      <td>1MeHo4ZFNJdfaZz119iDKCPFgGT6zKcEso</td>\n",
       "      <td>100</td>\n",
       "      <td>1.678895e+09</td>\n",
       "      <td>81c4d3b751e0193b39a99487ac16be5c0ee94763a2f0bf...</td>\n",
       "    </tr>\n",
       "    <tr>\n",
       "      <th>70</th>\n",
       "      <td>None</td>\n",
       "      <td>1MeHo4ZFNJdfaZz119iDKCPFgGT6zKcEso</td>\n",
       "      <td>100</td>\n",
       "      <td>1.678895e+09</td>\n",
       "      <td>15f63163f8e28c657dd101c7bf429b326aca56ef7ab329...</td>\n",
       "    </tr>\n",
       "    <tr>\n",
       "      <th>71</th>\n",
       "      <td>1MeHo4ZFNJdfaZz119iDKCPFgGT6zKcEso</td>\n",
       "      <td>1hNfrEkwqYUeFno3sRH9VGqSYta2MwX4x</td>\n",
       "      <td>120</td>\n",
       "      <td>1.678895e+09</td>\n",
       "      <td>54c7f67f12ba5787efab2cbd694b84f5debc83d118a226...</td>\n",
       "    </tr>\n",
       "    <tr>\n",
       "      <th>72</th>\n",
       "      <td>None</td>\n",
       "      <td>1MeHo4ZFNJdfaZz119iDKCPFgGT6zKcEso</td>\n",
       "      <td>100</td>\n",
       "      <td>1.678895e+09</td>\n",
       "      <td>9f8a6e4d0c82d7f21bcbcf7b84aedca72f67b90700a2f5...</td>\n",
       "    </tr>\n",
       "    <tr>\n",
       "      <th>73</th>\n",
       "      <td>1MeHo4ZFNJdfaZz119iDKCPFgGT6zKcEso</td>\n",
       "      <td>1hNfrEkwqYUeFno3sRH9VGqSYta2MwX4x</td>\n",
       "      <td>230</td>\n",
       "      <td>1.678895e+09</td>\n",
       "      <td>5e94f206a2dd995631ccc9a9fdd5b323ea5b31b6918afd...</td>\n",
       "    </tr>\n",
       "    <tr>\n",
       "      <th>74</th>\n",
       "      <td>None</td>\n",
       "      <td>1MeHo4ZFNJdfaZz119iDKCPFgGT6zKcEso</td>\n",
       "      <td>100</td>\n",
       "      <td>1.678895e+09</td>\n",
       "      <td>5a040ee6fa272611eea874e83b75e4c4930cf22cf03417...</td>\n",
       "    </tr>\n",
       "    <tr>\n",
       "      <th>75</th>\n",
       "      <td>1hNfrEkwqYUeFno3sRH9VGqSYta2MwX4x</td>\n",
       "      <td>1MeHo4ZFNJdfaZz119iDKCPFgGT6zKcEso</td>\n",
       "      <td>50</td>\n",
       "      <td>1.678895e+09</td>\n",
       "      <td>721f4758b167a21bbf38e5f463d06d9a633ddde4f91c59...</td>\n",
       "    </tr>\n",
       "    <tr>\n",
       "      <th>76</th>\n",
       "      <td>None</td>\n",
       "      <td>1hNfrEkwqYUeFno3sRH9VGqSYta2MwX4x</td>\n",
       "      <td>100</td>\n",
       "      <td>1.678895e+09</td>\n",
       "      <td>24a823b4e5090cb41d2bb37b6ef9dd3e3a30d033e8d01d...</td>\n",
       "    </tr>\n",
       "    <tr>\n",
       "      <th>77</th>\n",
       "      <td>1hNfrEkwqYUeFno3sRH9VGqSYta2MwX4x</td>\n",
       "      <td>167yS5PJGAxZdDUo6R7fEn8bZihm4hq7LW</td>\n",
       "      <td>70</td>\n",
       "      <td>1.678895e+09</td>\n",
       "      <td>1b975cfef531fdd4a8b091bb2826afcf383675ecc745f1...</td>\n",
       "    </tr>\n",
       "    <tr>\n",
       "      <th>78</th>\n",
       "      <td>None</td>\n",
       "      <td>1MeHo4ZFNJdfaZz119iDKCPFgGT6zKcEso</td>\n",
       "      <td>100</td>\n",
       "      <td>1.678895e+09</td>\n",
       "      <td>86e88267e9f1812a83d4e3c8058a8c0ee79bc197d5b630...</td>\n",
       "    </tr>\n",
       "    <tr>\n",
       "      <th>79</th>\n",
       "      <td>None</td>\n",
       "      <td>1MeHo4ZFNJdfaZz119iDKCPFgGT6zKcEso</td>\n",
       "      <td>100</td>\n",
       "      <td>1.678895e+09</td>\n",
       "      <td>452693ccccaecb4dddf2601b1044e1bde0560d89278e3b...</td>\n",
       "    </tr>\n",
       "    <tr>\n",
       "      <th>80</th>\n",
       "      <td>None</td>\n",
       "      <td>1MeHo4ZFNJdfaZz119iDKCPFgGT6zKcEso</td>\n",
       "      <td>100</td>\n",
       "      <td>1.678895e+09</td>\n",
       "      <td>2a8b2e83eaa7a7cec2c45f293b6d73af3c2d8d37fbb181...</td>\n",
       "    </tr>\n",
       "    <tr>\n",
       "      <th>81</th>\n",
       "      <td>None</td>\n",
       "      <td>1MeHo4ZFNJdfaZz119iDKCPFgGT6zKcEso</td>\n",
       "      <td>100</td>\n",
       "      <td>1.678895e+09</td>\n",
       "      <td>61bef2b77e588700ba575abd2365c3f59b3b5cb425c80b...</td>\n",
       "    </tr>\n",
       "    <tr>\n",
       "      <th>82</th>\n",
       "      <td>None</td>\n",
       "      <td>1MeHo4ZFNJdfaZz119iDKCPFgGT6zKcEso</td>\n",
       "      <td>100</td>\n",
       "      <td>1.678895e+09</td>\n",
       "      <td>69126078e11a1b566b549d5688a893c5fac166e6c54c7f...</td>\n",
       "    </tr>\n",
       "    <tr>\n",
       "      <th>83</th>\n",
       "      <td>None</td>\n",
       "      <td>1KcWe34hLWSJUqVLmNT2Pt6msbXz8tmeuc</td>\n",
       "      <td>100</td>\n",
       "      <td>1.678895e+09</td>\n",
       "      <td>d9b2738fbfedfb9a095914ba7e0d42e2c1fa7b8757029e...</td>\n",
       "    </tr>\n",
       "    <tr>\n",
       "      <th>84</th>\n",
       "      <td>None</td>\n",
       "      <td>1KcWe34hLWSJUqVLmNT2Pt6msbXz8tmeuc</td>\n",
       "      <td>100</td>\n",
       "      <td>1.678895e+09</td>\n",
       "      <td>8228b263755abc21256f13c80d73d49277e0b43bdca825...</td>\n",
       "    </tr>\n",
       "    <tr>\n",
       "      <th>85</th>\n",
       "      <td>1KcWe34hLWSJUqVLmNT2Pt6msbXz8tmeuc</td>\n",
       "      <td>1QBs4gzxaJUWHXZHrinfqzWAru6hLcnrWA</td>\n",
       "      <td>120</td>\n",
       "      <td>1.678895e+09</td>\n",
       "      <td>e29a80ad40db9e03bfafa234cf40db369ba8271ecb8269...</td>\n",
       "    </tr>\n",
       "    <tr>\n",
       "      <th>86</th>\n",
       "      <td>None</td>\n",
       "      <td>1KcWe34hLWSJUqVLmNT2Pt6msbXz8tmeuc</td>\n",
       "      <td>100</td>\n",
       "      <td>1.678895e+09</td>\n",
       "      <td>69dd20d7275e30b87a99441514d266748f2a3c2c76c706...</td>\n",
       "    </tr>\n",
       "    <tr>\n",
       "      <th>87</th>\n",
       "      <td>1KcWe34hLWSJUqVLmNT2Pt6msbXz8tmeuc</td>\n",
       "      <td>1QBs4gzxaJUWHXZHrinfqzWAru6hLcnrWA</td>\n",
       "      <td>230</td>\n",
       "      <td>1.678895e+09</td>\n",
       "      <td>910e44beeb639d75a8308382dbc056415d0a44765307bd...</td>\n",
       "    </tr>\n",
       "    <tr>\n",
       "      <th>88</th>\n",
       "      <td>None</td>\n",
       "      <td>1KcWe34hLWSJUqVLmNT2Pt6msbXz8tmeuc</td>\n",
       "      <td>100</td>\n",
       "      <td>1.678895e+09</td>\n",
       "      <td>77b05aea20279aa73426f63c8e48aaeca2059621c4472e...</td>\n",
       "    </tr>\n",
       "    <tr>\n",
       "      <th>89</th>\n",
       "      <td>1QBs4gzxaJUWHXZHrinfqzWAru6hLcnrWA</td>\n",
       "      <td>1KcWe34hLWSJUqVLmNT2Pt6msbXz8tmeuc</td>\n",
       "      <td>50</td>\n",
       "      <td>1.678895e+09</td>\n",
       "      <td>10a46b013cd1e8371691bc6ed690829dda5110826d32fb...</td>\n",
       "    </tr>\n",
       "    <tr>\n",
       "      <th>90</th>\n",
       "      <td>None</td>\n",
       "      <td>1QBs4gzxaJUWHXZHrinfqzWAru6hLcnrWA</td>\n",
       "      <td>100</td>\n",
       "      <td>1.678895e+09</td>\n",
       "      <td>7dc5643b0a816af3fa600ef3983c9beafea26a7f649e63...</td>\n",
       "    </tr>\n",
       "    <tr>\n",
       "      <th>91</th>\n",
       "      <td>1QBs4gzxaJUWHXZHrinfqzWAru6hLcnrWA</td>\n",
       "      <td>17ns4E4doJ2wH4JDnWB9UPZomaHCc3QM2K</td>\n",
       "      <td>70</td>\n",
       "      <td>1.678895e+09</td>\n",
       "      <td>f9fee8e621aefc3356ddba049b5aad2e566dfc75999377...</td>\n",
       "    </tr>\n",
       "    <tr>\n",
       "      <th>92</th>\n",
       "      <td>None</td>\n",
       "      <td>1KcWe34hLWSJUqVLmNT2Pt6msbXz8tmeuc</td>\n",
       "      <td>100</td>\n",
       "      <td>1.678895e+09</td>\n",
       "      <td>b72f1796fb95f177d8a202ea5d1507e1ca04b5de1372d7...</td>\n",
       "    </tr>\n",
       "    <tr>\n",
       "      <th>93</th>\n",
       "      <td>17ns4E4doJ2wH4JDnWB9UPZomaHCc3QM2K</td>\n",
       "      <td>1KcWe34hLWSJUqVLmNT2Pt6msbXz8tmeuc</td>\n",
       "      <td>40</td>\n",
       "      <td>1.678895e+09</td>\n",
       "      <td>ed9c892f79e56f2365f18126601525ff01cd5515ddd28e...</td>\n",
       "    </tr>\n",
       "    <tr>\n",
       "      <th>94</th>\n",
       "      <td>None</td>\n",
       "      <td>17ns4E4doJ2wH4JDnWB9UPZomaHCc3QM2K</td>\n",
       "      <td>100</td>\n",
       "      <td>1.678895e+09</td>\n",
       "      <td>9c0bbee98ea818161740a641d980b04065ce9fee4ca600...</td>\n",
       "    </tr>\n",
       "    <tr>\n",
       "      <th>95</th>\n",
       "      <td>1QBs4gzxaJUWHXZHrinfqzWAru6hLcnrWA</td>\n",
       "      <td>17ns4E4doJ2wH4JDnWB9UPZomaHCc3QM2K</td>\n",
       "      <td>70</td>\n",
       "      <td>1.678895e+09</td>\n",
       "      <td>d7b1c65c38db2938e838789c21f4083d7947cf82721fab...</td>\n",
       "    </tr>\n",
       "    <tr>\n",
       "      <th>96</th>\n",
       "      <td>None</td>\n",
       "      <td>1QBs4gzxaJUWHXZHrinfqzWAru6hLcnrWA</td>\n",
       "      <td>100</td>\n",
       "      <td>1.678895e+09</td>\n",
       "      <td>2bf218db0296bb190dcaf397f9d33003f74d083668698e...</td>\n",
       "    </tr>\n",
       "    <tr>\n",
       "      <th>97</th>\n",
       "      <td>1KcWe34hLWSJUqVLmNT2Pt6msbXz8tmeuc</td>\n",
       "      <td>1QBs4gzxaJUWHXZHrinfqzWAru6hLcnrWA</td>\n",
       "      <td>20</td>\n",
       "      <td>1.678895e+09</td>\n",
       "      <td>8e4df920ca319d44a57fa234d11fff34853f0c231c8065...</td>\n",
       "    </tr>\n",
       "    <tr>\n",
       "      <th>98</th>\n",
       "      <td>None</td>\n",
       "      <td>17ns4E4doJ2wH4JDnWB9UPZomaHCc3QM2K</td>\n",
       "      <td>100</td>\n",
       "      <td>1.678895e+09</td>\n",
       "      <td>17fa5e237b6b31afab6079975efb1dedd4cc2b6e33fc4f...</td>\n",
       "    </tr>\n",
       "    <tr>\n",
       "      <th>99</th>\n",
       "      <td>1QBs4gzxaJUWHXZHrinfqzWAru6hLcnrWA</td>\n",
       "      <td>1KcWe34hLWSJUqVLmNT2Pt6msbXz8tmeuc</td>\n",
       "      <td>45</td>\n",
       "      <td>1.678895e+09</td>\n",
       "      <td>2f31949b3676f8b968f502f7738cec69de271d06867fcf...</td>\n",
       "    </tr>\n",
       "    <tr>\n",
       "      <th>100</th>\n",
       "      <td>None</td>\n",
       "      <td>1KcWe34hLWSJUqVLmNT2Pt6msbXz8tmeuc</td>\n",
       "      <td>100</td>\n",
       "      <td>1.678895e+09</td>\n",
       "      <td>38c778d1073b591aa365ff91ba8ec4bc6ac1e5d8d7e419...</td>\n",
       "    </tr>\n",
       "    <tr>\n",
       "      <th>101</th>\n",
       "      <td>1KcWe34hLWSJUqVLmNT2Pt6msbXz8tmeuc</td>\n",
       "      <td>17ns4E4doJ2wH4JDnWB9UPZomaHCc3QM2K</td>\n",
       "      <td>18</td>\n",
       "      <td>1.678895e+09</td>\n",
       "      <td>ac6b7d82aef6bab1544616c3258648c6a35e8e7e47b897...</td>\n",
       "    </tr>\n",
       "    <tr>\n",
       "      <th>102</th>\n",
       "      <td>None</td>\n",
       "      <td>1QBs4gzxaJUWHXZHrinfqzWAru6hLcnrWA</td>\n",
       "      <td>100</td>\n",
       "      <td>1.678895e+09</td>\n",
       "      <td>abc096e4b8ce19ecbf730bbaf725f02542827bc9b04279...</td>\n",
       "    </tr>\n",
       "    <tr>\n",
       "      <th>103</th>\n",
       "      <td>None</td>\n",
       "      <td>16oR7oEL1gTDDvjNMC8o5tE4nR6G1WBmio</td>\n",
       "      <td>100</td>\n",
       "      <td>1.678895e+09</td>\n",
       "      <td>c1361c8149c3edbdd36e3f14dc14eea7500068c1734307...</td>\n",
       "    </tr>\n",
       "    <tr>\n",
       "      <th>104</th>\n",
       "      <td>None</td>\n",
       "      <td>16oR7oEL1gTDDvjNMC8o5tE4nR6G1WBmio</td>\n",
       "      <td>100</td>\n",
       "      <td>1.678895e+09</td>\n",
       "      <td>c88a77280425220dfcde5264312e7357e91d81d7a4ce50...</td>\n",
       "    </tr>\n",
       "    <tr>\n",
       "      <th>105</th>\n",
       "      <td>16oR7oEL1gTDDvjNMC8o5tE4nR6G1WBmio</td>\n",
       "      <td>15Zfn3hCq8A2zWgRKDZkFWa4ypyHku3LZY</td>\n",
       "      <td>120</td>\n",
       "      <td>1.678895e+09</td>\n",
       "      <td>0ea8b8491a92c86f6e194611e25e11c57fb96971ce1b68...</td>\n",
       "    </tr>\n",
       "    <tr>\n",
       "      <th>106</th>\n",
       "      <td>None</td>\n",
       "      <td>16oR7oEL1gTDDvjNMC8o5tE4nR6G1WBmio</td>\n",
       "      <td>100</td>\n",
       "      <td>1.678895e+09</td>\n",
       "      <td>c85ac237550cd6c02891c02fa085760b54448d3be1210d...</td>\n",
       "    </tr>\n",
       "    <tr>\n",
       "      <th>107</th>\n",
       "      <td>16oR7oEL1gTDDvjNMC8o5tE4nR6G1WBmio</td>\n",
       "      <td>15Zfn3hCq8A2zWgRKDZkFWa4ypyHku3LZY</td>\n",
       "      <td>230</td>\n",
       "      <td>1.678895e+09</td>\n",
       "      <td>68dd79644a42fbfb9c7785da62b8ef2e30d09de4502e7b...</td>\n",
       "    </tr>\n",
       "    <tr>\n",
       "      <th>108</th>\n",
       "      <td>None</td>\n",
       "      <td>16oR7oEL1gTDDvjNMC8o5tE4nR6G1WBmio</td>\n",
       "      <td>100</td>\n",
       "      <td>1.678895e+09</td>\n",
       "      <td>b2829b0365221a37255178244ae76477ddc53a2166199d...</td>\n",
       "    </tr>\n",
       "    <tr>\n",
       "      <th>109</th>\n",
       "      <td>15Zfn3hCq8A2zWgRKDZkFWa4ypyHku3LZY</td>\n",
       "      <td>16oR7oEL1gTDDvjNMC8o5tE4nR6G1WBmio</td>\n",
       "      <td>50</td>\n",
       "      <td>1.678895e+09</td>\n",
       "      <td>e32b4abf38403d6a6ed355feb4aedf56c156e490565cee...</td>\n",
       "    </tr>\n",
       "    <tr>\n",
       "      <th>110</th>\n",
       "      <td>None</td>\n",
       "      <td>15Zfn3hCq8A2zWgRKDZkFWa4ypyHku3LZY</td>\n",
       "      <td>100</td>\n",
       "      <td>1.678895e+09</td>\n",
       "      <td>9586b89e713457ebce1564ec1cc94e3158e2037d70f91a...</td>\n",
       "    </tr>\n",
       "    <tr>\n",
       "      <th>111</th>\n",
       "      <td>15Zfn3hCq8A2zWgRKDZkFWa4ypyHku3LZY</td>\n",
       "      <td>1NoZJeZZfypuQFVtYAJsDjbMYkPvPTh6kh</td>\n",
       "      <td>70</td>\n",
       "      <td>1.678895e+09</td>\n",
       "      <td>20c72c7d50ad90cd1af1e7aeccdd447d458b019b609218...</td>\n",
       "    </tr>\n",
       "    <tr>\n",
       "      <th>112</th>\n",
       "      <td>None</td>\n",
       "      <td>16oR7oEL1gTDDvjNMC8o5tE4nR6G1WBmio</td>\n",
       "      <td>100</td>\n",
       "      <td>1.678895e+09</td>\n",
       "      <td>a87ee3b779b9c1f60da391c85579dfb35637eef834fbaa...</td>\n",
       "    </tr>\n",
       "    <tr>\n",
       "      <th>113</th>\n",
       "      <td>1NoZJeZZfypuQFVtYAJsDjbMYkPvPTh6kh</td>\n",
       "      <td>16oR7oEL1gTDDvjNMC8o5tE4nR6G1WBmio</td>\n",
       "      <td>40</td>\n",
       "      <td>1.678895e+09</td>\n",
       "      <td>bc632eafcce4e2dab4bcdd750fdb598ab70101207a919f...</td>\n",
       "    </tr>\n",
       "    <tr>\n",
       "      <th>114</th>\n",
       "      <td>None</td>\n",
       "      <td>1NoZJeZZfypuQFVtYAJsDjbMYkPvPTh6kh</td>\n",
       "      <td>100</td>\n",
       "      <td>1.678895e+09</td>\n",
       "      <td>509eec8799d41a05a7a86204712312a1615334f11ab1ce...</td>\n",
       "    </tr>\n",
       "    <tr>\n",
       "      <th>115</th>\n",
       "      <td>15Zfn3hCq8A2zWgRKDZkFWa4ypyHku3LZY</td>\n",
       "      <td>1NoZJeZZfypuQFVtYAJsDjbMYkPvPTh6kh</td>\n",
       "      <td>70</td>\n",
       "      <td>1.678895e+09</td>\n",
       "      <td>1d46b86eeb87533a969d472fb186902f91681f382162b2...</td>\n",
       "    </tr>\n",
       "    <tr>\n",
       "      <th>116</th>\n",
       "      <td>None</td>\n",
       "      <td>15Zfn3hCq8A2zWgRKDZkFWa4ypyHku3LZY</td>\n",
       "      <td>100</td>\n",
       "      <td>1.678895e+09</td>\n",
       "      <td>116fdb113a989eff4af72ef6d83d86978179e97b5994cb...</td>\n",
       "    </tr>\n",
       "    <tr>\n",
       "      <th>117</th>\n",
       "      <td>16oR7oEL1gTDDvjNMC8o5tE4nR6G1WBmio</td>\n",
       "      <td>15Zfn3hCq8A2zWgRKDZkFWa4ypyHku3LZY</td>\n",
       "      <td>20</td>\n",
       "      <td>1.678895e+09</td>\n",
       "      <td>9feba8e912510b4446e23863937e640e5660e3b2486b76...</td>\n",
       "    </tr>\n",
       "    <tr>\n",
       "      <th>118</th>\n",
       "      <td>None</td>\n",
       "      <td>1NoZJeZZfypuQFVtYAJsDjbMYkPvPTh6kh</td>\n",
       "      <td>100</td>\n",
       "      <td>1.678895e+09</td>\n",
       "      <td>b08b06a99199fd7298eed9e62f9f4042ed41eabf660bb2...</td>\n",
       "    </tr>\n",
       "    <tr>\n",
       "      <th>119</th>\n",
       "      <td>15Zfn3hCq8A2zWgRKDZkFWa4ypyHku3LZY</td>\n",
       "      <td>16oR7oEL1gTDDvjNMC8o5tE4nR6G1WBmio</td>\n",
       "      <td>45</td>\n",
       "      <td>1.678895e+09</td>\n",
       "      <td>e16517623cde41ac0c182734b76d97ef678ea36d129bb8...</td>\n",
       "    </tr>\n",
       "    <tr>\n",
       "      <th>120</th>\n",
       "      <td>None</td>\n",
       "      <td>16oR7oEL1gTDDvjNMC8o5tE4nR6G1WBmio</td>\n",
       "      <td>100</td>\n",
       "      <td>1.678895e+09</td>\n",
       "      <td>2a031dcf7863068de400de87d732ee69e8368c9f270382...</td>\n",
       "    </tr>\n",
       "    <tr>\n",
       "      <th>121</th>\n",
       "      <td>16oR7oEL1gTDDvjNMC8o5tE4nR6G1WBmio</td>\n",
       "      <td>1NoZJeZZfypuQFVtYAJsDjbMYkPvPTh6kh</td>\n",
       "      <td>18</td>\n",
       "      <td>1.678895e+09</td>\n",
       "      <td>197e59fd5d5aacd1b5beb48466a02ad74385cd50aa18a3...</td>\n",
       "    </tr>\n",
       "    <tr>\n",
       "      <th>122</th>\n",
       "      <td>None</td>\n",
       "      <td>15Zfn3hCq8A2zWgRKDZkFWa4ypyHku3LZY</td>\n",
       "      <td>100</td>\n",
       "      <td>1.678895e+09</td>\n",
       "      <td>454c2011586a68c116b70a41a6998073a50fca57a0dccb...</td>\n",
       "    </tr>\n",
       "    <tr>\n",
       "      <th>123</th>\n",
       "      <td>None</td>\n",
       "      <td>16uZCwPdUzhKceR1BsjeBSduddBToFMbeB</td>\n",
       "      <td>100</td>\n",
       "      <td>1.678895e+09</td>\n",
       "      <td>d66c6cca1d8b0d27f4670f34a9ae13b95b80cf1411b051...</td>\n",
       "    </tr>\n",
       "    <tr>\n",
       "      <th>124</th>\n",
       "      <td>None</td>\n",
       "      <td>16uZCwPdUzhKceR1BsjeBSduddBToFMbeB</td>\n",
       "      <td>100</td>\n",
       "      <td>1.678895e+09</td>\n",
       "      <td>58b4a875a7af525339d602835b554154bfdeb5c4915cca...</td>\n",
       "    </tr>\n",
       "    <tr>\n",
       "      <th>125</th>\n",
       "      <td>16uZCwPdUzhKceR1BsjeBSduddBToFMbeB</td>\n",
       "      <td>1CDfEyJJKbJm1cFFoLHFgdKEy46SHYqMs</td>\n",
       "      <td>120</td>\n",
       "      <td>1.678895e+09</td>\n",
       "      <td>1dc8f3044e47bbdf73ff71a819d288f71662ef52735307...</td>\n",
       "    </tr>\n",
       "    <tr>\n",
       "      <th>126</th>\n",
       "      <td>None</td>\n",
       "      <td>16uZCwPdUzhKceR1BsjeBSduddBToFMbeB</td>\n",
       "      <td>100</td>\n",
       "      <td>1.678895e+09</td>\n",
       "      <td>6ac3671735bbd0fc7d8d139db23dc10967b22482f42bd3...</td>\n",
       "    </tr>\n",
       "    <tr>\n",
       "      <th>127</th>\n",
       "      <td>16uZCwPdUzhKceR1BsjeBSduddBToFMbeB</td>\n",
       "      <td>1CDfEyJJKbJm1cFFoLHFgdKEy46SHYqMs</td>\n",
       "      <td>230</td>\n",
       "      <td>1.678895e+09</td>\n",
       "      <td>2003148c58566ade2469f301ac224de969a2ac8cfb9b78...</td>\n",
       "    </tr>\n",
       "    <tr>\n",
       "      <th>128</th>\n",
       "      <td>None</td>\n",
       "      <td>16uZCwPdUzhKceR1BsjeBSduddBToFMbeB</td>\n",
       "      <td>100</td>\n",
       "      <td>1.678895e+09</td>\n",
       "      <td>55392990ea8f6e224ffa739e23b22737bb335f42805b99...</td>\n",
       "    </tr>\n",
       "    <tr>\n",
       "      <th>129</th>\n",
       "      <td>1CDfEyJJKbJm1cFFoLHFgdKEy46SHYqMs</td>\n",
       "      <td>16uZCwPdUzhKceR1BsjeBSduddBToFMbeB</td>\n",
       "      <td>50</td>\n",
       "      <td>1.678895e+09</td>\n",
       "      <td>7dc7adfb051e25458f2ac10148d4e93fc92190e8460798...</td>\n",
       "    </tr>\n",
       "    <tr>\n",
       "      <th>130</th>\n",
       "      <td>None</td>\n",
       "      <td>1CDfEyJJKbJm1cFFoLHFgdKEy46SHYqMs</td>\n",
       "      <td>100</td>\n",
       "      <td>1.678895e+09</td>\n",
       "      <td>d5c492bde1bfa1ec1dc9f111a6443afa0b7c5ea5378a30...</td>\n",
       "    </tr>\n",
       "    <tr>\n",
       "      <th>131</th>\n",
       "      <td>1CDfEyJJKbJm1cFFoLHFgdKEy46SHYqMs</td>\n",
       "      <td>13s5Gs4FdiiouFG8UbTLnftmbp5dUsuqm6</td>\n",
       "      <td>70</td>\n",
       "      <td>1.678895e+09</td>\n",
       "      <td>9e55077d3ec7310eb3867788f13127520c0edda424263a...</td>\n",
       "    </tr>\n",
       "    <tr>\n",
       "      <th>132</th>\n",
       "      <td>None</td>\n",
       "      <td>16uZCwPdUzhKceR1BsjeBSduddBToFMbeB</td>\n",
       "      <td>100</td>\n",
       "      <td>1.678895e+09</td>\n",
       "      <td>5498e12e1f32599d7c979457368726dfe566e245efcaa9...</td>\n",
       "    </tr>\n",
       "    <tr>\n",
       "      <th>133</th>\n",
       "      <td>13s5Gs4FdiiouFG8UbTLnftmbp5dUsuqm6</td>\n",
       "      <td>16uZCwPdUzhKceR1BsjeBSduddBToFMbeB</td>\n",
       "      <td>40</td>\n",
       "      <td>1.678895e+09</td>\n",
       "      <td>70b43aa948abc0e42be5f0dc7cfdf0c0c102cab7e2dc4e...</td>\n",
       "    </tr>\n",
       "    <tr>\n",
       "      <th>134</th>\n",
       "      <td>None</td>\n",
       "      <td>13s5Gs4FdiiouFG8UbTLnftmbp5dUsuqm6</td>\n",
       "      <td>100</td>\n",
       "      <td>1.678895e+09</td>\n",
       "      <td>5bf5a792db635898fbe267159f0210c8136362813e56ce...</td>\n",
       "    </tr>\n",
       "    <tr>\n",
       "      <th>135</th>\n",
       "      <td>1CDfEyJJKbJm1cFFoLHFgdKEy46SHYqMs</td>\n",
       "      <td>13s5Gs4FdiiouFG8UbTLnftmbp5dUsuqm6</td>\n",
       "      <td>70</td>\n",
       "      <td>1.678895e+09</td>\n",
       "      <td>628e9fddc05a64ddce990320126ce8d3787e3248b8afcf...</td>\n",
       "    </tr>\n",
       "    <tr>\n",
       "      <th>136</th>\n",
       "      <td>None</td>\n",
       "      <td>1CDfEyJJKbJm1cFFoLHFgdKEy46SHYqMs</td>\n",
       "      <td>100</td>\n",
       "      <td>1.678895e+09</td>\n",
       "      <td>772c37f0302097b648d5a44ebfc09e0bfa01ebe3078aaf...</td>\n",
       "    </tr>\n",
       "    <tr>\n",
       "      <th>137</th>\n",
       "      <td>16uZCwPdUzhKceR1BsjeBSduddBToFMbeB</td>\n",
       "      <td>1CDfEyJJKbJm1cFFoLHFgdKEy46SHYqMs</td>\n",
       "      <td>20</td>\n",
       "      <td>1.678895e+09</td>\n",
       "      <td>4f38675d14f9491daf34e3a4c3bc9290fa2acf2504242f...</td>\n",
       "    </tr>\n",
       "    <tr>\n",
       "      <th>138</th>\n",
       "      <td>None</td>\n",
       "      <td>13s5Gs4FdiiouFG8UbTLnftmbp5dUsuqm6</td>\n",
       "      <td>100</td>\n",
       "      <td>1.678895e+09</td>\n",
       "      <td>aebd28c3cba04cb46549e8f0dd1af9db0bec5f3014dc22...</td>\n",
       "    </tr>\n",
       "    <tr>\n",
       "      <th>139</th>\n",
       "      <td>1CDfEyJJKbJm1cFFoLHFgdKEy46SHYqMs</td>\n",
       "      <td>16uZCwPdUzhKceR1BsjeBSduddBToFMbeB</td>\n",
       "      <td>45</td>\n",
       "      <td>1.678895e+09</td>\n",
       "      <td>6a5114cf55b8c83a190a7dad667573cdf3b7fe605d0768...</td>\n",
       "    </tr>\n",
       "    <tr>\n",
       "      <th>140</th>\n",
       "      <td>None</td>\n",
       "      <td>16uZCwPdUzhKceR1BsjeBSduddBToFMbeB</td>\n",
       "      <td>100</td>\n",
       "      <td>1.678895e+09</td>\n",
       "      <td>8c9b0b0fef660776d11c3c2796f1ace360758a1a6930b4...</td>\n",
       "    </tr>\n",
       "    <tr>\n",
       "      <th>141</th>\n",
       "      <td>16uZCwPdUzhKceR1BsjeBSduddBToFMbeB</td>\n",
       "      <td>13s5Gs4FdiiouFG8UbTLnftmbp5dUsuqm6</td>\n",
       "      <td>18</td>\n",
       "      <td>1.678895e+09</td>\n",
       "      <td>cd5f5a87df615b91b9f833e8df4872e5de4eb475cd5267...</td>\n",
       "    </tr>\n",
       "    <tr>\n",
       "      <th>142</th>\n",
       "      <td>None</td>\n",
       "      <td>1CDfEyJJKbJm1cFFoLHFgdKEy46SHYqMs</td>\n",
       "      <td>100</td>\n",
       "      <td>1.678895e+09</td>\n",
       "      <td>0e53d360d3418bce399943d0bccfafc5139d2a47ca43bb...</td>\n",
       "    </tr>\n",
       "  </tbody>\n",
       "</table>\n",
       "</div>"
      ],
      "text/plain": [
       "                         sender_address                   recipient_address  \\\n",
       "0                                  None  129MgykjRGofERTurDyYraHoUwJJsvm1NK   \n",
       "1                                  None  129MgykjRGofERTurDyYraHoUwJJsvm1NK   \n",
       "2    129MgykjRGofERTurDyYraHoUwJJsvm1NK  1MmuBB4o3faRap8CggdC7qmx7BEyGF6imF   \n",
       "3                                  None  129MgykjRGofERTurDyYraHoUwJJsvm1NK   \n",
       "4    129MgykjRGofERTurDyYraHoUwJJsvm1NK  1MmuBB4o3faRap8CggdC7qmx7BEyGF6imF   \n",
       "5                                  None  129MgykjRGofERTurDyYraHoUwJJsvm1NK   \n",
       "6    1MmuBB4o3faRap8CggdC7qmx7BEyGF6imF  129MgykjRGofERTurDyYraHoUwJJsvm1NK   \n",
       "7                                  None  1MmuBB4o3faRap8CggdC7qmx7BEyGF6imF   \n",
       "8    1MmuBB4o3faRap8CggdC7qmx7BEyGF6imF  1PkwbV7QJwmE6SD43BMJmYTgewZtmnQ3Ug   \n",
       "9                                  None  129MgykjRGofERTurDyYraHoUwJJsvm1NK   \n",
       "10   1PkwbV7QJwmE6SD43BMJmYTgewZtmnQ3Ug  129MgykjRGofERTurDyYraHoUwJJsvm1NK   \n",
       "11                                 None  1PkwbV7QJwmE6SD43BMJmYTgewZtmnQ3Ug   \n",
       "12   1MmuBB4o3faRap8CggdC7qmx7BEyGF6imF  1PkwbV7QJwmE6SD43BMJmYTgewZtmnQ3Ug   \n",
       "13                                 None  1PkwbV7QJwmE6SD43BMJmYTgewZtmnQ3Ug   \n",
       "14   129MgykjRGofERTurDyYraHoUwJJsvm1NK  1MmuBB4o3faRap8CggdC7qmx7BEyGF6imF   \n",
       "15                                 None  129MgykjRGofERTurDyYraHoUwJJsvm1NK   \n",
       "16   1MmuBB4o3faRap8CggdC7qmx7BEyGF6imF  129MgykjRGofERTurDyYraHoUwJJsvm1NK   \n",
       "17                                 None  129MgykjRGofERTurDyYraHoUwJJsvm1NK   \n",
       "18   129MgykjRGofERTurDyYraHoUwJJsvm1NK  1PkwbV7QJwmE6SD43BMJmYTgewZtmnQ3Ug   \n",
       "19                                 None  1MmuBB4o3faRap8CggdC7qmx7BEyGF6imF   \n",
       "20                                 None  1HjxesNZJ5eTtVYnhN13ersnGycq5j29sr   \n",
       "21                                 None  1HjxesNZJ5eTtVYnhN13ersnGycq5j29sr   \n",
       "22   1HjxesNZJ5eTtVYnhN13ersnGycq5j29sr  1BTjCkebHzMKpXyffT1NuhYfNJnJLkdgMy   \n",
       "23                                 None  1HjxesNZJ5eTtVYnhN13ersnGycq5j29sr   \n",
       "24   1HjxesNZJ5eTtVYnhN13ersnGycq5j29sr  1BTjCkebHzMKpXyffT1NuhYfNJnJLkdgMy   \n",
       "25                                 None  1HjxesNZJ5eTtVYnhN13ersnGycq5j29sr   \n",
       "26   1BTjCkebHzMKpXyffT1NuhYfNJnJLkdgMy  1HjxesNZJ5eTtVYnhN13ersnGycq5j29sr   \n",
       "27                                 None  1BTjCkebHzMKpXyffT1NuhYfNJnJLkdgMy   \n",
       "28   1BTjCkebHzMKpXyffT1NuhYfNJnJLkdgMy  1AVewgwUTniPnUH5kVgQan16iNudPBePW1   \n",
       "29                                 None  1HjxesNZJ5eTtVYnhN13ersnGycq5j29sr   \n",
       "30   1AVewgwUTniPnUH5kVgQan16iNudPBePW1  1HjxesNZJ5eTtVYnhN13ersnGycq5j29sr   \n",
       "31                                 None  1AVewgwUTniPnUH5kVgQan16iNudPBePW1   \n",
       "32                                 None  1MfxwG4qCTakGrqzjuM1gHtS8uRjSnwesD   \n",
       "33                                 None  1MfxwG4qCTakGrqzjuM1gHtS8uRjSnwesD   \n",
       "34   1MfxwG4qCTakGrqzjuM1gHtS8uRjSnwesD  1LhfjnLHj1gsQNnT46aZbR8u5fCuyRYbtE   \n",
       "35                                 None  1MfxwG4qCTakGrqzjuM1gHtS8uRjSnwesD   \n",
       "36   1MfxwG4qCTakGrqzjuM1gHtS8uRjSnwesD  1LhfjnLHj1gsQNnT46aZbR8u5fCuyRYbtE   \n",
       "37                                 None  1MfxwG4qCTakGrqzjuM1gHtS8uRjSnwesD   \n",
       "38   1LhfjnLHj1gsQNnT46aZbR8u5fCuyRYbtE  1MfxwG4qCTakGrqzjuM1gHtS8uRjSnwesD   \n",
       "39                                 None  1LhfjnLHj1gsQNnT46aZbR8u5fCuyRYbtE   \n",
       "40   1LhfjnLHj1gsQNnT46aZbR8u5fCuyRYbtE  16We6qyj6Fe62wyuanwUEms32icZR356sD   \n",
       "41                                 None  1MfxwG4qCTakGrqzjuM1gHtS8uRjSnwesD   \n",
       "42   16We6qyj6Fe62wyuanwUEms32icZR356sD  1MfxwG4qCTakGrqzjuM1gHtS8uRjSnwesD   \n",
       "43                                 None  16We6qyj6Fe62wyuanwUEms32icZR356sD   \n",
       "44   1LhfjnLHj1gsQNnT46aZbR8u5fCuyRYbtE  16We6qyj6Fe62wyuanwUEms32icZR356sD   \n",
       "45                                 None  1MfxwG4qCTakGrqzjuM1gHtS8uRjSnwesD   \n",
       "46   1MfxwG4qCTakGrqzjuM1gHtS8uRjSnwesD  1LhfjnLHj1gsQNnT46aZbR8u5fCuyRYbtE   \n",
       "47                                 None  16We6qyj6Fe62wyuanwUEms32icZR356sD   \n",
       "48   1LhfjnLHj1gsQNnT46aZbR8u5fCuyRYbtE  1MfxwG4qCTakGrqzjuM1gHtS8uRjSnwesD   \n",
       "49                                 None  1MfxwG4qCTakGrqzjuM1gHtS8uRjSnwesD   \n",
       "50   1MfxwG4qCTakGrqzjuM1gHtS8uRjSnwesD  16We6qyj6Fe62wyuanwUEms32icZR356sD   \n",
       "51                                 None  1LhfjnLHj1gsQNnT46aZbR8u5fCuyRYbtE   \n",
       "52                                 None   1Rn8LHNwe8r6BQ4bKhZM5VapX862xkrTo   \n",
       "53                                 None   1Rn8LHNwe8r6BQ4bKhZM5VapX862xkrTo   \n",
       "54    1Rn8LHNwe8r6BQ4bKhZM5VapX862xkrTo  1Fo2nxaKvyTwJ3rH8ydjFzjGZqbxVBKLKp   \n",
       "55                                 None   1Rn8LHNwe8r6BQ4bKhZM5VapX862xkrTo   \n",
       "56    1Rn8LHNwe8r6BQ4bKhZM5VapX862xkrTo  1Fo2nxaKvyTwJ3rH8ydjFzjGZqbxVBKLKp   \n",
       "57                                 None   1Rn8LHNwe8r6BQ4bKhZM5VapX862xkrTo   \n",
       "58   1Fo2nxaKvyTwJ3rH8ydjFzjGZqbxVBKLKp   1Rn8LHNwe8r6BQ4bKhZM5VapX862xkrTo   \n",
       "59                                 None  1Fo2nxaKvyTwJ3rH8ydjFzjGZqbxVBKLKp   \n",
       "60   1Fo2nxaKvyTwJ3rH8ydjFzjGZqbxVBKLKp  1HvtxvA9pSxdDQcZuCipD1uHH9W3Z2z8WS   \n",
       "61                                 None   1Rn8LHNwe8r6BQ4bKhZM5VapX862xkrTo   \n",
       "62   1HvtxvA9pSxdDQcZuCipD1uHH9W3Z2z8WS   1Rn8LHNwe8r6BQ4bKhZM5VapX862xkrTo   \n",
       "63                                 None  1HvtxvA9pSxdDQcZuCipD1uHH9W3Z2z8WS   \n",
       "64                                 None  16fcygswpTNfJBkvW29KHD5rQRhA2a3Rna   \n",
       "65                                 None  16fcygswpTNfJBkvW29KHD5rQRhA2a3Rna   \n",
       "66                                 None  16fcygswpTNfJBkvW29KHD5rQRhA2a3Rna   \n",
       "67                                 None  16fcygswpTNfJBkvW29KHD5rQRhA2a3Rna   \n",
       "68                                 None  1MeHo4ZFNJdfaZz119iDKCPFgGT6zKcEso   \n",
       "69                                 None  1MeHo4ZFNJdfaZz119iDKCPFgGT6zKcEso   \n",
       "70                                 None  1MeHo4ZFNJdfaZz119iDKCPFgGT6zKcEso   \n",
       "71   1MeHo4ZFNJdfaZz119iDKCPFgGT6zKcEso   1hNfrEkwqYUeFno3sRH9VGqSYta2MwX4x   \n",
       "72                                 None  1MeHo4ZFNJdfaZz119iDKCPFgGT6zKcEso   \n",
       "73   1MeHo4ZFNJdfaZz119iDKCPFgGT6zKcEso   1hNfrEkwqYUeFno3sRH9VGqSYta2MwX4x   \n",
       "74                                 None  1MeHo4ZFNJdfaZz119iDKCPFgGT6zKcEso   \n",
       "75    1hNfrEkwqYUeFno3sRH9VGqSYta2MwX4x  1MeHo4ZFNJdfaZz119iDKCPFgGT6zKcEso   \n",
       "76                                 None   1hNfrEkwqYUeFno3sRH9VGqSYta2MwX4x   \n",
       "77    1hNfrEkwqYUeFno3sRH9VGqSYta2MwX4x  167yS5PJGAxZdDUo6R7fEn8bZihm4hq7LW   \n",
       "78                                 None  1MeHo4ZFNJdfaZz119iDKCPFgGT6zKcEso   \n",
       "79                                 None  1MeHo4ZFNJdfaZz119iDKCPFgGT6zKcEso   \n",
       "80                                 None  1MeHo4ZFNJdfaZz119iDKCPFgGT6zKcEso   \n",
       "81                                 None  1MeHo4ZFNJdfaZz119iDKCPFgGT6zKcEso   \n",
       "82                                 None  1MeHo4ZFNJdfaZz119iDKCPFgGT6zKcEso   \n",
       "83                                 None  1KcWe34hLWSJUqVLmNT2Pt6msbXz8tmeuc   \n",
       "84                                 None  1KcWe34hLWSJUqVLmNT2Pt6msbXz8tmeuc   \n",
       "85   1KcWe34hLWSJUqVLmNT2Pt6msbXz8tmeuc  1QBs4gzxaJUWHXZHrinfqzWAru6hLcnrWA   \n",
       "86                                 None  1KcWe34hLWSJUqVLmNT2Pt6msbXz8tmeuc   \n",
       "87   1KcWe34hLWSJUqVLmNT2Pt6msbXz8tmeuc  1QBs4gzxaJUWHXZHrinfqzWAru6hLcnrWA   \n",
       "88                                 None  1KcWe34hLWSJUqVLmNT2Pt6msbXz8tmeuc   \n",
       "89   1QBs4gzxaJUWHXZHrinfqzWAru6hLcnrWA  1KcWe34hLWSJUqVLmNT2Pt6msbXz8tmeuc   \n",
       "90                                 None  1QBs4gzxaJUWHXZHrinfqzWAru6hLcnrWA   \n",
       "91   1QBs4gzxaJUWHXZHrinfqzWAru6hLcnrWA  17ns4E4doJ2wH4JDnWB9UPZomaHCc3QM2K   \n",
       "92                                 None  1KcWe34hLWSJUqVLmNT2Pt6msbXz8tmeuc   \n",
       "93   17ns4E4doJ2wH4JDnWB9UPZomaHCc3QM2K  1KcWe34hLWSJUqVLmNT2Pt6msbXz8tmeuc   \n",
       "94                                 None  17ns4E4doJ2wH4JDnWB9UPZomaHCc3QM2K   \n",
       "95   1QBs4gzxaJUWHXZHrinfqzWAru6hLcnrWA  17ns4E4doJ2wH4JDnWB9UPZomaHCc3QM2K   \n",
       "96                                 None  1QBs4gzxaJUWHXZHrinfqzWAru6hLcnrWA   \n",
       "97   1KcWe34hLWSJUqVLmNT2Pt6msbXz8tmeuc  1QBs4gzxaJUWHXZHrinfqzWAru6hLcnrWA   \n",
       "98                                 None  17ns4E4doJ2wH4JDnWB9UPZomaHCc3QM2K   \n",
       "99   1QBs4gzxaJUWHXZHrinfqzWAru6hLcnrWA  1KcWe34hLWSJUqVLmNT2Pt6msbXz8tmeuc   \n",
       "100                                None  1KcWe34hLWSJUqVLmNT2Pt6msbXz8tmeuc   \n",
       "101  1KcWe34hLWSJUqVLmNT2Pt6msbXz8tmeuc  17ns4E4doJ2wH4JDnWB9UPZomaHCc3QM2K   \n",
       "102                                None  1QBs4gzxaJUWHXZHrinfqzWAru6hLcnrWA   \n",
       "103                                None  16oR7oEL1gTDDvjNMC8o5tE4nR6G1WBmio   \n",
       "104                                None  16oR7oEL1gTDDvjNMC8o5tE4nR6G1WBmio   \n",
       "105  16oR7oEL1gTDDvjNMC8o5tE4nR6G1WBmio  15Zfn3hCq8A2zWgRKDZkFWa4ypyHku3LZY   \n",
       "106                                None  16oR7oEL1gTDDvjNMC8o5tE4nR6G1WBmio   \n",
       "107  16oR7oEL1gTDDvjNMC8o5tE4nR6G1WBmio  15Zfn3hCq8A2zWgRKDZkFWa4ypyHku3LZY   \n",
       "108                                None  16oR7oEL1gTDDvjNMC8o5tE4nR6G1WBmio   \n",
       "109  15Zfn3hCq8A2zWgRKDZkFWa4ypyHku3LZY  16oR7oEL1gTDDvjNMC8o5tE4nR6G1WBmio   \n",
       "110                                None  15Zfn3hCq8A2zWgRKDZkFWa4ypyHku3LZY   \n",
       "111  15Zfn3hCq8A2zWgRKDZkFWa4ypyHku3LZY  1NoZJeZZfypuQFVtYAJsDjbMYkPvPTh6kh   \n",
       "112                                None  16oR7oEL1gTDDvjNMC8o5tE4nR6G1WBmio   \n",
       "113  1NoZJeZZfypuQFVtYAJsDjbMYkPvPTh6kh  16oR7oEL1gTDDvjNMC8o5tE4nR6G1WBmio   \n",
       "114                                None  1NoZJeZZfypuQFVtYAJsDjbMYkPvPTh6kh   \n",
       "115  15Zfn3hCq8A2zWgRKDZkFWa4ypyHku3LZY  1NoZJeZZfypuQFVtYAJsDjbMYkPvPTh6kh   \n",
       "116                                None  15Zfn3hCq8A2zWgRKDZkFWa4ypyHku3LZY   \n",
       "117  16oR7oEL1gTDDvjNMC8o5tE4nR6G1WBmio  15Zfn3hCq8A2zWgRKDZkFWa4ypyHku3LZY   \n",
       "118                                None  1NoZJeZZfypuQFVtYAJsDjbMYkPvPTh6kh   \n",
       "119  15Zfn3hCq8A2zWgRKDZkFWa4ypyHku3LZY  16oR7oEL1gTDDvjNMC8o5tE4nR6G1WBmio   \n",
       "120                                None  16oR7oEL1gTDDvjNMC8o5tE4nR6G1WBmio   \n",
       "121  16oR7oEL1gTDDvjNMC8o5tE4nR6G1WBmio  1NoZJeZZfypuQFVtYAJsDjbMYkPvPTh6kh   \n",
       "122                                None  15Zfn3hCq8A2zWgRKDZkFWa4ypyHku3LZY   \n",
       "123                                None  16uZCwPdUzhKceR1BsjeBSduddBToFMbeB   \n",
       "124                                None  16uZCwPdUzhKceR1BsjeBSduddBToFMbeB   \n",
       "125  16uZCwPdUzhKceR1BsjeBSduddBToFMbeB   1CDfEyJJKbJm1cFFoLHFgdKEy46SHYqMs   \n",
       "126                                None  16uZCwPdUzhKceR1BsjeBSduddBToFMbeB   \n",
       "127  16uZCwPdUzhKceR1BsjeBSduddBToFMbeB   1CDfEyJJKbJm1cFFoLHFgdKEy46SHYqMs   \n",
       "128                                None  16uZCwPdUzhKceR1BsjeBSduddBToFMbeB   \n",
       "129   1CDfEyJJKbJm1cFFoLHFgdKEy46SHYqMs  16uZCwPdUzhKceR1BsjeBSduddBToFMbeB   \n",
       "130                                None   1CDfEyJJKbJm1cFFoLHFgdKEy46SHYqMs   \n",
       "131   1CDfEyJJKbJm1cFFoLHFgdKEy46SHYqMs  13s5Gs4FdiiouFG8UbTLnftmbp5dUsuqm6   \n",
       "132                                None  16uZCwPdUzhKceR1BsjeBSduddBToFMbeB   \n",
       "133  13s5Gs4FdiiouFG8UbTLnftmbp5dUsuqm6  16uZCwPdUzhKceR1BsjeBSduddBToFMbeB   \n",
       "134                                None  13s5Gs4FdiiouFG8UbTLnftmbp5dUsuqm6   \n",
       "135   1CDfEyJJKbJm1cFFoLHFgdKEy46SHYqMs  13s5Gs4FdiiouFG8UbTLnftmbp5dUsuqm6   \n",
       "136                                None   1CDfEyJJKbJm1cFFoLHFgdKEy46SHYqMs   \n",
       "137  16uZCwPdUzhKceR1BsjeBSduddBToFMbeB   1CDfEyJJKbJm1cFFoLHFgdKEy46SHYqMs   \n",
       "138                                None  13s5Gs4FdiiouFG8UbTLnftmbp5dUsuqm6   \n",
       "139   1CDfEyJJKbJm1cFFoLHFgdKEy46SHYqMs  16uZCwPdUzhKceR1BsjeBSduddBToFMbeB   \n",
       "140                                None  16uZCwPdUzhKceR1BsjeBSduddBToFMbeB   \n",
       "141  16uZCwPdUzhKceR1BsjeBSduddBToFMbeB  13s5Gs4FdiiouFG8UbTLnftmbp5dUsuqm6   \n",
       "142                                None   1CDfEyJJKbJm1cFFoLHFgdKEy46SHYqMs   \n",
       "\n",
       "     amount     timestamp                                               hash  \n",
       "0       100  1.678895e+09  dfa5d5b3dbb9a39b991bc0f64675cb145ebe5bf19dbdf6...  \n",
       "1       100  1.678895e+09  4ed1899d18ce0c587e93ab82c1e0eaed2a1be112ef772c...  \n",
       "2       120  1.678895e+09  a83ed089cfa7a15cc3271f0fc24a495b4ad036577e3498...  \n",
       "3       100  1.678895e+09  aa32337917daab14efad55539edd0647c6a1ddcf3a82e6...  \n",
       "4       230  1.678895e+09  8e7a4dd7f774aaef50d805ea50f0cf28c6ba88d009dab7...  \n",
       "5       100  1.678895e+09  e287803b7468af2950577f0e32f4c07295fb32ea43024b...  \n",
       "6        50  1.678895e+09  dc6a6d1d9ac9247ca76dca34eb6496c78d475aa7eb2659...  \n",
       "7       100  1.678895e+09  b494cd3b3aa3879d450a3bdcca9841ecb7e6f6f9d4efe1...  \n",
       "8        70  1.678895e+09  abc4ea65e47e9f2b88316e83d4dcd0cf4dbc45007376f3...  \n",
       "9       100  1.678895e+09  ef0af28e5a68ca3df2a8fbd54335511b74759700c35a35...  \n",
       "10       40  1.678895e+09  9f0d2f113881a08c14fb1a536437aea58368aaebd0bdd9...  \n",
       "11      100  1.678895e+09  83db831f1fc4f3d0235a84d816481785ee9d71fc4232e3...  \n",
       "12       70  1.678895e+09  fe449ae88ffda30d7d201e33b8874c423cc553eea946e7...  \n",
       "13      100  1.678895e+09  784be64528448457b2986dbbddd18417f43ec7e67bfe20...  \n",
       "14       20  1.678895e+09  a97bdccfe05d2d69dee3e1212fcf483dce6e5267ded953...  \n",
       "15      100  1.678895e+09  d4b73a971fd265f939a28eff39224407a0da7ecd87b03c...  \n",
       "16       45  1.678895e+09  cbd97f8b675d375d6836842b7cdb847e762350e662eeb8...  \n",
       "17      100  1.678895e+09  bc14b9e61992feea59f49b767be36a6b2c6357abe67fc1...  \n",
       "18       18  1.678895e+09  f5ad08cecb6a162fe03908ffb2f245f8b41795056d8f53...  \n",
       "19      100  1.678895e+09  9a524d3b86265f0204bbe6d4423ced3ef4db4ada74ca66...  \n",
       "20      100  1.678895e+09  eaef64a7fc1802267592d0c093db9bd080a3b37cbc489f...  \n",
       "21      100  1.678895e+09  bd0ba32d7932262efc20b96395a5fa1267ac23951b326a...  \n",
       "22      120  1.678895e+09  23f5678eb84c7316e58c5b10f06a22682fbfaf53a21ab7...  \n",
       "23      100  1.678895e+09  025b70a35b0cb1416255b0df9a9a4e947b46d82ce265ff...  \n",
       "24      230  1.678895e+09  c74bc46eec5eaee50195045b74f03e69d7a7406d76b25f...  \n",
       "25      100  1.678895e+09  44fe809af5f90b47db72258e15faa5de0163d61cc234bc...  \n",
       "26       50  1.678895e+09  c49cb9b03a83a87ebb79c9f3c1f80ceec52b04226a84ce...  \n",
       "27      100  1.678895e+09  bd8a5c147e53acaf19c12ea71f804f26e891d56b3f06ac...  \n",
       "28       70  1.678895e+09  9f4bead63e7908e94dab59d281ca8abadf2078fe9bb0ec...  \n",
       "29      100  1.678895e+09  c7936e7bb67f37e59a39e6facbcc0250ae39ba6d340660...  \n",
       "30       40  1.678895e+09  50d686fdb5ef20d3a5c39a14cd69514faafd4f52fda371...  \n",
       "31      100  1.678895e+09  cb604a69966e2c943f6e05e2506008fb8a8e105036bd5b...  \n",
       "32      100  1.678895e+09  e2394eba1b75549410c186bc5383d1113e253262e23046...  \n",
       "33      100  1.678895e+09  6377db0b9226f87e5e507769cfe9bb3226900b56f3176b...  \n",
       "34      120  1.678895e+09  e64f369a4ee3b6c03b59ac429b317ccc9e9f30f1ce58ab...  \n",
       "35      100  1.678895e+09  992a80f4fdaed7e7f576ca0701146fbdbe7510eaadb620...  \n",
       "36      230  1.678895e+09  381f4b22fe36e53c0b4d40e3854a498a112b9e6c494852...  \n",
       "37      100  1.678895e+09  25f1add52d20d9d6f91a22e55985e4adac7d17b77c72ec...  \n",
       "38       50  1.678895e+09  721f0a46e495d3898532a72b868216156a7a37624f4025...  \n",
       "39      100  1.678895e+09  93b3c3cd8f837c40965f1c29c443a03892ec80de6b772a...  \n",
       "40       70  1.678895e+09  671a438e7baecd600d10d1bfe5fef10cb5c9e7a12dd601...  \n",
       "41      100  1.678895e+09  81f66601a5d6abac89fbf4e65e6b6691c61aa44642430f...  \n",
       "42       40  1.678895e+09  11d3dae0f40a5bd5ead79ed8430bc3d987230b8a75b468...  \n",
       "43      100  1.678895e+09  79e900f516cf1bbd140238ceef5a22619efa80ae50d895...  \n",
       "44       70  1.678895e+09  d87e8fcf081af82ffa900748e710ab0d76e471d9b8ccf1...  \n",
       "45      100  1.678895e+09  420320bacbdf94f1de79c1647a0434fa766ce51d54fb64...  \n",
       "46       20  1.678895e+09  22d58cee7d49cca0d612c77f927e23b2a95461784e88ec...  \n",
       "47      100  1.678895e+09  8c356f526f7efeed25bc4fcd8567b99f46a253ecfbae58...  \n",
       "48       45  1.678895e+09  84baaac8161177f44fea883ddf9c53344586fe81b7f82e...  \n",
       "49      100  1.678895e+09  2e5b37d60fee74f5713af89cf5a4150ec6910f4514c3f8...  \n",
       "50       18  1.678895e+09  030cb5af1c245d4bf5b38cc4931fe9f2b9ffa12ecc7c42...  \n",
       "51      100  1.678895e+09  775cf1f1393b144ef186a385f3f9e9b9a6edc9a7e62a38...  \n",
       "52      100  1.678895e+09  142a63ea5d184603b87a9aba9a61d1e89ac85bbd5e1ed9...  \n",
       "53      100  1.678895e+09  44d5b361ad9d0bb5801e68a466f6ddcd75eb78e0df616e...  \n",
       "54      120  1.678895e+09  a1478e14f4ac82e12680fcbed97b88a86263451de26b97...  \n",
       "55      100  1.678895e+09  41f0b870379776600e99067991b52bc54a15bfaf18f9ed...  \n",
       "56      230  1.678895e+09  2e301011f8502143666419f14933f3b4182e5635344ecb...  \n",
       "57      100  1.678895e+09  669349f012f791d5de0c521492e765028d970c69762c8e...  \n",
       "58       50  1.678895e+09  f6366cece0db00f35d3433bed640bd3fbec687a0f21453...  \n",
       "59      100  1.678895e+09  a829ffca8fc43ff77c6e166f62f3ad2be10566d9a7eebf...  \n",
       "60       70  1.678895e+09  d90d1ec6ff206f4e4a8edf5854fb171b4ef05256434ad5...  \n",
       "61      100  1.678895e+09  115690b3a3ddc88d67d87d65e5136a5e0351b9005422e2...  \n",
       "62       40  1.678895e+09  089fe27fd85c5ec3e1421ea589811120fe54103aed441f...  \n",
       "63      100  1.678895e+09  427b84cddaa83ee9a3ebcf60f19776362deff6c8991645...  \n",
       "64      100  1.678895e+09  b756c87c214350c670309b63fb9aad35e7fd75395dc909...  \n",
       "65      100  1.678895e+09  e5dc04c53c27273439d4e268dde537518f91ab541853f0...  \n",
       "66      100  1.678895e+09  884fc05ce0ca2b666c293178862cf71d8b815f52a09c2d...  \n",
       "67      100  1.678895e+09  1d538aac72770a96fba3da15589a4bf345c989a6fd576a...  \n",
       "68      100  1.678895e+09  59563504e8c8a18f62803e855f60238c4540e89b828840...  \n",
       "69      100  1.678895e+09  81c4d3b751e0193b39a99487ac16be5c0ee94763a2f0bf...  \n",
       "70      100  1.678895e+09  15f63163f8e28c657dd101c7bf429b326aca56ef7ab329...  \n",
       "71      120  1.678895e+09  54c7f67f12ba5787efab2cbd694b84f5debc83d118a226...  \n",
       "72      100  1.678895e+09  9f8a6e4d0c82d7f21bcbcf7b84aedca72f67b90700a2f5...  \n",
       "73      230  1.678895e+09  5e94f206a2dd995631ccc9a9fdd5b323ea5b31b6918afd...  \n",
       "74      100  1.678895e+09  5a040ee6fa272611eea874e83b75e4c4930cf22cf03417...  \n",
       "75       50  1.678895e+09  721f4758b167a21bbf38e5f463d06d9a633ddde4f91c59...  \n",
       "76      100  1.678895e+09  24a823b4e5090cb41d2bb37b6ef9dd3e3a30d033e8d01d...  \n",
       "77       70  1.678895e+09  1b975cfef531fdd4a8b091bb2826afcf383675ecc745f1...  \n",
       "78      100  1.678895e+09  86e88267e9f1812a83d4e3c8058a8c0ee79bc197d5b630...  \n",
       "79      100  1.678895e+09  452693ccccaecb4dddf2601b1044e1bde0560d89278e3b...  \n",
       "80      100  1.678895e+09  2a8b2e83eaa7a7cec2c45f293b6d73af3c2d8d37fbb181...  \n",
       "81      100  1.678895e+09  61bef2b77e588700ba575abd2365c3f59b3b5cb425c80b...  \n",
       "82      100  1.678895e+09  69126078e11a1b566b549d5688a893c5fac166e6c54c7f...  \n",
       "83      100  1.678895e+09  d9b2738fbfedfb9a095914ba7e0d42e2c1fa7b8757029e...  \n",
       "84      100  1.678895e+09  8228b263755abc21256f13c80d73d49277e0b43bdca825...  \n",
       "85      120  1.678895e+09  e29a80ad40db9e03bfafa234cf40db369ba8271ecb8269...  \n",
       "86      100  1.678895e+09  69dd20d7275e30b87a99441514d266748f2a3c2c76c706...  \n",
       "87      230  1.678895e+09  910e44beeb639d75a8308382dbc056415d0a44765307bd...  \n",
       "88      100  1.678895e+09  77b05aea20279aa73426f63c8e48aaeca2059621c4472e...  \n",
       "89       50  1.678895e+09  10a46b013cd1e8371691bc6ed690829dda5110826d32fb...  \n",
       "90      100  1.678895e+09  7dc5643b0a816af3fa600ef3983c9beafea26a7f649e63...  \n",
       "91       70  1.678895e+09  f9fee8e621aefc3356ddba049b5aad2e566dfc75999377...  \n",
       "92      100  1.678895e+09  b72f1796fb95f177d8a202ea5d1507e1ca04b5de1372d7...  \n",
       "93       40  1.678895e+09  ed9c892f79e56f2365f18126601525ff01cd5515ddd28e...  \n",
       "94      100  1.678895e+09  9c0bbee98ea818161740a641d980b04065ce9fee4ca600...  \n",
       "95       70  1.678895e+09  d7b1c65c38db2938e838789c21f4083d7947cf82721fab...  \n",
       "96      100  1.678895e+09  2bf218db0296bb190dcaf397f9d33003f74d083668698e...  \n",
       "97       20  1.678895e+09  8e4df920ca319d44a57fa234d11fff34853f0c231c8065...  \n",
       "98      100  1.678895e+09  17fa5e237b6b31afab6079975efb1dedd4cc2b6e33fc4f...  \n",
       "99       45  1.678895e+09  2f31949b3676f8b968f502f7738cec69de271d06867fcf...  \n",
       "100     100  1.678895e+09  38c778d1073b591aa365ff91ba8ec4bc6ac1e5d8d7e419...  \n",
       "101      18  1.678895e+09  ac6b7d82aef6bab1544616c3258648c6a35e8e7e47b897...  \n",
       "102     100  1.678895e+09  abc096e4b8ce19ecbf730bbaf725f02542827bc9b04279...  \n",
       "103     100  1.678895e+09  c1361c8149c3edbdd36e3f14dc14eea7500068c1734307...  \n",
       "104     100  1.678895e+09  c88a77280425220dfcde5264312e7357e91d81d7a4ce50...  \n",
       "105     120  1.678895e+09  0ea8b8491a92c86f6e194611e25e11c57fb96971ce1b68...  \n",
       "106     100  1.678895e+09  c85ac237550cd6c02891c02fa085760b54448d3be1210d...  \n",
       "107     230  1.678895e+09  68dd79644a42fbfb9c7785da62b8ef2e30d09de4502e7b...  \n",
       "108     100  1.678895e+09  b2829b0365221a37255178244ae76477ddc53a2166199d...  \n",
       "109      50  1.678895e+09  e32b4abf38403d6a6ed355feb4aedf56c156e490565cee...  \n",
       "110     100  1.678895e+09  9586b89e713457ebce1564ec1cc94e3158e2037d70f91a...  \n",
       "111      70  1.678895e+09  20c72c7d50ad90cd1af1e7aeccdd447d458b019b609218...  \n",
       "112     100  1.678895e+09  a87ee3b779b9c1f60da391c85579dfb35637eef834fbaa...  \n",
       "113      40  1.678895e+09  bc632eafcce4e2dab4bcdd750fdb598ab70101207a919f...  \n",
       "114     100  1.678895e+09  509eec8799d41a05a7a86204712312a1615334f11ab1ce...  \n",
       "115      70  1.678895e+09  1d46b86eeb87533a969d472fb186902f91681f382162b2...  \n",
       "116     100  1.678895e+09  116fdb113a989eff4af72ef6d83d86978179e97b5994cb...  \n",
       "117      20  1.678895e+09  9feba8e912510b4446e23863937e640e5660e3b2486b76...  \n",
       "118     100  1.678895e+09  b08b06a99199fd7298eed9e62f9f4042ed41eabf660bb2...  \n",
       "119      45  1.678895e+09  e16517623cde41ac0c182734b76d97ef678ea36d129bb8...  \n",
       "120     100  1.678895e+09  2a031dcf7863068de400de87d732ee69e8368c9f270382...  \n",
       "121      18  1.678895e+09  197e59fd5d5aacd1b5beb48466a02ad74385cd50aa18a3...  \n",
       "122     100  1.678895e+09  454c2011586a68c116b70a41a6998073a50fca57a0dccb...  \n",
       "123     100  1.678895e+09  d66c6cca1d8b0d27f4670f34a9ae13b95b80cf1411b051...  \n",
       "124     100  1.678895e+09  58b4a875a7af525339d602835b554154bfdeb5c4915cca...  \n",
       "125     120  1.678895e+09  1dc8f3044e47bbdf73ff71a819d288f71662ef52735307...  \n",
       "126     100  1.678895e+09  6ac3671735bbd0fc7d8d139db23dc10967b22482f42bd3...  \n",
       "127     230  1.678895e+09  2003148c58566ade2469f301ac224de969a2ac8cfb9b78...  \n",
       "128     100  1.678895e+09  55392990ea8f6e224ffa739e23b22737bb335f42805b99...  \n",
       "129      50  1.678895e+09  7dc7adfb051e25458f2ac10148d4e93fc92190e8460798...  \n",
       "130     100  1.678895e+09  d5c492bde1bfa1ec1dc9f111a6443afa0b7c5ea5378a30...  \n",
       "131      70  1.678895e+09  9e55077d3ec7310eb3867788f13127520c0edda424263a...  \n",
       "132     100  1.678895e+09  5498e12e1f32599d7c979457368726dfe566e245efcaa9...  \n",
       "133      40  1.678895e+09  70b43aa948abc0e42be5f0dc7cfdf0c0c102cab7e2dc4e...  \n",
       "134     100  1.678895e+09  5bf5a792db635898fbe267159f0210c8136362813e56ce...  \n",
       "135      70  1.678895e+09  628e9fddc05a64ddce990320126ce8d3787e3248b8afcf...  \n",
       "136     100  1.678895e+09  772c37f0302097b648d5a44ebfc09e0bfa01ebe3078aaf...  \n",
       "137      20  1.678895e+09  4f38675d14f9491daf34e3a4c3bc9290fa2acf2504242f...  \n",
       "138     100  1.678895e+09  aebd28c3cba04cb46549e8f0dd1af9db0bec5f3014dc22...  \n",
       "139      45  1.678895e+09  6a5114cf55b8c83a190a7dad667573cdf3b7fe605d0768...  \n",
       "140     100  1.678895e+09  8c9b0b0fef660776d11c3c2796f1ace360758a1a6930b4...  \n",
       "141      18  1.678895e+09  cd5f5a87df615b91b9f833e8df4872e5de4eb475cd5267...  \n",
       "142     100  1.678895e+09  0e53d360d3418bce399943d0bccfafc5139d2a47ca43bb...  "
      ]
     },
     "execution_count": 59,
     "metadata": {},
     "output_type": "execute_result"
    }
   ],
   "source": [
    "df_transactions"
   ]
  },
  {
   "cell_type": "code",
   "execution_count": null,
   "id": "caf9cad0",
   "metadata": {},
   "outputs": [],
   "source": []
  },
  {
   "cell_type": "markdown",
   "id": "343c12c4",
   "metadata": {},
   "source": [
    "*This is how we can see the private key and address of wallets:*"
   ]
  },
  {
   "cell_type": "code",
   "execution_count": 60,
   "id": "a3fab395",
   "metadata": {},
   "outputs": [
    {
     "data": {
      "text/plain": [
       "'4cceb7f61b142e0dc59aac8b06dcb2956178a550e83d57c45f2be00cb0bdebb0'"
      ]
     },
     "execution_count": 60,
     "metadata": {},
     "output_type": "execute_result"
    }
   ],
   "source": [
    "my_wallet.private_key.to_string().hex()"
   ]
  },
  {
   "cell_type": "code",
   "execution_count": 61,
   "id": "b639aa5f",
   "metadata": {},
   "outputs": [
    {
     "data": {
      "text/plain": [
       "'16uZCwPdUzhKceR1BsjeBSduddBToFMbeB'"
      ]
     },
     "execution_count": 61,
     "metadata": {},
     "output_type": "execute_result"
    }
   ],
   "source": [
    "my_wallet.address"
   ]
  }
 ],
 "metadata": {
  "kernelspec": {
   "display_name": "ironhack",
   "language": "python",
   "name": "ironhack"
  },
  "language_info": {
   "codemirror_mode": {
    "name": "ipython",
    "version": 3
   },
   "file_extension": ".py",
   "mimetype": "text/x-python",
   "name": "python",
   "nbconvert_exporter": "python",
   "pygments_lexer": "ipython3",
   "version": "3.9.12"
  }
 },
 "nbformat": 4,
 "nbformat_minor": 5
}
