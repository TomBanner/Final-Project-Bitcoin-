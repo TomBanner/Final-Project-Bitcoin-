{
 "cells": [
  {
   "cell_type": "code",
   "execution_count": 68,
   "id": "aafe8fe3",
   "metadata": {},
   "outputs": [],
   "source": [
    "import pandas as pd\n",
    "import seaborn as sns\n",
    "import matplotlib.pyplot as plt \n",
    "from sklearn.model_selection import train_test_split\n",
    "from sklearn.metrics import accuracy_score, precision_score, recall_score, f1_score, fbeta_score, confusion_matrix\n",
    "from sklearn.linear_model import LinearRegression\n",
    "from sklearn.metrics import mean_squared_error, r2_score\n",
    "import numpy as np\n",
    "from sklearn.svm import SVR\n",
    "import os\n",
    "from sklearn import metrics\n",
    "from sys import platform\n",
    "import statsmodels.api as sm\n",
    "from statsmodels.stats.outliers_influence import variance_inflation_factor"
   ]
  },
  {
   "cell_type": "code",
   "execution_count": 69,
   "id": "b984e3b9",
   "metadata": {},
   "outputs": [],
   "source": [
    "df_train_2 = pd.read_csv(\"/Users/lauurasarabia/ironhack/projects/project5/data/train.csv\")\n",
    "df_test_2 = pd.read_csv(\"/Users/lauurasarabia/ironhack/projects/project5/data/test.csv\")"
   ]
  },
  {
   "cell_type": "markdown",
   "id": "9eacc7c5",
   "metadata": {},
   "source": [
    "**Features**\n",
    "* id: only for test & sample submission files, id for prediction sample identification\n",
    "* price: price in USD\n",
    "* carat: weight of the diamond\n",
    "* cut: quality of the cut (Fair, Good, Very Good, Premium, Ideal)\n",
    "* color: diamond colour\n",
    "* clarity: a measurement of how clear the diamond is\n",
    "* x: length in mm\n",
    "* y: width in mm\n",
    "* z: depth in mm\n",
    "* depth: total depth percentage = z / mean(x, y) = 2 * z / (x + y) (43--79)\n",
    "* table: width of top of diamond relative to widest point (43--95)"
   ]
  },
  {
   "cell_type": "code",
   "execution_count": 70,
   "id": "819c8347",
   "metadata": {},
   "outputs": [
    {
     "name": "stderr",
     "output_type": "stream",
     "text": [
      "/var/folders/l5/5487vbvj5d39ng714_0crx5r0000gn/T/ipykernel_36620/191637771.py:1: FutureWarning: The default value of numeric_only in DataFrame.corr is deprecated. In a future version, it will default to False. Select only valid columns or specify the value of numeric_only to silence this warning.\n",
      "  sns.heatmap(df_train_2.corr())\n"
     ]
    },
    {
     "data": {
      "text/plain": [
       "<AxesSubplot: >"
      ]
     },
     "execution_count": 70,
     "metadata": {},
     "output_type": "execute_result"
    },
    {
     "data": {
      "image/png": "[encoded data removed]",
      "text/plain": [
       "<Figure size 432x288 with 2 Axes>"
      ]
     },
     "metadata": {
      "needs_background": "light"
     },
     "output_type": "display_data"
    }
   ],
   "source": [
    "sns.heatmap(df_train_2.corr())"
   ]
  },
  {
   "cell_type": "code",
   "execution_count": 71,
   "id": "71708d8f",
   "metadata": {},
   "outputs": [
    {
     "data": {
      "text/plain": [
       "G    8530\n",
       "E    7352\n",
       "F    7168\n",
       "H    6232\n",
       "D    5102\n",
       "I    3984\n",
       "J    2087\n",
       "Name: color, dtype: int64"
      ]
     },
     "execution_count": 71,
     "metadata": {},
     "output_type": "execute_result"
    }
   ],
   "source": [
    "df_train_2.color.value_counts()"
   ]
  },
  {
   "cell_type": "code",
   "execution_count": 72,
   "id": "728ccffb",
   "metadata": {},
   "outputs": [],
   "source": [
    "classif_colors = {'G': 4, \n",
    "                  'E': 2, \n",
    "                  'F': 3, \n",
    "                  'H': 5, \n",
    "                  'D': 1, \n",
    "                  'I': 6, \n",
    "                  'J': 7}"
   ]
  },
  {
   "cell_type": "code",
   "execution_count": 73,
   "id": "04b0eaa7",
   "metadata": {},
   "outputs": [],
   "source": [
    "df_train_2[\"classif_color\"] = df_train_2[\"color\"].replace(classif_colors)"
   ]
  },
  {
   "cell_type": "code",
   "execution_count": 74,
   "id": "2b74036d",
   "metadata": {},
   "outputs": [],
   "source": [
    "colors = df_train_2.classif_color.value_counts()"
   ]
  },
  {
   "cell_type": "code",
   "execution_count": 75,
   "id": "fe4d90b3",
   "metadata": {},
   "outputs": [
    {
     "data": {
      "text/plain": [
       "<AxesSubplot: title={'center': 'Colors'}>"
      ]
     },
     "execution_count": 75,
     "metadata": {},
     "output_type": "execute_result"
    },
    {
     "data": {
      "image/png": "[encoded data removed]",
      "text/plain": [
       "<Figure size 1080x504 with 1 Axes>"
      ]
     },
     "metadata": {
      "needs_background": "light"
     },
     "output_type": "display_data"
    }
   ],
   "source": [
    "colors.plot(x='colors', kind=\"bar\", figsize=(15,7), color=\"green\", title=\"Colors\")"
   ]
  },
  {
   "cell_type": "markdown",
   "id": "8283e15b",
   "metadata": {},
   "source": [
    "1. Flawless (FL): no inclusion or blemishes are visible using 10x magnification\n",
    "2. Internally Flawless (IF): no inclusions and only blemishes are visible using 10x magnification\n",
    "3. Very, Very Slightly Included (VVS1 and VVS2): inclusions are difficult to see under 10x magnification\n",
    "4. Very Slightly Included (VS1 and VS2): inclusions are minor although easier to see under 10x magnification\n",
    "5. Slightly Included (SI1 and SI2): inclusions are noticeable under 10x magnification\n",
    "6. Included (I1, I2, and I3): inclusions are visible under 10x magnification and to the naked eye and may affect transparency and brilliance of the diamond"
   ]
  },
  {
   "cell_type": "code",
   "execution_count": 76,
   "id": "ff75c515",
   "metadata": {
    "scrolled": true
   },
   "outputs": [
    {
     "data": {
      "text/plain": [
       "SI1     9861\n",
       "VS2     9196\n",
       "SI2     6844\n",
       "VS1     6073\n",
       "VVS2    3848\n",
       "VVS1    2729\n",
       "IF      1367\n",
       "I1       537\n",
       "Name: clarity, dtype: int64"
      ]
     },
     "execution_count": 76,
     "metadata": {},
     "output_type": "execute_result"
    }
   ],
   "source": [
    "df_train_2.clarity.value_counts()"
   ]
  },
  {
   "cell_type": "code",
   "execution_count": 77,
   "id": "5d51dccf",
   "metadata": {},
   "outputs": [],
   "source": [
    "classif_clarity = {'SI1': 4,\n",
    "                   'VS2': 3,\n",
    "                   'SI2': 4,\n",
    "                   'VS1': 3,\n",
    "                   'VVS2': 2,\n",
    "                   'VVS1': 2,\n",
    "                   'IF': 1,\n",
    "                   'I1': 5}"
   ]
  },
  {
   "cell_type": "code",
   "execution_count": 78,
   "id": "f7f14a99",
   "metadata": {},
   "outputs": [],
   "source": [
    "df_train_2[\"classif_clarity\"] = df_train_2[\"clarity\"].replace(classif_clarity)"
   ]
  },
  {
   "cell_type": "code",
   "execution_count": 79,
   "id": "77f2e5dc",
   "metadata": {},
   "outputs": [],
   "source": [
    "clarities = df_train_2[\"clarity\"].value_counts()"
   ]
  },
  {
   "cell_type": "code",
   "execution_count": 80,
   "id": "e92c7326",
   "metadata": {},
   "outputs": [
    {
     "data": {
      "text/plain": [
       "<AxesSubplot: title={'center': 'Clarity'}>"
      ]
     },
     "execution_count": 80,
     "metadata": {},
     "output_type": "execute_result"
    },
    {
     "data": {
      "image/png": "[encoded data removed]",
      "text/plain": [
       "<Figure size 1080x504 with 1 Axes>"
      ]
     },
     "metadata": {
      "needs_background": "light"
     },
     "output_type": "display_data"
    }
   ],
   "source": [
    "clarities.plot(x='clarities', kind=\"bar\", figsize=(15,7), color=\"salmon\", title=\"Clarity\")"
   ]
  },
  {
   "cell_type": "code",
   "execution_count": 81,
   "id": "8493f1ad",
   "metadata": {},
   "outputs": [
    {
     "data": {
      "text/plain": [
       "Ideal        16210\n",
       "Premium      10296\n",
       "Very Good     9080\n",
       "Good          3673\n",
       "Fair          1196\n",
       "Name: cut, dtype: int64"
      ]
     },
     "execution_count": 81,
     "metadata": {},
     "output_type": "execute_result"
    }
   ],
   "source": [
    "df_train_2.cut.value_counts()"
   ]
  },
  {
   "cell_type": "code",
   "execution_count": 82,
   "id": "d9f0be32",
   "metadata": {},
   "outputs": [],
   "source": [
    "classif_cut = {'Ideal': 1, \n",
    "               'Premium': 2, \n",
    "               'Very Good': 3, \n",
    "               'Good': 4,\n",
    "               'Fair': 5}"
   ]
  },
  {
   "cell_type": "code",
   "execution_count": 83,
   "id": "623effe2",
   "metadata": {},
   "outputs": [],
   "source": [
    "df_train_2[\"classif_cut\"] = df_train_2[\"cut\"].replace(classif_cut)"
   ]
  },
  {
   "cell_type": "code",
   "execution_count": 84,
   "id": "1d0fcdb3",
   "metadata": {},
   "outputs": [],
   "source": [
    "cuts = df_train_2[\"classif_cut\"].value_counts()"
   ]
  },
  {
   "cell_type": "code",
   "execution_count": 85,
   "id": "7799fb01",
   "metadata": {},
   "outputs": [
    {
     "data": {
      "text/plain": [
       "<AxesSubplot: title={'center': 'Cuts'}>"
      ]
     },
     "execution_count": 85,
     "metadata": {},
     "output_type": "execute_result"
    },
    {
     "data": {
      "image/png": "[encoded data removed]",
      "text/plain": [
       "<Figure size 1080x504 with 1 Axes>"
      ]
     },
     "metadata": {
      "needs_background": "light"
     },
     "output_type": "display_data"
    }
   ],
   "source": [
    "cuts.plot(x='cuts', kind=\"bar\", figsize=(15,7), title=\"Cuts\")"
   ]
  },
  {
   "cell_type": "code",
   "execution_count": 86,
   "id": "f52673e1",
   "metadata": {},
   "outputs": [],
   "source": [
    "df_train_complete = df_train_2.select_dtypes(exclude='object')"
   ]
  },
  {
   "cell_type": "code",
   "execution_count": 87,
   "id": "bfd14811",
   "metadata": {},
   "outputs": [
    {
     "data": {
      "text/html": [
       "<style type=\"text/css\">\n",
       "#T_9c4d1_row0_col0, #T_9c4d1_row1_col1, #T_9c4d1_row2_col2, #T_9c4d1_row3_col3, #T_9c4d1_row4_col4, #T_9c4d1_row5_col5, #T_9c4d1_row6_col6, #T_9c4d1_row7_col7, #T_9c4d1_row8_col8, #T_9c4d1_row9_col9, #T_9c4d1_row10_col10 {\n",
       "  background-color: #b40426;\n",
       "  color: #f1f1f1;\n",
       "}\n",
       "#T_9c4d1_row0_col1, #T_9c4d1_row0_col6, #T_9c4d1_row0_col7, #T_9c4d1_row0_col10, #T_9c4d1_row1_col0, #T_9c4d1_row2_col3, #T_9c4d1_row2_col4, #T_9c4d1_row2_col5, #T_9c4d1_row3_col2, #T_9c4d1_row4_col0, #T_9c4d1_row5_col0, #T_9c4d1_row6_col0, #T_9c4d1_row7_col0, #T_9c4d1_row8_col9, #T_9c4d1_row9_col0, #T_9c4d1_row9_col8 {\n",
       "  background-color: #3b4cc0;\n",
       "  color: #f1f1f1;\n",
       "}\n",
       "#T_9c4d1_row0_col2 {\n",
       "  background-color: #84a7fc;\n",
       "  color: #f1f1f1;\n",
       "}\n",
       "#T_9c4d1_row0_col3, #T_9c4d1_row7_col2 {\n",
       "  background-color: #85a8fc;\n",
       "  color: #f1f1f1;\n",
       "}\n",
       "#T_9c4d1_row0_col4 {\n",
       "  background-color: #3f53c6;\n",
       "  color: #f1f1f1;\n",
       "}\n",
       "#T_9c4d1_row0_col5, #T_9c4d1_row8_col10 {\n",
       "  background-color: #4055c8;\n",
       "  color: #f1f1f1;\n",
       "}\n",
       "#T_9c4d1_row0_col8 {\n",
       "  background-color: #3e51c5;\n",
       "  color: #f1f1f1;\n",
       "}\n",
       "#T_9c4d1_row0_col9, #T_9c4d1_row3_col0 {\n",
       "  background-color: #3d50c3;\n",
       "  color: #f1f1f1;\n",
       "}\n",
       "#T_9c4d1_row1_col2, #T_9c4d1_row8_col3 {\n",
       "  background-color: #8caffe;\n",
       "  color: #000000;\n",
       "}\n",
       "#T_9c4d1_row1_col3 {\n",
       "  background-color: #b6cefa;\n",
       "  color: #000000;\n",
       "}\n",
       "#T_9c4d1_row1_col4 {\n",
       "  background-color: #bb1b2c;\n",
       "  color: #f1f1f1;\n",
       "}\n",
       "#T_9c4d1_row1_col5, #T_9c4d1_row5_col1 {\n",
       "  background-color: #be242e;\n",
       "  color: #f1f1f1;\n",
       "}\n",
       "#T_9c4d1_row1_col6, #T_9c4d1_row6_col1 {\n",
       "  background-color: #c73635;\n",
       "  color: #f1f1f1;\n",
       "}\n",
       "#T_9c4d1_row1_col7, #T_9c4d1_row7_col1 {\n",
       "  background-color: #d0473d;\n",
       "  color: #f1f1f1;\n",
       "}\n",
       "#T_9c4d1_row1_col8 {\n",
       "  background-color: #9fbfff;\n",
       "  color: #000000;\n",
       "}\n",
       "#T_9c4d1_row1_col9 {\n",
       "  background-color: #abc8fd;\n",
       "  color: #000000;\n",
       "}\n",
       "#T_9c4d1_row1_col10 {\n",
       "  background-color: #6485ec;\n",
       "  color: #f1f1f1;\n",
       "}\n",
       "#T_9c4d1_row2_col0, #T_9c4d1_row2_col7, #T_9c4d1_row8_col0, #T_9c4d1_row10_col0 {\n",
       "  background-color: #3c4ec2;\n",
       "  color: #f1f1f1;\n",
       "}\n",
       "#T_9c4d1_row2_col1 {\n",
       "  background-color: #445acc;\n",
       "  color: #f1f1f1;\n",
       "}\n",
       "#T_9c4d1_row2_col6 {\n",
       "  background-color: #5977e3;\n",
       "  color: #f1f1f1;\n",
       "}\n",
       "#T_9c4d1_row2_col8 {\n",
       "  background-color: #4c66d6;\n",
       "  color: #f1f1f1;\n",
       "}\n",
       "#T_9c4d1_row2_col9, #T_9c4d1_row7_col10 {\n",
       "  background-color: #5572df;\n",
       "  color: #f1f1f1;\n",
       "}\n",
       "#T_9c4d1_row2_col10 {\n",
       "  background-color: #82a6fb;\n",
       "  color: #f1f1f1;\n",
       "}\n",
       "#T_9c4d1_row3_col1 {\n",
       "  background-color: #7699f6;\n",
       "  color: #f1f1f1;\n",
       "}\n",
       "#T_9c4d1_row3_col4 {\n",
       "  background-color: #80a3fa;\n",
       "  color: #f1f1f1;\n",
       "}\n",
       "#T_9c4d1_row3_col5, #T_9c4d1_row4_col2, #T_9c4d1_row7_col9 {\n",
       "  background-color: #7ea1fa;\n",
       "  color: #f1f1f1;\n",
       "}\n",
       "#T_9c4d1_row3_col6, #T_9c4d1_row8_col7 {\n",
       "  background-color: #6c8ff1;\n",
       "  color: #f1f1f1;\n",
       "}\n",
       "#T_9c4d1_row3_col7 {\n",
       "  background-color: #6e90f2;\n",
       "  color: #f1f1f1;\n",
       "}\n",
       "#T_9c4d1_row3_col8 {\n",
       "  background-color: #465ecf;\n",
       "  color: #f1f1f1;\n",
       "}\n",
       "#T_9c4d1_row3_col9 {\n",
       "  background-color: #7093f3;\n",
       "  color: #f1f1f1;\n",
       "}\n",
       "#T_9c4d1_row3_col10 {\n",
       "  background-color: #cad8ef;\n",
       "  color: #000000;\n",
       "}\n",
       "#T_9c4d1_row4_col1 {\n",
       "  background-color: #bd1f2d;\n",
       "  color: #f1f1f1;\n",
       "}\n",
       "#T_9c4d1_row4_col3 {\n",
       "  background-color: #b9d0f9;\n",
       "  color: #000000;\n",
       "}\n",
       "#T_9c4d1_row4_col5, #T_9c4d1_row5_col4 {\n",
       "  background-color: #b70d28;\n",
       "  color: #f1f1f1;\n",
       "}\n",
       "#T_9c4d1_row4_col6, #T_9c4d1_row6_col4 {\n",
       "  background-color: #c0282f;\n",
       "  color: #f1f1f1;\n",
       "}\n",
       "#T_9c4d1_row4_col7, #T_9c4d1_row5_col6, #T_9c4d1_row6_col5, #T_9c4d1_row7_col4 {\n",
       "  background-color: #c32e31;\n",
       "  color: #f1f1f1;\n",
       "}\n",
       "#T_9c4d1_row4_col8, #T_9c4d1_row5_col8 {\n",
       "  background-color: #97b8ff;\n",
       "  color: #000000;\n",
       "}\n",
       "#T_9c4d1_row4_col9, #T_9c4d1_row9_col5 {\n",
       "  background-color: #b2ccfb;\n",
       "  color: #000000;\n",
       "}\n",
       "#T_9c4d1_row4_col10, #T_9c4d1_row5_col10 {\n",
       "  background-color: #6282ea;\n",
       "  color: #f1f1f1;\n",
       "}\n",
       "#T_9c4d1_row5_col2, #T_9c4d1_row10_col9 {\n",
       "  background-color: #7da0f9;\n",
       "  color: #f1f1f1;\n",
       "}\n",
       "#T_9c4d1_row5_col3 {\n",
       "  background-color: #b7cff9;\n",
       "  color: #000000;\n",
       "}\n",
       "#T_9c4d1_row5_col7, #T_9c4d1_row7_col5 {\n",
       "  background-color: #c43032;\n",
       "  color: #f1f1f1;\n",
       "}\n",
       "#T_9c4d1_row5_col9, #T_9c4d1_row6_col9 {\n",
       "  background-color: #b1cbfc;\n",
       "  color: #000000;\n",
       "}\n",
       "#T_9c4d1_row6_col2 {\n",
       "  background-color: #9ebeff;\n",
       "  color: #000000;\n",
       "}\n",
       "#T_9c4d1_row6_col3 {\n",
       "  background-color: #adc9fd;\n",
       "  color: #000000;\n",
       "}\n",
       "#T_9c4d1_row6_col7, #T_9c4d1_row7_col6 {\n",
       "  background-color: #cc403a;\n",
       "  color: #f1f1f1;\n",
       "}\n",
       "#T_9c4d1_row6_col8 {\n",
       "  background-color: #96b7ff;\n",
       "  color: #000000;\n",
       "}\n",
       "#T_9c4d1_row6_col10, #T_9c4d1_row10_col5 {\n",
       "  background-color: #6a8bef;\n",
       "  color: #f1f1f1;\n",
       "}\n",
       "#T_9c4d1_row7_col3, #T_9c4d1_row9_col3 {\n",
       "  background-color: #afcafc;\n",
       "  color: #000000;\n",
       "}\n",
       "#T_9c4d1_row7_col8 {\n",
       "  background-color: #6f92f3;\n",
       "  color: #f1f1f1;\n",
       "}\n",
       "#T_9c4d1_row8_col1 {\n",
       "  background-color: #9dbdff;\n",
       "  color: #000000;\n",
       "}\n",
       "#T_9c4d1_row8_col2 {\n",
       "  background-color: #90b2fe;\n",
       "  color: #000000;\n",
       "}\n",
       "#T_9c4d1_row8_col4, #T_9c4d1_row8_col5 {\n",
       "  background-color: #9abbff;\n",
       "  color: #000000;\n",
       "}\n",
       "#T_9c4d1_row8_col6 {\n",
       "  background-color: #94b6ff;\n",
       "  color: #000000;\n",
       "}\n",
       "#T_9c4d1_row9_col1 {\n",
       "  background-color: #a9c6fd;\n",
       "  color: #000000;\n",
       "}\n",
       "#T_9c4d1_row9_col2 {\n",
       "  background-color: #98b9ff;\n",
       "  color: #000000;\n",
       "}\n",
       "#T_9c4d1_row9_col4 {\n",
       "  background-color: #b5cdfa;\n",
       "  color: #000000;\n",
       "}\n",
       "#T_9c4d1_row9_col6 {\n",
       "  background-color: #aec9fc;\n",
       "  color: #000000;\n",
       "}\n",
       "#T_9c4d1_row9_col7 {\n",
       "  background-color: #7a9df8;\n",
       "  color: #f1f1f1;\n",
       "}\n",
       "#T_9c4d1_row9_col10 {\n",
       "  background-color: #799cf8;\n",
       "  color: #f1f1f1;\n",
       "}\n",
       "#T_9c4d1_row10_col1 {\n",
       "  background-color: #6687ed;\n",
       "  color: #f1f1f1;\n",
       "}\n",
       "#T_9c4d1_row10_col2 {\n",
       "  background-color: #bfd3f6;\n",
       "  color: #000000;\n",
       "}\n",
       "#T_9c4d1_row10_col3 {\n",
       "  background-color: #ebd3c6;\n",
       "  color: #000000;\n",
       "}\n",
       "#T_9c4d1_row10_col4 {\n",
       "  background-color: #688aef;\n",
       "  color: #f1f1f1;\n",
       "}\n",
       "#T_9c4d1_row10_col6 {\n",
       "  background-color: #6b8df0;\n",
       "  color: #f1f1f1;\n",
       "}\n",
       "#T_9c4d1_row10_col7 {\n",
       "  background-color: #5673e0;\n",
       "  color: #f1f1f1;\n",
       "}\n",
       "#T_9c4d1_row10_col8 {\n",
       "  background-color: #455cce;\n",
       "  color: #f1f1f1;\n",
       "}\n",
       "</style>\n",
       "<table id=\"T_9c4d1\">\n",
       "  <thead>\n",
       "    <tr>\n",
       "      <th class=\"blank level0\" >&nbsp;</th>\n",
       "      <th id=\"T_9c4d1_level0_col0\" class=\"col_heading level0 col0\" >id</th>\n",
       "      <th id=\"T_9c4d1_level0_col1\" class=\"col_heading level0 col1\" >carat</th>\n",
       "      <th id=\"T_9c4d1_level0_col2\" class=\"col_heading level0 col2\" >depth</th>\n",
       "      <th id=\"T_9c4d1_level0_col3\" class=\"col_heading level0 col3\" >table</th>\n",
       "      <th id=\"T_9c4d1_level0_col4\" class=\"col_heading level0 col4\" >x</th>\n",
       "      <th id=\"T_9c4d1_level0_col5\" class=\"col_heading level0 col5\" >y</th>\n",
       "      <th id=\"T_9c4d1_level0_col6\" class=\"col_heading level0 col6\" >z</th>\n",
       "      <th id=\"T_9c4d1_level0_col7\" class=\"col_heading level0 col7\" >price</th>\n",
       "      <th id=\"T_9c4d1_level0_col8\" class=\"col_heading level0 col8\" >classif_color</th>\n",
       "      <th id=\"T_9c4d1_level0_col9\" class=\"col_heading level0 col9\" >classif_clarity</th>\n",
       "      <th id=\"T_9c4d1_level0_col10\" class=\"col_heading level0 col10\" >classif_cut</th>\n",
       "    </tr>\n",
       "  </thead>\n",
       "  <tbody>\n",
       "    <tr>\n",
       "      <th id=\"T_9c4d1_level0_row0\" class=\"row_heading level0 row0\" >id</th>\n",
       "      <td id=\"T_9c4d1_row0_col0\" class=\"data row0 col0\" >1.000000</td>\n",
       "      <td id=\"T_9c4d1_row0_col1\" class=\"data row0 col1\" >-0.004920</td>\n",
       "      <td id=\"T_9c4d1_row0_col2\" class=\"data row0 col2\" >-0.001742</td>\n",
       "      <td id=\"T_9c4d1_row0_col3\" class=\"data row0 col3\" >0.002566</td>\n",
       "      <td id=\"T_9c4d1_row0_col4\" class=\"data row0 col4\" >-0.004892</td>\n",
       "      <td id=\"T_9c4d1_row0_col5\" class=\"data row0 col5\" >-0.003922</td>\n",
       "      <td id=\"T_9c4d1_row0_col6\" class=\"data row0 col6\" >-0.005852</td>\n",
       "      <td id=\"T_9c4d1_row0_col7\" class=\"data row0 col7\" >-0.003839</td>\n",
       "      <td id=\"T_9c4d1_row0_col8\" class=\"data row0 col8\" >-0.000595</td>\n",
       "      <td id=\"T_9c4d1_row0_col9\" class=\"data row0 col9\" >-0.004529</td>\n",
       "      <td id=\"T_9c4d1_row0_col10\" class=\"data row0 col10\" >0.000686</td>\n",
       "    </tr>\n",
       "    <tr>\n",
       "      <th id=\"T_9c4d1_level0_row1\" class=\"row_heading level0 row1\" >carat</th>\n",
       "      <td id=\"T_9c4d1_row1_col0\" class=\"data row1 col0\" >-0.004920</td>\n",
       "      <td id=\"T_9c4d1_row1_col1\" class=\"data row1 col1\" >1.000000</td>\n",
       "      <td id=\"T_9c4d1_row1_col2\" class=\"data row1 col2\" >0.029877</td>\n",
       "      <td id=\"T_9c4d1_row1_col3\" class=\"data row1 col3\" >0.182316</td>\n",
       "      <td id=\"T_9c4d1_row1_col4\" class=\"data row1 col4\" >0.976032</td>\n",
       "      <td id=\"T_9c4d1_row1_col5\" class=\"data row1 col5\" >0.968603</td>\n",
       "      <td id=\"T_9c4d1_row1_col6\" class=\"data row1 col6\" >0.948812</td>\n",
       "      <td id=\"T_9c4d1_row1_col7\" class=\"data row1 col7\" >0.920101</td>\n",
       "      <td id=\"T_9c4d1_row1_col8\" class=\"data row1 col8\" >0.291000</td>\n",
       "      <td id=\"T_9c4d1_row1_col9\" class=\"data row1 col9\" >0.328578</td>\n",
       "      <td id=\"T_9c4d1_row1_col10\" class=\"data row1 col10\" >0.136191</td>\n",
       "    </tr>\n",
       "    <tr>\n",
       "      <th id=\"T_9c4d1_level0_row2\" class=\"row_heading level0 row2\" >depth</th>\n",
       "      <td id=\"T_9c4d1_row2_col0\" class=\"data row2 col0\" >-0.001742</td>\n",
       "      <td id=\"T_9c4d1_row2_col1\" class=\"data row2 col1\" >0.029877</td>\n",
       "      <td id=\"T_9c4d1_row2_col2\" class=\"data row2 col2\" >1.000000</td>\n",
       "      <td id=\"T_9c4d1_row2_col3\" class=\"data row2 col3\" >-0.292300</td>\n",
       "      <td id=\"T_9c4d1_row2_col4\" class=\"data row2 col4\" >-0.023856</td>\n",
       "      <td id=\"T_9c4d1_row2_col5\" class=\"data row2 col5\" >-0.027099</td>\n",
       "      <td id=\"T_9c4d1_row2_col6\" class=\"data row2 col6\" >0.095304</td>\n",
       "      <td id=\"T_9c4d1_row2_col7\" class=\"data row2 col7\" >0.002542</td>\n",
       "      <td id=\"T_9c4d1_row2_col8\" class=\"data row2 col8\" >0.045797</td>\n",
       "      <td id=\"T_9c4d1_row2_col9\" class=\"data row2 col9\" >0.074152</td>\n",
       "      <td id=\"T_9c4d1_row2_col10\" class=\"data row2 col10\" >0.219379</td>\n",
       "    </tr>\n",
       "    <tr>\n",
       "      <th id=\"T_9c4d1_level0_row3\" class=\"row_heading level0 row3\" >table</th>\n",
       "      <td id=\"T_9c4d1_row3_col0\" class=\"data row3 col0\" >0.002566</td>\n",
       "      <td id=\"T_9c4d1_row3_col1\" class=\"data row3 col1\" >0.182316</td>\n",
       "      <td id=\"T_9c4d1_row3_col2\" class=\"data row3 col2\" >-0.292300</td>\n",
       "      <td id=\"T_9c4d1_row3_col3\" class=\"data row3 col3\" >1.000000</td>\n",
       "      <td id=\"T_9c4d1_row3_col4\" class=\"data row3 col4\" >0.195966</td>\n",
       "      <td id=\"T_9c4d1_row3_col5\" class=\"data row3 col5\" >0.188074</td>\n",
       "      <td id=\"T_9c4d1_row3_col6\" class=\"data row3 col6\" >0.151454</td>\n",
       "      <td id=\"T_9c4d1_row3_col7\" class=\"data row3 col7\" >0.158621</td>\n",
       "      <td id=\"T_9c4d1_row3_col8\" class=\"data row3 col8\" >0.026552</td>\n",
       "      <td id=\"T_9c4d1_row3_col9\" class=\"data row3 col9\" >0.157461</td>\n",
       "      <td id=\"T_9c4d1_row3_col10\" class=\"data row3 col10\" >0.433781</td>\n",
       "    </tr>\n",
       "    <tr>\n",
       "      <th id=\"T_9c4d1_level0_row4\" class=\"row_heading level0 row4\" >x</th>\n",
       "      <td id=\"T_9c4d1_row4_col0\" class=\"data row4 col0\" >-0.004892</td>\n",
       "      <td id=\"T_9c4d1_row4_col1\" class=\"data row4 col1\" >0.976032</td>\n",
       "      <td id=\"T_9c4d1_row4_col2\" class=\"data row4 col2\" >-0.023856</td>\n",
       "      <td id=\"T_9c4d1_row4_col3\" class=\"data row4 col3\" >0.195966</td>\n",
       "      <td id=\"T_9c4d1_row4_col4\" class=\"data row4 col4\" >1.000000</td>\n",
       "      <td id=\"T_9c4d1_row4_col5\" class=\"data row4 col5\" >0.991368</td>\n",
       "      <td id=\"T_9c4d1_row4_col6\" class=\"data row4 col6\" >0.965504</td>\n",
       "      <td id=\"T_9c4d1_row4_col7\" class=\"data row4 col7\" >0.958779</td>\n",
       "      <td id=\"T_9c4d1_row4_col8\" class=\"data row4 col8\" >0.269683</td>\n",
       "      <td id=\"T_9c4d1_row4_col9\" class=\"data row4 col9\" >0.349265</td>\n",
       "      <td id=\"T_9c4d1_row4_col10\" class=\"data row4 col10\" >0.127371</td>\n",
       "    </tr>\n",
       "    <tr>\n",
       "      <th id=\"T_9c4d1_level0_row5\" class=\"row_heading level0 row5\" >y</th>\n",
       "      <td id=\"T_9c4d1_row5_col0\" class=\"data row5 col0\" >-0.003922</td>\n",
       "      <td id=\"T_9c4d1_row5_col1\" class=\"data row5 col1\" >0.968603</td>\n",
       "      <td id=\"T_9c4d1_row5_col2\" class=\"data row5 col2\" >-0.027099</td>\n",
       "      <td id=\"T_9c4d1_row5_col3\" class=\"data row5 col3\" >0.188074</td>\n",
       "      <td id=\"T_9c4d1_row5_col4\" class=\"data row5 col4\" >0.991368</td>\n",
       "      <td id=\"T_9c4d1_row5_col5\" class=\"data row5 col5\" >1.000000</td>\n",
       "      <td id=\"T_9c4d1_row5_col6\" class=\"data row5 col6\" >0.959607</td>\n",
       "      <td id=\"T_9c4d1_row5_col7\" class=\"data row5 col7\" >0.953428</td>\n",
       "      <td id=\"T_9c4d1_row5_col8\" class=\"data row5 col8\" >0.267296</td>\n",
       "      <td id=\"T_9c4d1_row5_col9\" class=\"data row5 col9\" >0.341803</td>\n",
       "      <td id=\"T_9c4d1_row5_col10\" class=\"data row5 col10\" >0.125646</td>\n",
       "    </tr>\n",
       "    <tr>\n",
       "      <th id=\"T_9c4d1_level0_row6\" class=\"row_heading level0 row6\" >z</th>\n",
       "      <td id=\"T_9c4d1_row6_col0\" class=\"data row6 col0\" >-0.005852</td>\n",
       "      <td id=\"T_9c4d1_row6_col1\" class=\"data row6 col1\" >0.948812</td>\n",
       "      <td id=\"T_9c4d1_row6_col2\" class=\"data row6 col2\" >0.095304</td>\n",
       "      <td id=\"T_9c4d1_row6_col3\" class=\"data row6 col3\" >0.151454</td>\n",
       "      <td id=\"T_9c4d1_row6_col4\" class=\"data row6 col4\" >0.965504</td>\n",
       "      <td id=\"T_9c4d1_row6_col5\" class=\"data row6 col5\" >0.959607</td>\n",
       "      <td id=\"T_9c4d1_row6_col6\" class=\"data row6 col6\" >1.000000</td>\n",
       "      <td id=\"T_9c4d1_row6_col7\" class=\"data row6 col7\" >0.930799</td>\n",
       "      <td id=\"T_9c4d1_row6_col8\" class=\"data row6 col8\" >0.265799</td>\n",
       "      <td id=\"T_9c4d1_row6_col9\" class=\"data row6 col9\" >0.343686</td>\n",
       "      <td id=\"T_9c4d1_row6_col10\" class=\"data row6 col10\" >0.150608</td>\n",
       "    </tr>\n",
       "    <tr>\n",
       "      <th id=\"T_9c4d1_level0_row7\" class=\"row_heading level0 row7\" >price</th>\n",
       "      <td id=\"T_9c4d1_row7_col0\" class=\"data row7 col0\" >-0.003839</td>\n",
       "      <td id=\"T_9c4d1_row7_col1\" class=\"data row7 col1\" >0.920101</td>\n",
       "      <td id=\"T_9c4d1_row7_col2\" class=\"data row7 col2\" >0.002542</td>\n",
       "      <td id=\"T_9c4d1_row7_col3\" class=\"data row7 col3\" >0.158621</td>\n",
       "      <td id=\"T_9c4d1_row7_col4\" class=\"data row7 col4\" >0.958779</td>\n",
       "      <td id=\"T_9c4d1_row7_col5\" class=\"data row7 col5\" >0.953428</td>\n",
       "      <td id=\"T_9c4d1_row7_col6\" class=\"data row7 col6\" >0.930799</td>\n",
       "      <td id=\"T_9c4d1_row7_col7\" class=\"data row7 col7\" >1.000000</td>\n",
       "      <td id=\"T_9c4d1_row7_col8\" class=\"data row7 col8\" >0.153779</td>\n",
       "      <td id=\"T_9c4d1_row7_col9\" class=\"data row7 col9\" >0.195097</td>\n",
       "      <td id=\"T_9c4d1_row7_col10\" class=\"data row7 col10\" >0.089483</td>\n",
       "    </tr>\n",
       "    <tr>\n",
       "      <th id=\"T_9c4d1_level0_row8\" class=\"row_heading level0 row8\" >classif_color</th>\n",
       "      <td id=\"T_9c4d1_row8_col0\" class=\"data row8 col0\" >-0.000595</td>\n",
       "      <td id=\"T_9c4d1_row8_col1\" class=\"data row8 col1\" >0.291000</td>\n",
       "      <td id=\"T_9c4d1_row8_col2\" class=\"data row8 col2\" >0.045797</td>\n",
       "      <td id=\"T_9c4d1_row8_col3\" class=\"data row8 col3\" >0.026552</td>\n",
       "      <td id=\"T_9c4d1_row8_col4\" class=\"data row8 col4\" >0.269683</td>\n",
       "      <td id=\"T_9c4d1_row8_col5\" class=\"data row8 col5\" >0.267296</td>\n",
       "      <td id=\"T_9c4d1_row8_col6\" class=\"data row8 col6\" >0.265799</td>\n",
       "      <td id=\"T_9c4d1_row8_col7\" class=\"data row8 col7\" >0.153779</td>\n",
       "      <td id=\"T_9c4d1_row8_col8\" class=\"data row8 col8\" >1.000000</td>\n",
       "      <td id=\"T_9c4d1_row8_col9\" class=\"data row8 col9\" >-0.015496</td>\n",
       "      <td id=\"T_9c4d1_row8_col10\" class=\"data row8 col10\" >0.020565</td>\n",
       "    </tr>\n",
       "    <tr>\n",
       "      <th id=\"T_9c4d1_level0_row9\" class=\"row_heading level0 row9\" >classif_clarity</th>\n",
       "      <td id=\"T_9c4d1_row9_col0\" class=\"data row9 col0\" >-0.004529</td>\n",
       "      <td id=\"T_9c4d1_row9_col1\" class=\"data row9 col1\" >0.328578</td>\n",
       "      <td id=\"T_9c4d1_row9_col2\" class=\"data row9 col2\" >0.074152</td>\n",
       "      <td id=\"T_9c4d1_row9_col3\" class=\"data row9 col3\" >0.157461</td>\n",
       "      <td id=\"T_9c4d1_row9_col4\" class=\"data row9 col4\" >0.349265</td>\n",
       "      <td id=\"T_9c4d1_row9_col5\" class=\"data row9 col5\" >0.341803</td>\n",
       "      <td id=\"T_9c4d1_row9_col6\" class=\"data row9 col6\" >0.343686</td>\n",
       "      <td id=\"T_9c4d1_row9_col7\" class=\"data row9 col7\" >0.195097</td>\n",
       "      <td id=\"T_9c4d1_row9_col8\" class=\"data row9 col8\" >-0.015496</td>\n",
       "      <td id=\"T_9c4d1_row9_col9\" class=\"data row9 col9\" >1.000000</td>\n",
       "      <td id=\"T_9c4d1_row9_col10\" class=\"data row9 col10\" >0.194151</td>\n",
       "    </tr>\n",
       "    <tr>\n",
       "      <th id=\"T_9c4d1_level0_row10\" class=\"row_heading level0 row10\" >classif_cut</th>\n",
       "      <td id=\"T_9c4d1_row10_col0\" class=\"data row10 col0\" >0.000686</td>\n",
       "      <td id=\"T_9c4d1_row10_col1\" class=\"data row10 col1\" >0.136191</td>\n",
       "      <td id=\"T_9c4d1_row10_col2\" class=\"data row10 col2\" >0.219379</td>\n",
       "      <td id=\"T_9c4d1_row10_col3\" class=\"data row10 col3\" >0.433781</td>\n",
       "      <td id=\"T_9c4d1_row10_col4\" class=\"data row10 col4\" >0.127371</td>\n",
       "      <td id=\"T_9c4d1_row10_col5\" class=\"data row10 col5\" >0.125646</td>\n",
       "      <td id=\"T_9c4d1_row10_col6\" class=\"data row10 col6\" >0.150608</td>\n",
       "      <td id=\"T_9c4d1_row10_col7\" class=\"data row10 col7\" >0.089483</td>\n",
       "      <td id=\"T_9c4d1_row10_col8\" class=\"data row10 col8\" >0.020565</td>\n",
       "      <td id=\"T_9c4d1_row10_col9\" class=\"data row10 col9\" >0.194151</td>\n",
       "      <td id=\"T_9c4d1_row10_col10\" class=\"data row10 col10\" >1.000000</td>\n",
       "    </tr>\n",
       "  </tbody>\n",
       "</table>\n"
      ],
      "text/plain": [
       "<pandas.io.formats.style.Styler at 0x7f99c0f4a550>"
      ]
     },
     "execution_count": 87,
     "metadata": {},
     "output_type": "execute_result"
    }
   ],
   "source": [
    "corr_matrix = df_train_complete.corr()\n",
    "corr_matrix.style.background_gradient(cmap='coolwarm')"
   ]
  },
  {
   "cell_type": "code",
   "execution_count": 88,
   "id": "045b8b8b",
   "metadata": {},
   "outputs": [
    {
     "data": {
      "image/png": "[encoded data removed]",
      "text/plain": [
       "<Figure size 432x288 with 1 Axes>"
      ]
     },
     "metadata": {
      "needs_background": "light"
     },
     "output_type": "display_data"
    },
    {
     "data": {
      "text/plain": [
       "<Figure size 1080x1080 with 0 Axes>"
      ]
     },
     "metadata": {},
     "output_type": "display_data"
    }
   ],
   "source": [
    "plt.scatter(data=df_train_complete, x='depth', y='price')\n",
    "plt.xlabel('Eje X')\n",
    "plt.ylabel('Eje Y')\n",
    "plt.title('Gráfico de dispersión Depth')\n",
    "plt.figure(figsize=(15, 15))\n",
    "plt.show()"
   ]
  },
  {
   "cell_type": "code",
   "execution_count": 89,
   "id": "2753e719",
   "metadata": {},
   "outputs": [],
   "source": [
    "df_train_cleaning = df_train_complete[(df_train_complete['depth'] > 50) & (df_train_complete['depth'] < 70)]"
   ]
  },
  {
   "cell_type": "code",
   "execution_count": 90,
   "id": "ca4e15ba",
   "metadata": {},
   "outputs": [
    {
     "data": {
      "image/png": "[encoded data removed]",
      "text/plain": [
       "<Figure size 432x288 with 1 Axes>"
      ]
     },
     "metadata": {
      "needs_background": "light"
     },
     "output_type": "display_data"
    },
    {
     "data": {
      "text/plain": [
       "<Figure size 1080x1080 with 0 Axes>"
      ]
     },
     "metadata": {},
     "output_type": "display_data"
    }
   ],
   "source": [
    "plt.scatter(data=df_train_complete, x='x', y='price')\n",
    "plt.xlabel('Eje X')\n",
    "plt.ylabel('Eje Y')\n",
    "plt.title('Gráfico de dispersión X')\n",
    "plt.figure(figsize=(15, 15))\n",
    "plt.show()"
   ]
  },
  {
   "cell_type": "code",
   "execution_count": 91,
   "id": "e59fa2ea",
   "metadata": {},
   "outputs": [],
   "source": [
    "df_train_cleaning = df_train_cleaning[(df_train_cleaning['x'] > 0) & (df_train_cleaning['x'] < 10)]"
   ]
  },
  {
   "cell_type": "code",
   "execution_count": 92,
   "id": "7b595d02",
   "metadata": {},
   "outputs": [
    {
     "data": {
      "image/png": "[encoded data removed]",
      "text/plain": [
       "<Figure size 432x288 with 1 Axes>"
      ]
     },
     "metadata": {
      "needs_background": "light"
     },
     "output_type": "display_data"
    },
    {
     "data": {
      "text/plain": [
       "<Figure size 1080x1080 with 0 Axes>"
      ]
     },
     "metadata": {},
     "output_type": "display_data"
    }
   ],
   "source": [
    "plt.scatter(data=df_train_complete, x='table', y='price')\n",
    "plt.xlabel('Eje X')\n",
    "plt.ylabel('Eje Y')\n",
    "plt.title('Gráfico de dispersión table')\n",
    "plt.figure(figsize=(15, 15))\n",
    "plt.show()"
   ]
  },
  {
   "cell_type": "code",
   "execution_count": 93,
   "id": "b2d3368d",
   "metadata": {},
   "outputs": [],
   "source": [
    "df_train_cleaning = df_train_cleaning[(df_train_cleaning['table'] > 50) & (df_train_cleaning['table'] < 70)]"
   ]
  },
  {
   "cell_type": "code",
   "execution_count": 94,
   "id": "6124b2c8",
   "metadata": {
    "scrolled": true
   },
   "outputs": [
    {
     "data": {
      "image/png": "[encoded data removed]",
      "text/plain": [
       "<Figure size 432x288 with 1 Axes>"
      ]
     },
     "metadata": {
      "needs_background": "light"
     },
     "output_type": "display_data"
    },
    {
     "data": {
      "text/plain": [
       "<Figure size 1080x1080 with 0 Axes>"
      ]
     },
     "metadata": {},
     "output_type": "display_data"
    },
    {
     "data": {
      "image/png": "[encoded data removed]",
      "text/plain": [
       "<Figure size 432x288 with 1 Axes>"
      ]
     },
     "metadata": {
      "needs_background": "light"
     },
     "output_type": "display_data"
    },
    {
     "data": {
      "text/plain": [
       "<Figure size 1080x1080 with 0 Axes>"
      ]
     },
     "metadata": {},
     "output_type": "display_data"
    },
    {
     "data": {
      "image/png": "[encoded data removed]",
      "text/plain": [
       "<Figure size 432x288 with 1 Axes>"
      ]
     },
     "metadata": {
      "needs_background": "light"
     },
     "output_type": "display_data"
    },
    {
     "data": {
      "text/plain": [
       "<Figure size 1080x1080 with 0 Axes>"
      ]
     },
     "metadata": {},
     "output_type": "display_data"
    }
   ],
   "source": [
    "plt.scatter(data=df_train_cleaning, x='table', y='price')\n",
    "plt.xlabel('Eje X')\n",
    "plt.ylabel('Eje Y')\n",
    "plt.title('Gráfico de dispersión Table')\n",
    "plt.figure(figsize=(15, 15))\n",
    "plt.show()\n",
    "\n",
    "plt.scatter(data=df_train_cleaning, x='depth', y='price')\n",
    "plt.xlabel('Eje X')\n",
    "plt.ylabel('Eje Y')\n",
    "plt.title('Gráfico de dispersión Depth')\n",
    "plt.figure(figsize=(15, 15))\n",
    "plt.show()\n",
    "\n",
    "plt.scatter(data=df_train_cleaning, x='x', y='price')\n",
    "plt.xlabel('Eje X')\n",
    "plt.ylabel('Eje Y')\n",
    "plt.title('Gráfico de dispersión x')\n",
    "plt.figure(figsize=(15, 15))\n",
    "plt.show()"
   ]
  },
  {
   "cell_type": "code",
   "execution_count": 95,
   "id": "529f8173",
   "metadata": {},
   "outputs": [],
   "source": [
    "df_train_clean = df_train_cleaning"
   ]
  },
  {
   "cell_type": "code",
   "execution_count": 96,
   "id": "b57b646d",
   "metadata": {},
   "outputs": [],
   "source": [
    "from sklearn.preprocessing import MinMaxScaler"
   ]
  },
  {
   "cell_type": "code",
   "execution_count": 97,
   "id": "b61bbd16",
   "metadata": {},
   "outputs": [
    {
     "data": {
      "image/png": "[encoded data removed]",
      "text/plain": [
       "<Figure size 432x288 with 1 Axes>"
      ]
     },
     "metadata": {
      "needs_background": "light"
     },
     "output_type": "display_data"
    }
   ],
   "source": [
    "sns.histplot(df_train_clean[\"x\"]);"
   ]
  },
  {
   "cell_type": "code",
   "execution_count": 98,
   "id": "452aad86",
   "metadata": {},
   "outputs": [],
   "source": [
    "df_train_normalized = df_train_clean"
   ]
  },
  {
   "cell_type": "code",
   "execution_count": 99,
   "id": "d5de24fb",
   "metadata": {},
   "outputs": [],
   "source": [
    "min_max = MinMaxScaler()"
   ]
  },
  {
   "cell_type": "code",
   "execution_count": 100,
   "id": "2caba0d1",
   "metadata": {},
   "outputs": [
    {
     "data": {
      "image/png": "[encoded data removed]",
      "text/plain": [
       "<Figure size 432x288 with 1 Axes>"
      ]
     },
     "metadata": {
      "needs_background": "light"
     },
     "output_type": "display_data"
    }
   ],
   "source": [
    "df_train_normalized[\"x\"] = min_max.fit_transform(df_train_normalized[\"x\"].values.reshape(-1,1))\n",
    "sns.histplot(x=df_train_normalized[\"x\"]);"
   ]
  },
  {
   "cell_type": "code",
   "execution_count": 101,
   "id": "f496a13d",
   "metadata": {},
   "outputs": [
    {
     "data": {
      "image/png": "[encoded data removed]",
      "text/plain": [
       "<Figure size 432x288 with 1 Axes>"
      ]
     },
     "metadata": {
      "needs_background": "light"
     },
     "output_type": "display_data"
    }
   ],
   "source": [
    "df_train_normalized[\"depth\"] = min_max.fit_transform(df_train_normalized[\"depth\"].values.reshape(-1,1))\n",
    "sns.histplot(x=df_train_normalized[\"depth\"]);"
   ]
  },
  {
   "cell_type": "code",
   "execution_count": 102,
   "id": "2df2da5e",
   "metadata": {},
   "outputs": [
    {
     "data": {
      "image/png": "[encoded data removed]",
      "text/plain": [
       "<Figure size 432x288 with 1 Axes>"
      ]
     },
     "metadata": {
      "needs_background": "light"
     },
     "output_type": "display_data"
    }
   ],
   "source": [
    "df_train_normalized[\"table\"] = min_max.fit_transform(df_train_normalized[\"table\"].values.reshape(-1,1))\n",
    "sns.histplot(x=df_train_normalized[\"table\"]);"
   ]
  },
  {
   "cell_type": "code",
   "execution_count": 103,
   "id": "30db07bb",
   "metadata": {},
   "outputs": [
    {
     "data": {
      "image/png": "[encoded data removed]",
      "text/plain": [
       "<Figure size 432x288 with 1 Axes>"
      ]
     },
     "metadata": {
      "needs_background": "light"
     },
     "output_type": "display_data"
    }
   ],
   "source": [
    "df_train_normalized[\"carat\"] = min_max.fit_transform(df_train_normalized[\"carat\"].values.reshape(-1,1))\n",
    "sns.histplot(x=df_train_normalized[\"carat\"]);"
   ]
  },
  {
   "cell_type": "code",
   "execution_count": 104,
   "id": "8e8a5b05",
   "metadata": {},
   "outputs": [
    {
     "data": {
      "image/png": "[encoded data removed]",
      "text/plain": [
       "<Figure size 432x288 with 1 Axes>"
      ]
     },
     "metadata": {
      "needs_background": "light"
     },
     "output_type": "display_data"
    }
   ],
   "source": [
    "df_train_normalized[\"classif_color\"] = min_max.fit_transform(df_train_normalized[\"classif_color\"].values.reshape(-1,1))\n",
    "sns.histplot(x=df_train_normalized[\"classif_color\"]);"
   ]
  },
  {
   "cell_type": "code",
   "execution_count": 105,
   "id": "9cfe7f77",
   "metadata": {},
   "outputs": [
    {
     "data": {
      "image/png": "[encoded data removed]",
      "text/plain": [
       "<Figure size 432x288 with 1 Axes>"
      ]
     },
     "metadata": {
      "needs_background": "light"
     },
     "output_type": "display_data"
    }
   ],
   "source": [
    "df_train_normalized[\"classif_clarity\"] = min_max.fit_transform(df_train_normalized[\"classif_clarity\"].values.reshape(-1,1))\n",
    "sns.histplot(x=df_train_normalized[\"classif_clarity\"]);"
   ]
  },
  {
   "cell_type": "code",
   "execution_count": 107,
   "id": "968da555",
   "metadata": {},
   "outputs": [
    {
     "data": {
      "image/png": "[encoded data removed]",
      "text/plain": [
       "<Figure size 432x288 with 1 Axes>"
      ]
     },
     "metadata": {
      "needs_background": "light"
     },
     "output_type": "display_data"
    }
   ],
   "source": [
    "df_train_normalized[\"classif_cut\"] = min_max.fit_transform(df_train_normalized[\"classif_cut\"].values.reshape(-1,1))\n",
    "sns.histplot(x=df_train_normalized[\"classif_cut\"]);"
   ]
  },
  {
   "cell_type": "code",
   "execution_count": 108,
   "id": "6c5a3e81",
   "metadata": {
    "scrolled": true
   },
   "outputs": [
    {
     "data": {
      "text/html": [
       "<style type=\"text/css\">\n",
       "#T_741d1_row0_col0, #T_741d1_row1_col1, #T_741d1_row2_col2, #T_741d1_row3_col3, #T_741d1_row4_col4, #T_741d1_row5_col5, #T_741d1_row6_col6, #T_741d1_row7_col7, #T_741d1_row8_col8, #T_741d1_row9_col9, #T_741d1_row10_col10 {\n",
       "  background-color: #b40426;\n",
       "  color: #f1f1f1;\n",
       "}\n",
       "#T_741d1_row0_col1, #T_741d1_row0_col6, #T_741d1_row0_col7, #T_741d1_row0_col10, #T_741d1_row1_col0, #T_741d1_row2_col3, #T_741d1_row2_col4, #T_741d1_row2_col5, #T_741d1_row3_col2, #T_741d1_row4_col0, #T_741d1_row5_col0, #T_741d1_row6_col0, #T_741d1_row7_col0, #T_741d1_row8_col9, #T_741d1_row9_col0, #T_741d1_row9_col8 {\n",
       "  background-color: #3b4cc0;\n",
       "  color: #f1f1f1;\n",
       "}\n",
       "#T_741d1_row0_col2 {\n",
       "  background-color: #85a8fc;\n",
       "  color: #f1f1f1;\n",
       "}\n",
       "#T_741d1_row0_col3, #T_741d1_row7_col2 {\n",
       "  background-color: #86a9fc;\n",
       "  color: #f1f1f1;\n",
       "}\n",
       "#T_741d1_row0_col4 {\n",
       "  background-color: #4055c8;\n",
       "  color: #f1f1f1;\n",
       "}\n",
       "#T_741d1_row0_col5 {\n",
       "  background-color: #4257c9;\n",
       "  color: #f1f1f1;\n",
       "}\n",
       "#T_741d1_row0_col8 {\n",
       "  background-color: #3e51c5;\n",
       "  color: #f1f1f1;\n",
       "}\n",
       "#T_741d1_row0_col9, #T_741d1_row3_col0 {\n",
       "  background-color: #3d50c3;\n",
       "  color: #f1f1f1;\n",
       "}\n",
       "#T_741d1_row1_col2, #T_741d1_row8_col3 {\n",
       "  background-color: #8db0fe;\n",
       "  color: #000000;\n",
       "}\n",
       "#T_741d1_row1_col3 {\n",
       "  background-color: #b7cff9;\n",
       "  color: #000000;\n",
       "}\n",
       "#T_741d1_row1_col4, #T_741d1_row4_col1 {\n",
       "  background-color: #bb1b2c;\n",
       "  color: #f1f1f1;\n",
       "}\n",
       "#T_741d1_row1_col5, #T_741d1_row5_col1 {\n",
       "  background-color: #be242e;\n",
       "  color: #f1f1f1;\n",
       "}\n",
       "#T_741d1_row1_col6, #T_741d1_row6_col1 {\n",
       "  background-color: #c53334;\n",
       "  color: #f1f1f1;\n",
       "}\n",
       "#T_741d1_row1_col7, #T_741d1_row7_col1 {\n",
       "  background-color: #d0473d;\n",
       "  color: #f1f1f1;\n",
       "}\n",
       "#T_741d1_row1_col8, #T_741d1_row6_col2 {\n",
       "  background-color: #9fbfff;\n",
       "  color: #000000;\n",
       "}\n",
       "#T_741d1_row1_col9 {\n",
       "  background-color: #abc8fd;\n",
       "  color: #000000;\n",
       "}\n",
       "#T_741d1_row1_col10 {\n",
       "  background-color: #6485ec;\n",
       "  color: #f1f1f1;\n",
       "}\n",
       "#T_741d1_row2_col0, #T_741d1_row2_col7, #T_741d1_row8_col0, #T_741d1_row10_col0 {\n",
       "  background-color: #3c4ec2;\n",
       "  color: #f1f1f1;\n",
       "}\n",
       "#T_741d1_row2_col1 {\n",
       "  background-color: #445acc;\n",
       "  color: #f1f1f1;\n",
       "}\n",
       "#T_741d1_row2_col6 {\n",
       "  background-color: #5977e3;\n",
       "  color: #f1f1f1;\n",
       "}\n",
       "#T_741d1_row2_col8 {\n",
       "  background-color: #4c66d6;\n",
       "  color: #f1f1f1;\n",
       "}\n",
       "#T_741d1_row2_col9 {\n",
       "  background-color: #5470de;\n",
       "  color: #f1f1f1;\n",
       "}\n",
       "#T_741d1_row2_col10, #T_741d1_row3_col4 {\n",
       "  background-color: #81a4fb;\n",
       "  color: #f1f1f1;\n",
       "}\n",
       "#T_741d1_row3_col1 {\n",
       "  background-color: #779af7;\n",
       "  color: #f1f1f1;\n",
       "}\n",
       "#T_741d1_row3_col5, #T_741d1_row4_col2 {\n",
       "  background-color: #80a3fa;\n",
       "  color: #f1f1f1;\n",
       "}\n",
       "#T_741d1_row3_col6, #T_741d1_row8_col7 {\n",
       "  background-color: #6c8ff1;\n",
       "  color: #f1f1f1;\n",
       "}\n",
       "#T_741d1_row3_col7 {\n",
       "  background-color: #6e90f2;\n",
       "  color: #f1f1f1;\n",
       "}\n",
       "#T_741d1_row3_col8 {\n",
       "  background-color: #465ecf;\n",
       "  color: #f1f1f1;\n",
       "}\n",
       "#T_741d1_row3_col9 {\n",
       "  background-color: #7295f4;\n",
       "  color: #f1f1f1;\n",
       "}\n",
       "#T_741d1_row3_col10 {\n",
       "  background-color: #cbd8ee;\n",
       "  color: #000000;\n",
       "}\n",
       "#T_741d1_row4_col3 {\n",
       "  background-color: #bbd1f8;\n",
       "  color: #000000;\n",
       "}\n",
       "#T_741d1_row4_col5, #T_741d1_row5_col4 {\n",
       "  background-color: #b70d28;\n",
       "  color: #f1f1f1;\n",
       "}\n",
       "#T_741d1_row4_col6, #T_741d1_row6_col4 {\n",
       "  background-color: #c0282f;\n",
       "  color: #f1f1f1;\n",
       "}\n",
       "#T_741d1_row4_col7, #T_741d1_row6_col5, #T_741d1_row7_col4 {\n",
       "  background-color: #c12b30;\n",
       "  color: #f1f1f1;\n",
       "}\n",
       "#T_741d1_row4_col8, #T_741d1_row5_col8 {\n",
       "  background-color: #97b8ff;\n",
       "  color: #000000;\n",
       "}\n",
       "#T_741d1_row4_col9, #T_741d1_row9_col5 {\n",
       "  background-color: #b3cdfb;\n",
       "  color: #000000;\n",
       "}\n",
       "#T_741d1_row4_col10, #T_741d1_row5_col10 {\n",
       "  background-color: #6282ea;\n",
       "  color: #f1f1f1;\n",
       "}\n",
       "#T_741d1_row5_col2, #T_741d1_row7_col9 {\n",
       "  background-color: #7ea1fa;\n",
       "  color: #f1f1f1;\n",
       "}\n",
       "#T_741d1_row5_col3 {\n",
       "  background-color: #b9d0f9;\n",
       "  color: #000000;\n",
       "}\n",
       "#T_741d1_row5_col6 {\n",
       "  background-color: #c32e31;\n",
       "  color: #f1f1f1;\n",
       "}\n",
       "#T_741d1_row5_col7, #T_741d1_row7_col5 {\n",
       "  background-color: #c43032;\n",
       "  color: #f1f1f1;\n",
       "}\n",
       "#T_741d1_row5_col9, #T_741d1_row6_col9, #T_741d1_row7_col3, #T_741d1_row9_col3 {\n",
       "  background-color: #b1cbfc;\n",
       "  color: #000000;\n",
       "}\n",
       "#T_741d1_row6_col3 {\n",
       "  background-color: #afcafc;\n",
       "  color: #000000;\n",
       "}\n",
       "#T_741d1_row6_col7, #T_741d1_row7_col6 {\n",
       "  background-color: #cc403a;\n",
       "  color: #f1f1f1;\n",
       "}\n",
       "#T_741d1_row6_col8 {\n",
       "  background-color: #96b7ff;\n",
       "  color: #000000;\n",
       "}\n",
       "#T_741d1_row6_col10, #T_741d1_row10_col5 {\n",
       "  background-color: #6a8bef;\n",
       "  color: #f1f1f1;\n",
       "}\n",
       "#T_741d1_row7_col8 {\n",
       "  background-color: #6f92f3;\n",
       "  color: #f1f1f1;\n",
       "}\n",
       "#T_741d1_row7_col10 {\n",
       "  background-color: #5572df;\n",
       "  color: #f1f1f1;\n",
       "}\n",
       "#T_741d1_row8_col1 {\n",
       "  background-color: #9dbdff;\n",
       "  color: #000000;\n",
       "}\n",
       "#T_741d1_row8_col2 {\n",
       "  background-color: #93b5fe;\n",
       "  color: #000000;\n",
       "}\n",
       "#T_741d1_row8_col4, #T_741d1_row8_col5, #T_741d1_row9_col2 {\n",
       "  background-color: #9abbff;\n",
       "  color: #000000;\n",
       "}\n",
       "#T_741d1_row8_col6 {\n",
       "  background-color: #94b6ff;\n",
       "  color: #000000;\n",
       "}\n",
       "#T_741d1_row8_col10 {\n",
       "  background-color: #3f53c6;\n",
       "  color: #f1f1f1;\n",
       "}\n",
       "#T_741d1_row9_col1 {\n",
       "  background-color: #a9c6fd;\n",
       "  color: #000000;\n",
       "}\n",
       "#T_741d1_row9_col4 {\n",
       "  background-color: #b5cdfa;\n",
       "  color: #000000;\n",
       "}\n",
       "#T_741d1_row9_col6 {\n",
       "  background-color: #aec9fc;\n",
       "  color: #000000;\n",
       "}\n",
       "#T_741d1_row9_col7 {\n",
       "  background-color: #7a9df8;\n",
       "  color: #f1f1f1;\n",
       "}\n",
       "#T_741d1_row9_col10 {\n",
       "  background-color: #799cf8;\n",
       "  color: #f1f1f1;\n",
       "}\n",
       "#T_741d1_row10_col1 {\n",
       "  background-color: #6687ed;\n",
       "  color: #f1f1f1;\n",
       "}\n",
       "#T_741d1_row10_col2 {\n",
       "  background-color: #bfd3f6;\n",
       "  color: #000000;\n",
       "}\n",
       "#T_741d1_row10_col3 {\n",
       "  background-color: #ecd3c5;\n",
       "  color: #000000;\n",
       "}\n",
       "#T_741d1_row10_col4 {\n",
       "  background-color: #688aef;\n",
       "  color: #f1f1f1;\n",
       "}\n",
       "#T_741d1_row10_col6 {\n",
       "  background-color: #6b8df0;\n",
       "  color: #f1f1f1;\n",
       "}\n",
       "#T_741d1_row10_col7 {\n",
       "  background-color: #5673e0;\n",
       "  color: #f1f1f1;\n",
       "}\n",
       "#T_741d1_row10_col8 {\n",
       "  background-color: #455cce;\n",
       "  color: #f1f1f1;\n",
       "}\n",
       "#T_741d1_row10_col9 {\n",
       "  background-color: #7da0f9;\n",
       "  color: #f1f1f1;\n",
       "}\n",
       "</style>\n",
       "<table id=\"T_741d1\">\n",
       "  <thead>\n",
       "    <tr>\n",
       "      <th class=\"blank level0\" >&nbsp;</th>\n",
       "      <th id=\"T_741d1_level0_col0\" class=\"col_heading level0 col0\" >id</th>\n",
       "      <th id=\"T_741d1_level0_col1\" class=\"col_heading level0 col1\" >carat</th>\n",
       "      <th id=\"T_741d1_level0_col2\" class=\"col_heading level0 col2\" >depth</th>\n",
       "      <th id=\"T_741d1_level0_col3\" class=\"col_heading level0 col3\" >table</th>\n",
       "      <th id=\"T_741d1_level0_col4\" class=\"col_heading level0 col4\" >x</th>\n",
       "      <th id=\"T_741d1_level0_col5\" class=\"col_heading level0 col5\" >y</th>\n",
       "      <th id=\"T_741d1_level0_col6\" class=\"col_heading level0 col6\" >z</th>\n",
       "      <th id=\"T_741d1_level0_col7\" class=\"col_heading level0 col7\" >price</th>\n",
       "      <th id=\"T_741d1_level0_col8\" class=\"col_heading level0 col8\" >classif_color</th>\n",
       "      <th id=\"T_741d1_level0_col9\" class=\"col_heading level0 col9\" >classif_clarity</th>\n",
       "      <th id=\"T_741d1_level0_col10\" class=\"col_heading level0 col10\" >classif_cut</th>\n",
       "    </tr>\n",
       "  </thead>\n",
       "  <tbody>\n",
       "    <tr>\n",
       "      <th id=\"T_741d1_level0_row0\" class=\"row_heading level0 row0\" >id</th>\n",
       "      <td id=\"T_741d1_row0_col0\" class=\"data row0 col0\" >1.000000</td>\n",
       "      <td id=\"T_741d1_row0_col1\" class=\"data row0 col1\" >-0.004744</td>\n",
       "      <td id=\"T_741d1_row0_col2\" class=\"data row0 col2\" >-0.000970</td>\n",
       "      <td id=\"T_741d1_row0_col3\" class=\"data row0 col3\" >0.002694</td>\n",
       "      <td id=\"T_741d1_row0_col4\" class=\"data row0 col4\" >-0.004580</td>\n",
       "      <td id=\"T_741d1_row0_col5\" class=\"data row0 col5\" >-0.003436</td>\n",
       "      <td id=\"T_741d1_row0_col6\" class=\"data row0 col6\" >-0.005493</td>\n",
       "      <td id=\"T_741d1_row0_col7\" class=\"data row0 col7\" >-0.003865</td>\n",
       "      <td id=\"T_741d1_row0_col8\" class=\"data row0 col8\" >-0.000512</td>\n",
       "      <td id=\"T_741d1_row0_col9\" class=\"data row0 col9\" >-0.004477</td>\n",
       "      <td id=\"T_741d1_row0_col10\" class=\"data row0 col10\" >0.000742</td>\n",
       "    </tr>\n",
       "    <tr>\n",
       "      <th id=\"T_741d1_level0_row1\" class=\"row_heading level0 row1\" >carat</th>\n",
       "      <td id=\"T_741d1_row1_col0\" class=\"data row1 col0\" >-0.004744</td>\n",
       "      <td id=\"T_741d1_row1_col1\" class=\"data row1 col1\" >1.000000</td>\n",
       "      <td id=\"T_741d1_row1_col2\" class=\"data row1 col2\" >0.027462</td>\n",
       "      <td id=\"T_741d1_row1_col3\" class=\"data row1 col3\" >0.184337</td>\n",
       "      <td id=\"T_741d1_row1_col4\" class=\"data row1 col4\" >0.978343</td>\n",
       "      <td id=\"T_741d1_row1_col5\" class=\"data row1 col5\" >0.970551</td>\n",
       "      <td id=\"T_741d1_row1_col6\" class=\"data row1 col6\" >0.950805</td>\n",
       "      <td id=\"T_741d1_row1_col7\" class=\"data row1 col7\" >0.921378</td>\n",
       "      <td id=\"T_741d1_row1_col8\" class=\"data row1 col8\" >0.290642</td>\n",
       "      <td id=\"T_741d1_row1_col9\" class=\"data row1 col9\" >0.327939</td>\n",
       "      <td id=\"T_741d1_row1_col10\" class=\"data row1 col10\" >0.134707</td>\n",
       "    </tr>\n",
       "    <tr>\n",
       "      <th id=\"T_741d1_level0_row2\" class=\"row_heading level0 row2\" >depth</th>\n",
       "      <td id=\"T_741d1_row2_col0\" class=\"data row2 col0\" >-0.000970</td>\n",
       "      <td id=\"T_741d1_row2_col1\" class=\"data row2 col1\" >0.027462</td>\n",
       "      <td id=\"T_741d1_row2_col2\" class=\"data row2 col2\" >1.000000</td>\n",
       "      <td id=\"T_741d1_row2_col3\" class=\"data row2 col3\" >-0.300306</td>\n",
       "      <td id=\"T_741d1_row2_col4\" class=\"data row2 col4\" >-0.024788</td>\n",
       "      <td id=\"T_741d1_row2_col5\" class=\"data row2 col5\" >-0.027690</td>\n",
       "      <td id=\"T_741d1_row2_col6\" class=\"data row2 col6\" >0.094048</td>\n",
       "      <td id=\"T_741d1_row2_col7\" class=\"data row2 col7\" >0.002454</td>\n",
       "      <td id=\"T_741d1_row2_col8\" class=\"data row2 col8\" >0.046638</td>\n",
       "      <td id=\"T_741d1_row2_col9\" class=\"data row2 col9\" >0.070739</td>\n",
       "      <td id=\"T_741d1_row2_col10\" class=\"data row2 col10\" >0.217019</td>\n",
       "    </tr>\n",
       "    <tr>\n",
       "      <th id=\"T_741d1_level0_row3\" class=\"row_heading level0 row3\" >table</th>\n",
       "      <td id=\"T_741d1_row3_col0\" class=\"data row3 col0\" >0.002694</td>\n",
       "      <td id=\"T_741d1_row3_col1\" class=\"data row3 col1\" >0.184337</td>\n",
       "      <td id=\"T_741d1_row3_col2\" class=\"data row3 col2\" >-0.300306</td>\n",
       "      <td id=\"T_741d1_row3_col3\" class=\"data row3 col3\" >1.000000</td>\n",
       "      <td id=\"T_741d1_row3_col4\" class=\"data row3 col4\" >0.198086</td>\n",
       "      <td id=\"T_741d1_row3_col5\" class=\"data row3 col5\" >0.190334</td>\n",
       "      <td id=\"T_741d1_row3_col6\" class=\"data row3 col6\" >0.153477</td>\n",
       "      <td id=\"T_741d1_row3_col7\" class=\"data row3 col7\" >0.160046</td>\n",
       "      <td id=\"T_741d1_row3_col8\" class=\"data row3 col8\" >0.027516</td>\n",
       "      <td id=\"T_741d1_row3_col9\" class=\"data row3 col9\" >0.158955</td>\n",
       "      <td id=\"T_741d1_row3_col10\" class=\"data row3 col10\" >0.435307</td>\n",
       "    </tr>\n",
       "    <tr>\n",
       "      <th id=\"T_741d1_level0_row4\" class=\"row_heading level0 row4\" >x</th>\n",
       "      <td id=\"T_741d1_row4_col0\" class=\"data row4 col0\" >-0.004580</td>\n",
       "      <td id=\"T_741d1_row4_col1\" class=\"data row4 col1\" >0.978343</td>\n",
       "      <td id=\"T_741d1_row4_col2\" class=\"data row4 col2\" >-0.024788</td>\n",
       "      <td id=\"T_741d1_row4_col3\" class=\"data row4 col3\" >0.198086</td>\n",
       "      <td id=\"T_741d1_row4_col4\" class=\"data row4 col4\" >1.000000</td>\n",
       "      <td id=\"T_741d1_row4_col5\" class=\"data row4 col5\" >0.991771</td>\n",
       "      <td id=\"T_741d1_row4_col6\" class=\"data row4 col6\" >0.965480</td>\n",
       "      <td id=\"T_741d1_row4_col7\" class=\"data row4 col7\" >0.960970</td>\n",
       "      <td id=\"T_741d1_row4_col8\" class=\"data row4 col8\" >0.269481</td>\n",
       "      <td id=\"T_741d1_row4_col9\" class=\"data row4 col9\" >0.349577</td>\n",
       "      <td id=\"T_741d1_row4_col10\" class=\"data row4 col10\" >0.127065</td>\n",
       "    </tr>\n",
       "    <tr>\n",
       "      <th id=\"T_741d1_level0_row5\" class=\"row_heading level0 row5\" >y</th>\n",
       "      <td id=\"T_741d1_row5_col0\" class=\"data row5 col0\" >-0.003436</td>\n",
       "      <td id=\"T_741d1_row5_col1\" class=\"data row5 col1\" >0.970551</td>\n",
       "      <td id=\"T_741d1_row5_col2\" class=\"data row5 col2\" >-0.027690</td>\n",
       "      <td id=\"T_741d1_row5_col3\" class=\"data row5 col3\" >0.190334</td>\n",
       "      <td id=\"T_741d1_row5_col4\" class=\"data row5 col4\" >0.991771</td>\n",
       "      <td id=\"T_741d1_row5_col5\" class=\"data row5 col5\" >1.000000</td>\n",
       "      <td id=\"T_741d1_row5_col6\" class=\"data row5 col6\" >0.960022</td>\n",
       "      <td id=\"T_741d1_row5_col7\" class=\"data row5 col7\" >0.955188</td>\n",
       "      <td id=\"T_741d1_row5_col8\" class=\"data row5 col8\" >0.267075</td>\n",
       "      <td id=\"T_741d1_row5_col9\" class=\"data row5 col9\" >0.341931</td>\n",
       "      <td id=\"T_741d1_row5_col10\" class=\"data row5 col10\" >0.125691</td>\n",
       "    </tr>\n",
       "    <tr>\n",
       "      <th id=\"T_741d1_level0_row6\" class=\"row_heading level0 row6\" >z</th>\n",
       "      <td id=\"T_741d1_row6_col0\" class=\"data row6 col0\" >-0.005493</td>\n",
       "      <td id=\"T_741d1_row6_col1\" class=\"data row6 col1\" >0.950805</td>\n",
       "      <td id=\"T_741d1_row6_col2\" class=\"data row6 col2\" >0.094048</td>\n",
       "      <td id=\"T_741d1_row6_col3\" class=\"data row6 col3\" >0.153477</td>\n",
       "      <td id=\"T_741d1_row6_col4\" class=\"data row6 col4\" >0.965480</td>\n",
       "      <td id=\"T_741d1_row6_col5\" class=\"data row6 col5\" >0.960022</td>\n",
       "      <td id=\"T_741d1_row6_col6\" class=\"data row6 col6\" >1.000000</td>\n",
       "      <td id=\"T_741d1_row6_col7\" class=\"data row6 col7\" >0.933094</td>\n",
       "      <td id=\"T_741d1_row6_col8\" class=\"data row6 col8\" >0.265554</td>\n",
       "      <td id=\"T_741d1_row6_col9\" class=\"data row6 col9\" >0.343577</td>\n",
       "      <td id=\"T_741d1_row6_col10\" class=\"data row6 col10\" >0.149755</td>\n",
       "    </tr>\n",
       "    <tr>\n",
       "      <th id=\"T_741d1_level0_row7\" class=\"row_heading level0 row7\" >price</th>\n",
       "      <td id=\"T_741d1_row7_col0\" class=\"data row7 col0\" >-0.003865</td>\n",
       "      <td id=\"T_741d1_row7_col1\" class=\"data row7 col1\" >0.921378</td>\n",
       "      <td id=\"T_741d1_row7_col2\" class=\"data row7 col2\" >0.002454</td>\n",
       "      <td id=\"T_741d1_row7_col3\" class=\"data row7 col3\" >0.160046</td>\n",
       "      <td id=\"T_741d1_row7_col4\" class=\"data row7 col4\" >0.960970</td>\n",
       "      <td id=\"T_741d1_row7_col5\" class=\"data row7 col5\" >0.955188</td>\n",
       "      <td id=\"T_741d1_row7_col6\" class=\"data row7 col6\" >0.933094</td>\n",
       "      <td id=\"T_741d1_row7_col7\" class=\"data row7 col7\" >1.000000</td>\n",
       "      <td id=\"T_741d1_row7_col8\" class=\"data row7 col8\" >0.153587</td>\n",
       "      <td id=\"T_741d1_row7_col9\" class=\"data row7 col9\" >0.195032</td>\n",
       "      <td id=\"T_741d1_row7_col10\" class=\"data row7 col10\" >0.089236</td>\n",
       "    </tr>\n",
       "    <tr>\n",
       "      <th id=\"T_741d1_level0_row8\" class=\"row_heading level0 row8\" >classif_color</th>\n",
       "      <td id=\"T_741d1_row8_col0\" class=\"data row8 col0\" >-0.000512</td>\n",
       "      <td id=\"T_741d1_row8_col1\" class=\"data row8 col1\" >0.290642</td>\n",
       "      <td id=\"T_741d1_row8_col2\" class=\"data row8 col2\" >0.046638</td>\n",
       "      <td id=\"T_741d1_row8_col3\" class=\"data row8 col3\" >0.027516</td>\n",
       "      <td id=\"T_741d1_row8_col4\" class=\"data row8 col4\" >0.269481</td>\n",
       "      <td id=\"T_741d1_row8_col5\" class=\"data row8 col5\" >0.267075</td>\n",
       "      <td id=\"T_741d1_row8_col6\" class=\"data row8 col6\" >0.265554</td>\n",
       "      <td id=\"T_741d1_row8_col7\" class=\"data row8 col7\" >0.153587</td>\n",
       "      <td id=\"T_741d1_row8_col8\" class=\"data row8 col8\" >1.000000</td>\n",
       "      <td id=\"T_741d1_row8_col9\" class=\"data row8 col9\" >-0.016014</td>\n",
       "      <td id=\"T_741d1_row8_col10\" class=\"data row8 col10\" >0.020121</td>\n",
       "    </tr>\n",
       "    <tr>\n",
       "      <th id=\"T_741d1_level0_row9\" class=\"row_heading level0 row9\" >classif_clarity</th>\n",
       "      <td id=\"T_741d1_row9_col0\" class=\"data row9 col0\" >-0.004477</td>\n",
       "      <td id=\"T_741d1_row9_col1\" class=\"data row9 col1\" >0.327939</td>\n",
       "      <td id=\"T_741d1_row9_col2\" class=\"data row9 col2\" >0.070739</td>\n",
       "      <td id=\"T_741d1_row9_col3\" class=\"data row9 col3\" >0.158955</td>\n",
       "      <td id=\"T_741d1_row9_col4\" class=\"data row9 col4\" >0.349577</td>\n",
       "      <td id=\"T_741d1_row9_col5\" class=\"data row9 col5\" >0.341931</td>\n",
       "      <td id=\"T_741d1_row9_col6\" class=\"data row9 col6\" >0.343577</td>\n",
       "      <td id=\"T_741d1_row9_col7\" class=\"data row9 col7\" >0.195032</td>\n",
       "      <td id=\"T_741d1_row9_col8\" class=\"data row9 col8\" >-0.016014</td>\n",
       "      <td id=\"T_741d1_row9_col9\" class=\"data row9 col9\" >1.000000</td>\n",
       "      <td id=\"T_741d1_row9_col10\" class=\"data row9 col10\" >0.192660</td>\n",
       "    </tr>\n",
       "    <tr>\n",
       "      <th id=\"T_741d1_level0_row10\" class=\"row_heading level0 row10\" >classif_cut</th>\n",
       "      <td id=\"T_741d1_row10_col0\" class=\"data row10 col0\" >0.000742</td>\n",
       "      <td id=\"T_741d1_row10_col1\" class=\"data row10 col1\" >0.134707</td>\n",
       "      <td id=\"T_741d1_row10_col2\" class=\"data row10 col2\" >0.217019</td>\n",
       "      <td id=\"T_741d1_row10_col3\" class=\"data row10 col3\" >0.435307</td>\n",
       "      <td id=\"T_741d1_row10_col4\" class=\"data row10 col4\" >0.127065</td>\n",
       "      <td id=\"T_741d1_row10_col5\" class=\"data row10 col5\" >0.125691</td>\n",
       "      <td id=\"T_741d1_row10_col6\" class=\"data row10 col6\" >0.149755</td>\n",
       "      <td id=\"T_741d1_row10_col7\" class=\"data row10 col7\" >0.089236</td>\n",
       "      <td id=\"T_741d1_row10_col8\" class=\"data row10 col8\" >0.020121</td>\n",
       "      <td id=\"T_741d1_row10_col9\" class=\"data row10 col9\" >0.192660</td>\n",
       "      <td id=\"T_741d1_row10_col10\" class=\"data row10 col10\" >1.000000</td>\n",
       "    </tr>\n",
       "  </tbody>\n",
       "</table>\n"
      ],
      "text/plain": [
       "<pandas.io.formats.style.Styler at 0x7f99a51bf280>"
      ]
     },
     "execution_count": 108,
     "metadata": {},
     "output_type": "execute_result"
    }
   ],
   "source": [
    "corr_matrix = df_train_normalized.corr()\n",
    "corr_matrix.style.background_gradient(cmap='coolwarm')"
   ]
  },
  {
   "cell_type": "code",
   "execution_count": 109,
   "id": "5440884f",
   "metadata": {},
   "outputs": [],
   "source": [
    "df_train_final = df_train_normalized.drop(['x', 'z', 'depth'], axis=1)"
   ]
  },
  {
   "cell_type": "code",
   "execution_count": 110,
   "id": "bb2f2440",
   "metadata": {},
   "outputs": [
    {
     "data": {
      "text/html": [
       "<style type=\"text/css\">\n",
       "#T_2a37a_row0_col0, #T_2a37a_row1_col1, #T_2a37a_row2_col2, #T_2a37a_row3_col3, #T_2a37a_row4_col4, #T_2a37a_row5_col5, #T_2a37a_row6_col6, #T_2a37a_row7_col7 {\n",
       "  background-color: #b40426;\n",
       "  color: #f1f1f1;\n",
       "}\n",
       "#T_2a37a_row0_col1, #T_2a37a_row0_col2, #T_2a37a_row0_col3, #T_2a37a_row0_col4, #T_2a37a_row0_col7, #T_2a37a_row1_col0, #T_2a37a_row3_col0, #T_2a37a_row4_col0, #T_2a37a_row5_col6, #T_2a37a_row6_col0, #T_2a37a_row6_col5 {\n",
       "  background-color: #3b4cc0;\n",
       "  color: #f1f1f1;\n",
       "}\n",
       "#T_2a37a_row0_col5 {\n",
       "  background-color: #3e51c5;\n",
       "  color: #f1f1f1;\n",
       "}\n",
       "#T_2a37a_row0_col6 {\n",
       "  background-color: #3d50c3;\n",
       "  color: #f1f1f1;\n",
       "}\n",
       "#T_2a37a_row1_col2 {\n",
       "  background-color: #7597f6;\n",
       "  color: #f1f1f1;\n",
       "}\n",
       "#T_2a37a_row1_col3, #T_2a37a_row3_col1 {\n",
       "  background-color: #be242e;\n",
       "  color: #f1f1f1;\n",
       "}\n",
       "#T_2a37a_row1_col4, #T_2a37a_row4_col1 {\n",
       "  background-color: #d0473d;\n",
       "  color: #f1f1f1;\n",
       "}\n",
       "#T_2a37a_row1_col5 {\n",
       "  background-color: #9fbfff;\n",
       "  color: #000000;\n",
       "}\n",
       "#T_2a37a_row1_col6 {\n",
       "  background-color: #abc8fd;\n",
       "  color: #000000;\n",
       "}\n",
       "#T_2a37a_row1_col7 {\n",
       "  background-color: #6485ec;\n",
       "  color: #f1f1f1;\n",
       "}\n",
       "#T_2a37a_row2_col0, #T_2a37a_row5_col0, #T_2a37a_row7_col0 {\n",
       "  background-color: #3c4ec2;\n",
       "  color: #f1f1f1;\n",
       "}\n",
       "#T_2a37a_row2_col1, #T_2a37a_row3_col2 {\n",
       "  background-color: #779af7;\n",
       "  color: #f1f1f1;\n",
       "}\n",
       "#T_2a37a_row2_col3, #T_2a37a_row6_col7 {\n",
       "  background-color: #799cf8;\n",
       "  color: #f1f1f1;\n",
       "}\n",
       "#T_2a37a_row2_col4 {\n",
       "  background-color: #6e90f2;\n",
       "  color: #f1f1f1;\n",
       "}\n",
       "#T_2a37a_row2_col5 {\n",
       "  background-color: #465ecf;\n",
       "  color: #f1f1f1;\n",
       "}\n",
       "#T_2a37a_row2_col6 {\n",
       "  background-color: #7295f4;\n",
       "  color: #f1f1f1;\n",
       "}\n",
       "#T_2a37a_row2_col7, #T_2a37a_row7_col2 {\n",
       "  background-color: #cbd8ee;\n",
       "  color: #000000;\n",
       "}\n",
       "#T_2a37a_row3_col4, #T_2a37a_row4_col3 {\n",
       "  background-color: #c43032;\n",
       "  color: #f1f1f1;\n",
       "}\n",
       "#T_2a37a_row3_col5 {\n",
       "  background-color: #97b8ff;\n",
       "  color: #000000;\n",
       "}\n",
       "#T_2a37a_row3_col6 {\n",
       "  background-color: #b1cbfc;\n",
       "  color: #000000;\n",
       "}\n",
       "#T_2a37a_row3_col7, #T_2a37a_row7_col3 {\n",
       "  background-color: #6282ea;\n",
       "  color: #f1f1f1;\n",
       "}\n",
       "#T_2a37a_row4_col2, #T_2a37a_row5_col4, #T_2a37a_row6_col2 {\n",
       "  background-color: #6c8ff1;\n",
       "  color: #f1f1f1;\n",
       "}\n",
       "#T_2a37a_row4_col5 {\n",
       "  background-color: #6f92f3;\n",
       "  color: #f1f1f1;\n",
       "}\n",
       "#T_2a37a_row4_col6 {\n",
       "  background-color: #7ea1fa;\n",
       "  color: #f1f1f1;\n",
       "}\n",
       "#T_2a37a_row4_col7 {\n",
       "  background-color: #5572df;\n",
       "  color: #f1f1f1;\n",
       "}\n",
       "#T_2a37a_row5_col1 {\n",
       "  background-color: #9dbdff;\n",
       "  color: #000000;\n",
       "}\n",
       "#T_2a37a_row5_col2 {\n",
       "  background-color: #4257c9;\n",
       "  color: #f1f1f1;\n",
       "}\n",
       "#T_2a37a_row5_col3 {\n",
       "  background-color: #94b6ff;\n",
       "  color: #000000;\n",
       "}\n",
       "#T_2a37a_row5_col7 {\n",
       "  background-color: #3f53c6;\n",
       "  color: #f1f1f1;\n",
       "}\n",
       "#T_2a37a_row6_col1 {\n",
       "  background-color: #a9c6fd;\n",
       "  color: #000000;\n",
       "}\n",
       "#T_2a37a_row6_col3 {\n",
       "  background-color: #aec9fc;\n",
       "  color: #000000;\n",
       "}\n",
       "#T_2a37a_row6_col4 {\n",
       "  background-color: #7a9df8;\n",
       "  color: #f1f1f1;\n",
       "}\n",
       "#T_2a37a_row7_col1 {\n",
       "  background-color: #6687ed;\n",
       "  color: #f1f1f1;\n",
       "}\n",
       "#T_2a37a_row7_col4 {\n",
       "  background-color: #5673e0;\n",
       "  color: #f1f1f1;\n",
       "}\n",
       "#T_2a37a_row7_col5 {\n",
       "  background-color: #455cce;\n",
       "  color: #f1f1f1;\n",
       "}\n",
       "#T_2a37a_row7_col6 {\n",
       "  background-color: #7da0f9;\n",
       "  color: #f1f1f1;\n",
       "}\n",
       "</style>\n",
       "<table id=\"T_2a37a\">\n",
       "  <thead>\n",
       "    <tr>\n",
       "      <th class=\"blank level0\" >&nbsp;</th>\n",
       "      <th id=\"T_2a37a_level0_col0\" class=\"col_heading level0 col0\" >id</th>\n",
       "      <th id=\"T_2a37a_level0_col1\" class=\"col_heading level0 col1\" >carat</th>\n",
       "      <th id=\"T_2a37a_level0_col2\" class=\"col_heading level0 col2\" >table</th>\n",
       "      <th id=\"T_2a37a_level0_col3\" class=\"col_heading level0 col3\" >y</th>\n",
       "      <th id=\"T_2a37a_level0_col4\" class=\"col_heading level0 col4\" >price</th>\n",
       "      <th id=\"T_2a37a_level0_col5\" class=\"col_heading level0 col5\" >classif_color</th>\n",
       "      <th id=\"T_2a37a_level0_col6\" class=\"col_heading level0 col6\" >classif_clarity</th>\n",
       "      <th id=\"T_2a37a_level0_col7\" class=\"col_heading level0 col7\" >classif_cut</th>\n",
       "    </tr>\n",
       "  </thead>\n",
       "  <tbody>\n",
       "    <tr>\n",
       "      <th id=\"T_2a37a_level0_row0\" class=\"row_heading level0 row0\" >id</th>\n",
       "      <td id=\"T_2a37a_row0_col0\" class=\"data row0 col0\" >1.000000</td>\n",
       "      <td id=\"T_2a37a_row0_col1\" class=\"data row0 col1\" >-0.004744</td>\n",
       "      <td id=\"T_2a37a_row0_col2\" class=\"data row0 col2\" >0.002694</td>\n",
       "      <td id=\"T_2a37a_row0_col3\" class=\"data row0 col3\" >-0.003436</td>\n",
       "      <td id=\"T_2a37a_row0_col4\" class=\"data row0 col4\" >-0.003865</td>\n",
       "      <td id=\"T_2a37a_row0_col5\" class=\"data row0 col5\" >-0.000512</td>\n",
       "      <td id=\"T_2a37a_row0_col6\" class=\"data row0 col6\" >-0.004477</td>\n",
       "      <td id=\"T_2a37a_row0_col7\" class=\"data row0 col7\" >0.000742</td>\n",
       "    </tr>\n",
       "    <tr>\n",
       "      <th id=\"T_2a37a_level0_row1\" class=\"row_heading level0 row1\" >carat</th>\n",
       "      <td id=\"T_2a37a_row1_col0\" class=\"data row1 col0\" >-0.004744</td>\n",
       "      <td id=\"T_2a37a_row1_col1\" class=\"data row1 col1\" >1.000000</td>\n",
       "      <td id=\"T_2a37a_row1_col2\" class=\"data row1 col2\" >0.184337</td>\n",
       "      <td id=\"T_2a37a_row1_col3\" class=\"data row1 col3\" >0.970551</td>\n",
       "      <td id=\"T_2a37a_row1_col4\" class=\"data row1 col4\" >0.921378</td>\n",
       "      <td id=\"T_2a37a_row1_col5\" class=\"data row1 col5\" >0.290642</td>\n",
       "      <td id=\"T_2a37a_row1_col6\" class=\"data row1 col6\" >0.327939</td>\n",
       "      <td id=\"T_2a37a_row1_col7\" class=\"data row1 col7\" >0.134707</td>\n",
       "    </tr>\n",
       "    <tr>\n",
       "      <th id=\"T_2a37a_level0_row2\" class=\"row_heading level0 row2\" >table</th>\n",
       "      <td id=\"T_2a37a_row2_col0\" class=\"data row2 col0\" >0.002694</td>\n",
       "      <td id=\"T_2a37a_row2_col1\" class=\"data row2 col1\" >0.184337</td>\n",
       "      <td id=\"T_2a37a_row2_col2\" class=\"data row2 col2\" >1.000000</td>\n",
       "      <td id=\"T_2a37a_row2_col3\" class=\"data row2 col3\" >0.190334</td>\n",
       "      <td id=\"T_2a37a_row2_col4\" class=\"data row2 col4\" >0.160046</td>\n",
       "      <td id=\"T_2a37a_row2_col5\" class=\"data row2 col5\" >0.027516</td>\n",
       "      <td id=\"T_2a37a_row2_col6\" class=\"data row2 col6\" >0.158955</td>\n",
       "      <td id=\"T_2a37a_row2_col7\" class=\"data row2 col7\" >0.435307</td>\n",
       "    </tr>\n",
       "    <tr>\n",
       "      <th id=\"T_2a37a_level0_row3\" class=\"row_heading level0 row3\" >y</th>\n",
       "      <td id=\"T_2a37a_row3_col0\" class=\"data row3 col0\" >-0.003436</td>\n",
       "      <td id=\"T_2a37a_row3_col1\" class=\"data row3 col1\" >0.970551</td>\n",
       "      <td id=\"T_2a37a_row3_col2\" class=\"data row3 col2\" >0.190334</td>\n",
       "      <td id=\"T_2a37a_row3_col3\" class=\"data row3 col3\" >1.000000</td>\n",
       "      <td id=\"T_2a37a_row3_col4\" class=\"data row3 col4\" >0.955188</td>\n",
       "      <td id=\"T_2a37a_row3_col5\" class=\"data row3 col5\" >0.267075</td>\n",
       "      <td id=\"T_2a37a_row3_col6\" class=\"data row3 col6\" >0.341931</td>\n",
       "      <td id=\"T_2a37a_row3_col7\" class=\"data row3 col7\" >0.125691</td>\n",
       "    </tr>\n",
       "    <tr>\n",
       "      <th id=\"T_2a37a_level0_row4\" class=\"row_heading level0 row4\" >price</th>\n",
       "      <td id=\"T_2a37a_row4_col0\" class=\"data row4 col0\" >-0.003865</td>\n",
       "      <td id=\"T_2a37a_row4_col1\" class=\"data row4 col1\" >0.921378</td>\n",
       "      <td id=\"T_2a37a_row4_col2\" class=\"data row4 col2\" >0.160046</td>\n",
       "      <td id=\"T_2a37a_row4_col3\" class=\"data row4 col3\" >0.955188</td>\n",
       "      <td id=\"T_2a37a_row4_col4\" class=\"data row4 col4\" >1.000000</td>\n",
       "      <td id=\"T_2a37a_row4_col5\" class=\"data row4 col5\" >0.153587</td>\n",
       "      <td id=\"T_2a37a_row4_col6\" class=\"data row4 col6\" >0.195032</td>\n",
       "      <td id=\"T_2a37a_row4_col7\" class=\"data row4 col7\" >0.089236</td>\n",
       "    </tr>\n",
       "    <tr>\n",
       "      <th id=\"T_2a37a_level0_row5\" class=\"row_heading level0 row5\" >classif_color</th>\n",
       "      <td id=\"T_2a37a_row5_col0\" class=\"data row5 col0\" >-0.000512</td>\n",
       "      <td id=\"T_2a37a_row5_col1\" class=\"data row5 col1\" >0.290642</td>\n",
       "      <td id=\"T_2a37a_row5_col2\" class=\"data row5 col2\" >0.027516</td>\n",
       "      <td id=\"T_2a37a_row5_col3\" class=\"data row5 col3\" >0.267075</td>\n",
       "      <td id=\"T_2a37a_row5_col4\" class=\"data row5 col4\" >0.153587</td>\n",
       "      <td id=\"T_2a37a_row5_col5\" class=\"data row5 col5\" >1.000000</td>\n",
       "      <td id=\"T_2a37a_row5_col6\" class=\"data row5 col6\" >-0.016014</td>\n",
       "      <td id=\"T_2a37a_row5_col7\" class=\"data row5 col7\" >0.020121</td>\n",
       "    </tr>\n",
       "    <tr>\n",
       "      <th id=\"T_2a37a_level0_row6\" class=\"row_heading level0 row6\" >classif_clarity</th>\n",
       "      <td id=\"T_2a37a_row6_col0\" class=\"data row6 col0\" >-0.004477</td>\n",
       "      <td id=\"T_2a37a_row6_col1\" class=\"data row6 col1\" >0.327939</td>\n",
       "      <td id=\"T_2a37a_row6_col2\" class=\"data row6 col2\" >0.158955</td>\n",
       "      <td id=\"T_2a37a_row6_col3\" class=\"data row6 col3\" >0.341931</td>\n",
       "      <td id=\"T_2a37a_row6_col4\" class=\"data row6 col4\" >0.195032</td>\n",
       "      <td id=\"T_2a37a_row6_col5\" class=\"data row6 col5\" >-0.016014</td>\n",
       "      <td id=\"T_2a37a_row6_col6\" class=\"data row6 col6\" >1.000000</td>\n",
       "      <td id=\"T_2a37a_row6_col7\" class=\"data row6 col7\" >0.192660</td>\n",
       "    </tr>\n",
       "    <tr>\n",
       "      <th id=\"T_2a37a_level0_row7\" class=\"row_heading level0 row7\" >classif_cut</th>\n",
       "      <td id=\"T_2a37a_row7_col0\" class=\"data row7 col0\" >0.000742</td>\n",
       "      <td id=\"T_2a37a_row7_col1\" class=\"data row7 col1\" >0.134707</td>\n",
       "      <td id=\"T_2a37a_row7_col2\" class=\"data row7 col2\" >0.435307</td>\n",
       "      <td id=\"T_2a37a_row7_col3\" class=\"data row7 col3\" >0.125691</td>\n",
       "      <td id=\"T_2a37a_row7_col4\" class=\"data row7 col4\" >0.089236</td>\n",
       "      <td id=\"T_2a37a_row7_col5\" class=\"data row7 col5\" >0.020121</td>\n",
       "      <td id=\"T_2a37a_row7_col6\" class=\"data row7 col6\" >0.192660</td>\n",
       "      <td id=\"T_2a37a_row7_col7\" class=\"data row7 col7\" >1.000000</td>\n",
       "    </tr>\n",
       "  </tbody>\n",
       "</table>\n"
      ],
      "text/plain": [
       "<pandas.io.formats.style.Styler at 0x7f99a51ac400>"
      ]
     },
     "execution_count": 110,
     "metadata": {},
     "output_type": "execute_result"
    }
   ],
   "source": [
    "corr_matrix = df_train_final.corr()\n",
    "corr_matrix.style.background_gradient(cmap='coolwarm')"
   ]
  },
  {
   "cell_type": "code",
   "execution_count": 111,
   "id": "071159be",
   "metadata": {},
   "outputs": [],
   "source": [
    "df_train_noprice = df_train_final.drop(['price'], axis=1)"
   ]
  },
  {
   "cell_type": "code",
   "execution_count": 112,
   "id": "d2ef284a",
   "metadata": {},
   "outputs": [
    {
     "name": "stdout",
     "output_type": "stream",
     "text": [
      "   VIF Factor         features\n",
      "0    3.961397               id\n",
      "1    6.100273            carat\n",
      "2   15.007485            table\n",
      "3   38.698776                y\n",
      "4    3.620003    classif_color\n",
      "5    9.168160  classif_clarity\n",
      "6    2.476990      classif_cut\n"
     ]
    }
   ],
   "source": [
    "vif = pd.DataFrame()\n",
    "vif[\"VIF Factor\"] = [variance_inflation_factor(df_train_noprice.values, i) for i in range(df_train_noprice.shape[1])]\n",
    "vif[\"features\"] = df_train_noprice.columns\n",
    "print(vif)"
   ]
  },
  {
   "cell_type": "code",
   "execution_count": 50,
   "id": "ac7ba175",
   "metadata": {},
   "outputs": [],
   "source": [
    "df_test_2.drop(['x', 'z', 'depth'], axis=1, inplace=True)"
   ]
  },
  {
   "cell_type": "code",
   "execution_count": 51,
   "id": "89ce9e51",
   "metadata": {},
   "outputs": [],
   "source": [
    "df_test_2[\"classif_color\"] = df_test_2[\"color\"].replace(classif_colors)\n",
    "df_test_2[\"classif_clarity\"] = df_test_2[\"clarity\"].replace(classif_clarity)\n",
    "df_test_2[\"classif_cut\"] = df_test_2[\"cut\"].replace(classif_cut)"
   ]
  },
  {
   "cell_type": "code",
   "execution_count": 52,
   "id": "0cfca917",
   "metadata": {},
   "outputs": [],
   "source": [
    "df_test_2.drop(['color', 'clarity', 'cut'], axis=1, inplace=True)"
   ]
  },
  {
   "cell_type": "code",
   "execution_count": 53,
   "id": "caf60346",
   "metadata": {},
   "outputs": [],
   "source": [
    "X = df_train_final.drop(['price'], axis=1)\n",
    "y = df_train_final['price']\n",
    "\n",
    "X_train, X_test, y_train, y_test = train_test_split(X, y, test_size=0.25)"
   ]
  },
  {
   "cell_type": "code",
   "execution_count": 54,
   "id": "86c7325f",
   "metadata": {},
   "outputs": [],
   "source": [
    "from sklearn.linear_model import Ridge, Lasso\n",
    "from sklearn.linear_model import SGDRegressor\n",
    "from sklearn.neighbors import KNeighborsRegressor\n",
    "from sklearn.ensemble import GradientBoostingRegressor\n",
    "from sklearn.svm import SVR"
   ]
  },
  {
   "cell_type": "code",
   "execution_count": 55,
   "id": "1091b365",
   "metadata": {},
   "outputs": [],
   "source": [
    "grad = GradientBoostingRegressor()"
   ]
  },
  {
   "cell_type": "code",
   "execution_count": 56,
   "id": "eaa17cd1",
   "metadata": {},
   "outputs": [],
   "source": [
    "regr = GradientBoostingRegressor().fit(X_train, y_train)"
   ]
  },
  {
   "cell_type": "code",
   "execution_count": 57,
   "id": "5f1c99e2",
   "metadata": {},
   "outputs": [],
   "source": [
    "y_pred = regr.predict(X_test)"
   ]
  },
  {
   "cell_type": "code",
   "execution_count": 58,
   "id": "ee465078",
   "metadata": {},
   "outputs": [
    {
     "data": {
      "text/plain": [
       "0.12234393760539422"
      ]
     },
     "execution_count": 58,
     "metadata": {},
     "output_type": "execute_result"
    }
   ],
   "source": [
    "np.sqrt(mean_squared_error(y_pred, y_test))"
   ]
  },
  {
   "cell_type": "code",
   "execution_count": 59,
   "id": "156cda30",
   "metadata": {},
   "outputs": [
    {
     "name": "stdout",
     "output_type": "stream",
     "text": [
      "Mean squared error: 0.01\n",
      "R-squared: 0.99\n"
     ]
    }
   ],
   "source": [
    "mse = mean_squared_error(y_pred, y_test)\n",
    "r2 = r2_score(y_test, y_pred)\n",
    "\n",
    "print(\"Mean squared error: %.2f\" % mse)\n",
    "print(\"R-squared: %.2f\" % r2)"
   ]
  },
  {
   "cell_type": "code",
   "execution_count": 60,
   "id": "104e11cd",
   "metadata": {},
   "outputs": [
    {
     "name": "stdout",
     "output_type": "stream",
     "text": [
      "13485\n"
     ]
    },
    {
     "data": {
      "text/html": [
       "<div>\n",
       "<style scoped>\n",
       "    .dataframe tbody tr th:only-of-type {\n",
       "        vertical-align: middle;\n",
       "    }\n",
       "\n",
       "    .dataframe tbody tr th {\n",
       "        vertical-align: top;\n",
       "    }\n",
       "\n",
       "    .dataframe thead th {\n",
       "        text-align: right;\n",
       "    }\n",
       "</style>\n",
       "<table border=\"1\" class=\"dataframe\">\n",
       "  <thead>\n",
       "    <tr style=\"text-align: right;\">\n",
       "      <th></th>\n",
       "      <th>id</th>\n",
       "      <th>carat</th>\n",
       "      <th>table</th>\n",
       "      <th>y</th>\n",
       "      <th>classif_color</th>\n",
       "      <th>classif_clarity</th>\n",
       "      <th>classif_cut</th>\n",
       "    </tr>\n",
       "  </thead>\n",
       "  <tbody>\n",
       "    <tr>\n",
       "      <th>5077</th>\n",
       "      <td>5077</td>\n",
       "      <td>1.11</td>\n",
       "      <td>59.0</td>\n",
       "      <td>6.82</td>\n",
       "      <td>3</td>\n",
       "      <td>2</td>\n",
       "      <td>2</td>\n",
       "    </tr>\n",
       "  </tbody>\n",
       "</table>\n",
       "</div>"
      ],
      "text/plain": [
       "        id  carat  table     y  classif_color  classif_clarity  classif_cut\n",
       "5077  5077   1.11   59.0  6.82              3                2            2"
      ]
     },
     "execution_count": 60,
     "metadata": {},
     "output_type": "execute_result"
    }
   ],
   "source": [
    "print(df_test_2.shape[0])\n",
    "df_test_2.sample()"
   ]
  },
  {
   "cell_type": "code",
   "execution_count": 61,
   "id": "0d59af4c",
   "metadata": {},
   "outputs": [
    {
     "data": {
      "text/plain": [
       "array([7.70513014, 7.14590736, 7.09226727, ..., 8.47878075, 7.03725917,\n",
       "       8.87121771])"
      ]
     },
     "execution_count": 61,
     "metadata": {},
     "output_type": "execute_result"
    }
   ],
   "source": [
    "y_pred_test = regr.predict(df_test_2)\n",
    "y_pred_test"
   ]
  },
  {
   "cell_type": "code",
   "execution_count": 65,
   "id": "c5ce75dc",
   "metadata": {},
   "outputs": [],
   "source": [
    "df_test_2['price'] = y_pred_test # Adding the predicted price\n",
    "df_for_submission5 = df_test_2[[\"id\", \"price\"]] "
   ]
  },
  {
   "cell_type": "code",
   "execution_count": 66,
   "id": "49c669cb",
   "metadata": {},
   "outputs": [
    {
     "name": "stdout",
     "output_type": "stream",
     "text": [
      "13485\n"
     ]
    },
    {
     "data": {
      "text/html": [
       "<div>\n",
       "<style scoped>\n",
       "    .dataframe tbody tr th:only-of-type {\n",
       "        vertical-align: middle;\n",
       "    }\n",
       "\n",
       "    .dataframe tbody tr th {\n",
       "        vertical-align: top;\n",
       "    }\n",
       "\n",
       "    .dataframe thead th {\n",
       "        text-align: right;\n",
       "    }\n",
       "</style>\n",
       "<table border=\"1\" class=\"dataframe\">\n",
       "  <thead>\n",
       "    <tr style=\"text-align: right;\">\n",
       "      <th></th>\n",
       "      <th>id</th>\n",
       "      <th>price</th>\n",
       "    </tr>\n",
       "  </thead>\n",
       "  <tbody>\n",
       "    <tr>\n",
       "      <th>219</th>\n",
       "      <td>219</td>\n",
       "      <td>8.910861</td>\n",
       "    </tr>\n",
       "  </tbody>\n",
       "</table>\n",
       "</div>"
      ],
      "text/plain": [
       "      id     price\n",
       "219  219  8.910861"
      ]
     },
     "execution_count": 66,
     "metadata": {},
     "output_type": "execute_result"
    }
   ],
   "source": [
    "print(df_for_submission5.shape[0])\n",
    "df_for_submission5.sample()"
   ]
  },
  {
   "cell_type": "code",
   "execution_count": 64,
   "id": "499c5d2f",
   "metadata": {},
   "outputs": [
    {
     "name": "stdout",
     "output_type": "stream",
     "text": [
      "Training 🏋️: LinearRegression() \n",
      "Training 🏋️: Ridge() \n",
      "Training 🏋️: Lasso() \n",
      "Training 🏋️: SGDRegressor() \n",
      "Training 🏋️: KNeighborsRegressor() \n",
      "Training 🏋️: GradientBoostingRegressor() \n",
      "Training 🏋️: SVR() \n",
      "------------lr------------\n",
      "\n",
      "MAE, error: 0.16117089454016428\n",
      "MSE, error: 0.04207304078802067\n",
      "RMSE, error: 0.20511713918641872\n",
      "r2: 0.9592736582550815\n",
      "\n",
      "\n",
      "------------ridge------------\n",
      "\n",
      "MAE, error: 0.1611232000887732\n",
      "MSE, error: 0.04204618808986076\n",
      "RMSE, error: 0.20505167175583028\n",
      "r2: 0.9592996514360246\n",
      "\n",
      "\n",
      "------------lasso------------\n",
      "\n",
      "MAE, error: 0.8195627017756695\n",
      "MSE, error: 0.8963753576117476\n",
      "RMSE, error: 0.9467710164616087\n",
      "r2: 0.1323163607367812\n",
      "\n",
      "\n",
      "------------sgd------------\n",
      "\n",
      "MAE, error: 1.4014517843286854e+16\n",
      "MSE, error: 2.6142894221979697e+32\n",
      "RMSE, error: 1.616876439991e+16\n",
      "r2: -2.530609683407414e+32\n",
      "\n",
      "\n",
      "------------knn------------\n",
      "\n",
      "MAE, error: 0.8778453681710214\n",
      "MSE, error: 1.0900066159144892\n",
      "RMSE, error: 1.0440338193346466\n",
      "r2: -0.05511703248687616\n",
      "\n",
      "\n",
      "------------grad------------\n",
      "\n",
      "MAE, error: 0.09587058929820816\n",
      "MSE, error: 0.01496793795330226\n",
      "RMSE, error: 0.12234352436194676\n",
      "r2: 0.985511164753357\n",
      "\n",
      "\n",
      "------------svr------------\n",
      "\n",
      "MAE, error: 0.8801731163331613\n",
      "MSE, error: 1.0328281854077888\n",
      "RMSE, error: 1.0162815482964298\n",
      "r2: 0.0002311966317806169\n",
      "\n",
      "\n"
     ]
    }
   ],
   "source": [
    "models = {\n",
    "    \"lr\": LinearRegression(),\n",
    "    \"ridge\": Ridge(),\n",
    "    \"lasso\": Lasso(),\n",
    "    \"sgd\": SGDRegressor(),\n",
    "    \"knn\": KNeighborsRegressor(),\n",
    "    \"grad\": GradientBoostingRegressor(),\n",
    "    \"svr\": SVR()\n",
    "}\n",
    "\n",
    "for model in models.values():\n",
    "    print(f\"Training 🏋️: {model} \")\n",
    "    model.fit(X_train, y_train)\n",
    "\n",
    "for name, model in models.items():\n",
    "    y_pred = model.predict(X_test)\n",
    "    print(f\"------------{name}------------\\n\")\n",
    "    print(f\"MAE, error: {metrics.mean_absolute_error(y_test, y_pred)}\")\n",
    "    print(f\"MSE, error: {metrics.mean_squared_error(y_test, y_pred)}\")\n",
    "    print(f\"RMSE, error: {np.sqrt(metrics.mean_squared_error(y_test, y_pred))}\")\n",
    "    print(f\"r2: {metrics.r2_score(y_test, y_pred)}\")\n",
    "    print(\"\\n\")"
   ]
  },
  {
   "cell_type": "code",
   "execution_count": 67,
   "id": "0ebd7c69",
   "metadata": {},
   "outputs": [],
   "source": [
    "df_for_submission5.to_csv(\"/Users/lauurasarabia/ironhack/projects/project5/my_submission5.csv\", index=False)"
   ]
  },
  {
   "cell_type": "code",
   "execution_count": null,
   "id": "767c6cda",
   "metadata": {},
   "outputs": [],
   "source": []
  },
  {
   "cell_type": "code",
   "execution_count": null,
   "id": "77b4a94f",
   "metadata": {},
   "outputs": [],
   "source": []
  },
  {
   "cell_type": "code",
   "execution_count": null,
   "id": "b6e8dd11",
   "metadata": {},
   "outputs": [],
   "source": []
  },
  {
   "cell_type": "code",
   "execution_count": null,
   "id": "5c226adc",
   "metadata": {},
   "outputs": [],
   "source": []
  },
  {
   "cell_type": "code",
   "execution_count": null,
   "id": "6c0306a4",
   "metadata": {},
   "outputs": [],
   "source": []
  },
  {
   "cell_type": "code",
   "execution_count": null,
   "id": "a59e160b",
   "metadata": {},
   "outputs": [],
   "source": []
  },
  {
   "cell_type": "code",
   "execution_count": null,
   "id": "910b1ef9",
   "metadata": {},
   "outputs": [],
   "source": []
  },
  {
   "cell_type": "code",
   "execution_count": null,
   "id": "e26da24f",
   "metadata": {},
   "outputs": [],
   "source": []
  }
 ],
 "metadata": {
  "kernelspec": {
   "display_name": "ironhack",
   "language": "python",
   "name": "ironhack"
  },
  "language_info": {
   "codemirror_mode": {
    "name": "ipython",
    "version": 3
   },
   "file_extension": ".py",
   "mimetype": "text/x-python",
   "name": "python",
   "nbconvert_exporter": "python",
   "pygments_lexer": "ipython3",
   "version": "3.9.12"
  },
  "toc": {
   "base_numbering": 1,
   "nav_menu": {},
   "number_sections": true,
   "sideBar": true,
   "skip_h1_title": false,
   "title_cell": "Table of Contents",
   "title_sidebar": "Contents",
   "toc_cell": false,
   "toc_position": {},
   "toc_section_display": true,
   "toc_window_display": false
  }
 },
 "nbformat": 4,
 "nbformat_minor": 5
}
